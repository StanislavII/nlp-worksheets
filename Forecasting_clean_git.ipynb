{
 "cells": [
  {
   "cell_type": "markdown",
   "metadata": {},
   "source": [
    "## Дебеторка"
   ]
  },
  {
   "cell_type": "code",
   "execution_count": null,
   "metadata": {},
   "outputs": [],
   "source": [
    "import numpy as np\n",
    "import pandas as pd\n",
    "import matplotlib.pyplot as plt\n",
    "import pickle\n",
    "\n",
    "import sys\n",
    "import warnings\n",
    "warnings.filterwarnings('ignore')\n",
    "from tqdm import tqdm\n",
    "\n",
    "from sklearn.metrics import mean_absolute_error, mean_squared_error\n",
    "\n",
    "import statsmodels.formula.api as smf\n",
    "import statsmodels.tsa.api as smt\n",
    "import statsmodels.api as sm\n",
    "import scipy.stats as scs\n",
    "from scipy.optimize import minimize\n",
    "plt.style.use('bmh')\n",
    "import statsmodels.tsa.vector_ar as stv"
   ]
  },
  {
   "cell_type": "code",
   "execution_count": null,
   "metadata": {},
   "outputs": [],
   "source": [
    "from statsmodels.tsa.api import VAR\n",
    "from statsmodels.tsa.stattools import grangercausalitytests\n",
    "from statsmodels.tsa.vector_ar.vecm import coint_johansen"
   ]
  },
  {
   "cell_type": "code",
   "execution_count": null,
   "metadata": {},
   "outputs": [],
   "source": [
    "def mape(y_true, y_pred): \n",
    "    y_true, y_pred = np.array(y_true), np.array(y_pred)\n",
    "    return np.mean(np.abs((y_true - y_pred) / y_true)) * 100\n",
    "def mae(y_true, y_pred): \n",
    "    y_true, y_pred = np.array(y_true), np.array(y_pred)\n",
    "    return np.mean(np.abs((y_true - y_pred)))"
   ]
  },
  {
   "cell_type": "markdown",
   "metadata": {},
   "source": [
    "## Функция АДФ теста на стационарность"
   ]
  },
  {
   "cell_type": "code",
   "execution_count": null,
   "metadata": {},
   "outputs": [],
   "source": [
    "def tsplot(y, lags=None, figsize=(12, 7), style='bmh'):\n",
    "    if not isinstance(y, pd.Series):\n",
    "        y = pd.Series(y)\n",
    "    with plt.style.context(style):    \n",
    "        fig = plt.figure(figsize=figsize)\n",
    "        layout = (2, 2)\n",
    "        ts_ax = plt.subplot2grid(layout, (0, 0), colspan=2)\n",
    "        acf_ax = plt.subplot2grid(layout, (1, 0))\n",
    "        pacf_ax = plt.subplot2grid(layout, (1, 1))\n",
    "\n",
    "        y.plot(ax=ts_ax)\n",
    "        ts_ax.set_title('Time Series Analysis Plots')\n",
    "        smt.graphics.plot_acf(y, lags=lags, ax=acf_ax, alpha=0.05)\n",
    "        smt.graphics.plot_pacf(y, lags=lags, ax=pacf_ax, alpha=0.05)\n",
    "        print('-------Критерий Дики Фуллера с константой, но без тренда-------------')\n",
    "        print(\"Критерий Дики-Фуллера: ADF={}\".format(sm.tsa.stattools.adfuller(y,autolag='BIC')[0]))\n",
    "        print(\"Критерий Дики-Фуллера: p-value={:.5f}\".format(sm.tsa.stattools.adfuller(y,autolag='BIC')[1]))\n",
    "        print()\n",
    "        print('-------Критерий Дики Фуллера с константой и трендом -------------')\n",
    "        print(\"Критерий Дики-Фуллера: ADF={}\".format(sm.tsa.stattools.adfuller(y,autolag='BIC',regression='ct')[0]))\n",
    "        print(\"Критерий Дики-Фуллера: p-value={:.5f}\".format(sm.tsa.stattools.adfuller(y,autolag='BIC',regression='ct')[1]))\n",
    "        print()\n",
    "        print('-------Критерий Дики Фуллера без константы и тренда -------------')\n",
    "        print(\"Критерий Дики-Фуллера: ADF={}\".format(sm.tsa.stattools.adfuller(y,autolag='BIC',regression='nc')[0]))\n",
    "        print(\"Критерий Дики-Фуллера: p-value={:.5f}\".format(sm.tsa.stattools.adfuller(y,autolag='BIC',regression='nc')[1]))\n",
    "\n",
    "        plt.tight_layout()\n",
    "    return"
   ]
  },
  {
   "cell_type": "markdown",
   "metadata": {},
   "source": [
    "### Импорт данных"
   ]
  },
  {
   "cell_type": "code",
   "execution_count": null,
   "metadata": {},
   "outputs": [],
   "source": [
    "DZ1 = pd.read_excel(\n",
    "    'DZ_1.xlsx', usecols = (\"A,C, H:J\"))\n",
    "pd.to_datetime(DZ1['period_name'])\n",
    "DZ1.set_index('period_name', inplace=True)"
   ]
  },
  {
   "cell_type": "code",
   "execution_count": null,
   "metadata": {},
   "outputs": [],
   "source": [
    "DZ2 = pd.read_excel(\n",
    "    'DZ_2.xlsx', usecols = (\"A,C, H:J\"))\n",
    "pd.to_datetime(DZ2['period_name'])\n",
    "DZ2.set_index('period_name', inplace=True)"
   ]
  },
  {
   "cell_type": "markdown",
   "metadata": {},
   "source": [
    "### Удаляю пустые значения по сегментам"
   ]
  },
  {
   "cell_type": "code",
   "execution_count": null,
   "metadata": {},
   "outputs": [],
   "source": [
    "DZ1_1 = DZ1.dropna(subset=['segment'])\n",
    "DZ2_1 = DZ2.dropna(subset=['segment'])"
   ]
  },
  {
   "cell_type": "code",
   "execution_count": null,
   "metadata": {},
   "outputs": [],
   "source": [
    "total = pd.concat([DZ2_1, DZ1_1])"
   ]
  },
  {
   "cell_type": "markdown",
   "metadata": {},
   "source": [
    "### Выделяю только сегмент B2C"
   ]
  },
  {
   "cell_type": "code",
   "execution_count": null,
   "metadata": {},
   "outputs": [],
   "source": [
    "B2C = total[total['segment'] == 'B2C']"
   ]
  },
  {
   "cell_type": "markdown",
   "metadata": {},
   "source": [
    "### Подсчет разбивок по мр_кодам"
   ]
  },
  {
   "cell_type": "code",
   "execution_count": null,
   "metadata": {},
   "outputs": [],
   "source": [
    "B2C['mr_code'].value_counts()"
   ]
  },
  {
   "cell_type": "markdown",
   "metadata": {},
   "source": [
    "### Созданием отдельных дата-сетов под каждый мр_код"
   ]
  },
  {
   "cell_type": "code",
   "execution_count": null,
   "metadata": {},
   "outputs": [],
   "source": [
    "B2C_11 = B2C[B2C['mr_code'] == '011XX']\n",
    "B2C_13 = B2C[B2C['mr_code'] == '013XX']\n",
    "B2C_14 = B2C[B2C['mr_code'] == '014XX']\n",
    "B2C_15 = B2C[B2C['mr_code'] == '015XX']\n",
    "B2C_12 = B2C[B2C['mr_code'] == '012XX']\n",
    "B2C_16 = B2C[B2C['mr_code'] == '016XX']\n",
    "B2C_17 = B2C[B2C['mr_code'] == '017XX']"
   ]
  },
  {
   "cell_type": "markdown",
   "metadata": {},
   "source": [
    "###  Группировка по дате - получение ряда"
   ]
  },
  {
   "cell_type": "code",
   "execution_count": null,
   "metadata": {},
   "outputs": [],
   "source": [
    "B2C_DZ_11 = B2C_11.groupby(['period_name']).sum()\n",
    "B2C_DZ_12 = B2C_12.groupby(['period_name']).sum()\n",
    "B2C_DZ_13 = B2C_13.groupby(['period_name']).sum()\n",
    "B2C_DZ_14 = B2C_14.groupby(['period_name']).sum()\n",
    "B2C_DZ_15 = B2C_15.groupby(['period_name']).sum()\n",
    "B2C_DZ_16 = B2C_16.groupby(['period_name']).sum()\n",
    "B2C_DZ_17 = B2C_17.groupby(['period_name']).sum()"
   ]
  },
  {
   "cell_type": "code",
   "execution_count": null,
   "metadata": {},
   "outputs": [],
   "source": [
    "B2C_DZ_11['ТДЗ'][24:].plot(figsize=(15,10), label = 'Fact')\n",
    "plt.title('Размер TДЗ Центр')"
   ]
  },
  {
   "cell_type": "markdown",
   "metadata": {},
   "source": [
    "### Создание отдельных фреймов на ТДЗ и ПДЗ по мр_кодам"
   ]
  },
  {
   "cell_type": "code",
   "execution_count": null,
   "metadata": {},
   "outputs": [],
   "source": [
    "TDZ = B2C_DZ_11['ТДЗ']\n",
    "PDZ = B2C_DZ_11['ПДЗ']\n",
    "TDZ_12 = B2C_DZ_12['ТДЗ']\n",
    "PDZ_12 = B2C_DZ_12['ПДЗ']\n",
    "TDZ_13 = B2C_DZ_13['ТДЗ']\n",
    "PDZ_13 = B2C_DZ_13['ПДЗ']\n",
    "TDZ_14 = B2C_DZ_14['ТДЗ']\n",
    "PDZ_14 = B2C_DZ_14['ПДЗ']\n",
    "TDZ_15 = B2C_DZ_15['ТДЗ']\n",
    "PDZ_15 = B2C_DZ_15['ПДЗ']\n",
    "TDZ_16 = B2C_DZ_16['ТДЗ']\n",
    "PDZ_16 = B2C_DZ_16['ПДЗ']\n",
    "TDZ_17 = B2C_DZ_17['ТДЗ']\n",
    "PDZ_17 = B2C_DZ_17['ПДЗ']"
   ]
  },
  {
   "cell_type": "markdown",
   "metadata": {},
   "source": [
    "### Тут использую данные только с января 2018 года"
   ]
  },
  {
   "cell_type": "code",
   "execution_count": null,
   "metadata": {},
   "outputs": [],
   "source": [
    "PDZ_new = PDZ[PDZ.index > '2017-12-01']\n",
    "TDZ_new = TDZ[TDZ.index > '2017-12-01']\n",
    "\n",
    "PDZ_new_12 = PDZ_12[PDZ_12.index > '2017-12-01']\n",
    "TDZ_new_12 = TDZ_12[TDZ_12.index > '2017-12-01']\n",
    "PDZ_new_13 = PDZ_13[PDZ_13.index > '2017-12-01']\n",
    "TDZ_new_13 = TDZ_13[TDZ_13.index > '2017-12-01']\n",
    "PDZ_new_14 = PDZ_14[PDZ_14.index > '2017-12-01']\n",
    "TDZ_new_14 = TDZ_14[TDZ_14.index > '2017-12-01']\n",
    "PDZ_new_15 = PDZ_15[PDZ_15.index > '2017-12-01']\n",
    "TDZ_new_15 = TDZ_15[TDZ_15.index > '2017-12-01']\n",
    "PDZ_new_16 = PDZ_16[PDZ_16.index > '2017-12-01']\n",
    "TDZ_new_16 = TDZ_16[TDZ_16.index > '2017-12-01']\n",
    "PDZ_new_17 = PDZ_17[PDZ_17.index > '2017-12-01']\n",
    "TDZ_new_17 = TDZ_17[TDZ_17.index > '2017-12-01']"
   ]
  },
  {
   "cell_type": "markdown",
   "metadata": {},
   "source": [
    "### Добавляю на каждый мр_код к ПДЗ и ТДЗ три лага для тестирования гипотез о интегрируемости ряда"
   ]
  },
  {
   "cell_type": "code",
   "execution_count": null,
   "metadata": {},
   "outputs": [],
   "source": [
    "B2C_DZ_11['ТДЗ_1'] = B2C_DZ_11['ТДЗ'][24:].shift(1).fillna(0)\n",
    "B2C_DZ_11['ТДЗ_2'] = B2C_DZ_11['ТДЗ'][24:].shift(2).fillna(0)\n",
    "B2C_DZ_11['ТДЗ_3'] = B2C_DZ_11['ТДЗ'][24:].shift(3).fillna(0)\n",
    "B2C_DZ_11['ПДЗ_1'] = B2C_DZ_11['ПДЗ'][24:].shift(1).fillna(0)\n",
    "B2C_DZ_11['ПДЗ_2'] = B2C_DZ_11['ТДЗ'][24:].shift(2).fillna(0)\n",
    "B2C_DZ_11['ПДЗ_3'] = B2C_DZ_11['ТДЗ'][24:].shift(3).fillna(0)\n",
    "\n",
    "B2C_DZ_12['ТДЗ_1'] = B2C_DZ_12['ТДЗ'][24:].shift(1).fillna(0)\n",
    "B2C_DZ_12['ТДЗ_2'] = B2C_DZ_12['ТДЗ'][24:].shift(2).fillna(0)\n",
    "B2C_DZ_12['ТДЗ_3'] = B2C_DZ_12['ТДЗ'][24:].shift(3).fillna(0)\n",
    "B2C_DZ_12['ПДЗ_1'] = B2C_DZ_12['ПДЗ'][24:].shift(1).fillna(0)\n",
    "B2C_DZ_12['ПДЗ_2'] = B2C_DZ_12['ТДЗ'][24:].shift(2).fillna(0)\n",
    "B2C_DZ_12['ПДЗ_3'] = B2C_DZ_12['ТДЗ'][24:].shift(3).fillna(0)\n",
    "\n",
    "B2C_DZ_13['ТДЗ_1'] = B2C_DZ_13['ТДЗ'][24:].shift(1).fillna(0)\n",
    "B2C_DZ_13['ТДЗ_2'] = B2C_DZ_13['ТДЗ'][24:].shift(2).fillna(0)\n",
    "B2C_DZ_13['ТДЗ_3'] = B2C_DZ_13['ТДЗ'][24:].shift(3).fillna(0)\n",
    "B2C_DZ_13['ПДЗ_1'] = B2C_DZ_13['ПДЗ'][24:].shift(1).fillna(0)\n",
    "B2C_DZ_13['ПДЗ_2'] = B2C_DZ_13['ТДЗ'][24:].shift(2).fillna(0)\n",
    "B2C_DZ_13['ПДЗ_3'] = B2C_DZ_13['ТДЗ'][24:].shift(3).fillna(0)\n",
    "\n",
    "B2C_DZ_14['ТДЗ_1'] = B2C_DZ_14['ТДЗ'][24:].shift(1).fillna(0)\n",
    "B2C_DZ_14['ТДЗ_2'] = B2C_DZ_14['ТДЗ'][24:].shift(2).fillna(0)\n",
    "B2C_DZ_14['ТДЗ_3'] = B2C_DZ_14['ТДЗ'][24:].shift(3).fillna(0)\n",
    "B2C_DZ_14['ПДЗ_1'] = B2C_DZ_14['ПДЗ'][24:].shift(1).fillna(0)\n",
    "B2C_DZ_14['ПДЗ_2'] = B2C_DZ_14['ТДЗ'][24:].shift(2).fillna(0)\n",
    "B2C_DZ_14['ПДЗ_3'] = B2C_DZ_14['ТДЗ'][24:].shift(3).fillna(0)\n",
    "\n",
    "B2C_DZ_15['ТДЗ_1'] = B2C_DZ_15['ТДЗ'][24:].shift(1).fillna(0)\n",
    "B2C_DZ_15['ТДЗ_2'] = B2C_DZ_15['ТДЗ'][24:].shift(2).fillna(0)\n",
    "B2C_DZ_15['ТДЗ_3'] = B2C_DZ_15['ТДЗ'][24:].shift(3).fillna(0)\n",
    "B2C_DZ_15['ПДЗ_1'] = B2C_DZ_15['ПДЗ'][24:].shift(1).fillna(0)\n",
    "B2C_DZ_15['ПДЗ_2'] = B2C_DZ_15['ТДЗ'][24:].shift(2).fillna(0)\n",
    "B2C_DZ_15['ПДЗ_3'] = B2C_DZ_15['ТДЗ'][24:].shift(3).fillna(0)\n",
    "\n",
    "B2C_DZ_16['ТДЗ_1'] = B2C_DZ_16['ТДЗ'][24:].shift(1).fillna(0)\n",
    "B2C_DZ_16['ТДЗ_2'] = B2C_DZ_16['ТДЗ'][24:].shift(2).fillna(0)\n",
    "B2C_DZ_16['ТДЗ_3'] = B2C_DZ_16['ТДЗ'][24:].shift(3).fillna(0)\n",
    "B2C_DZ_16['ПДЗ_1'] = B2C_DZ_16['ПДЗ'][24:].shift(1).fillna(0)\n",
    "B2C_DZ_16['ПДЗ_2'] = B2C_DZ_16['ТДЗ'][24:].shift(2).fillna(0)\n",
    "B2C_DZ_16['ПДЗ_3'] = B2C_DZ_16['ТДЗ'][24:].shift(3).fillna(0)\n",
    "\n",
    "B2C_DZ_17['ТДЗ_1'] = B2C_DZ_17['ТДЗ'][24:].shift(1).fillna(0)\n",
    "B2C_DZ_17['ТДЗ_2'] = B2C_DZ_17['ТДЗ'][24:].shift(2).fillna(0)\n",
    "B2C_DZ_17['ТДЗ_3'] = B2C_DZ_17['ТДЗ'][24:].shift(3).fillna(0)\n",
    "B2C_DZ_17['ПДЗ_1'] = B2C_DZ_17['ПДЗ'][24:].shift(1).fillna(0)\n",
    "B2C_DZ_17['ПДЗ_2'] = B2C_DZ_17['ТДЗ'][24:].shift(2).fillna(0)\n",
    "B2C_DZ_17['ПДЗ_3'] = B2C_DZ_17['ТДЗ'][24:].shift(3).fillna(0)\n"
   ]
  },
  {
   "cell_type": "markdown",
   "metadata": {},
   "source": [
    "### Общие фреймы по каждому мр_коду"
   ]
  },
  {
   "cell_type": "code",
   "execution_count": null,
   "metadata": {},
   "outputs": [],
   "source": [
    "DZ_new  = B2C_DZ_11[24:]\n",
    "\n",
    "DZ_new_12  = B2C_DZ_12[24:]\n",
    "DZ_new_13  = B2C_DZ_13[24:]\n",
    "DZ_new_14  = B2C_DZ_14[24:]\n",
    "DZ_new_15  = B2C_DZ_15[24:]\n",
    "DZ_new_16  = B2C_DZ_16[24:]\n",
    "DZ_new_17  = B2C_DZ_17[24:]"
   ]
  },
  {
   "cell_type": "code",
   "execution_count": null,
   "metadata": {},
   "outputs": [],
   "source": [
    "DZ_new"
   ]
  },
  {
   "cell_type": "markdown",
   "metadata": {},
   "source": [
    "# 11 МР КОД"
   ]
  },
  {
   "cell_type": "markdown",
   "metadata": {},
   "source": [
    "## ПДЗ"
   ]
  },
  {
   "cell_type": "code",
   "execution_count": null,
   "metadata": {},
   "outputs": [],
   "source": [
    "tsplot(PDZ_new, lags=12)"
   ]
  },
  {
   "cell_type": "markdown",
   "metadata": {},
   "source": [
    "### По графикам PACF ACF либо AR(1) либо I(1)"
   ]
  },
  {
   "cell_type": "markdown",
   "metadata": {},
   "source": [
    "### Построение AR(1) - модели"
   ]
  },
  {
   "cell_type": "code",
   "execution_count": null,
   "metadata": {},
   "outputs": [],
   "source": [
    "ols = sm.OLS(PDZ_new, DZ_new[['ПДЗ_1']]).fit()\n",
    "ols.summary()"
   ]
  },
  {
   "cell_type": "markdown",
   "metadata": {},
   "source": [
    "### Коэффициент при первом лаге близок к единице, проверим гипотезу о равенстве единице, если так, то вощьмем ряд I(1)"
   ]
  },
  {
   "cell_type": "code",
   "execution_count": null,
   "metadata": {},
   "outputs": [],
   "source": [
    "hyp = 'ПДЗ_1 = 1'\n",
    "t_test = ols.t_test(hyp)\n",
    "print(t_test)"
   ]
  },
  {
   "cell_type": "markdown",
   "metadata": {},
   "source": [
    "### Гипотеза не отвергается"
   ]
  },
  {
   "cell_type": "code",
   "execution_count": null,
   "metadata": {},
   "outputs": [],
   "source": [
    "tsplot(ols.resid, lags=12)"
   ]
  },
  {
   "cell_type": "markdown",
   "metadata": {},
   "source": [
    "### Как и ожидалось - остатки стационарны"
   ]
  },
  {
   "cell_type": "markdown",
   "metadata": {},
   "source": [
    "### Так как мы уже подобрали хорошую модель, интерпретировав лаговые значения через дифференциал, осталось немного улучшить модель, подобрав лаги на составляющие ошибки"
   ]
  },
  {
   "cell_type": "code",
   "execution_count": null,
   "metadata": {
    "scrolled": true
   },
   "outputs": [],
   "source": [
    "p = range(0,5)\n",
    "d = 0\n",
    "q = range(0,13)\n",
    "\n",
    "Ps = range(0,4)\n",
    "Ds = range(0,2)\n",
    "Qs = range(0,4)\n",
    "\n",
    "from itertools import product\n",
    "\n",
    "parameters = product(q)\n",
    "parameters_list = list(parameters)"
   ]
  },
  {
   "cell_type": "code",
   "execution_count": null,
   "metadata": {},
   "outputs": [],
   "source": [
    "parameters_list"
   ]
  },
  {
   "cell_type": "markdown",
   "metadata": {},
   "source": [
    "### Подбор ведем по информационному критерию Байеса-Шварца"
   ]
  },
  {
   "cell_type": "code",
   "execution_count": null,
   "metadata": {
    "scrolled": true
   },
   "outputs": [],
   "source": [
    "%%time\n",
    "results = []\n",
    "best_bic = float(\"inf\")\n",
    "\n",
    "for param in tqdm(parameters_list):\n",
    "    try:\n",
    "        model=sm.tsa.statespace.SARIMAX(PDZ_new, order=(0, 1, param[0]), \n",
    "                                        #seasonal_order=(param[3], param[4], param[5], 12)\n",
    "                                        trend = [0,0],\n",
    "                                        enforce_stationarity=False).fit()\n",
    "    except ValueError:\n",
    "        print('wrong parameters:', param)\n",
    "        continue\n",
    "    bic = model.bic\n",
    "\n",
    "    if bic < best_bic and bic>-10000:\n",
    "        best_model = model\n",
    "        best_bic = bic\n",
    "        best_param = param\n",
    "        results.append([param, model.bic])\n",
    "\n",
    "warnings.filterwarnings('default')\n",
    "\n",
    "result_table = pd.DataFrame(results)\n",
    "result_table.columns = ['parameters', 'bic']\n",
    "print(result_table.sort_values(by = 'bic', ascending=True).head(10))"
   ]
  },
  {
   "cell_type": "code",
   "execution_count": null,
   "metadata": {},
   "outputs": [],
   "source": [
    "best_model.summary()"
   ]
  },
  {
   "cell_type": "markdown",
   "metadata": {},
   "source": [
    "### Уберем незначимые элементы, добавим тренд либо константу по необходимости"
   ]
  },
  {
   "cell_type": "code",
   "execution_count": null,
   "metadata": {},
   "outputs": [],
   "source": [
    "model=sm.tsa.statespace.SARIMAX(PDZ_new, order=(0, 1, [1,2,4,5,6,9]), \n",
    "                                        #seasonal_order=(param[3], param[4], param[5], 12)\n",
    "                                        trend = [1,0],\n",
    "                                        enforce_stationarity=False).fit()\n",
    "model.summary()"
   ]
  },
  {
   "cell_type": "markdown",
   "metadata": {},
   "source": [
    "## Прогноз на ПДЗ 11 мр_кода"
   ]
  },
  {
   "cell_type": "code",
   "execution_count": null,
   "metadata": {},
   "outputs": [],
   "source": [
    "pred = model.predict('2020-04-01','2021-10-01',  typ='levels')\n",
    "PDZ_new.plot(figsize=(15,10), label = 'Fact')\n",
    "pred.plot(style='r--', label = 'Predicted part')\n",
    "plt.title('Факт и прогноз на ПДЗ Центр')\n",
    "plt.legend()\n",
    "plt.show()\n"
   ]
  },
  {
   "cell_type": "code",
   "execution_count": null,
   "metadata": {},
   "outputs": [],
   "source": [
    "print('MAPE прогнозной модели составила : составила {0:.2f} процента'.format(mape(PDZ_new[24:].values, model.predict('2020-01-01','2021-05-01').values)))"
   ]
  },
  {
   "cell_type": "code",
   "execution_count": null,
   "metadata": {},
   "outputs": [],
   "source": [
    "print('MAE прогнозной модели составила : составила {0:.2f} рублей'.format(mae(PDZ_new[24:].values, model.predict('2020-01-01','2021-05-01').values)))"
   ]
  },
  {
   "cell_type": "code",
   "execution_count": null,
   "metadata": {
    "scrolled": true
   },
   "outputs": [],
   "source": [
    "\n",
    "print('Прогноз среднего изменения ПДЗ на июль-сентябрь 2021 года к маю 2021 : составит {0:.2f} процента'.format((-np.mean(PDZ_new[-1:].values)\n",
    "                                                                              +np.mean(model.predict('2021-07-01','2021-09-01').values))/np.mean(PDZ_new[-1:].values)*100))"
   ]
  },
  {
   "cell_type": "markdown",
   "metadata": {},
   "source": [
    "### Доверительный интервал на пронозы в  5%"
   ]
  },
  {
   "cell_type": "code",
   "execution_count": null,
   "metadata": {},
   "outputs": [],
   "source": [
    "fcast = model.get_forecast(6)\n",
    "print('Forecast:')\n",
    "print(fcast.predicted_mean.round(3))\n",
    "print('Confidence intervals:')\n",
    "print(fcast.conf_int().round(3))"
   ]
  },
  {
   "cell_type": "code",
   "execution_count": null,
   "metadata": {},
   "outputs": [],
   "source": [
    "pred = model.predict('2020-04-01','2021-10-01',  typ='levels')\n",
    "fcast.conf_int(alpha=0.1)['lower ПДЗ'].plot(figsize=(15,6), style = 'g--', label = 'Нижняя граница интервала')\n",
    "fcast.conf_int(alpha=0.1)['upper ПДЗ'].plot(figsize=(15,6), style = 'g--', label = 'Верхняя граница интервала')\n",
    "pred.plot(style='b--', label = 'Прогноз')\n",
    "plt.legend()\n",
    "plt.title('Прогноз на ПДЗ Центр с интервалами')\n",
    "plt.fill_between(fcast.conf_int(alpha=0.1).index, fcast.conf_int(alpha=0.1)['lower ПДЗ'], fcast.conf_int(alpha=0.1)['upper ПДЗ'], where=None, interpolate=True, step=None,animated = True, data=1, color='C7')\n",
    "plt.show()"
   ]
  },
  {
   "cell_type": "markdown",
   "metadata": {},
   "source": [
    "## ТДЗ"
   ]
  },
  {
   "cell_type": "markdown",
   "metadata": {},
   "source": [
    "### Подбор модели"
   ]
  },
  {
   "cell_type": "code",
   "execution_count": null,
   "metadata": {},
   "outputs": [],
   "source": [
    "tsplot(TDZ_new, lags=12)"
   ]
  },
  {
   "cell_type": "markdown",
   "metadata": {},
   "source": [
    "### По ACF и PACF модель очень похожа на I(1) или AR(1)"
   ]
  },
  {
   "cell_type": "markdown",
   "metadata": {},
   "source": [
    "### Посмотрим, что нам даст проверочная регрессия"
   ]
  },
  {
   "cell_type": "code",
   "execution_count": null,
   "metadata": {},
   "outputs": [],
   "source": [
    "ols1 = sm.OLS(TDZ_new, DZ_new['ТДЗ_1']).fit()\n",
    "ols1.summary()"
   ]
  },
  {
   "cell_type": "markdown",
   "metadata": {},
   "source": [
    "### Коэффициент близок к единице, а значит модели I(1), проверим гипотезу о равенстве единице"
   ]
  },
  {
   "cell_type": "code",
   "execution_count": null,
   "metadata": {},
   "outputs": [],
   "source": [
    "hyp = 'ТДЗ_1 = 1'\n",
    "t_test = ols1.t_test(hyp)\n",
    "print(t_test)"
   ]
  },
  {
   "cell_type": "markdown",
   "metadata": {},
   "source": [
    "### Гипотеза не отвергается"
   ]
  },
  {
   "cell_type": "code",
   "execution_count": null,
   "metadata": {},
   "outputs": [],
   "source": [
    "tsplot(ols1.resid, lags=12)"
   ]
  },
  {
   "cell_type": "markdown",
   "metadata": {},
   "source": [
    "### Ряд ошибок получившейся модели стационарен"
   ]
  },
  {
   "cell_type": "markdown",
   "metadata": {},
   "source": [
    "## Подбираем соответсвующую модель I(1) по информационному критерию"
   ]
  },
  {
   "cell_type": "code",
   "execution_count": null,
   "metadata": {
    "scrolled": true
   },
   "outputs": [],
   "source": [
    "%%time\n",
    "results = []\n",
    "best_bic = float(\"inf\")\n",
    "\n",
    "for param in tqdm(parameters_list):\n",
    "    try:\n",
    "        model=sm.tsa.statespace.SARIMAX(TDZ_new, order=(0, 1, param[0]), \n",
    "                                        #seasonal_order=(param[3], param[4], param[5], 12)\n",
    "                                        trend = [0,0,0,0],\n",
    "                                        enforce_stationarity=False).fit(disp=-1)\n",
    "    except ValueError:\n",
    "        print('wrong parameters:', param)\n",
    "        continue\n",
    "    bic = model.bic\n",
    "\n",
    "    if bic < best_bic and bic>-10000:\n",
    "        best_model = model\n",
    "        best_bic = bic\n",
    "        best_param = param\n",
    "        results.append([param, model.bic])\n",
    "\n",
    "warnings.filterwarnings('default')\n",
    "\n",
    "result_table = pd.DataFrame(results)\n",
    "result_table.columns = ['parameters', 'bic']\n",
    "print(result_table.sort_values(by = 'bic', ascending=True).head(10))"
   ]
  },
  {
   "cell_type": "code",
   "execution_count": null,
   "metadata": {},
   "outputs": [],
   "source": [
    "best_model.summary()"
   ]
  },
  {
   "cell_type": "markdown",
   "metadata": {},
   "source": [
    "## Подберем частную ARIMA по значимости"
   ]
  },
  {
   "cell_type": "code",
   "execution_count": null,
   "metadata": {},
   "outputs": [],
   "source": [
    "model=sm.tsa.statespace.SARIMAX(TDZ_new, order=(0, 1, [1,7]), \n",
    "                                        #seasonal_order=(param[3], param[4], param[5], 12)\n",
    "                                trend = [1,0,0,0],\n",
    "                                        enforce_stationarity=False).fit(disp=-1)\n",
    "model.summary()"
   ]
  },
  {
   "cell_type": "code",
   "execution_count": null,
   "metadata": {},
   "outputs": [],
   "source": [
    "tsplot(model.resid, lags=12)"
   ]
  },
  {
   "cell_type": "markdown",
   "metadata": {},
   "source": [
    "### Ошибки стационарны"
   ]
  },
  {
   "cell_type": "code",
   "execution_count": null,
   "metadata": {},
   "outputs": [],
   "source": [
    "Y = TDZ_new[3:]\n",
    "Y_predict = model.predict('2019-04-01','2021-10-01',   typ='levels')\n",
    "Y_predict = Y_predict[3:]\n",
    "plt.figure(figsize=[20, 12])\n",
    "plt.rc('font', size=15)\n",
    "plt.title('ТДЗ Центр')\n",
    "plt.plot(Y_predict, 'b:', label='прогноз')\n",
    "plt.plot(Y, 'r', label='факт. значения')\n",
    "plt.legend()\n",
    "plt.show()"
   ]
  },
  {
   "cell_type": "code",
   "execution_count": null,
   "metadata": {},
   "outputs": [],
   "source": [
    "print('MAPE прогнозной модели составила : составила {0:.2f} процента'.format(mape(TDZ_new[24:].values, model.predict('2020-01-01','2021-05-01').values)))\n",
    "print('Прогноз среднего изменения TДЗ на июль-сентябрь 2021 года к маю 2021 : составит {0:.2f} процента'.format((-np.mean(TDZ_new[-1:].values)\n",
    "                                                                              +np.mean(model.predict('2021-07-01','2021-09-01').values))/np.mean(TDZ_new[-1:].values)*100))"
   ]
  },
  {
   "cell_type": "code",
   "execution_count": null,
   "metadata": {},
   "outputs": [],
   "source": [
    "print('MAE прогнозной модели составила : составила {0:.2f} рублей'.format(mae(TDZ_new[24:].values, model.predict('2020-01-01','2021-05-01').values)))"
   ]
  },
  {
   "cell_type": "code",
   "execution_count": null,
   "metadata": {},
   "outputs": [],
   "source": [
    "fcast = model.get_forecast(6)\n",
    "print('Forecast:')\n",
    "print(fcast.predicted_mean.round(3))\n",
    "print('Confidence intervals:')\n",
    "print(fcast.conf_int(alpha=0.1).round(3))"
   ]
  },
  {
   "cell_type": "code",
   "execution_count": null,
   "metadata": {},
   "outputs": [],
   "source": [
    "pred = model.predict('2020-04-01','2021-10-01',  typ='levels')\n",
    "fcast.conf_int(alpha=0.1)['lower ТДЗ'].plot(figsize=(15,10), style = 'b--', label = 'Нижняя граница интервала')\n",
    "fcast.conf_int(alpha=0.1)['upper ТДЗ'].plot(figsize=(15,10), style = 'b--', label = 'Верхняя граница интервала')\n",
    "pred.plot(style='r-', label = 'Прогноз')\n",
    "plt.legend()\n",
    "plt.rcParams.update({'font.size': 20})\n",
    "plt.tick_params(axis='both', which='both', labelsize=20, colors='b',\n",
    "               grid_color='b', grid_alpha=1, width =0.5, length = 6, labelbottom = True, grid_linewidth =0.5)\n",
    "plt.title('Прогноз на ТДЗ Центр с интервалами')\n",
    "plt.fill_between(fcast.conf_int(alpha=0.1).index, fcast.conf_int(alpha=0.1)['lower ТДЗ'], fcast.conf_int(alpha=0.1)['upper ТДЗ'], where=None, interpolate=True, step=None,animated = True, data=1)\n",
    "plt.show()"
   ]
  },
  {
   "cell_type": "markdown",
   "metadata": {},
   "source": [
    "### Далее для всех моделей будут схожие рассуждения, поэтому не буду останавливаться на комментариях, а буду разбивать на логические части: Основная часть - ПДЗ или ТДЗ, подчасти (подбор модели) - проверка модели на стационарность, проверка гипотезы I(1); подбор модели ARIMA; потсроение графиков прогноза"
   ]
  },
  {
   "cell_type": "markdown",
   "metadata": {},
   "source": [
    "# 12 МР_КОД"
   ]
  },
  {
   "cell_type": "markdown",
   "metadata": {},
   "source": [
    "## ПДЗ"
   ]
  },
  {
   "cell_type": "markdown",
   "metadata": {},
   "source": [
    "### Подбор модели"
   ]
  },
  {
   "cell_type": "code",
   "execution_count": null,
   "metadata": {},
   "outputs": [],
   "source": [
    "tsplot(PDZ_new_12, lags=12)"
   ]
  },
  {
   "cell_type": "code",
   "execution_count": null,
   "metadata": {},
   "outputs": [],
   "source": [
    "model_12 = sm.OLS(PDZ_new_12, DZ_new_12['ПДЗ_1']).fit()\n",
    "model_12.summary()"
   ]
  },
  {
   "cell_type": "code",
   "execution_count": null,
   "metadata": {},
   "outputs": [],
   "source": [
    "hyp = 'ПДЗ_1 = 1'\n",
    "t_test =model_12.t_test(hyp)\n",
    "print(t_test)"
   ]
  },
  {
   "cell_type": "code",
   "execution_count": null,
   "metadata": {},
   "outputs": [],
   "source": [
    "tsplot(model_12.resid, lags=12)"
   ]
  },
  {
   "cell_type": "markdown",
   "metadata": {},
   "source": [
    "### Подбор модели ARIMA"
   ]
  },
  {
   "cell_type": "code",
   "execution_count": null,
   "metadata": {},
   "outputs": [],
   "source": [
    "%%time\n",
    "results = []\n",
    "best_bic = float(\"inf\")\n",
    "\n",
    "for param in tqdm(parameters_list):\n",
    "    try:\n",
    "        model=sm.tsa.statespace.SARIMAX(PDZ_new_12, order=(0, 1, param[0]), \n",
    "                                        #seasonal_order=(param[3], param[4], param[5], 12)\n",
    "                                        trend = [0,0,0,0],\n",
    "                                        enforce_stationarity=False).fit(disp=-1)\n",
    "    except ValueError:\n",
    "        print('wrong parameters:', param)\n",
    "        continue\n",
    "    bic = model.bic\n",
    "\n",
    "    if bic < best_bic and bic>-10000:\n",
    "        best_model = model\n",
    "        best_bic = bic\n",
    "        best_param = param\n",
    "        results.append([param, model.bic])\n",
    "\n",
    "warnings.filterwarnings('default')\n",
    "\n",
    "result_table = pd.DataFrame(results)\n",
    "result_table.columns = ['parameters', 'bic']\n",
    "print(result_table.sort_values(by = 'bic', ascending=True).head(10))"
   ]
  },
  {
   "cell_type": "code",
   "execution_count": null,
   "metadata": {},
   "outputs": [],
   "source": [
    "best_model.summary()"
   ]
  },
  {
   "cell_type": "code",
   "execution_count": null,
   "metadata": {},
   "outputs": [],
   "source": [
    "model=sm.tsa.statespace.SARIMAX(PDZ_new_12, order=(0, 1, [4,9]), \n",
    "                                        #seasonal_order=(param[3], param[4], param[5], 12)\n",
    "                                        trend = [1,0,0,0],\n",
    "                                        enforce_stationarity=False).fit(disp=-1)\n",
    "model.summary()"
   ]
  },
  {
   "cell_type": "markdown",
   "metadata": {},
   "source": [
    "### Построение графиков"
   ]
  },
  {
   "cell_type": "code",
   "execution_count": null,
   "metadata": {},
   "outputs": [],
   "source": [
    "Y = PDZ_new_12[3:]\n",
    "Y_predict = model.predict('2019-04-01','2021-10-01',   typ='levels')\n",
    "Y_predict = Y_predict[3:]\n",
    "plt.figure(figsize=[20, 12])\n",
    "plt.rc('font', size=15)\n",
    "plt.title('PDZ_mr_code_12')\n",
    "plt.plot(Y_predict, 'b:', label='прогноз')\n",
    "plt.plot(Y, 'r', label='факт. значения')\n",
    "plt.legend()\n",
    "plt.show()"
   ]
  },
  {
   "cell_type": "code",
   "execution_count": null,
   "metadata": {},
   "outputs": [],
   "source": [
    "print('MAPE прогнозной модели составила : составила {0:.2f} процента'.format(mape(PDZ_new_12[24:].values, model.predict('2020-01-01','2021-05-01').values)))\n",
    "print('Прогноз среднего изменения ПДЗ на июль-сентябрь 2021 года к маю 2021 : составит {0:.2f} процента'.format((-np.mean(PDZ_new_12[-1:].values)\n",
    "                                                                              +np.mean(model.predict('2021-07-01','2021-09-01').values))/np.mean(PDZ_new_12[-1:].values)*100))"
   ]
  },
  {
   "cell_type": "code",
   "execution_count": null,
   "metadata": {},
   "outputs": [],
   "source": [
    "print('MAE прогнозной модели составила : составила {0:.2f} рублей'.format(mae(PDZ_new_12[24:].values, model.predict('2020-01-01','2021-05-01').values)))"
   ]
  },
  {
   "cell_type": "code",
   "execution_count": null,
   "metadata": {},
   "outputs": [],
   "source": [
    "fcast = model.get_forecast(4)\n",
    "print('Forecast:')\n",
    "print(fcast.predicted_mean.round(3))\n",
    "print('Confidence intervals:')\n",
    "print(fcast.conf_int().round(3))"
   ]
  },
  {
   "cell_type": "code",
   "execution_count": null,
   "metadata": {},
   "outputs": [],
   "source": [
    "pred = model.predict('2020-04-01','2021-10-01',  typ='levels')\n",
    "fcast.conf_int()['lower ПДЗ'].plot(figsize=(15,6), style = 'b--', label = 'Нижняя граница интервала')\n",
    "fcast.conf_int()['upper ПДЗ'].plot(figsize=(15,6), style = 'b--', label = 'Верхняя граница интервала')\n",
    "pred.plot(style='r--', label = 'Прогноз')\n",
    "plt.legend()\n",
    "plt.title('Прогноз на ПДЗ 12 мр_код с интервалами')\n",
    "plt.show()"
   ]
  },
  {
   "cell_type": "markdown",
   "metadata": {},
   "source": [
    "## ТДЗ"
   ]
  },
  {
   "cell_type": "markdown",
   "metadata": {},
   "source": [
    "### Построение модели"
   ]
  },
  {
   "cell_type": "code",
   "execution_count": null,
   "metadata": {},
   "outputs": [],
   "source": [
    "model_12_2 = sm.OLS(TDZ_new_12, DZ_new_12['ТДЗ_1']).fit()\n",
    "model_12_2.summary()\n"
   ]
  },
  {
   "cell_type": "code",
   "execution_count": null,
   "metadata": {},
   "outputs": [],
   "source": [
    "hyp = 'ТДЗ_1 = 1'\n",
    "t_test =model_12_2.t_test(hyp)\n",
    "print(t_test)"
   ]
  },
  {
   "cell_type": "code",
   "execution_count": null,
   "metadata": {},
   "outputs": [],
   "source": [
    "tsplot(model_12_2.resid, lags=12)"
   ]
  },
  {
   "cell_type": "markdown",
   "metadata": {},
   "source": [
    "### Подбор модели ARIMA"
   ]
  },
  {
   "cell_type": "code",
   "execution_count": null,
   "metadata": {},
   "outputs": [],
   "source": [
    "%%time\n",
    "results = []\n",
    "best_bic = float(\"inf\")\n",
    "\n",
    "for param in tqdm(parameters_list):\n",
    "    try:\n",
    "        model=sm.tsa.statespace.SARIMAX(TDZ_new_12, order=(0, 1, param[0]), \n",
    "                                        #seasonal_order=(param[3], param[4], param[5], 12)\n",
    "                                        trend = [1,0,0,0],\n",
    "                                        enforce_stationarity=False).fit(disp=-1)\n",
    "    except ValueError:\n",
    "        print('wrong parameters:', param)\n",
    "        continue\n",
    "    bic = model.bic\n",
    "\n",
    "    if bic < best_bic and bic>-10000:\n",
    "        best_model = model\n",
    "        best_bic = bic\n",
    "        best_param = param\n",
    "        results.append([param, model.bic])\n",
    "\n",
    "warnings.filterwarnings('default')\n",
    "\n",
    "result_table = pd.DataFrame(results)\n",
    "result_table.columns = ['parameters', 'bic']\n",
    "print(result_table.sort_values(by = 'bic', ascending=True).head(10))"
   ]
  },
  {
   "cell_type": "code",
   "execution_count": null,
   "metadata": {},
   "outputs": [],
   "source": [
    "best_model.summary()"
   ]
  },
  {
   "cell_type": "code",
   "execution_count": null,
   "metadata": {},
   "outputs": [],
   "source": [
    "model=sm.tsa.statespace.SARIMAX(TDZ_new_12, order=(0, 1, [4]), \n",
    "                                        #seasonal_order=(param[3], param[4], param[5], 12)\n",
    "                                        trend = [1,0,0,0],\n",
    "                                        enforce_stationarity=False).fit(disp=-1)\n",
    "model.summary()"
   ]
  },
  {
   "cell_type": "code",
   "execution_count": null,
   "metadata": {},
   "outputs": [],
   "source": [
    "tsplot(model.resid, lags=14)"
   ]
  },
  {
   "cell_type": "markdown",
   "metadata": {},
   "source": [
    "### Графики"
   ]
  },
  {
   "cell_type": "code",
   "execution_count": null,
   "metadata": {},
   "outputs": [],
   "source": [
    "Y = TDZ_new_12[3:]\n",
    "Y_predict = model.predict('2019-04-01','2021-10-01',   typ='levels')\n",
    "Y_predict = Y_predict[3:]\n",
    "plt.figure(figsize=[20, 12])\n",
    "plt.rc('font', size=15)\n",
    "plt.title('TDZ_mr_code_12')\n",
    "plt.plot(Y_predict, 'b:', label='прогноз')\n",
    "plt.plot(Y, 'r', label='факт. значения')\n",
    "plt.legend()\n",
    "plt.show()"
   ]
  },
  {
   "cell_type": "code",
   "execution_count": null,
   "metadata": {},
   "outputs": [],
   "source": [
    "print('MAPE прогнозной модели составила : составила {0:.2f} процента'.format(mape(TDZ_new_12[24:].values, model.predict('2020-01-01','2021-05-01').values)))\n",
    "print('Прогноз среднего изменения ПДЗ на июль-сентябрь 2021 года к маю 2021 : составит {0:.2f} процента'.format((-np.mean(TDZ_new_12[-1:].values)\n",
    "                                                                              +np.mean(model.predict('2021-07-01','2021-09-01').values))/np.mean(TDZ_new_12[-1:].values)*100))"
   ]
  },
  {
   "cell_type": "code",
   "execution_count": null,
   "metadata": {},
   "outputs": [],
   "source": [
    "print('MAE прогнозной модели составила : составила {0:.2f} рублей'.format(mae(TDZ_new_12[24:].values, model.predict('2020-01-01','2021-05-01').values)))"
   ]
  },
  {
   "cell_type": "code",
   "execution_count": null,
   "metadata": {},
   "outputs": [],
   "source": [
    "fcast = model.get_forecast(4)\n",
    "print('Forecast:')\n",
    "print(fcast.predicted_mean.round(3))\n",
    "print('Confidence intervals:')\n",
    "print(fcast.conf_int().round(3))"
   ]
  },
  {
   "cell_type": "code",
   "execution_count": null,
   "metadata": {},
   "outputs": [],
   "source": [
    "pred = model.predict('2020-04-01','2021-10-01',  typ='levels')\n",
    "fcast.conf_int()['lower ТДЗ'].plot(figsize=(15,6), style = 'b--', label = 'Нижняя граница интервала')\n",
    "fcast.conf_int()['upper ТДЗ'].plot(figsize=(15,6), style = 'b--', label = 'Верхняя граница интервала')\n",
    "pred.plot(style='r--', label = 'Прогноз')\n",
    "plt.legend()\n",
    "plt.title('Прогноз на ТДЗ 12 мр_код с интервалами')\n",
    "plt.show()"
   ]
  },
  {
   "cell_type": "markdown",
   "metadata": {},
   "source": [
    "# 13 МР КОД"
   ]
  },
  {
   "cell_type": "markdown",
   "metadata": {},
   "source": [
    "## ПДЗ"
   ]
  },
  {
   "cell_type": "markdown",
   "metadata": {},
   "source": [
    "### Подбор модели"
   ]
  },
  {
   "cell_type": "code",
   "execution_count": null,
   "metadata": {},
   "outputs": [],
   "source": [
    "tsplot(PDZ_new_13, lags=12)"
   ]
  },
  {
   "cell_type": "code",
   "execution_count": null,
   "metadata": {},
   "outputs": [],
   "source": [
    "model = sm.OLS(PDZ_new_13, DZ_new_13['ПДЗ_1']).fit()\n",
    "model.summary()"
   ]
  },
  {
   "cell_type": "code",
   "execution_count": null,
   "metadata": {},
   "outputs": [],
   "source": [
    "hyp = 'ПДЗ_1 = 1'\n",
    "t_test =model.t_test(hyp)\n",
    "print(t_test)"
   ]
  },
  {
   "cell_type": "code",
   "execution_count": null,
   "metadata": {
    "scrolled": true
   },
   "outputs": [],
   "source": [
    "tsplot(model.resid, lags=12)"
   ]
  },
  {
   "cell_type": "markdown",
   "metadata": {},
   "source": [
    "### Подбор ARIMA модели"
   ]
  },
  {
   "cell_type": "code",
   "execution_count": null,
   "metadata": {},
   "outputs": [],
   "source": [
    "\n",
    "\n",
    "%%time\n",
    "results = []\n",
    "best_bic = float(\"inf\")\n",
    "\n",
    "for param in tqdm(parameters_list):\n",
    "    try:\n",
    "        model=sm.tsa.statespace.SARIMAX(PDZ_new_13, order=(0, 1, param[0]), \n",
    "                                        #seasonal_order=(param[3], param[4], param[5], 12)\n",
    "                                        trend = [0,0],\n",
    "                                        enforce_stationarity=False).fit(disp=-1)\n",
    "    except ValueError:\n",
    "        print('wrong parameters:', param)\n",
    "        continue\n",
    "    bic = model.bic\n",
    "\n",
    "    if bic < best_bic and bic>-10000:\n",
    "        best_model = model\n",
    "        best_bic = bic\n",
    "        best_param = param\n",
    "        results.append([param, model.bic])\n",
    "\n",
    "warnings.filterwarnings('default')\n",
    "\n",
    "result_table = pd.DataFrame(results)\n",
    "result_table.columns = ['parameters', 'bic']\n",
    "print(result_table.sort_values(by = 'bic', ascending=True).head(10))"
   ]
  },
  {
   "cell_type": "code",
   "execution_count": null,
   "metadata": {},
   "outputs": [],
   "source": [
    "best_model.summary()"
   ]
  },
  {
   "cell_type": "code",
   "execution_count": null,
   "metadata": {},
   "outputs": [],
   "source": [
    "model=sm.tsa.statespace.SARIMAX(PDZ_new_13, order=(0, 1, [3,4,5,6,9]), \n",
    "                                        #seasonal_order=(param[3], param[4], param[5], 12)\n",
    "                                        trend = [1,0],\n",
    "                                        enforce_stationarity=False).fit(disp=-1)\n",
    "model.summary()"
   ]
  },
  {
   "cell_type": "code",
   "execution_count": null,
   "metadata": {},
   "outputs": [],
   "source": [
    "tsplot(model.resid, lags=14)"
   ]
  },
  {
   "cell_type": "markdown",
   "metadata": {},
   "source": [
    "### Графики"
   ]
  },
  {
   "cell_type": "code",
   "execution_count": null,
   "metadata": {},
   "outputs": [],
   "source": [
    "Y = PDZ_new_13[3:]\n",
    "Y_predict = model.predict('2019-04-01','2021-10-01',   typ='levels')\n",
    "Y_predict = Y_predict[3:]\n",
    "plt.figure(figsize=[20, 12])\n",
    "plt.rc('font', size=15)\n",
    "plt.title('PDZ_mr_code_13')\n",
    "plt.plot(Y_predict, 'b:', label='прогноз')\n",
    "plt.plot(Y, 'r', label='факт. значения')\n",
    "plt.legend()\n",
    "plt.show()"
   ]
  },
  {
   "cell_type": "code",
   "execution_count": null,
   "metadata": {},
   "outputs": [],
   "source": [
    "print('MAPE прогнозной модели составила : составила {0:.2f} процента'.format(mape(PDZ_new_13[24:].values, model.predict('2020-01-01','2021-05-01').values)))\n",
    "print('Прогноз среднего изменения ПДЗ на июль-сентябрь 2021 года к маю 2021 : составит {0:.2f} процента'.format((-np.mean(PDZ_new_13[-1:].values)\n",
    "                                                                              +np.mean(model.predict('2021-07-01','2021-09-01').values))/np.mean(PDZ_new_13[-1:].values)*100))"
   ]
  },
  {
   "cell_type": "code",
   "execution_count": null,
   "metadata": {},
   "outputs": [],
   "source": [
    "print('MAE прогнозной модели составила : составила {0:.2f} рублей'.format(mae(PDZ_new_13[24:].values, model.predict('2020-01-01','2021-05-01').values)))"
   ]
  },
  {
   "cell_type": "code",
   "execution_count": null,
   "metadata": {},
   "outputs": [],
   "source": [
    "fcast = model.get_forecast(4)\n",
    "print('Forecast:')\n",
    "print(fcast.predicted_mean.round(3))\n",
    "print('Confidence intervals:')\n",
    "print(fcast.conf_int().round(3))"
   ]
  },
  {
   "cell_type": "code",
   "execution_count": null,
   "metadata": {},
   "outputs": [],
   "source": [
    "pred = model.predict('2020-04-01','2021-10-01',  typ='levels')\n",
    "fcast.conf_int()['lower ПДЗ'].plot(figsize=(15,6), style = 'b--', label = 'Нижняя граница интервала')\n",
    "fcast.conf_int()['upper ПДЗ'].plot(figsize=(15,6), style = 'b--', label = 'Верхняя граница интервала')\n",
    "pred.plot(style='r--', label = 'Прогноз')\n",
    "plt.legend()\n",
    "plt.title('Прогноз на ПДЗ 13 мр_код с интервалами')\n",
    "plt.show()"
   ]
  },
  {
   "cell_type": "markdown",
   "metadata": {},
   "source": [
    "## ТДЗ"
   ]
  },
  {
   "cell_type": "code",
   "execution_count": null,
   "metadata": {},
   "outputs": [],
   "source": [
    "tsplot(TDZ_new_13, lags=12)"
   ]
  },
  {
   "cell_type": "code",
   "execution_count": null,
   "metadata": {},
   "outputs": [],
   "source": [
    "model = sm.OLS(TDZ_new_13, DZ_new_13['ТДЗ_1']).fit()\n",
    "model.summary()"
   ]
  },
  {
   "cell_type": "code",
   "execution_count": null,
   "metadata": {},
   "outputs": [],
   "source": [
    "hyp = 'ТДЗ_1 = 1'\n",
    "t_test =model.t_test(hyp)\n",
    "print(t_test)"
   ]
  },
  {
   "cell_type": "markdown",
   "metadata": {},
   "source": [
    "### Подбор ARIMA модели"
   ]
  },
  {
   "cell_type": "code",
   "execution_count": null,
   "metadata": {},
   "outputs": [],
   "source": [
    "%%time\n",
    "results = []\n",
    "best_bic = float(\"inf\")\n",
    "\n",
    "for param in tqdm(parameters_list):\n",
    "    try:\n",
    "        model=sm.tsa.statespace.SARIMAX(TDZ_new_13, order=(0, 1, param[0]), \n",
    "                                        #seasonal_order=(param[3], param[4], param[5], 12)\n",
    "                                        trend = [1,0],\n",
    "                                        enforce_stationarity=False).fit(disp=-1)\n",
    "    except ValueError:\n",
    "        print('wrong parameters:', param)\n",
    "        continue\n",
    "    bic = model.bic\n",
    "\n",
    "    if bic < best_bic and bic>-10000:\n",
    "        best_model = model\n",
    "        best_bic = bic\n",
    "        best_param = param\n",
    "        results.append([param, model.bic])\n",
    "\n",
    "warnings.filterwarnings('default')\n",
    "\n",
    "result_table = pd.DataFrame(results)\n",
    "result_table.columns = ['parameters', 'bic']\n",
    "print(result_table.sort_values(by = 'bic', ascending=True).head(10))"
   ]
  },
  {
   "cell_type": "code",
   "execution_count": null,
   "metadata": {},
   "outputs": [],
   "source": [
    "best_model.summary()"
   ]
  },
  {
   "cell_type": "code",
   "execution_count": null,
   "metadata": {},
   "outputs": [],
   "source": [
    "model=sm.tsa.statespace.SARIMAX(TDZ_new_13, order=(0, 1, [2,5,6]), \n",
    "                                        #seasonal_order=(param[3], param[4], param[5], 12)\n",
    "                                        trend = [1,0],\n",
    "                                        enforce_stationarity=False).fit(disp=-1)\n",
    "model.summary()"
   ]
  },
  {
   "cell_type": "code",
   "execution_count": null,
   "metadata": {},
   "outputs": [],
   "source": [
    "tsplot(model.resid,lags=12)"
   ]
  },
  {
   "cell_type": "code",
   "execution_count": null,
   "metadata": {},
   "outputs": [],
   "source": [
    "Y = TDZ_new_13[3:]\n",
    "Y_predict = model.predict('2019-04-01','2021-10-01',   typ='levels')\n",
    "Y_predict = Y_predict[3:]\n",
    "plt.figure(figsize=[20, 12])\n",
    "plt.rc('font', size=15)\n",
    "plt.title('TDZ_mr_code_13')\n",
    "plt.plot(Y_predict, 'b:', label='прогноз')\n",
    "plt.plot(Y, 'r', label='факт. значения')\n",
    "plt.legend()\n",
    "plt.show()"
   ]
  },
  {
   "cell_type": "code",
   "execution_count": null,
   "metadata": {},
   "outputs": [],
   "source": [
    "print('MAPE прогнозной модели составила : составила {0:.2f} процента'.format(mape(TDZ_new_13[24:].values, model.predict('2020-01-01','2021-05-01').values)))\n",
    "print('Прогноз среднего изменения ПДЗ на июль-сентябрь 2021 года к маю 2021 : составит {0:.2f} процента'.format((-np.mean(TDZ_new_13[-1:].values)\n",
    "                                                                              +np.mean(model.predict('2021-07-01','2021-09-01').values))/np.mean(TDZ_new_13[-1:].values)*100))"
   ]
  },
  {
   "cell_type": "code",
   "execution_count": null,
   "metadata": {},
   "outputs": [],
   "source": [
    "print('MAE прогнозной модели составила : составила {0:.2f} рублей'.format(mae(TDZ_new_13[24:].values, model.predict('2020-01-01','2021-05-01').values)))"
   ]
  },
  {
   "cell_type": "code",
   "execution_count": null,
   "metadata": {},
   "outputs": [],
   "source": [
    "fcast = model.get_forecast(4)\n",
    "print('Forecast:')\n",
    "print(fcast.predicted_mean.round(3))\n",
    "print('Confidence intervals:')\n",
    "print(fcast.conf_int().round(3))"
   ]
  },
  {
   "cell_type": "code",
   "execution_count": null,
   "metadata": {},
   "outputs": [],
   "source": [
    "pred = model.predict('2020-04-01','2021-10-01',  typ='levels')\n",
    "fcast.conf_int()['lower ТДЗ'].plot(figsize=(15,6), style = 'b--', label = 'Нижняя граница интервала')\n",
    "fcast.conf_int()['upper ТДЗ'].plot(figsize=(15,6), style = 'b--', label = 'Верхняя граница интервала')\n",
    "pred.plot(style='r--', label = 'Прогноз')\n",
    "plt.legend()\n",
    "plt.title('Прогноз на ТДЗ 13 мр_код с интервалами')\n",
    "plt.show()"
   ]
  },
  {
   "cell_type": "markdown",
   "metadata": {},
   "source": [
    "# 14 МР КОД"
   ]
  },
  {
   "cell_type": "markdown",
   "metadata": {},
   "source": [
    "## ПДЗ"
   ]
  },
  {
   "cell_type": "markdown",
   "metadata": {},
   "source": [
    "### Подбор модели"
   ]
  },
  {
   "cell_type": "code",
   "execution_count": null,
   "metadata": {},
   "outputs": [],
   "source": [
    "tsplot(PDZ_new_14, lags=12)"
   ]
  },
  {
   "cell_type": "code",
   "execution_count": null,
   "metadata": {},
   "outputs": [],
   "source": [
    "model = sm.OLS(PDZ_new_14, DZ_new_14['ПДЗ_1']).fit()\n",
    "model.summary()"
   ]
  },
  {
   "cell_type": "code",
   "execution_count": null,
   "metadata": {},
   "outputs": [],
   "source": [
    "hyp = 'ПДЗ_1 = 1'\n",
    "t_test = model.t_test(hyp)\n",
    "print(t_test)"
   ]
  },
  {
   "cell_type": "markdown",
   "metadata": {},
   "source": [
    "### Подбор ARIMA модели"
   ]
  },
  {
   "cell_type": "code",
   "execution_count": null,
   "metadata": {},
   "outputs": [],
   "source": [
    "%%time\n",
    "results = []\n",
    "best_bic = float(\"inf\")\n",
    "\n",
    "for param in tqdm(parameters_list):\n",
    "    try:\n",
    "        model=sm.tsa.statespace.SARIMAX(PDZ_new_14, order=(0, 1, param[0]), \n",
    "                                        #seasonal_order=(param[3], param[4], param[5], 12)\n",
    "                                        trend = [1,0],\n",
    "                                        enforce_stationarity=False).fit(disp=-1)\n",
    "    except ValueError:\n",
    "        print('wrong parameters:', param)\n",
    "        continue\n",
    "    bic = model.bic\n",
    "\n",
    "    if bic < best_bic and bic>-10000:\n",
    "        best_model = model\n",
    "        best_bic = bic\n",
    "        best_param = param\n",
    "        results.append([param, model.bic])\n",
    "\n",
    "warnings.filterwarnings('default')\n",
    "\n",
    "result_table = pd.DataFrame(results)\n",
    "result_table.columns = ['parameters', 'bic']\n",
    "print(result_table.sort_values(by = 'bic', ascending=True).head(10))"
   ]
  },
  {
   "cell_type": "code",
   "execution_count": null,
   "metadata": {},
   "outputs": [],
   "source": [
    "best_model.summary()"
   ]
  },
  {
   "cell_type": "code",
   "execution_count": null,
   "metadata": {},
   "outputs": [],
   "source": [
    "model=sm.tsa.statespace.SARIMAX(PDZ_new_14, order=(0, 1, [3,7,8]), \n",
    "                                        #seasonal_order=(param[3], param[4], param[5], 12)\n",
    "                                        trend = [1,0],\n",
    "                                        enforce_stationarity=False).fit(disp=-1)\n",
    "model.summary()"
   ]
  },
  {
   "cell_type": "code",
   "execution_count": null,
   "metadata": {},
   "outputs": [],
   "source": [
    "tsplot(model.resid, lags=12)"
   ]
  },
  {
   "cell_type": "markdown",
   "metadata": {},
   "source": [
    "### Графики"
   ]
  },
  {
   "cell_type": "code",
   "execution_count": null,
   "metadata": {},
   "outputs": [],
   "source": [
    "Y = PDZ_new_14[3:]\n",
    "Y_predict = model.predict('2019-04-01','2021-10-01',   typ='levels')\n",
    "Y_predict = Y_predict[3:]\n",
    "plt.figure(figsize=[20, 12])\n",
    "plt.rc('font', size=15)\n",
    "plt.title('PDZ_mr_code_14')\n",
    "plt.plot(Y_predict, 'b:', label='прогноз')\n",
    "plt.plot(Y, 'r', label='факт. значения')\n",
    "plt.legend()\n",
    "plt.show()"
   ]
  },
  {
   "cell_type": "code",
   "execution_count": null,
   "metadata": {},
   "outputs": [],
   "source": [
    "print('MAPE прогнозной модели составила : составила {0:.2f} процента'.format(mape(PDZ_new_14[24:].values, model.predict('2020-01-01','2021-05-01').values)))\n",
    "print('Прогноз среднего изменения ПДЗ на июль-сентябрь 2021 года к маю 2021 : составит {0:.2f} процента'.format((-np.mean(PDZ_new_14[-1:].values)\n",
    "                                                                              +np.mean(model.predict('2021-07-01','2021-09-01').values))/np.mean(PDZ_new_14[-1:].values)*100))"
   ]
  },
  {
   "cell_type": "code",
   "execution_count": null,
   "metadata": {},
   "outputs": [],
   "source": [
    "print('MAE прогнозной модели составила : составила {0:.2f} рублей'.format(mae(PDZ_new_14[24:].values, model.predict('2020-01-01','2021-05-01').values)))"
   ]
  },
  {
   "cell_type": "code",
   "execution_count": null,
   "metadata": {},
   "outputs": [],
   "source": [
    "fcast = model.get_forecast(4)\n",
    "print('Forecast:')\n",
    "print(fcast.predicted_mean.round(3))\n",
    "print('Confidence intervals:')\n",
    "print(fcast.conf_int().round(3))"
   ]
  },
  {
   "cell_type": "code",
   "execution_count": null,
   "metadata": {},
   "outputs": [],
   "source": [
    "pred = model.predict('2020-04-01','2021-10-01',  typ='levels')\n",
    "fcast.conf_int()['lower ПДЗ'].plot(figsize=(15,6), style = 'b--', label = 'Нижняя граница интервала')\n",
    "fcast.conf_int()['upper ПДЗ'].plot(figsize=(15,6), style = 'b--', label = 'Верхняя граница интервала')\n",
    "pred.plot(style='r--', label = 'Прогноз')\n",
    "plt.legend()\n",
    "plt.title('Прогноз на ПДЗ 14 мр_код с интервалами')\n",
    "plt.show()"
   ]
  },
  {
   "cell_type": "markdown",
   "metadata": {},
   "source": [
    "## ТДЗ"
   ]
  },
  {
   "cell_type": "markdown",
   "metadata": {},
   "source": [
    "### Подбор модели"
   ]
  },
  {
   "cell_type": "code",
   "execution_count": null,
   "metadata": {},
   "outputs": [],
   "source": [
    "tsplot(TDZ_new_14, lags=12)"
   ]
  },
  {
   "cell_type": "code",
   "execution_count": null,
   "metadata": {},
   "outputs": [],
   "source": [
    "model = sm.OLS(TDZ_new_14, DZ_new_14['ТДЗ_1']).fit()\n",
    "model.summary()"
   ]
  },
  {
   "cell_type": "code",
   "execution_count": null,
   "metadata": {},
   "outputs": [],
   "source": [
    "hyp = 'ТДЗ_1 = 1'\n",
    "t_test = model.t_test(hyp)\n",
    "print(t_test)"
   ]
  },
  {
   "cell_type": "markdown",
   "metadata": {},
   "source": [
    "### Подбор модели ARIMA"
   ]
  },
  {
   "cell_type": "code",
   "execution_count": null,
   "metadata": {},
   "outputs": [],
   "source": [
    "%%time\n",
    "results = []\n",
    "best_bic = float(\"inf\")\n",
    "\n",
    "for param in tqdm(parameters_list):\n",
    "    try:\n",
    "        model=sm.tsa.statespace.SARIMAX(TDZ_new_14, order=(0, 1, param[0]), \n",
    "                                        #seasonal_order=(param[3], param[4], param[5], 12)\n",
    "                                        trend = [0,0],\n",
    "                                        enforce_stationarity=False).fit(disp=-1)\n",
    "    except ValueError:\n",
    "        print('wrong parameters:', param)\n",
    "        continue\n",
    "    bic = model.bic\n",
    "\n",
    "    if bic < best_bic and bic>-10000:\n",
    "        best_model = model\n",
    "        best_bic = bic\n",
    "        best_param = param\n",
    "        results.append([param, model.bic])\n",
    "\n",
    "warnings.filterwarnings('default')\n",
    "\n",
    "result_table = pd.DataFrame(results)\n",
    "result_table.columns = ['parameters', 'bic']\n",
    "print(result_table.sort_values(by = 'bic', ascending=True).head(10))"
   ]
  },
  {
   "cell_type": "code",
   "execution_count": null,
   "metadata": {},
   "outputs": [],
   "source": [
    "best_model.summary()"
   ]
  },
  {
   "cell_type": "code",
   "execution_count": null,
   "metadata": {},
   "outputs": [],
   "source": [
    "model=sm.tsa.statespace.SARIMAX(TDZ_new_14, order=(0, 1, [3,6,7,9]), \n",
    "                                        #seasonal_order=(param[3], param[4], param[5], 12)\n",
    "                                        trend = [1,0],\n",
    "                                        enforce_stationarity=False).fit(disp=-1)\n",
    "model.summary()"
   ]
  },
  {
   "cell_type": "code",
   "execution_count": null,
   "metadata": {},
   "outputs": [],
   "source": [
    "tsplot(model.resid, lags=12)"
   ]
  },
  {
   "cell_type": "markdown",
   "metadata": {},
   "source": [
    "### Графики"
   ]
  },
  {
   "cell_type": "code",
   "execution_count": null,
   "metadata": {},
   "outputs": [],
   "source": [
    "Y = TDZ_new_14[3:]\n",
    "Y_predict = model.predict('2019-04-01','2021-10-01',   typ='levels')\n",
    "Y_predict = Y_predict[3:]\n",
    "plt.figure(figsize=[20, 12])\n",
    "plt.rc('font', size=15)\n",
    "plt.title('TDZ_mr_code_14')\n",
    "plt.plot(Y_predict, 'b:', label='прогноз')\n",
    "plt.plot(Y, 'r', label='факт. значения')\n",
    "plt.legend()\n",
    "plt.show()"
   ]
  },
  {
   "cell_type": "code",
   "execution_count": null,
   "metadata": {},
   "outputs": [],
   "source": [
    "print('MAPE прогнозной модели составила : составила {0:.3f} процента'.format(mape(TDZ_new_14[24:].values, model.predict('2020-01-01','2021-05-01').values)))\n",
    "print('Прогноз среднего изменения ПДЗ на июль-сентябрь 2021 года к маю 2021 : составит {0:.3f} процента'.format((-np.mean(TDZ_new_14[-1:].values)\n",
    "                                                                              +np.mean(model.predict('2021-07-01','2021-09-01').values))/np.mean(TDZ_new_14[-1:].values)*100))"
   ]
  },
  {
   "cell_type": "code",
   "execution_count": null,
   "metadata": {},
   "outputs": [],
   "source": [
    "print('MAE прогнозной модели составила : составила {0:.2f} рублей'.format(mae(TDZ_new_14[24:].values, model.predict('2020-01-01','2021-05-01').values)))"
   ]
  },
  {
   "cell_type": "code",
   "execution_count": null,
   "metadata": {},
   "outputs": [],
   "source": [
    "fcast = model.get_forecast(4)\n",
    "print('Forecast:')\n",
    "print(fcast.predicted_mean.round(3))\n",
    "print('Confidence intervals:')\n",
    "print(fcast.conf_int().round(3))"
   ]
  },
  {
   "cell_type": "code",
   "execution_count": null,
   "metadata": {},
   "outputs": [],
   "source": [
    "pred = model.predict('2020-04-01','2021-10-01',  typ='levels')\n",
    "fcast.conf_int()['lower ТДЗ'].plot(figsize=(15,6), style = 'b--', label = 'Нижняя граница интервала')\n",
    "fcast.conf_int()['upper ТДЗ'].plot(figsize=(15,6), style = 'b--', label = 'Верхняя граница интервала')\n",
    "pred.plot(style='r--', label = 'Прогноз')\n",
    "plt.legend()\n",
    "plt.title('Прогноз на ТДЗ 14 мр_код с интервалами')\n",
    "plt.show()"
   ]
  },
  {
   "cell_type": "markdown",
   "metadata": {},
   "source": [
    "# 15 МР КОД"
   ]
  },
  {
   "cell_type": "markdown",
   "metadata": {},
   "source": [
    "## ПДЗ"
   ]
  },
  {
   "cell_type": "markdown",
   "metadata": {},
   "source": [
    "### Подбор моделм"
   ]
  },
  {
   "cell_type": "code",
   "execution_count": null,
   "metadata": {},
   "outputs": [],
   "source": [
    "tsplot(PDZ_new_15, lags=12)"
   ]
  },
  {
   "cell_type": "code",
   "execution_count": null,
   "metadata": {},
   "outputs": [],
   "source": [
    "model = sm.OLS(PDZ_new_15, DZ_new_15['ПДЗ_1']).fit()\n",
    "model.summary()"
   ]
  },
  {
   "cell_type": "code",
   "execution_count": null,
   "metadata": {},
   "outputs": [],
   "source": [
    "hyp = 'ПДЗ_1 = 1'\n",
    "t_test = model.t_test(hyp)\n",
    "print(t_test)"
   ]
  },
  {
   "cell_type": "markdown",
   "metadata": {},
   "source": [
    "### Подбор ARIMA модели"
   ]
  },
  {
   "cell_type": "code",
   "execution_count": null,
   "metadata": {},
   "outputs": [],
   "source": [
    "%%time\n",
    "results = []\n",
    "best_bic = float(\"inf\")\n",
    "\n",
    "for param in tqdm(parameters_list):\n",
    "    try:\n",
    "        model=sm.tsa.statespace.SARIMAX(PDZ_new_15, order=(0, 1, param[0]), \n",
    "                                        #seasonal_order=(param[3], param[4], param[5], 12)\n",
    "                                        trend = [1,0],\n",
    "                                        enforce_stationarity=False).fit(disp=-1)\n",
    "    except ValueError:\n",
    "        print('wrong parameters:', param)\n",
    "        continue\n",
    "    bic = model.bic\n",
    "\n",
    "    if bic < best_bic and bic>-10000:\n",
    "        best_model = model\n",
    "        best_bic = bic\n",
    "        best_param = param\n",
    "        results.append([param, model.bic])\n",
    "\n",
    "warnings.filterwarnings('default')\n",
    "\n",
    "result_table = pd.DataFrame(results)\n",
    "result_table.columns = ['parameters', 'bic']\n",
    "print(result_table.sort_values(by = 'bic', ascending=True).head(10))"
   ]
  },
  {
   "cell_type": "code",
   "execution_count": null,
   "metadata": {},
   "outputs": [],
   "source": [
    "best_model.summary()"
   ]
  },
  {
   "cell_type": "code",
   "execution_count": null,
   "metadata": {},
   "outputs": [],
   "source": [
    "model=sm.tsa.statespace.SARIMAX(PDZ_new_15, order=(0, 1, [1,2,5,6,7,8]), \n",
    "                                        #seasonal_order=(param[3], param[4], param[5], 12)\n",
    "                                        trend = [1,0],\n",
    "                                        enforce_stationarity=False).fit(disp=-1)\n",
    "model.summary()"
   ]
  },
  {
   "cell_type": "markdown",
   "metadata": {},
   "source": [
    "### Графики"
   ]
  },
  {
   "cell_type": "code",
   "execution_count": null,
   "metadata": {},
   "outputs": [],
   "source": [
    "Y = PDZ_new_15[3:]\n",
    "Y_predict = model.predict('2019-04-01','2021-10-01',   typ='levels')\n",
    "Y_predict = Y_predict[3:]\n",
    "plt.figure(figsize=[20, 12])\n",
    "plt.rc('font', size=15)\n",
    "plt.title('PDZ_mr_code_15')\n",
    "plt.plot(Y_predict, 'b:', label='прогноз')\n",
    "plt.plot(Y, 'r', label='факт. значения')\n",
    "plt.legend()\n",
    "plt.show()"
   ]
  },
  {
   "cell_type": "code",
   "execution_count": null,
   "metadata": {},
   "outputs": [],
   "source": [
    "print('MAPE прогнозной модели составила : составила {0:.2f} процента'.format(mape(PDZ_new_15[24:].values, model.predict('2020-01-01','2021-05-01').values)))\n",
    "print('Прогноз среднего изменения ПДЗ на июль-сентябрь 2021 года к маю 2021 : составит {0:.2f} процента'.format((-np.mean(PDZ_new_15[-1:].values)\n",
    "                                                                              +np.mean(model.predict('2021-07-01','2021-09-01').values))/np.mean(PDZ_new_15[-1:].values)*100))"
   ]
  },
  {
   "cell_type": "code",
   "execution_count": null,
   "metadata": {},
   "outputs": [],
   "source": [
    "print('MAE прогнозной модели составила : составила {0:.2f} рублей'.format(mae(PDZ_new_15[24:].values, model.predict('2020-01-01','2021-05-01').values)))"
   ]
  },
  {
   "cell_type": "code",
   "execution_count": null,
   "metadata": {},
   "outputs": [],
   "source": [
    "fcast = model.get_forecast(4)\n",
    "print('Forecast:')\n",
    "print(fcast.predicted_mean.round(3))\n",
    "print('Confidence intervals:')\n",
    "print(fcast.conf_int().round(3))"
   ]
  },
  {
   "cell_type": "code",
   "execution_count": null,
   "metadata": {},
   "outputs": [],
   "source": [
    "pred = model.predict('2020-04-01','2021-10-01',  typ='levels')\n",
    "fcast.conf_int()['lower ПДЗ'].plot(figsize=(15,6), style = 'b--', label = 'Нижняя граница интервала')\n",
    "fcast.conf_int()['upper ПДЗ'].plot(figsize=(15,6), style = 'b--', label = 'Верхняя граница интервала')\n",
    "pred.plot(style='r--', label = 'Прогноз')\n",
    "plt.legend()\n",
    "plt.title('Прогноз на ПДЗ 15 мр_код с интервалами')\n",
    "plt.show()"
   ]
  },
  {
   "cell_type": "markdown",
   "metadata": {},
   "source": [
    "## ТДЗ"
   ]
  },
  {
   "cell_type": "markdown",
   "metadata": {},
   "source": [
    "### Подбор модели"
   ]
  },
  {
   "cell_type": "code",
   "execution_count": null,
   "metadata": {},
   "outputs": [],
   "source": [
    "tsplot(TDZ_new_15, lags=12)"
   ]
  },
  {
   "cell_type": "code",
   "execution_count": null,
   "metadata": {},
   "outputs": [],
   "source": [
    "model = sm.OLS(TDZ_new_15, DZ_new_15['ТДЗ_1']).fit()\n",
    "model.summary()"
   ]
  },
  {
   "cell_type": "code",
   "execution_count": null,
   "metadata": {},
   "outputs": [],
   "source": [
    "hyp = 'ТДЗ_1 = 1'\n",
    "t_test = model.t_test(hyp)\n",
    "print(t_test)"
   ]
  },
  {
   "cell_type": "markdown",
   "metadata": {},
   "source": [
    "### Подбор ARIMA модели"
   ]
  },
  {
   "cell_type": "code",
   "execution_count": null,
   "metadata": {},
   "outputs": [],
   "source": [
    "%%time\n",
    "results = []\n",
    "best_bic = float(\"inf\")\n",
    "\n",
    "for param in tqdm(parameters_list):\n",
    "    try:\n",
    "        model=sm.tsa.statespace.SARIMAX(TDZ_new_15, order=(0, 1, param[0]), \n",
    "                                        #seasonal_order=(param[3], param[4], param[5], 12)\n",
    "                                        trend = [1,0],\n",
    "                                        enforce_stationarity=False).fit(disp=-1)\n",
    "    except ValueError:\n",
    "        print('wrong parameters:', param)\n",
    "        continue\n",
    "    bic = model.bic\n",
    "\n",
    "    if bic < best_bic and bic>-10000:\n",
    "        best_model = model\n",
    "        best_bic = bic\n",
    "        best_param = param\n",
    "        results.append([param, model.bic])\n",
    "\n",
    "warnings.filterwarnings('default')\n",
    "\n",
    "result_table = pd.DataFrame(results)\n",
    "result_table.columns = ['parameters', 'bic']\n",
    "print(result_table.sort_values(by = 'bic', ascending=True).head(10))"
   ]
  },
  {
   "cell_type": "code",
   "execution_count": null,
   "metadata": {},
   "outputs": [],
   "source": [
    "best_model.summary()"
   ]
  },
  {
   "cell_type": "code",
   "execution_count": null,
   "metadata": {},
   "outputs": [],
   "source": [
    "model=sm.tsa.statespace.SARIMAX(TDZ_new_15, order=(0, 1, [1,3,6,8,9]), \n",
    "                                        #seasonal_order=(param[3], param[4], param[5], 12)\n",
    "                                        trend = [1,0],\n",
    "                                        enforce_stationarity=False).fit(disp=-1)\n",
    "model.summary()"
   ]
  },
  {
   "cell_type": "code",
   "execution_count": null,
   "metadata": {},
   "outputs": [],
   "source": [
    "tsplot(model.resid, lags=12)"
   ]
  },
  {
   "cell_type": "markdown",
   "metadata": {},
   "source": [
    "### Графики"
   ]
  },
  {
   "cell_type": "code",
   "execution_count": null,
   "metadata": {},
   "outputs": [],
   "source": [
    "Y = TDZ_new_15[3:]\n",
    "Y_predict = model.predict('2019-04-01','2021-10-01',   typ='levels')\n",
    "Y_predict = Y_predict[3:]\n",
    "plt.figure(figsize=[20, 12])\n",
    "plt.rc('font', size=15)\n",
    "plt.title('TDZ_mr_code_15')\n",
    "plt.plot(Y_predict, 'b:', label='прогноз')\n",
    "plt.plot(Y, 'r', label='факт. значения')\n",
    "plt.legend()\n",
    "plt.show()"
   ]
  },
  {
   "cell_type": "code",
   "execution_count": null,
   "metadata": {},
   "outputs": [],
   "source": [
    "print('MAPE прогнозной модели составила : составила {0:.2f} процента'.format(mape(TDZ_new_15[24:].values, model.predict('2020-01-01','2021-05-01').values)))\n",
    "print('Прогноз среднего изменения ПДЗ на июль-сентябрь 2021 года к маю 2021 : составит {0:.2f} процента'.format((-np.mean(TDZ_new_15[-1:].values)\n",
    "                                                                              +np.mean(model.predict('2021-07-01','2021-09-01').values))/np.mean(TDZ_new_15[-1:].values)*100))"
   ]
  },
  {
   "cell_type": "code",
   "execution_count": null,
   "metadata": {},
   "outputs": [],
   "source": [
    "print('MAE прогнозной модели составила : составила {0:.2f} рублей'.format(mae(TDZ_new_15[24:].values, model.predict('2020-01-01','2021-05-01').values)))"
   ]
  },
  {
   "cell_type": "code",
   "execution_count": null,
   "metadata": {},
   "outputs": [],
   "source": [
    "fcast = model.get_forecast(4)\n",
    "print('Forecast:')\n",
    "print(fcast.predicted_mean.round(3))\n",
    "print('Confidence intervals:')\n",
    "print(fcast.conf_int().round(3))"
   ]
  },
  {
   "cell_type": "code",
   "execution_count": null,
   "metadata": {},
   "outputs": [],
   "source": [
    "pred = model.predict('2020-04-01','2021-10-01',  typ='levels')\n",
    "fcast.conf_int()['lower ТДЗ'].plot(figsize=(15,6), style = 'b--', label = 'Нижняя граница интервала')\n",
    "fcast.conf_int()['upper ТДЗ'].plot(figsize=(15,6), style = 'b--', label = 'Верхняя граница интервала')\n",
    "pred.plot(style='r--', label = 'Прогноз')\n",
    "plt.legend()\n",
    "plt.title('Прогноз на ТДЗ 15 мр_код с интервалами')\n",
    "plt.show()"
   ]
  },
  {
   "cell_type": "markdown",
   "metadata": {},
   "source": [
    "# 16 МР КОД"
   ]
  },
  {
   "cell_type": "markdown",
   "metadata": {},
   "source": [
    "## ПДЗ"
   ]
  },
  {
   "cell_type": "markdown",
   "metadata": {},
   "source": [
    "### Подбор модели"
   ]
  },
  {
   "cell_type": "code",
   "execution_count": null,
   "metadata": {},
   "outputs": [],
   "source": [
    "tsplot(PDZ_new_16, lags=12)"
   ]
  },
  {
   "cell_type": "code",
   "execution_count": null,
   "metadata": {},
   "outputs": [],
   "source": [
    "model = sm.OLS(PDZ_new_16, DZ_new_16['ПДЗ_1']).fit()\n",
    "model.summary()"
   ]
  },
  {
   "cell_type": "code",
   "execution_count": null,
   "metadata": {},
   "outputs": [],
   "source": [
    "tsplot(model.resid, lags=12)"
   ]
  },
  {
   "cell_type": "code",
   "execution_count": null,
   "metadata": {},
   "outputs": [],
   "source": [
    "hyp = 'ПДЗ_1 = 1'\n",
    "t_test = model.t_test(hyp)\n",
    "print(t_test)"
   ]
  },
  {
   "cell_type": "markdown",
   "metadata": {},
   "source": [
    "### Подбор ARIMA модели"
   ]
  },
  {
   "cell_type": "code",
   "execution_count": null,
   "metadata": {},
   "outputs": [],
   "source": [
    "%%time\n",
    "results = []\n",
    "best_bic = float(\"inf\")\n",
    "\n",
    "for param in tqdm(parameters_list):\n",
    "    try:\n",
    "        model=sm.tsa.statespace.SARIMAX(PDZ_new_16, order=(0, 1, param[0]), \n",
    "                                        #seasonal_order=(param[3], param[4], param[5], 12)\n",
    "                                        trend = [1,0],\n",
    "                                        enforce_stationarity=False).fit(disp=-1)\n",
    "    except ValueError:\n",
    "        print('wrong parameters:', param)\n",
    "        continue\n",
    "    bic = model.bic\n",
    "\n",
    "    if bic < best_bic and bic>-10000:\n",
    "        best_model = model\n",
    "        best_bic = bic\n",
    "        best_param = param\n",
    "        results.append([param, model.bic])\n",
    "\n",
    "warnings.filterwarnings('default')\n",
    "\n",
    "result_table = pd.DataFrame(results)\n",
    "result_table.columns = ['parameters', 'bic']\n",
    "print(result_table.sort_values(by = 'bic', ascending=True).head(10))"
   ]
  },
  {
   "cell_type": "code",
   "execution_count": null,
   "metadata": {},
   "outputs": [],
   "source": [
    "best_model.summary()"
   ]
  },
  {
   "cell_type": "code",
   "execution_count": null,
   "metadata": {},
   "outputs": [],
   "source": [
    "model=sm.tsa.statespace.SARIMAX(PDZ_new_16, order=(0, 1, [1,6]), \n",
    "                                        #seasonal_order=(param[3], param[4], param[5], 12)\n",
    "                                        trend = [1,0],\n",
    "                                        enforce_stationarity=False).fit(disp=-1)\n",
    "model.summary()"
   ]
  },
  {
   "cell_type": "code",
   "execution_count": null,
   "metadata": {},
   "outputs": [],
   "source": [
    "tsplot(model.resid, lags=12)"
   ]
  },
  {
   "cell_type": "markdown",
   "metadata": {},
   "source": [
    "### Графики"
   ]
  },
  {
   "cell_type": "code",
   "execution_count": null,
   "metadata": {},
   "outputs": [],
   "source": [
    "Y = PDZ_new_16[3:]\n",
    "Y_predict = model.predict('2019-04-01','2021-10-01',   typ='levels')\n",
    "Y_predict = Y_predict[3:]\n",
    "plt.figure(figsize=[20, 12])\n",
    "plt.rc('font', size=15)\n",
    "plt.title('PDZ_mr_code_16')\n",
    "plt.plot(Y_predict, 'b:', label='прогноз')\n",
    "plt.plot(Y, 'r', label='факт. значения')\n",
    "plt.legend()\n",
    "plt.show()"
   ]
  },
  {
   "cell_type": "code",
   "execution_count": null,
   "metadata": {},
   "outputs": [],
   "source": [
    "print('MAPE прогнозной модели составила : составила {0:.2f} процента'.format(mape(PDZ_new_16[24:].values, model.predict('2020-01-01','2021-05-01').values)))\n",
    "print('Прогноз среднего изменения ПДЗ на июль-сентябрь 2021 года к маю 2021 : составит {0:.2f} процента'.format((-np.mean(PDZ_new_16[-1:].values)\n",
    "                                                                              +np.mean(model.predict('2021-07-01','2021-09-01').values))/np.mean(PDZ_new_16[-1:].values)*100))"
   ]
  },
  {
   "cell_type": "code",
   "execution_count": null,
   "metadata": {},
   "outputs": [],
   "source": [
    "print('MAE прогнозной модели составила : составила {0:.2f} рублей'.format(mae(PDZ_new_16[24:].values, model.predict('2020-01-01','2021-05-01').values)))"
   ]
  },
  {
   "cell_type": "code",
   "execution_count": null,
   "metadata": {},
   "outputs": [],
   "source": [
    "fcast = model.get_forecast(4)\n",
    "print('Forecast:')\n",
    "print(fcast.predicted_mean.round(3))\n",
    "print('Confidence intervals:')\n",
    "print(fcast.conf_int().round(3))"
   ]
  },
  {
   "cell_type": "code",
   "execution_count": null,
   "metadata": {},
   "outputs": [],
   "source": [
    "pred = model.predict('2020-04-01','2021-10-01',  typ='levels')\n",
    "fcast.conf_int()['lower ПДЗ'].plot(figsize=(15,6), style = 'b--', label = 'Нижняя граница интервала')\n",
    "fcast.conf_int()['upper ПДЗ'].plot(figsize=(15,6), style = 'b--', label = 'Верхняя граница интервала')\n",
    "pred.plot(style='r--', label = 'Прогноз')\n",
    "plt.legend()\n",
    "plt.title('Прогноз на ПДЗ 16 мр_код с интервалами')\n",
    "plt.show()"
   ]
  },
  {
   "cell_type": "markdown",
   "metadata": {},
   "source": [
    "## ТДЗ"
   ]
  },
  {
   "cell_type": "markdown",
   "metadata": {},
   "source": [
    "### ТДЗ подбор модели"
   ]
  },
  {
   "cell_type": "code",
   "execution_count": null,
   "metadata": {},
   "outputs": [],
   "source": [
    "tsplot(TDZ_new_16, lags=12)"
   ]
  },
  {
   "cell_type": "code",
   "execution_count": null,
   "metadata": {},
   "outputs": [],
   "source": [
    "model = sm.OLS(TDZ_new_16, DZ_new_16['ТДЗ_1']).fit()\n",
    "model.summary()"
   ]
  },
  {
   "cell_type": "code",
   "execution_count": null,
   "metadata": {},
   "outputs": [],
   "source": [
    "hyp = 'ТДЗ_1 = 1'\n",
    "t_test = model.t_test(hyp)\n",
    "print(t_test)"
   ]
  },
  {
   "cell_type": "markdown",
   "metadata": {},
   "source": [
    "### Подбор модели ARIMA"
   ]
  },
  {
   "cell_type": "code",
   "execution_count": null,
   "metadata": {},
   "outputs": [],
   "source": [
    "%%time\n",
    "results = []\n",
    "best_bic = float(\"inf\")\n",
    "\n",
    "for param in tqdm(parameters_list):\n",
    "    try:\n",
    "        model=sm.tsa.statespace.SARIMAX(TDZ_new_16, order=(0, 1, param[0]), \n",
    "                                        #seasonal_order=(param[3], param[4], param[5], 12)\n",
    "                                        trend = [1,0],\n",
    "                                        enforce_stationarity=False).fit(disp=-1)\n",
    "    except ValueError:\n",
    "        print('wrong parameters:', param)\n",
    "        continue\n",
    "    bic = model.bic\n",
    "\n",
    "    if bic < best_bic and bic>-10000:\n",
    "        best_model = model\n",
    "        best_bic = bic\n",
    "        best_param = param\n",
    "        results.append([param, model.bic])\n",
    "\n",
    "warnings.filterwarnings('default')\n",
    "\n",
    "result_table = pd.DataFrame(results)\n",
    "result_table.columns = ['parameters', 'bic']\n",
    "print(result_table.sort_values(by = 'bic', ascending=True).head(10))"
   ]
  },
  {
   "cell_type": "code",
   "execution_count": null,
   "metadata": {},
   "outputs": [],
   "source": [
    "best_model.summary()"
   ]
  },
  {
   "cell_type": "code",
   "execution_count": null,
   "metadata": {},
   "outputs": [],
   "source": [
    "model=sm.tsa.statespace.SARIMAX(TDZ_new_16, order=(0, 1, [5,9]), \n",
    "                                        #seasonal_order=(param[3], param[4], param[5], 12)\n",
    "                                        trend = [1,0],\n",
    "                                        enforce_stationarity=False).fit(disp=-1)\n",
    "model.summary()"
   ]
  },
  {
   "cell_type": "code",
   "execution_count": null,
   "metadata": {},
   "outputs": [],
   "source": [
    "tsplot(model.resid, lags=12)"
   ]
  },
  {
   "cell_type": "markdown",
   "metadata": {},
   "source": [
    "### Графики"
   ]
  },
  {
   "cell_type": "code",
   "execution_count": null,
   "metadata": {},
   "outputs": [],
   "source": [
    "Y = TDZ_new_16[3:]\n",
    "Y_predict = model.predict('2019-04-01','2021-10-01',   typ='levels')\n",
    "Y_predict = Y_predict[3:]\n",
    "plt.figure(figsize=[20, 12])\n",
    "plt.rc('font', size=15)\n",
    "plt.title('TDZ_mr_code_16')\n",
    "plt.plot(Y_predict, 'b:', label='прогноз')\n",
    "plt.plot(Y, 'r', label='факт. значения')\n",
    "plt.legend()\n",
    "plt.show()"
   ]
  },
  {
   "cell_type": "code",
   "execution_count": null,
   "metadata": {},
   "outputs": [],
   "source": [
    "print('MAPE прогнозной модели составила : составила {0:.2f} процента'.format(mape(TDZ_new_16[24:].values, model.predict('2020-01-01','2021-05-01').values)))\n",
    "print('Прогноз среднего изменения ПДЗ на июль-сентябрь 2021 года к маю 2021 : составит {0:.2f} процента'.format((-np.mean(TDZ_new_16[-1:].values)\n",
    "                                                                              +np.mean(model.predict('2021-07-01','2021-09-01').values))/np.mean(TDZ_new_16[-1:].values)*100))"
   ]
  },
  {
   "cell_type": "code",
   "execution_count": null,
   "metadata": {},
   "outputs": [],
   "source": [
    "print('MAE прогнозной модели составила : составила {0:.2f} рублей'.format(mae(TDZ_new_16[24:].values, model.predict('2020-01-01','2021-05-01').values)))"
   ]
  },
  {
   "cell_type": "code",
   "execution_count": null,
   "metadata": {},
   "outputs": [],
   "source": [
    "fcast = model.get_forecast(4)\n",
    "print('Forecast:')\n",
    "print(fcast.predicted_mean.round(3))\n",
    "print('Confidence intervals:')\n",
    "print(fcast.conf_int().round(3))"
   ]
  },
  {
   "cell_type": "code",
   "execution_count": null,
   "metadata": {},
   "outputs": [],
   "source": [
    "pred = model.predict('2020-04-01','2021-10-01',  typ='levels')\n",
    "fcast.conf_int()['lower ТДЗ'].plot(figsize=(15,6), style = 'b--', label = 'Нижняя граница интервала')\n",
    "fcast.conf_int()['upper ТДЗ'].plot(figsize=(15,6), style = 'b--', label = 'Верхняя граница интервала')\n",
    "pred.plot(style='r--', label = 'Прогноз')\n",
    "plt.legend()\n",
    "plt.title('Прогноз на ТДЗ 16 мр_код с интервалами')\n",
    "plt.show()"
   ]
  },
  {
   "cell_type": "markdown",
   "metadata": {},
   "source": [
    "# 17 МР КОД"
   ]
  },
  {
   "cell_type": "markdown",
   "metadata": {},
   "source": [
    "## ПДЗ"
   ]
  },
  {
   "cell_type": "markdown",
   "metadata": {},
   "source": [
    "### Подбор модели"
   ]
  },
  {
   "cell_type": "code",
   "execution_count": null,
   "metadata": {},
   "outputs": [],
   "source": [
    "tsplot(PDZ_new_17, lags=12)"
   ]
  },
  {
   "cell_type": "code",
   "execution_count": null,
   "metadata": {},
   "outputs": [],
   "source": [
    "model = sm.OLS(PDZ_new_17, DZ_new_17['ПДЗ_1']).fit()\n",
    "model.summary()"
   ]
  },
  {
   "cell_type": "code",
   "execution_count": null,
   "metadata": {},
   "outputs": [],
   "source": [
    "tsplot(model.resid, lags=12)"
   ]
  },
  {
   "cell_type": "markdown",
   "metadata": {},
   "source": [
    "### Подбор ARIMA модели"
   ]
  },
  {
   "cell_type": "code",
   "execution_count": null,
   "metadata": {},
   "outputs": [],
   "source": [
    "%%time\n",
    "results = []\n",
    "best_bic = float(\"inf\")\n",
    "\n",
    "for param in tqdm(parameters_list):\n",
    "    try:\n",
    "        model=sm.tsa.statespace.SARIMAX(PDZ_new_17, order=(0, 1, param[0]), \n",
    "                                        #seasonal_order=(param[3], param[4], param[5], 12)\n",
    "                                        trend = [1,0],\n",
    "                                        enforce_stationarity=False).fit(disp=-1)\n",
    "    except ValueError:\n",
    "        print('wrong parameters:', param)\n",
    "        continue\n",
    "    bic = model.bic\n",
    "\n",
    "    if bic < best_bic and bic>-10000:\n",
    "        best_model = model\n",
    "        best_bic = bic\n",
    "        best_param = param\n",
    "        results.append([param, model.bic])\n",
    "\n",
    "warnings.filterwarnings('default')\n",
    "\n",
    "result_table = pd.DataFrame(results)\n",
    "result_table.columns = ['parameters', 'bic']\n",
    "print(result_table.sort_values(by = 'bic', ascending=True).head(10))"
   ]
  },
  {
   "cell_type": "code",
   "execution_count": null,
   "metadata": {},
   "outputs": [],
   "source": [
    "best_model.summary()"
   ]
  },
  {
   "cell_type": "code",
   "execution_count": null,
   "metadata": {},
   "outputs": [],
   "source": [
    "model=sm.tsa.statespace.SARIMAX(PDZ_new_17, order=(0, 1, [2,5,6,7] ), \n",
    "                                        #seasonal_order=(param[3], param[4], param[5], 12)\n",
    "                                        trend = [1,0],\n",
    "                                        enforce_stationarity=False).fit(disp=-1)\n",
    "model.summary()"
   ]
  },
  {
   "cell_type": "markdown",
   "metadata": {},
   "source": [
    "### Графики"
   ]
  },
  {
   "cell_type": "code",
   "execution_count": null,
   "metadata": {},
   "outputs": [],
   "source": [
    "Y = PDZ_new_17[3:]\n",
    "Y_predict = model.predict('2019-04-01','2021-10-01',   typ='levels')\n",
    "Y_predict = Y_predict[3:]\n",
    "plt.figure(figsize=[20, 12])\n",
    "plt.rc('font', size=15)\n",
    "plt.title('PDZ_mr_code_16')\n",
    "plt.plot(Y_predict, 'b:', label='прогноз')\n",
    "plt.plot(Y, 'r', label='факт. значения')\n",
    "plt.legend()\n",
    "plt.show()"
   ]
  },
  {
   "cell_type": "code",
   "execution_count": null,
   "metadata": {},
   "outputs": [],
   "source": [
    "print('MAPE прогнозной модели составила : составила {0:.2f} процента'.format(mape(PDZ_new_17[24:].values, model.predict('2020-01-01','2021-05-01').values)))\n",
    "print('Прогноз среднего изменения ПДЗ на июль-сентябрь 2021 года к маю 2021 : составит {0:.2f} процента'.format((-np.mean(PDZ_new_17[-1:].values)\n",
    "                                                                              +np.mean(model.predict('2021-07-01','2021-09-01').values))/np.mean(PDZ_new_17[-1:].values)*100))"
   ]
  },
  {
   "cell_type": "code",
   "execution_count": null,
   "metadata": {},
   "outputs": [],
   "source": [
    "print('MAE прогнозной модели составила : составила {0:.2f} рублей'.format(mae(PDZ_new_17[24:].values, model.predict('2020-01-01','2021-05-01').values)))"
   ]
  },
  {
   "cell_type": "code",
   "execution_count": null,
   "metadata": {},
   "outputs": [],
   "source": [
    "fcast = model.get_forecast(4)\n",
    "print('Forecast:')\n",
    "print(fcast.predicted_mean.round(3))\n",
    "print('Confidence intervals:')\n",
    "print(fcast.conf_int().round(3))"
   ]
  },
  {
   "cell_type": "code",
   "execution_count": null,
   "metadata": {},
   "outputs": [],
   "source": [
    "pred = model.predict('2020-04-01','2021-10-01',  typ='levels')\n",
    "fcast.conf_int()['lower ПДЗ'].plot(figsize=(15,6), style = 'b--', label = 'Нижняя граница интервала')\n",
    "fcast.conf_int()['upper ПДЗ'].plot(figsize=(15,6), style = 'b--', label = 'Верхняя граница интервала')\n",
    "pred.plot(style='r--', label = 'Прогноз')\n",
    "plt.legend()\n",
    "plt.title('Прогноз на ПДЗ 17 мр_код с интервалами')\n",
    "plt.show()"
   ]
  },
  {
   "cell_type": "markdown",
   "metadata": {},
   "source": [
    "## ТДЗ"
   ]
  },
  {
   "cell_type": "markdown",
   "metadata": {},
   "source": [
    "### Подбор модели"
   ]
  },
  {
   "cell_type": "code",
   "execution_count": null,
   "metadata": {},
   "outputs": [],
   "source": [
    "tsplot(TDZ_new_17, lags=12)"
   ]
  },
  {
   "cell_type": "code",
   "execution_count": null,
   "metadata": {},
   "outputs": [],
   "source": [
    "model = sm.OLS(TDZ_new_17, DZ_new_17['ТДЗ_1']).fit()\n",
    "model.summary()"
   ]
  },
  {
   "cell_type": "code",
   "execution_count": null,
   "metadata": {},
   "outputs": [],
   "source": [
    "tsplot(model.resid, lags=12)"
   ]
  },
  {
   "cell_type": "markdown",
   "metadata": {},
   "source": [
    "### Подбор модели ARIMA"
   ]
  },
  {
   "cell_type": "code",
   "execution_count": null,
   "metadata": {},
   "outputs": [],
   "source": [
    "%%time\n",
    "results = []\n",
    "best_bic = float(\"inf\")\n",
    "\n",
    "for param in tqdm(parameters_list):\n",
    "    try:\n",
    "        model=sm.tsa.statespace.SARIMAX(TDZ_new_17, order=(0, 1, param[0]), \n",
    "                                        #seasonal_order=(param[3], param[4], param[5], 12)\n",
    "                                        trend = [1,1],\n",
    "                                        enforce_stationarity=False).fit(disp=-1)\n",
    "    except ValueError:\n",
    "        print('wrong parameters:', param)\n",
    "        continue\n",
    "    bic = model.bic\n",
    "\n",
    "    if bic < best_bic and bic>-10000:\n",
    "        best_model = model\n",
    "        best_bic = bic\n",
    "        best_param = param\n",
    "        results.append([param, model.bic])\n",
    "\n",
    "warnings.filterwarnings('default')\n",
    "\n",
    "result_table = pd.DataFrame(results)\n",
    "result_table.columns = ['parameters', 'bic']\n",
    "print(result_table.sort_values(by = 'bic', ascending=True).head(10))"
   ]
  },
  {
   "cell_type": "code",
   "execution_count": null,
   "metadata": {},
   "outputs": [],
   "source": [
    "best_model.summary()"
   ]
  },
  {
   "cell_type": "code",
   "execution_count": null,
   "metadata": {},
   "outputs": [],
   "source": [
    "model=sm.tsa.statespace.SARIMAX(TDZ_new_17, order=(0, 1, [2,3,6,8]), \n",
    "                                        #seasonal_order=(param[3], param[4], param[5], 12)\n",
    "                                        trend = [1,0],\n",
    "                                        enforce_stationarity=False).fit(disp=-1)\n",
    "model.summary()"
   ]
  },
  {
   "cell_type": "markdown",
   "metadata": {},
   "source": [
    "### Графики"
   ]
  },
  {
   "cell_type": "code",
   "execution_count": null,
   "metadata": {},
   "outputs": [],
   "source": [
    "Y = TDZ_new_17[3:]\n",
    "Y_predict = model.predict('2019-04-01','2021-10-01',   typ='levels')\n",
    "Y_predict = Y_predict[3:]\n",
    "plt.figure(figsize=[20, 12])\n",
    "plt.rc('font', size=15)\n",
    "plt.title('TDZ_mr_code_17')\n",
    "plt.plot(Y_predict, 'b:', label='прогноз')\n",
    "plt.plot(Y, 'r', label='факт. значения')\n",
    "plt.legend()\n",
    "plt.show()"
   ]
  },
  {
   "cell_type": "code",
   "execution_count": null,
   "metadata": {},
   "outputs": [],
   "source": [
    "print('MAPE прогнозной модели составила : составила {0:.2f} процента'.format(mape(TDZ_new_17[24:].values, model.predict('2020-01-01','2021-05-01').values)))\n",
    "print('Прогноз среднего изменения ПДЗ на июль-сентябрь 2021 года к маю 2021 : составит {0:.2f} процента'.format((-np.mean(TDZ_new_17[-1:].values)\n",
    "                                                                              +np.mean(model.predict('2021-07-01','2021-09-01').values))/np.mean(TDZ_new_17[-1:].values)*100))"
   ]
  },
  {
   "cell_type": "code",
   "execution_count": null,
   "metadata": {},
   "outputs": [],
   "source": [
    "print('MAE прогнозной модели составила : составила {0:.2f} рублей'.format(mae(TDZ_new_17[24:].values, model.predict('2020-01-01','2021-05-01').values)))"
   ]
  },
  {
   "cell_type": "code",
   "execution_count": null,
   "metadata": {},
   "outputs": [],
   "source": [
    "fcast = model.get_forecast(4)\n",
    "print('Forecast:')\n",
    "print(fcast.predicted_mean.round(3))\n",
    "print('Confidence intervals:')\n",
    "print(fcast.conf_int().round(3))"
   ]
  },
  {
   "cell_type": "code",
   "execution_count": null,
   "metadata": {},
   "outputs": [],
   "source": [
    "pred = model.predict('2020-04-01','2021-10-01',  typ='levels')\n",
    "fcast.conf_int()['lower ТДЗ'].plot(figsize=(15,6), style = 'b--', label = 'Нижняя граница интервала')\n",
    "fcast.conf_int()['upper ТДЗ'].plot(figsize=(15,6), style = 'b--', label = 'Верхняя граница интервала')\n",
    "pred.plot(style='r--', label = 'Прогноз')\n",
    "plt.legend()\n",
    "plt.title('Прогноз на ТДЗ 16 мр_код с интервалами')\n",
    "plt.show()"
   ]
  },
  {
   "cell_type": "markdown",
   "metadata": {},
   "source": [
    "# Гипотеза о векторной связи рядов, далее будут подобраны VAR и VECM модели"
   ]
  },
  {
   "cell_type": "markdown",
   "metadata": {},
   "source": [
    "## Создание обычных месячных сезонных переменных"
   ]
  },
  {
   "cell_type": "code",
   "execution_count": null,
   "metadata": {},
   "outputs": [],
   "source": [
    "May = [1,0,0,0,0,0,0,0,0,0,0,0,1,0,0,0,0,0,0,0,0,0,0,0,1,0,0,0,0,0,0,0,0,0,0,0,1,0,0,0,0]\n",
    "June = [0,1,0,0,0,0,0,0,0,0,0,0,0,1,0,0,0,0,0,0,0,0,0,0,0,1,0,0,0,0,0,0,0,0,0,0,0,1,0,0,0]\n",
    "July = [0,0,1,0,0,0,0,0,0,0,0,0,0,0,1,0,0,0,0,0,0,0,0,0,0,0,1,0,0,0,0,0,0,0,0,0,0,0,1,0,0]\n",
    "August = [0,0,0,1,0,0,0,0,0,0,0,0,0,0,0,1,0,0,0,0,0,0,0,0,0,0,0,1,0,0,0,0,0,0,0,0,0,0,0,1,0]\n",
    "Sept = [0,0,0,0,1,0,0,0,0,0,0,0,0,0,0,0,1,0,0,0,0,0,0,0,0,0,0,0,1,0,0,0,0,0,0,0,0,0,0,0,1]\n",
    "Oct = [0,0,0,0,0,1,0,0,0,0,0,0,0,0,0,0,0,1,0,0,0,0,0,0,0,0,0,0,0,1,0,0,0,0,0,0,0,0,0,0,0]\n",
    "Nov = [0,0,0,0,0,0,1,0,0,0,0,0,0,0,0,0,0,0,1,0,0,0,0,0,0,0,0,0,0,0,1,0,0,0,0,0,0,0,0,0,0]\n",
    "Dec = [0,0,0,0,0,0,0,1,0,0,0,0,0,0,0,0,0,0,0,1,0,0,0,0,0,0,0,0,0,0,0,1,0,0,0,0,0,0,0,0,0]\n",
    "Jan = [0,0,0,0,0,0,0,0,1,0,0,0,0,0,0,0,0,0,0,0,1,0,0,0,0,0,0,0,0,0,0,0,1,0,0,0,0,0,0,0,0]\n",
    "Feb = [0,0,0,0,0,0,0,0,0,1,0,0,0,0,0,0,0,0,0,0,0,1,0,0,0,0,0,0,0,0,0,0,0,1,0,0,0,0,0,0,0]\n",
    "March = [0,0,0,0,0,0,0,0,0,0,1,0,0,0,0,0,0,0,0,0,0,0,1,0,0,0,0,0,0,0,0,0,0,0,1,0,0,0,0,0,0]\n",
    "April = [0,0,0,0,0,0,0,0,0,0,0,1,0,0,0,0,0,0,0,0,0,0,0,1,0,0,0,0,0,0,0,0,0,0,0,1,0,0,0,0,0]\n",
    "Month = [May, June,July, August, Sept, Oct,Nov,Dec,Jan,Feb,March]"
   ]
  },
  {
   "cell_type": "code",
   "execution_count": null,
   "metadata": {},
   "outputs": [],
   "source": [
    "tsplot(DZ['ТДЗ'].diff().fillna(0), lags=10)"
   ]
  },
  {
   "cell_type": "markdown",
   "metadata": {},
   "source": [
    "## Создание экзогенной трендовой переменной на количество наблюдений"
   ]
  },
  {
   "cell_type": "code",
   "execution_count": null,
   "metadata": {},
   "outputs": [],
   "source": [
    "t = []\n",
    "const = []\n",
    "for i in range(0,100):\n",
    "    t.append(i)\n",
    "    const.append(1)\n",
    "\n"
   ]
  },
  {
   "cell_type": "markdown",
   "metadata": {},
   "source": [
    "## Разделение на обучающцю и тестирующую выборки"
   ]
  },
  {
   "cell_type": "code",
   "execution_count": null,
   "metadata": {},
   "outputs": [],
   "source": [
    "X_train, X_test = DZ_new[0:-4], DZ_new[-4:]"
   ]
  },
  {
   "cell_type": "markdown",
   "metadata": {},
   "source": [
    "## Остационаривание ряда для VAR моделей"
   ]
  },
  {
   "cell_type": "code",
   "execution_count": null,
   "metadata": {},
   "outputs": [],
   "source": [
    "X_train_log = np.log(X_train)\n",
    "X_train_log_diff = X_train_log.diff().fillna(0)"
   ]
  },
  {
   "cell_type": "code",
   "execution_count": null,
   "metadata": {},
   "outputs": [],
   "source": [
    "X_train_log_diff"
   ]
  },
  {
   "cell_type": "code",
   "execution_count": null,
   "metadata": {},
   "outputs": [],
   "source": [
    "tsplot(X_train_log_diff['ТДЗ'], lags=12)"
   ]
  },
  {
   "cell_type": "markdown",
   "metadata": {},
   "source": [
    "## Тест на причинность по Грейнджеру"
   ]
  },
  {
   "cell_type": "code",
   "execution_count": null,
   "metadata": {},
   "outputs": [],
   "source": [
    "print(grangercausalitytests(X_train_log_diff[['ТДЗ', 'ПДЗ']], maxlag=10, addconst=True, verbose=True))"
   ]
  },
  {
   "cell_type": "markdown",
   "metadata": {},
   "source": [
    "### Как можно увидеть, ряды ТДЗ и ПДЗ не порождают друг друга"
   ]
  },
  {
   "cell_type": "markdown",
   "metadata": {},
   "source": [
    "### Теперь попробуем \"насильно\" построить VAR модель для двух рядов"
   ]
  },
  {
   "cell_type": "markdown",
   "metadata": {},
   "source": [
    "## Выбираем оптимальное значение лага по информационным критериям"
   ]
  },
  {
   "cell_type": "code",
   "execution_count": null,
   "metadata": {},
   "outputs": [],
   "source": [
    "model = VAR(endog=X_train_log_diff[['ТДЗ', 'ПДЗ']])\n",
    "res = model.select_order(11)\n",
    "res.summary()"
   ]
  },
  {
   "cell_type": "markdown",
   "metadata": {},
   "source": [
    "### 11 лаг имеет лучшую статистику по информационным критериям"
   ]
  },
  {
   "cell_type": "markdown",
   "metadata": {},
   "source": [
    "## Построение VAR модели на 11 лагах"
   ]
  },
  {
   "cell_type": "code",
   "execution_count": null,
   "metadata": {},
   "outputs": [],
   "source": [
    "model_fit = model.fit(maxlags=11)\n",
    "model_fit.summary()"
   ]
  },
  {
   "cell_type": "markdown",
   "metadata": {},
   "source": [
    "### Ничего не значимо - модель плохая"
   ]
  },
  {
   "cell_type": "markdown",
   "metadata": {},
   "source": [
    "### Также можно \"наивно\" посмотреть на эту модель со стороны меньшего количества лагов"
   ]
  },
  {
   "cell_type": "code",
   "execution_count": null,
   "metadata": {},
   "outputs": [],
   "source": [
    "model_fit_naive = model.fit(maxlags=2)\n",
    "model_fit_naive.summary()"
   ]
  },
  {
   "cell_type": "markdown",
   "metadata": {},
   "source": [
    "### Результат тот же - ряды не порождают друг друга"
   ]
  },
  {
   "cell_type": "markdown",
   "metadata": {},
   "source": [
    "## Посмотрим прогноз по полученным моделям"
   ]
  },
  {
   "cell_type": "code",
   "execution_count": null,
   "metadata": {},
   "outputs": [],
   "source": [
    "lag_order = model_fit.k_ar\n",
    "input_data = X_train_log_diff[['ПДЗ','ТДЗ']].values[-lag_order:]\n",
    "print(input_data)\n",
    "pred = model_fit.forecast(y=input_data, steps=4)\n",
    "pred = (pd.DataFrame(pred, index=X_test[['ПДЗ', 'ТДЗ']].index, columns=X_test[['ПДЗ','ТДЗ']].columns + '_pred'))\n",
    "print(pred)"
   ]
  },
  {
   "cell_type": "markdown",
   "metadata": {},
   "source": [
    "## Обратное преобразование данных логарифма и разности"
   ]
  },
  {
   "cell_type": "code",
   "execution_count": null,
   "metadata": {},
   "outputs": [],
   "source": [
    "def invert_transformation(X_train, pred_df):\n",
    "    forecast = pred.copy()\n",
    "    columns = ['ПДЗ','ТДЗ']\n",
    "    for col in columns:\n",
    "        forecast[str(col)+'_pred'] = np.log(X_train[col].iloc[-1]) + forecast[str(col) +'_pred'].cumsum()\n",
    "    return forecast\n",
    "output = invert_transformation(X_train[['ПДЗ','ТДЗ']], pred)\n",
    "print(output)\n",
    "output_original = np.exp(output)\n",
    "print(output_original)"
   ]
  },
  {
   "cell_type": "code",
   "execution_count": null,
   "metadata": {},
   "outputs": [],
   "source": [
    "plt.figure(figsize = (12,6))\n",
    "plt.xlabel('Дата')\n",
    "ax1 = X_test.ПДЗ.plot(color = 'blue', grid = True, label = 'Actual PDZ')\n",
    "ax2 = output_original.ПДЗ_pred.plot(color = 'red', grid = True, label = 'Predicted PDZ')\n",
    "\n",
    "ax1.legend(loc=1)\n",
    "ax2.legend(loc=2)\n",
    "plt.show()"
   ]
  },
  {
   "cell_type": "code",
   "execution_count": null,
   "metadata": {},
   "outputs": [],
   "source": [
    "mape(X_test.ПДЗ, output_original.ПДЗ_pred)"
   ]
  },
  {
   "cell_type": "markdown",
   "metadata": {},
   "source": [
    "### Имеется некоторое различие на тесте в 0.05 на 10^9"
   ]
  },
  {
   "cell_type": "code",
   "execution_count": null,
   "metadata": {},
   "outputs": [],
   "source": [
    "plt.figure(figsize = (12,6))\n",
    "plt.xlabel('Дата')\n",
    "ax1 = X_test.ТДЗ.plot(color = 'blue', grid = True, label = 'Actual TDZ')\n",
    "ax2 = output_original.ТДЗ_pred.plot(color = 'red', grid = True, label = 'Predicted TDZ')\n",
    "\n",
    "ax1.legend(loc=1)\n",
    "ax2.legend(loc=2)\n",
    "plt.show()"
   ]
  },
  {
   "cell_type": "markdown",
   "metadata": {},
   "source": [
    "### Различия плюс\\минус тех же порядков"
   ]
  },
  {
   "cell_type": "markdown",
   "metadata": {},
   "source": [
    "# Посмотрим на VECM модель"
   ]
  },
  {
   "cell_type": "markdown",
   "metadata": {},
   "source": [
    "## найдем ранг коинтеграции рядов, устанавливая значение лага на k_VAR - 1 =10"
   ]
  },
  {
   "cell_type": "code",
   "execution_count": null,
   "metadata": {},
   "outputs": [],
   "source": [
    "mod1 = coint_johansen(X_train[['ТДЗ','ПДЗ']],0,10)"
   ]
  },
  {
   "cell_type": "markdown",
   "metadata": {},
   "source": [
    "### Функция для получения LR статистики через разложение собственных векторов (Eig) и следа матрицы (Trace)"
   ]
  },
  {
   "cell_type": "code",
   "execution_count": null,
   "metadata": {},
   "outputs": [],
   "source": [
    "def joh_output(res):\n",
    "    \n",
    "    output = lr = pd.DataFrame([res.lr2,res.lr1], index = ['Maxeig', 'Trace'])\n",
    "    print('\\nCE w/ constant intercept\\n', lr.T,'\\n')\n",
    "    print(\"Critical values(90%, 95%, 99%) of MaxEig\\n\", mod1.cvm,'\\n')\n",
    "    print('Critical values(90%, 95%, 99%) of Trace\\n', mod1.cvt,'\\n')"
   ]
  },
  {
   "cell_type": "code",
   "execution_count": null,
   "metadata": {},
   "outputs": [],
   "source": [
    "joh_output(mod1)"
   ]
  },
  {
   "cell_type": "markdown",
   "metadata": {},
   "source": [
    "### По тесту с константой можно наблюдать, что Ранг конинтеграции равен 1"
   ]
  },
  {
   "cell_type": "code",
   "execution_count": null,
   "metadata": {},
   "outputs": [],
   "source": [
    "mod1 = coint_johansen(X_train[['ТДЗ','ПДЗ']],1,10)\n",
    "joh_output(mod1)"
   ]
  },
  {
   "cell_type": "markdown",
   "metadata": {},
   "source": [
    "### Отсутвтие коинтеграции  для трендовой составляющей"
   ]
  },
  {
   "cell_type": "code",
   "execution_count": null,
   "metadata": {},
   "outputs": [],
   "source": [
    "mod1 = coint_johansen(X_train[['ТДЗ','ПДЗ']],-1,10)\n",
    "joh_output(mod1)"
   ]
  },
  {
   "cell_type": "markdown",
   "metadata": {},
   "source": [
    "### Тест без константы и тренла указывает на наличие конинтеграционного вектора"
   ]
  },
  {
   "cell_type": "markdown",
   "metadata": {},
   "source": [
    "## Аналогисные результаты для автоматического подбора ранга коинтеграции"
   ]
  },
  {
   "cell_type": "code",
   "execution_count": null,
   "metadata": {},
   "outputs": [],
   "source": [
    "vec_rank1 = stv.vecm.select_coint_rank(X_train[['ТДЗ','ПДЗ']], det_order =-1, k_ar_diff = 10, method = 'maxeig', signif=0.05)\n",
    "print(vec_rank1.summary())"
   ]
  },
  {
   "cell_type": "code",
   "execution_count": null,
   "metadata": {},
   "outputs": [],
   "source": [
    "vec_rank1.rank"
   ]
  },
  {
   "cell_type": "markdown",
   "metadata": {},
   "source": [
    "### Получение предсказания"
   ]
  },
  {
   "cell_type": "code",
   "execution_count": null,
   "metadata": {},
   "outputs": [],
   "source": [
    "vecm = stv.vecm.VECM(endog = X_train[['ТДЗ','ПДЗ']], k_ar_diff = 10, coint_rank = 1, deterministic = 'nc')\n",
    "vecm_fit = vecm.fit()\n",
    "vecm_fit.summary()\n"
   ]
  },
  {
   "cell_type": "code",
   "execution_count": null,
   "metadata": {},
   "outputs": [],
   "source": [
    "vecm_fit.predict(steps=4)"
   ]
  },
  {
   "cell_type": "markdown",
   "metadata": {},
   "source": [
    "### Создание доверительного интервала на прогнозы"
   ]
  },
  {
   "cell_type": "code",
   "execution_count": null,
   "metadata": {},
   "outputs": [],
   "source": [
    "forecast, lower, upper = vecm_fit.predict(4, 0.05)\n",
    "print(\"\\lower bounds of confidence intervals:\")\n",
    "print(lower.round(3))\n",
    "print(\"\\npoint forecasts:\")\n",
    "print(forecast.round(3))\n",
    "print(\"\\nupper bounds of confidence intervals:\")\n",
    "print(upper.round(3))"
   ]
  },
  {
   "cell_type": "markdown",
   "metadata": {},
   "source": [
    "# Графики сравнения ПДЗ и ТДЗ прогноза с тестом"
   ]
  },
  {
   "cell_type": "code",
   "execution_count": null,
   "metadata": {},
   "outputs": [],
   "source": [
    "forc = forecast[:,1]\n",
    "newforc = np.squeeze(forc)\n",
    "plt.figure(figsize = (12,6))\n",
    "plt.plot(newforc, color='green', marker='o', linestyle='dashed',\n",
    "    linewidth=2, markersize=12, label ='predicted PDZ')\n",
    "plt.plot(X_test.ПДЗ.reset_index().drop(columns = 'period_name'), color='red', marker='o', linestyle='dashed',\n",
    " linewidth=2, markersize=12, label = 'test PDZ')\n",
    "plt.legend()\n",
    "plt.show()"
   ]
  },
  {
   "cell_type": "code",
   "execution_count": null,
   "metadata": {},
   "outputs": [],
   "source": [
    "mape(newforc,X_test.ПДЗ)"
   ]
  },
  {
   "cell_type": "code",
   "execution_count": null,
   "metadata": {},
   "outputs": [],
   "source": [
    "forc = forecast[:,0]\n",
    "newforc = np.squeeze(forc)\n",
    "plt.figure(figsize = (12,6))\n",
    "plt.plot(newforc, color='green', marker='o', linestyle='dashed',\n",
    "    linewidth=2, markersize=12, label ='predicted TDZ')\n",
    "plt.plot(X_test.ТДЗ.reset_index().drop(columns = 'period_name'), color='red', marker='o', linestyle='dashed',\n",
    " linewidth=2, markersize=12, label = 'test TDZ')\n",
    "plt.legend()\n",
    "plt.show()"
   ]
  },
  {
   "cell_type": "code",
   "execution_count": null,
   "metadata": {},
   "outputs": [],
   "source": [
    "mape(newforc,X_test.ТДЗ)"
   ]
  },
  {
   "cell_type": "markdown",
   "metadata": {},
   "source": [
    "# Графики прогноза на 5% доверительном интервале"
   ]
  },
  {
   "cell_type": "code",
   "execution_count": null,
   "metadata": {},
   "outputs": [],
   "source": [
    "vecm_fit.plot_forecast(steps = 4, n_last_obs=10)"
   ]
  },
  {
   "cell_type": "code",
   "execution_count": null,
   "metadata": {},
   "outputs": [],
   "source": [
    "#cred['balance_boxcox'], lambd = scs.boxcox(cred.balance)\n",
    "#print('Преобразование Бокса-Кокса с параметром lambda = {}'.format(lambd))\n",
    "#tsplot(cred.balance_boxcox, lags=36)\n",
    "#cred['balance_delta'] = cred.balance_boxcox - cred.balance_boxcox.shift(1)\n",
    "#tsplot(cred.balance_delta[1:], lags=36)\n",
    "#def invboxcox(y,lmbda):\n",
    "    # обрабтное преобразование Бокса-Кокса\n",
    "    #if lmbda == 0:\n",
    "        #return(np.exp(y))\n",
    "    #else:\n",
    "        #return(np.exp(np.log(lmbda*y+1)/lmbda))"
   ]
  }
 ],
 "metadata": {
  "kernelspec": {
   "display_name": "Python 3",
   "language": "python",
   "name": "python3"
  },
  "language_info": {
   "codemirror_mode": {
    "name": "ipython",
    "version": 3
   },
   "file_extension": ".py",
   "mimetype": "text/x-python",
   "name": "python",
   "nbconvert_exporter": "python",
   "pygments_lexer": "ipython3",
   "version": "3.8.5"
  }
 },
 "nbformat": 4,
 "nbformat_minor": 2
}
