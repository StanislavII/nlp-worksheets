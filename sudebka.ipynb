{
 "cells": [
  {
   "cell_type": "code",
   "execution_count": 1,
   "id": "78a3b05b",
   "metadata": {},
   "outputs": [],
   "source": [
    "import numpy as np\n",
    "import pandas as pd\n",
    "import torch\n",
    "from torch.utils.data import TensorDataset, DataLoader,Dataset\n",
    "import torch.nn as nn\n",
    "import torch.nn.functional as F\n",
    "import torch.optim as optim\n",
    "from torch.optim import lr_scheduler\n",
    "import time\n",
    "from tqdm import tqdm\n",
    "from sklearn.metrics import accuracy_score\n",
    "from IPython.display import HTML\n",
    "import json\n",
    "from sklearn.preprocessing import LabelEncoder\n",
    "\n",
    "import torch.utils.data\n",
    "from sklearn.model_selection import train_test_split\n",
    "\n",
    "from sklearn.preprocessing import StandardScaler\n",
    "from sklearn.model_selection import StratifiedKFold, KFold, RepeatedKFold, train_test_split, GroupKFold, GroupShuffleSplit"
   ]
  },
  {
   "cell_type": "code",
   "execution_count": 2,
   "id": "e3194fb4",
   "metadata": {},
   "outputs": [
    {
     "name": "stderr",
     "output_type": "stream",
     "text": [
      "/opt/homebrew/Caskroom/miniforge/base/envs/transformers/lib/python3.9/site-packages/torchvision/io/image.py:13: UserWarning: Failed to load image Python extension: dlopen(/opt/homebrew/Caskroom/miniforge/base/envs/transformers/lib/python3.9/site-packages/torchvision/image.so, 6): Symbol not found: __ZN3c106detail19maybe_wrap_dim_slowExxb\n",
      "  Referenced from: /opt/homebrew/Caskroom/miniforge/base/envs/transformers/lib/python3.9/site-packages/torchvision/image.so\n",
      "  Expected in: /opt/homebrew/Caskroom/miniforge/base/envs/transformers/lib/python3.9/site-packages/torch/lib/libc10.dylib\n",
      " in /opt/homebrew/Caskroom/miniforge/base/envs/transformers/lib/python3.9/site-packages/torchvision/image.so\n",
      "  warn(f\"Failed to load image Python extension: {e}\")\n"
     ]
    }
   ],
   "source": [
    "from pytorch_lightning import Trainer\n",
    "from pytorch_lightning.callbacks import ModelCheckpoint\n",
    "from pytorch_lightning.callbacks.early_stopping import EarlyStopping\n",
    "from pytorch_lightning import LightningModule, LightningDataModule"
   ]
  },
  {
   "cell_type": "code",
   "execution_count": 3,
   "id": "21ad5be4",
   "metadata": {},
   "outputs": [],
   "source": [
    "import warnings \n",
    "warnings.filterwarnings('ignore')"
   ]
  },
  {
   "cell_type": "code",
   "execution_count": 4,
   "id": "3a01cd53",
   "metadata": {},
   "outputs": [],
   "source": [
    "from datetime import datetime"
   ]
  },
  {
   "cell_type": "code",
   "execution_count": 5,
   "id": "135a90a3",
   "metadata": {},
   "outputs": [],
   "source": [
    "#skip"
   ]
  },
  {
   "cell_type": "code",
   "execution_count": 4,
   "id": "e34348bd",
   "metadata": {},
   "outputs": [],
   "source": [
    "data = pd.read_pickle('jd_2_with_macro_v3.pkl')"
   ]
  },
  {
   "cell_type": "code",
   "execution_count": 5,
   "id": "975be0c0",
   "metadata": {},
   "outputs": [],
   "source": [
    "data_reset = data.reset_index()"
   ]
  },
  {
   "cell_type": "code",
   "execution_count": 6,
   "id": "b3a1b902",
   "metadata": {},
   "outputs": [],
   "source": [
    "target = data_reset[['account','target_24m']]"
   ]
  },
  {
   "cell_type": "code",
   "execution_count": 7,
   "id": "bb254f4d",
   "metadata": {},
   "outputs": [],
   "source": [
    "target_total = target.groupby('account').mean()"
   ]
  },
  {
   "cell_type": "code",
   "execution_count": 8,
   "id": "cf6036bf",
   "metadata": {},
   "outputs": [],
   "source": [
    "features = data_reset[['account','day_payment', 'balance_sum', 'day_debt_bad_max',\n",
    "                      'ipi1', 'ipi2', 'ppi1', 'ppi2',\n",
    "       'ppi3', 'cpi1', 'unemp1', 'gdp_nom', 'gdp_yoy', 'salary', 'sales',\n",
    "       'income_nom', 'income_real_1', 'income_real_2', 'USDRUB1', 'EURRUB1',\n",
    "       'brent', 'USDRUB_pct', 'brent_pct', 'EURRUB_pct', 'invst', 'key_rate']]"
   ]
  },
  {
   "cell_type": "code",
   "execution_count": 9,
   "id": "acbe7cd9",
   "metadata": {},
   "outputs": [
    {
     "data": {
      "text/plain": [
       "19.082115754702436"
      ]
     },
     "execution_count": 9,
     "metadata": {},
     "output_type": "execute_result"
    }
   ],
   "source": [
    "features.account.value_counts().mean()"
   ]
  },
  {
   "cell_type": "code",
   "execution_count": 10,
   "id": "dbb53892",
   "metadata": {},
   "outputs": [],
   "source": [
    "indexes = data.index.get_level_values(0)"
   ]
  },
  {
   "cell_type": "code",
   "execution_count": 11,
   "id": "f895b7da",
   "metadata": {},
   "outputs": [],
   "source": [
    "x = np.array(indexes)\n",
    "unique, counts = np.unique(x, return_counts=True)"
   ]
  },
  {
   "cell_type": "code",
   "execution_count": 12,
   "id": "1b3daf5b",
   "metadata": {},
   "outputs": [],
   "source": [
    "counts_accs = np.asarray((unique, counts)).T"
   ]
  },
  {
   "cell_type": "code",
   "execution_count": 13,
   "id": "e89cf910",
   "metadata": {},
   "outputs": [],
   "source": [
    "filter_ = counts_accs[counts_accs[:,1] >= 24][:,0]"
   ]
  },
  {
   "cell_type": "code",
   "execution_count": 14,
   "id": "f54dea0a",
   "metadata": {},
   "outputs": [],
   "source": [
    "filter_df  = data[data.index.get_level_values(0).isin(filter_)]"
   ]
  },
  {
   "cell_type": "code",
   "execution_count": 15,
   "id": "187583d4",
   "metadata": {},
   "outputs": [
    {
     "data": {
      "text/html": [
       "<div>\n",
       "<style scoped>\n",
       "    .dataframe tbody tr th:only-of-type {\n",
       "        vertical-align: middle;\n",
       "    }\n",
       "\n",
       "    .dataframe tbody tr th {\n",
       "        vertical-align: top;\n",
       "    }\n",
       "\n",
       "    .dataframe thead th {\n",
       "        text-align: right;\n",
       "    }\n",
       "</style>\n",
       "<table border=\"1\" class=\"dataframe\">\n",
       "  <thead>\n",
       "    <tr style=\"text-align: right;\">\n",
       "      <th></th>\n",
       "      <th></th>\n",
       "      <th>mrf_service_id</th>\n",
       "      <th>rf_service_id</th>\n",
       "    </tr>\n",
       "    <tr>\n",
       "      <th>account</th>\n",
       "      <th>pay_date</th>\n",
       "      <th></th>\n",
       "      <th></th>\n",
       "    </tr>\n",
       "  </thead>\n",
       "  <tbody>\n",
       "    <tr>\n",
       "      <th rowspan=\"5\" valign=\"top\">2.100100e+11</th>\n",
       "      <th>2017-01-11</th>\n",
       "      <td>12.00000</td>\n",
       "      <td>1204.00000</td>\n",
       "    </tr>\n",
       "    <tr>\n",
       "      <th>2017-03-14</th>\n",
       "      <td>12.00000</td>\n",
       "      <td>1204.00000</td>\n",
       "    </tr>\n",
       "    <tr>\n",
       "      <th>2017-04-17</th>\n",
       "      <td>12.00000</td>\n",
       "      <td>1204.00000</td>\n",
       "    </tr>\n",
       "    <tr>\n",
       "      <th>2017-11-13</th>\n",
       "      <td>12.00000</td>\n",
       "      <td>1204.00000</td>\n",
       "    </tr>\n",
       "    <tr>\n",
       "      <th>2018-01-13</th>\n",
       "      <td>12.00000</td>\n",
       "      <td>1204.00000</td>\n",
       "    </tr>\n",
       "    <tr>\n",
       "      <th>...</th>\n",
       "      <th>...</th>\n",
       "      <td>...</td>\n",
       "      <td>...</td>\n",
       "    </tr>\n",
       "    <tr>\n",
       "      <th rowspan=\"5\" valign=\"top\">8.760108e+11</th>\n",
       "      <th>2020-10-26</th>\n",
       "      <td>11.00000</td>\n",
       "      <td>1116.00000</td>\n",
       "    </tr>\n",
       "    <tr>\n",
       "      <th>2020-12-20</th>\n",
       "      <td>11.00000</td>\n",
       "      <td>1116.00000</td>\n",
       "    </tr>\n",
       "    <tr>\n",
       "      <th>2021-03-03</th>\n",
       "      <td>11.00000</td>\n",
       "      <td>1116.00000</td>\n",
       "    </tr>\n",
       "    <tr>\n",
       "      <th>2021-06-19</th>\n",
       "      <td>11.00000</td>\n",
       "      <td>1116.00000</td>\n",
       "    </tr>\n",
       "    <tr>\n",
       "      <th>2021-09-21</th>\n",
       "      <td>11.00000</td>\n",
       "      <td>1116.00000</td>\n",
       "    </tr>\n",
       "  </tbody>\n",
       "</table>\n",
       "<p>3841480 rows × 2 columns</p>\n",
       "</div>"
      ],
      "text/plain": [
       "                        mrf_service_id rf_service_id\n",
       "account      pay_date                               \n",
       "2.100100e+11 2017-01-11       12.00000    1204.00000\n",
       "             2017-03-14       12.00000    1204.00000\n",
       "             2017-04-17       12.00000    1204.00000\n",
       "             2017-11-13       12.00000    1204.00000\n",
       "             2018-01-13       12.00000    1204.00000\n",
       "...                                ...           ...\n",
       "8.760108e+11 2020-10-26       11.00000    1116.00000\n",
       "             2020-12-20       11.00000    1116.00000\n",
       "             2021-03-03       11.00000    1116.00000\n",
       "             2021-06-19       11.00000    1116.00000\n",
       "             2021-09-21       11.00000    1116.00000\n",
       "\n",
       "[3841480 rows x 2 columns]"
      ]
     },
     "execution_count": 15,
     "metadata": {},
     "output_type": "execute_result"
    }
   ],
   "source": [
    "filter_df.iloc[::2,3:5]"
   ]
  },
  {
   "cell_type": "code",
   "execution_count": 16,
   "id": "c57b0d5a",
   "metadata": {},
   "outputs": [],
   "source": [
    "filter_drop = filter_df.copy()\n",
    "filter_drop_reset = filter_drop.reset_index()"
   ]
  },
  {
   "cell_type": "code",
   "execution_count": 17,
   "id": "87a784b3",
   "metadata": {},
   "outputs": [],
   "source": [
    "new_df = pd.DataFrame()"
   ]
  },
  {
   "cell_type": "code",
   "execution_count": 18,
   "id": "c02fee58",
   "metadata": {},
   "outputs": [
    {
     "data": {
      "text/html": [
       "<div>\n",
       "<style scoped>\n",
       "    .dataframe tbody tr th:only-of-type {\n",
       "        vertical-align: middle;\n",
       "    }\n",
       "\n",
       "    .dataframe tbody tr th {\n",
       "        vertical-align: top;\n",
       "    }\n",
       "\n",
       "    .dataframe thead th {\n",
       "        text-align: right;\n",
       "    }\n",
       "</style>\n",
       "<table border=\"1\" class=\"dataframe\">\n",
       "  <thead>\n",
       "    <tr style=\"text-align: right;\">\n",
       "      <th></th>\n",
       "      <th>account</th>\n",
       "      <th>pay_date</th>\n",
       "      <th>day_payment</th>\n",
       "      <th>balance_sum</th>\n",
       "      <th>day_debt_bad_max</th>\n",
       "      <th>mrf_service_id</th>\n",
       "      <th>rf_service_id</th>\n",
       "      <th>sent_date</th>\n",
       "      <th>days_from_j</th>\n",
       "      <th>months_from_j</th>\n",
       "      <th>...</th>\n",
       "      <th>USDRUB_pct</th>\n",
       "      <th>brent_pct</th>\n",
       "      <th>EURRUB_pct</th>\n",
       "      <th>invst</th>\n",
       "      <th>key_rate</th>\n",
       "      <th>target_before_sent</th>\n",
       "      <th>target_3m</th>\n",
       "      <th>target_6m</th>\n",
       "      <th>target_12m</th>\n",
       "      <th>target_24m</th>\n",
       "    </tr>\n",
       "  </thead>\n",
       "  <tbody>\n",
       "    <tr>\n",
       "      <th>0</th>\n",
       "      <td>2.100100e+11</td>\n",
       "      <td>2017-01-11</td>\n",
       "      <td>996.75</td>\n",
       "      <td>697.0</td>\n",
       "      <td>0</td>\n",
       "      <td>12.00000</td>\n",
       "      <td>1204.00000</td>\n",
       "      <td>2021-12-01</td>\n",
       "      <td>-1785.0</td>\n",
       "      <td>-60.0</td>\n",
       "      <td>...</td>\n",
       "      <td>-0.202594</td>\n",
       "      <td>0.603339</td>\n",
       "      <td>-0.205551</td>\n",
       "      <td>0.997395</td>\n",
       "      <td>10.00</td>\n",
       "      <td>0</td>\n",
       "      <td>0</td>\n",
       "      <td>0</td>\n",
       "      <td>0</td>\n",
       "      <td>0</td>\n",
       "    </tr>\n",
       "    <tr>\n",
       "      <th>1</th>\n",
       "      <td>2.100100e+11</td>\n",
       "      <td>2017-02-16</td>\n",
       "      <td>697.25</td>\n",
       "      <td>818.0</td>\n",
       "      <td>0</td>\n",
       "      <td>12.00000</td>\n",
       "      <td>1204.00000</td>\n",
       "      <td>2021-12-01</td>\n",
       "      <td>-1749.0</td>\n",
       "      <td>-58.0</td>\n",
       "      <td>...</td>\n",
       "      <td>-0.224560</td>\n",
       "      <td>0.545455</td>\n",
       "      <td>-0.240551</td>\n",
       "      <td>1.015000</td>\n",
       "      <td>10.00</td>\n",
       "      <td>0</td>\n",
       "      <td>0</td>\n",
       "      <td>0</td>\n",
       "      <td>0</td>\n",
       "      <td>0</td>\n",
       "    </tr>\n",
       "    <tr>\n",
       "      <th>2</th>\n",
       "      <td>2.100100e+11</td>\n",
       "      <td>2017-03-14</td>\n",
       "      <td>818.00</td>\n",
       "      <td>767.0</td>\n",
       "      <td>0</td>\n",
       "      <td>12.00000</td>\n",
       "      <td>1204.00000</td>\n",
       "      <td>2021-12-01</td>\n",
       "      <td>-1723.0</td>\n",
       "      <td>-57.0</td>\n",
       "      <td>...</td>\n",
       "      <td>-0.160870</td>\n",
       "      <td>0.334091</td>\n",
       "      <td>-0.213282</td>\n",
       "      <td>1.015000</td>\n",
       "      <td>10.00</td>\n",
       "      <td>0</td>\n",
       "      <td>0</td>\n",
       "      <td>0</td>\n",
       "      <td>0</td>\n",
       "      <td>0</td>\n",
       "    </tr>\n",
       "    <tr>\n",
       "      <th>3</th>\n",
       "      <td>2.100100e+11</td>\n",
       "      <td>2017-04-14</td>\n",
       "      <td>767.00</td>\n",
       "      <td>0.0</td>\n",
       "      <td>0</td>\n",
       "      <td>12.00000</td>\n",
       "      <td>1204.00000</td>\n",
       "      <td>2021-12-01</td>\n",
       "      <td>-1692.0</td>\n",
       "      <td>-56.0</td>\n",
       "      <td>...</td>\n",
       "      <td>-0.119604</td>\n",
       "      <td>0.074797</td>\n",
       "      <td>-0.163430</td>\n",
       "      <td>1.015000</td>\n",
       "      <td>9.75</td>\n",
       "      <td>0</td>\n",
       "      <td>0</td>\n",
       "      <td>0</td>\n",
       "      <td>0</td>\n",
       "      <td>0</td>\n",
       "    </tr>\n",
       "    <tr>\n",
       "      <th>4</th>\n",
       "      <td>2.100100e+11</td>\n",
       "      <td>2017-04-17</td>\n",
       "      <td>1000.00</td>\n",
       "      <td>0.0</td>\n",
       "      <td>0</td>\n",
       "      <td>12.00000</td>\n",
       "      <td>1204.00000</td>\n",
       "      <td>2021-12-01</td>\n",
       "      <td>-1689.0</td>\n",
       "      <td>-56.0</td>\n",
       "      <td>...</td>\n",
       "      <td>-0.119604</td>\n",
       "      <td>0.074797</td>\n",
       "      <td>-0.163430</td>\n",
       "      <td>1.015000</td>\n",
       "      <td>9.75</td>\n",
       "      <td>0</td>\n",
       "      <td>0</td>\n",
       "      <td>0</td>\n",
       "      <td>0</td>\n",
       "      <td>0</td>\n",
       "    </tr>\n",
       "  </tbody>\n",
       "</table>\n",
       "<p>5 rows × 44 columns</p>\n",
       "</div>"
      ],
      "text/plain": [
       "        account   pay_date  day_payment  balance_sum  day_debt_bad_max  \\\n",
       "0  2.100100e+11 2017-01-11       996.75        697.0                 0   \n",
       "1  2.100100e+11 2017-02-16       697.25        818.0                 0   \n",
       "2  2.100100e+11 2017-03-14       818.00        767.0                 0   \n",
       "3  2.100100e+11 2017-04-14       767.00          0.0                 0   \n",
       "4  2.100100e+11 2017-04-17      1000.00          0.0                 0   \n",
       "\n",
       "  mrf_service_id rf_service_id  sent_date  days_from_j  months_from_j  ...  \\\n",
       "0       12.00000    1204.00000 2021-12-01      -1785.0          -60.0  ...   \n",
       "1       12.00000    1204.00000 2021-12-01      -1749.0          -58.0  ...   \n",
       "2       12.00000    1204.00000 2021-12-01      -1723.0          -57.0  ...   \n",
       "3       12.00000    1204.00000 2021-12-01      -1692.0          -56.0  ...   \n",
       "4       12.00000    1204.00000 2021-12-01      -1689.0          -56.0  ...   \n",
       "\n",
       "  USDRUB_pct  brent_pct  EURRUB_pct     invst  key_rate target_before_sent  \\\n",
       "0  -0.202594   0.603339   -0.205551  0.997395     10.00                  0   \n",
       "1  -0.224560   0.545455   -0.240551  1.015000     10.00                  0   \n",
       "2  -0.160870   0.334091   -0.213282  1.015000     10.00                  0   \n",
       "3  -0.119604   0.074797   -0.163430  1.015000      9.75                  0   \n",
       "4  -0.119604   0.074797   -0.163430  1.015000      9.75                  0   \n",
       "\n",
       "  target_3m  target_6m  target_12m  target_24m  \n",
       "0         0          0           0           0  \n",
       "1         0          0           0           0  \n",
       "2         0          0           0           0  \n",
       "3         0          0           0           0  \n",
       "4         0          0           0           0  \n",
       "\n",
       "[5 rows x 44 columns]"
      ]
     },
     "execution_count": 18,
     "metadata": {},
     "output_type": "execute_result"
    }
   ],
   "source": [
    "filter_drop_reset.head()"
   ]
  },
  {
   "cell_type": "code",
   "execution_count": 19,
   "id": "2d96e928",
   "metadata": {},
   "outputs": [
    {
     "name": "stderr",
     "output_type": "stream",
     "text": [
      "100%|█████████████████████████████████| 181443/181443 [2:42:45<00:00, 18.58it/s]\n"
     ]
    }
   ],
   "source": [
    "for idx in tqdm(filter_drop.index.get_level_values('account').unique()):\n",
    "    index_to_drop = filter_drop_reset[filter_drop_reset['account'] == idx][-24:]\n",
    "    \n",
    "    #filter_drop.drop((idx, i.strftime('%Y-%m-%d')), axis=0, inplace=True)\n",
    "    \n",
    "    new_df = new_df.append(index_to_drop)"
   ]
  },
  {
   "cell_type": "code",
   "execution_count": 5,
   "id": "30872f00",
   "metadata": {},
   "outputs": [
    {
     "ename": "NameError",
     "evalue": "name 'new_df' is not defined",
     "output_type": "error",
     "traceback": [
      "\u001b[0;31m---------------------------------------------------------------------------\u001b[0m",
      "\u001b[0;31mNameError\u001b[0m                                 Traceback (most recent call last)",
      "Input \u001b[0;32mIn [5]\u001b[0m, in \u001b[0;36m<cell line: 1>\u001b[0;34m()\u001b[0m\n\u001b[0;32m----> 1\u001b[0m \u001b[43mnew_df\u001b[49m\u001b[38;5;241m.\u001b[39mto_pickle(\u001b[38;5;124m'\u001b[39m\u001b[38;5;124mmid_term.pkl\u001b[39m\u001b[38;5;124m'\u001b[39m)\n",
      "\u001b[0;31mNameError\u001b[0m: name 'new_df' is not defined"
     ]
    }
   ],
   "source": [
    "new_df.to_pickle('mid_term.pkl')"
   ]
  },
  {
   "cell_type": "code",
   "execution_count": 25,
   "id": "9a5c2c75",
   "metadata": {},
   "outputs": [],
   "source": [
    "del data, data_reset, target, target_total, filter_df, filter_drop, filter_drop_reset,features"
   ]
  },
  {
   "cell_type": "code",
   "execution_count": 6,
   "id": "64eeb552",
   "metadata": {},
   "outputs": [],
   "source": [
    "# start"
   ]
  },
  {
   "cell_type": "code",
   "execution_count": 5,
   "id": "1f1386d7",
   "metadata": {},
   "outputs": [],
   "source": [
    "new_df = pd.read_pickle('mid_term.pkl')"
   ]
  },
  {
   "cell_type": "code",
   "execution_count": 6,
   "id": "94efd364",
   "metadata": {},
   "outputs": [],
   "source": [
    "new_df_copy = new_df.copy()"
   ]
  },
  {
   "cell_type": "code",
   "execution_count": 7,
   "id": "acb19b14",
   "metadata": {},
   "outputs": [],
   "source": [
    "new_df_copy = new_df_copy[pd.notnull(new_df_copy['balance_sum'])]"
   ]
  },
  {
   "cell_type": "code",
   "execution_count": 8,
   "id": "5de05334",
   "metadata": {},
   "outputs": [],
   "source": [
    "sort_idx_notna = new_df_copy.groupby('account').size().sort_values(ascending=False).loc[lambda x : x >=24].index"
   ]
  },
  {
   "cell_type": "code",
   "execution_count": 9,
   "id": "28e4d197",
   "metadata": {},
   "outputs": [],
   "source": [
    "new_df_copy = new_df_copy[new_df_copy.account.isin(sort_idx_notna)]"
   ]
  },
  {
   "cell_type": "code",
   "execution_count": 10,
   "id": "c3d5d1a6",
   "metadata": {},
   "outputs": [],
   "source": [
    "target = new_df_copy[['account','target_24m']].drop_duplicates()"
   ]
  },
  {
   "cell_type": "code",
   "execution_count": 11,
   "id": "31a64d8a",
   "metadata": {},
   "outputs": [],
   "source": [
    "FEATURES = ['day_payment', 'balance_sum', 'day_debt_bad_max',\n",
    "                      'ipi1', 'ipi2', 'ppi1', 'ppi2',\n",
    "       'ppi3', 'cpi1', 'unemp1', 'gdp_nom', 'gdp_yoy', 'salary', 'sales',\n",
    "       'income_nom', 'income_real_1', 'income_real_2', 'USDRUB1', 'EURRUB1',\n",
    "       'brent', 'USDRUB_pct', 'brent_pct', 'EURRUB_pct', 'invst', 'key_rate']"
   ]
  },
  {
   "cell_type": "code",
   "execution_count": 12,
   "id": "720eed22",
   "metadata": {},
   "outputs": [],
   "source": [
    "X_train = new_df_copy[['account','day_payment', 'balance_sum', 'day_debt_bad_max',\n",
    "                      'ipi1', 'ipi2', 'ppi1', 'ppi2',\n",
    "       'ppi3', 'cpi1', 'unemp1', 'gdp_nom', 'gdp_yoy', 'salary', 'sales',\n",
    "       'income_nom', 'income_real_1', 'income_real_2', 'USDRUB1', 'EURRUB1',\n",
    "       'brent', 'USDRUB_pct', 'brent_pct', 'EURRUB_pct', 'invst', 'key_rate']]"
   ]
  },
  {
   "cell_type": "code",
   "execution_count": 13,
   "id": "43407485",
   "metadata": {
    "scrolled": true
   },
   "outputs": [
    {
     "name": "stderr",
     "output_type": "stream",
     "text": [
      "100%|█████████████████████████████████| 171724/171724 [01:07<00:00, 2528.23it/s]\n"
     ]
    }
   ],
   "source": [
    "sequences = []\n",
    "\n",
    "for idx, group in tqdm(X_train.groupby('account')):\n",
    "    \n",
    "    seq_feat = group[FEATURES]\n",
    "    label = target[target.account == idx].iloc[0].target_24m\n",
    "    \n",
    "    sequences.append((seq_feat, int(label)))"
   ]
  },
  {
   "cell_type": "code",
   "execution_count": 14,
   "id": "fbe234f5",
   "metadata": {},
   "outputs": [],
   "source": [
    "train_seq, test_seq = train_test_split(sequences, test_size = 0.2)"
   ]
  },
  {
   "cell_type": "markdown",
   "id": "bb7df602",
   "metadata": {},
   "source": [
    "## Dataset"
   ]
  },
  {
   "cell_type": "raw",
   "id": "a5cd8e08",
   "metadata": {},
   "source": [
    "class Lstm_Dataset(Dataset):\n",
    "    \n",
    "    def __init__(self, sequences):\n",
    "        self.sequences = sequences\n",
    "    \n",
    "    def __len__(self):\n",
    "        \n",
    "        return len(self.sequences)\n",
    "    \n",
    "    def __getitem__(self, item):\n",
    "        \n",
    "        sequence, label = self.sequences[item]\n",
    "        \n",
    "        return dict( sequence = torch.Tensor(sequence.to_numpy()),\n",
    "                    label = torch.Tensor(label).long()\n",
    "        )"
   ]
  },
  {
   "cell_type": "code",
   "execution_count": 22,
   "id": "45c506aa",
   "metadata": {},
   "outputs": [],
   "source": [
    "from dataset_lstm import Lstm_Dataset"
   ]
  },
  {
   "cell_type": "code",
   "execution_count": 23,
   "id": "9fe1de90",
   "metadata": {},
   "outputs": [],
   "source": [
    "class SurfaceModule(LightningDataModule):\n",
    "    \n",
    "    def __init__(self, train_seq, test_seq, batch_size):\n",
    "        super().__init__()\n",
    "        self.train_seq = train_seq\n",
    "        self.test_seq = test_seq\n",
    "        self.batch_size = batch_size\n",
    "        \n",
    "    def setup(self, stage = None):\n",
    "        self.train_dataset = Lstm_Dataset(self.train_seq)\n",
    "        self.test_dataset = Lstm_Dataset(self.test_seq)\n",
    "    \n",
    "    def train_dataloader(self):\n",
    "        \n",
    "        return( DataLoader(\n",
    "        self.train_dataset, \n",
    "        batch_size = self.batch_size,\n",
    "        shuffle = True, num_workers = 2))\n",
    "    \n",
    "    def val_dataloader(self):\n",
    "        \n",
    "        return( DataLoader(\n",
    "        self.test_dataset, \n",
    "        batch_size = self.batch_size,\n",
    "        shuffle = False, num_workers = 2))\n",
    "    \n",
    "    def test_dataloader(self):\n",
    "        \n",
    "        return( DataLoader(\n",
    "        self.test_dataset, \n",
    "        batch_size = self.batch_size,\n",
    "        shuffle = False, num_workers = 2))"
   ]
  },
  {
   "cell_type": "code",
   "execution_count": 24,
   "id": "749b779a",
   "metadata": {},
   "outputs": [],
   "source": [
    "EPOCHS = 20\n",
    "BATCH_SIZE = 256\n",
    "\n",
    "data_module = SurfaceModule(train_seq, test_seq, BATCH_SIZE)"
   ]
  },
  {
   "cell_type": "markdown",
   "id": "90c7be7a",
   "metadata": {},
   "source": [
    "## Model"
   ]
  },
  {
   "cell_type": "code",
   "execution_count": 25,
   "id": "0367384c",
   "metadata": {},
   "outputs": [],
   "source": [
    "device = torch.device('cpu')\n",
    "if torch.cuda.is_available():\n",
    "    device = torch.device('cuda:0')"
   ]
  },
  {
   "cell_type": "code",
   "execution_count": 26,
   "id": "3a1f8255",
   "metadata": {},
   "outputs": [],
   "source": [
    "class LSTM_Model(nn.Module):\n",
    "    \n",
    "    def __init__(self, n_features, n_classes, n_hidden = 256, n_layers = 3):\n",
    "        super().__init__()\n",
    "        \n",
    "        self.lstm = nn.LSTM(input_size = n_features, \n",
    "                           hidden_size = n_hidden,\n",
    "                           num_layers = n_layers, \n",
    "                           batch_first = True, \n",
    "                           dropout = 0.75)\n",
    "        self.linear = nn.Linear(n_hidden, n_classes)\n",
    "        \n",
    "    def forward(self, x):\n",
    "        \n",
    "        self.lstm.flatten_parameters()\n",
    "        _, (hidden, _) = self.lstm(x)\n",
    "        \n",
    "        return self.linear(hidden[-1])\n",
    "    "
   ]
  },
  {
   "cell_type": "code",
   "execution_count": 27,
   "id": "0fd1afd3",
   "metadata": {},
   "outputs": [],
   "source": [
    "class LSTM_PL(LightningModule):\n",
    "    def __init__(self, n_features, n_classes):\n",
    "        super().__init__()\n",
    "\n",
    "            \n",
    "        self.model = LSTM_Model(n_features, n_classes)\n",
    "        self.criterion = nn.CrossEntropyLoss()\n",
    "\n",
    "\n",
    "    def forward(self, x):\n",
    "        \n",
    "        output = self.model(x['sequence'])\n",
    "\n",
    "        return output\n",
    "\n",
    "    def training_step(self, batch, *args):\n",
    "        \n",
    "        sequences = batch['sequence']\n",
    "        labels = batch['label']\n",
    "        \n",
    "        output = self.forward(batch)\n",
    "        loss = self.criterion(output, batch['label'].to(device))\n",
    "        predictions = torch.argmax(output, dim = 1)\n",
    "        step_acc = accuracy_score(predictions, batch['label'])\n",
    "        \n",
    "        self.log(\"training_loss\", loss.item(), prog_bar = True, logger = True)\n",
    "        self.log(\"training_accuracy\", step_acc.item(), prog_bar = True, logger = True)\n",
    "        return {\"loss\": loss, \"accuracy\" : step_acc}\n",
    "    \n",
    "\n",
    "    @torch.no_grad()\n",
    "    def validation_step(self, batch, *args):\n",
    "        \n",
    "        sequences = batch['sequence']\n",
    "        labels = batch['label']\n",
    "        \n",
    "        output = self.forward(batch)\n",
    "        loss = self.criterion(output, batch['label'].to(device))\n",
    "        predictions = torch.argmax(output, dim = 1)\n",
    "        step_acc = accuracy_score(predictions, batch['label'])\n",
    "        \n",
    "        self.log(\"val_loss\", loss.item(), prog_bar = True, logger = True)\n",
    "        self.log(\"val_accuracy\", step_acc.item(), prog_bar = True, logger = True)\n",
    "        return {\"loss\": loss, \"accuracy\" : step_acc}\n",
    "    \n",
    "    @torch.no_grad()\n",
    "    def test_step(self, batch, *args):\n",
    "        \n",
    "        sequences = batch['sequence']\n",
    "        labels = batch['label']\n",
    "        \n",
    "        output = self.forward(batch)\n",
    "        loss = self.criterion(output, batch['label'].to(device))\n",
    "        predictions = torch.argmax(output, dim = 1)\n",
    "        step_acc = accuracy_score(predictions, batch['label'])\n",
    "        \n",
    "        self.log(\"test_loss\", loss.item(), prog_bar = True, logger = True)\n",
    "        self.log(\"test_accuracy\", step_acc.item(), prog_bar = True, logger = True)\n",
    "        return {\"loss\": loss, \"accuracy\" : step_acc}\n",
    "    \n",
    "    def configure_optimizers(self):\n",
    "        \n",
    "        \n",
    "        optimizer = torch.optim.AdamW(self.parameters(), lr=3e-5)\n",
    "        scheduler = torch.optim.lr_scheduler.StepLR(\n",
    "        optimizer, step_size = 10, gamma = 0.1)\n",
    "        return {\"optimizer\": optimizer, \n",
    "               \"lr_scheduler\": {\n",
    "                   \"scheduler\": scheduler,\n",
    "                   \"monitor\": \"training_loss\"\n",
    "               }}"
   ]
  },
  {
   "cell_type": "code",
   "execution_count": 28,
   "id": "fe0f5b62",
   "metadata": {},
   "outputs": [],
   "source": [
    "model = LSTM_PL(\n",
    "n_features = len(FEATURES),\n",
    "n_classes = 2).to(device)"
   ]
  },
  {
   "cell_type": "code",
   "execution_count": 29,
   "id": "37cd6c56",
   "metadata": {
    "scrolled": true
   },
   "outputs": [
    {
     "name": "stderr",
     "output_type": "stream",
     "text": [
      "GPU available: False, used: False\n",
      "TPU available: False, using: 0 TPU cores\n",
      "IPU available: False, using: 0 IPUs\n",
      "HPU available: False, using: 0 HPUs\n",
      "\n",
      "  | Name      | Type             | Params\n",
      "-----------------------------------------------\n",
      "0 | model     | LSTM_Model       | 1.3 M \n",
      "1 | criterion | CrossEntropyLoss | 0     \n",
      "-----------------------------------------------\n",
      "1.3 M     Trainable params\n",
      "0         Non-trainable params\n",
      "1.3 M     Total params\n",
      "5.372     Total estimated model params size (MB)\n"
     ]
    },
    {
     "data": {
      "application/vnd.jupyter.widget-view+json": {
       "model_id": "",
       "version_major": 2,
       "version_minor": 0
      },
      "text/plain": [
       "Sanity Checking: 0it [00:00, ?it/s]"
      ]
     },
     "metadata": {},
     "output_type": "display_data"
    },
    {
     "data": {
      "application/vnd.jupyter.widget-view+json": {
       "model_id": "0420bff5e80c40809f4f6110059d424e",
       "version_major": 2,
       "version_minor": 0
      },
      "text/plain": [
       "Training: 0it [00:00, ?it/s]"
      ]
     },
     "metadata": {},
     "output_type": "display_data"
    },
    {
     "data": {
      "application/vnd.jupyter.widget-view+json": {
       "model_id": "",
       "version_major": 2,
       "version_minor": 0
      },
      "text/plain": [
       "Validation: 0it [00:00, ?it/s]"
      ]
     },
     "metadata": {},
     "output_type": "display_data"
    },
    {
     "data": {
      "application/vnd.jupyter.widget-view+json": {
       "model_id": "",
       "version_major": 2,
       "version_minor": 0
      },
      "text/plain": [
       "Validation: 0it [00:00, ?it/s]"
      ]
     },
     "metadata": {},
     "output_type": "display_data"
    },
    {
     "data": {
      "application/vnd.jupyter.widget-view+json": {
       "model_id": "",
       "version_major": 2,
       "version_minor": 0
      },
      "text/plain": [
       "Validation: 0it [00:00, ?it/s]"
      ]
     },
     "metadata": {},
     "output_type": "display_data"
    },
    {
     "data": {
      "application/vnd.jupyter.widget-view+json": {
       "model_id": "",
       "version_major": 2,
       "version_minor": 0
      },
      "text/plain": [
       "Validation: 0it [00:00, ?it/s]"
      ]
     },
     "metadata": {},
     "output_type": "display_data"
    },
    {
     "data": {
      "application/vnd.jupyter.widget-view+json": {
       "model_id": "",
       "version_major": 2,
       "version_minor": 0
      },
      "text/plain": [
       "Validation: 0it [00:00, ?it/s]"
      ]
     },
     "metadata": {},
     "output_type": "display_data"
    },
    {
     "data": {
      "application/vnd.jupyter.widget-view+json": {
       "model_id": "",
       "version_major": 2,
       "version_minor": 0
      },
      "text/plain": [
       "Validation: 0it [00:00, ?it/s]"
      ]
     },
     "metadata": {},
     "output_type": "display_data"
    },
    {
     "data": {
      "application/vnd.jupyter.widget-view+json": {
       "model_id": "",
       "version_major": 2,
       "version_minor": 0
      },
      "text/plain": [
       "Validation: 0it [00:00, ?it/s]"
      ]
     },
     "metadata": {},
     "output_type": "display_data"
    },
    {
     "data": {
      "application/vnd.jupyter.widget-view+json": {
       "model_id": "",
       "version_major": 2,
       "version_minor": 0
      },
      "text/plain": [
       "Validation: 0it [00:00, ?it/s]"
      ]
     },
     "metadata": {},
     "output_type": "display_data"
    },
    {
     "data": {
      "application/vnd.jupyter.widget-view+json": {
       "model_id": "",
       "version_major": 2,
       "version_minor": 0
      },
      "text/plain": [
       "Validation: 0it [00:00, ?it/s]"
      ]
     },
     "metadata": {},
     "output_type": "display_data"
    },
    {
     "data": {
      "application/vnd.jupyter.widget-view+json": {
       "model_id": "",
       "version_major": 2,
       "version_minor": 0
      },
      "text/plain": [
       "Validation: 0it [00:00, ?it/s]"
      ]
     },
     "metadata": {},
     "output_type": "display_data"
    },
    {
     "data": {
      "application/vnd.jupyter.widget-view+json": {
       "model_id": "",
       "version_major": 2,
       "version_minor": 0
      },
      "text/plain": [
       "Validation: 0it [00:00, ?it/s]"
      ]
     },
     "metadata": {},
     "output_type": "display_data"
    },
    {
     "data": {
      "application/vnd.jupyter.widget-view+json": {
       "model_id": "",
       "version_major": 2,
       "version_minor": 0
      },
      "text/plain": [
       "Validation: 0it [00:00, ?it/s]"
      ]
     },
     "metadata": {},
     "output_type": "display_data"
    },
    {
     "data": {
      "application/vnd.jupyter.widget-view+json": {
       "model_id": "",
       "version_major": 2,
       "version_minor": 0
      },
      "text/plain": [
       "Validation: 0it [00:00, ?it/s]"
      ]
     },
     "metadata": {},
     "output_type": "display_data"
    },
    {
     "data": {
      "application/vnd.jupyter.widget-view+json": {
       "model_id": "",
       "version_major": 2,
       "version_minor": 0
      },
      "text/plain": [
       "Validation: 0it [00:00, ?it/s]"
      ]
     },
     "metadata": {},
     "output_type": "display_data"
    },
    {
     "data": {
      "application/vnd.jupyter.widget-view+json": {
       "model_id": "",
       "version_major": 2,
       "version_minor": 0
      },
      "text/plain": [
       "Validation: 0it [00:00, ?it/s]"
      ]
     },
     "metadata": {},
     "output_type": "display_data"
    },
    {
     "data": {
      "application/vnd.jupyter.widget-view+json": {
       "model_id": "",
       "version_major": 2,
       "version_minor": 0
      },
      "text/plain": [
       "Validation: 0it [00:00, ?it/s]"
      ]
     },
     "metadata": {},
     "output_type": "display_data"
    },
    {
     "data": {
      "application/vnd.jupyter.widget-view+json": {
       "model_id": "",
       "version_major": 2,
       "version_minor": 0
      },
      "text/plain": [
       "Validation: 0it [00:00, ?it/s]"
      ]
     },
     "metadata": {},
     "output_type": "display_data"
    },
    {
     "data": {
      "application/vnd.jupyter.widget-view+json": {
       "model_id": "",
       "version_major": 2,
       "version_minor": 0
      },
      "text/plain": [
       "Validation: 0it [00:00, ?it/s]"
      ]
     },
     "metadata": {},
     "output_type": "display_data"
    },
    {
     "data": {
      "application/vnd.jupyter.widget-view+json": {
       "model_id": "",
       "version_major": 2,
       "version_minor": 0
      },
      "text/plain": [
       "Validation: 0it [00:00, ?it/s]"
      ]
     },
     "metadata": {},
     "output_type": "display_data"
    },
    {
     "data": {
      "application/vnd.jupyter.widget-view+json": {
       "model_id": "",
       "version_major": 2,
       "version_minor": 0
      },
      "text/plain": [
       "Validation: 0it [00:00, ?it/s]"
      ]
     },
     "metadata": {},
     "output_type": "display_data"
    },
    {
     "name": "stderr",
     "output_type": "stream",
     "text": [
      "`Trainer.fit` stopped: `max_epochs=20` reached.\n"
     ]
    }
   ],
   "source": [
    "trainer = Trainer(max_epochs = EPOCHS, gradient_clip_val=0.1)\n",
    "trainer.fit(model, data_module)"
   ]
  },
  {
   "cell_type": "code",
   "execution_count": null,
   "id": "3793bfe5",
   "metadata": {},
   "outputs": [],
   "source": []
  }
 ],
 "metadata": {
  "kernelspec": {
   "display_name": "Python 3.9 (transformers)",
   "language": "python",
   "name": "transformers"
  },
  "language_info": {
   "codemirror_mode": {
    "name": "ipython",
    "version": 3
   },
   "file_extension": ".py",
   "mimetype": "text/x-python",
   "name": "python",
   "nbconvert_exporter": "python",
   "pygments_lexer": "ipython3",
   "version": "3.9.12"
  }
 },
 "nbformat": 4,
 "nbformat_minor": 5
}
