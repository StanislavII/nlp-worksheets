{
 "cells": [
  {
   "cell_type": "code",
   "execution_count": 21,
   "id": "78a3b05b",
   "metadata": {},
   "outputs": [],
   "source": [
    "import torch\n",
    "import torch.nn as nn\n",
    "import torch.nn.functional as F"
   ]
  },
  {
   "cell_type": "code",
   "execution_count": 22,
   "id": "122841a8",
   "metadata": {},
   "outputs": [],
   "source": [
    "import numpy as np\n",
    "import pandas as pd\n",
    "from tqdm import tqdm"
   ]
  },
  {
   "cell_type": "code",
   "execution_count": 23,
   "id": "4e5b40ec",
   "metadata": {},
   "outputs": [],
   "source": [
    "from torch.utils.data import TensorDataset, DataLoader,Dataset"
   ]
  },
  {
   "cell_type": "code",
   "execution_count": 24,
   "id": "e3194fb4",
   "metadata": {},
   "outputs": [],
   "source": [
    "from pytorch_lightning import Trainer\n",
    "from pytorch_lightning.callbacks import ModelCheckpoint\n",
    "from pytorch_lightning.callbacks.early_stopping import EarlyStopping\n",
    "from pytorch_lightning import LightningModule, LightningDataModule"
   ]
  },
  {
   "cell_type": "code",
   "execution_count": 25,
   "id": "21ad5be4",
   "metadata": {},
   "outputs": [],
   "source": [
    "import warnings \n",
    "warnings.filterwarnings('ignore')"
   ]
  },
  {
   "cell_type": "code",
   "execution_count": 26,
   "id": "79d3841a",
   "metadata": {},
   "outputs": [],
   "source": [
    "import torchmetrics \n",
    "from torchmetrics.classification import BinaryAccuracy"
   ]
  },
  {
   "cell_type": "code",
   "execution_count": 27,
   "id": "3a01cd53",
   "metadata": {},
   "outputs": [],
   "source": [
    "from datetime import datetime"
   ]
  },
  {
   "cell_type": "code",
   "execution_count": null,
   "id": "135a90a3",
   "metadata": {},
   "outputs": [],
   "source": [
    "#skip"
   ]
  },
  {
   "cell_type": "code",
   "execution_count": null,
   "id": "e34348bd",
   "metadata": {},
   "outputs": [],
   "source": [
    "data = pd.read_pickle('jd_2_with_macro_v3.pkl')"
   ]
  },
  {
   "cell_type": "code",
   "execution_count": null,
   "id": "975be0c0",
   "metadata": {},
   "outputs": [],
   "source": [
    "data_reset = data.reset_index()"
   ]
  },
  {
   "cell_type": "code",
   "execution_count": null,
   "id": "b3a1b902",
   "metadata": {},
   "outputs": [],
   "source": [
    "target = data_reset[['account','target_24m']]"
   ]
  },
  {
   "cell_type": "code",
   "execution_count": null,
   "id": "bb254f4d",
   "metadata": {},
   "outputs": [],
   "source": [
    "target_total = target.groupby('account').mean()"
   ]
  },
  {
   "cell_type": "code",
   "execution_count": null,
   "id": "cf6036bf",
   "metadata": {},
   "outputs": [],
   "source": [
    "features = data_reset[['account','day_payment', 'balance_sum', 'day_debt_bad_max',\n",
    "                      'ipi1', 'ipi2', 'ppi1', 'ppi2',\n",
    "       'ppi3', 'cpi1', 'unemp1', 'gdp_nom', 'gdp_yoy', 'salary', 'sales',\n",
    "       'income_nom', 'income_real_1', 'income_real_2', 'USDRUB1', 'EURRUB1',\n",
    "       'brent', 'USDRUB_pct', 'brent_pct', 'EURRUB_pct', 'invst', 'key_rate']]"
   ]
  },
  {
   "cell_type": "code",
   "execution_count": null,
   "id": "acbe7cd9",
   "metadata": {},
   "outputs": [],
   "source": [
    "features.account.value_counts().mean()"
   ]
  },
  {
   "cell_type": "code",
   "execution_count": null,
   "id": "dbb53892",
   "metadata": {},
   "outputs": [],
   "source": [
    "indexes = data.index.get_level_values(0)"
   ]
  },
  {
   "cell_type": "code",
   "execution_count": null,
   "id": "f895b7da",
   "metadata": {},
   "outputs": [],
   "source": [
    "x = np.array(indexes)\n",
    "unique, counts = np.unique(x, return_counts=True)"
   ]
  },
  {
   "cell_type": "code",
   "execution_count": null,
   "id": "1b3daf5b",
   "metadata": {},
   "outputs": [],
   "source": [
    "counts_accs = np.asarray((unique, counts)).T"
   ]
  },
  {
   "cell_type": "code",
   "execution_count": null,
   "id": "e89cf910",
   "metadata": {},
   "outputs": [],
   "source": [
    "filter_ = counts_accs[counts_accs[:,1] >= 24][:,0]"
   ]
  },
  {
   "cell_type": "code",
   "execution_count": null,
   "id": "f54dea0a",
   "metadata": {},
   "outputs": [],
   "source": [
    "filter_df  = data[data.index.get_level_values(0).isin(filter_)]"
   ]
  },
  {
   "cell_type": "code",
   "execution_count": null,
   "id": "187583d4",
   "metadata": {},
   "outputs": [],
   "source": [
    "filter_df.iloc[::2,3:5]"
   ]
  },
  {
   "cell_type": "code",
   "execution_count": null,
   "id": "c57b0d5a",
   "metadata": {},
   "outputs": [],
   "source": [
    "filter_drop = filter_df.copy()\n",
    "filter_drop_reset = filter_drop.reset_index()"
   ]
  },
  {
   "cell_type": "code",
   "execution_count": null,
   "id": "87a784b3",
   "metadata": {},
   "outputs": [],
   "source": [
    "new_df = pd.DataFrame()"
   ]
  },
  {
   "cell_type": "code",
   "execution_count": null,
   "id": "c02fee58",
   "metadata": {},
   "outputs": [],
   "source": [
    "filter_drop_reset.head()"
   ]
  },
  {
   "cell_type": "code",
   "execution_count": null,
   "id": "2d96e928",
   "metadata": {},
   "outputs": [],
   "source": [
    "for idx in tqdm(filter_drop.index.get_level_values('account').unique()):\n",
    "    index_to_drop = filter_drop_reset[filter_drop_reset['account'] == idx][-24:]\n",
    "    \n",
    "    #filter_drop.drop((idx, i.strftime('%Y-%m-%d')), axis=0, inplace=True)\n",
    "    \n",
    "    new_df = new_df.append(index_to_drop)"
   ]
  },
  {
   "cell_type": "code",
   "execution_count": null,
   "id": "30872f00",
   "metadata": {},
   "outputs": [],
   "source": [
    "new_df.to_pickle('mid_term.pkl')"
   ]
  },
  {
   "cell_type": "code",
   "execution_count": null,
   "id": "9a5c2c75",
   "metadata": {},
   "outputs": [],
   "source": [
    "del data, data_reset, target, target_total, filter_df, filter_drop, filter_drop_reset,features"
   ]
  },
  {
   "cell_type": "code",
   "execution_count": null,
   "id": "64eeb552",
   "metadata": {},
   "outputs": [],
   "source": [
    "# start"
   ]
  },
  {
   "cell_type": "code",
   "execution_count": 28,
   "id": "243b0956",
   "metadata": {},
   "outputs": [],
   "source": [
    "from sklearn.preprocessing import LabelEncoder"
   ]
  },
  {
   "cell_type": "code",
   "execution_count": 173,
   "id": "1f1386d7",
   "metadata": {},
   "outputs": [],
   "source": [
    "new_df = pd.read_pickle('mid_term.pkl')"
   ]
  },
  {
   "cell_type": "code",
   "execution_count": 174,
   "id": "92bfa46c",
   "metadata": {},
   "outputs": [],
   "source": [
    "#new_df_new = new_df[new_df['sent_date'] > '2021-12-01']"
   ]
  },
  {
   "cell_type": "code",
   "execution_count": 10,
   "id": "4b98b2e1",
   "metadata": {},
   "outputs": [],
   "source": [
    "# feature imp"
   ]
  },
  {
   "cell_type": "code",
   "execution_count": 175,
   "id": "94efd364",
   "metadata": {},
   "outputs": [],
   "source": [
    "new_df_copy = new_df.copy()"
   ]
  },
  {
   "cell_type": "code",
   "execution_count": 176,
   "id": "acb19b14",
   "metadata": {},
   "outputs": [],
   "source": [
    "new_df_copy = new_df_copy[pd.notnull(new_df_copy['balance_sum'])]"
   ]
  },
  {
   "cell_type": "code",
   "execution_count": 177,
   "id": "5de05334",
   "metadata": {},
   "outputs": [],
   "source": [
    "sort_idx_notna = new_df_copy.groupby('account').size().sort_values(ascending=False).loc[lambda x : x >=24].index"
   ]
  },
  {
   "cell_type": "raw",
   "id": "b56f5f33",
   "metadata": {},
   "source": [
    "new_model = new_df_copy[new_df_copy.account.isin(sort_idx_notna) == False]\n",
    "target_load = new_model[['account','target_24m']].drop_duplicates()['target_24m'].values\n",
    "dolg_load = new_model[['account','dolg_loaded']].drop_duplicates()['dolg_loaded'].values\n",
    "account_load =new_model[['account','dolg_loaded']].drop_duplicates()['account'].values\n",
    "data_load = {'account': account_load, 'target': target_load, 'dolg': dolg_load}\n",
    "frame_load = pd.DataFrame(data = data_load)"
   ]
  },
  {
   "cell_type": "code",
   "execution_count": 178,
   "id": "28e4d197",
   "metadata": {},
   "outputs": [],
   "source": [
    "new_df_copy = new_df_copy[new_df_copy.account.isin(sort_idx_notna)]"
   ]
  },
  {
   "cell_type": "code",
   "execution_count": 179,
   "id": "c3d5d1a6",
   "metadata": {},
   "outputs": [],
   "source": [
    "target = new_df_copy[['account','target_24m']].drop_duplicates()"
   ]
  },
  {
   "cell_type": "code",
   "execution_count": 36,
   "id": "691dede8",
   "metadata": {},
   "outputs": [],
   "source": [
    "le = LabelEncoder()\n",
    "mrf_id = le.fit_transform(new_df_copy['mrf_service_id'])\n",
    "mrf_id = pd.get_dummies(mrf_id, prefix = 'mrf')"
   ]
  },
  {
   "cell_type": "code",
   "execution_count": 37,
   "id": "d4e1a29d",
   "metadata": {},
   "outputs": [],
   "source": [
    "new_df_copy.reset_index(inplace=True)\n",
    "new_df_copy.drop(columns = 'index', inplace = True)"
   ]
  },
  {
   "cell_type": "code",
   "execution_count": 38,
   "id": "c43f5f33",
   "metadata": {},
   "outputs": [],
   "source": [
    "new_df_copy = pd.concat([new_df_copy, mrf_id], axis = 1)"
   ]
  },
  {
   "cell_type": "code",
   "execution_count": 39,
   "id": "01dc932d",
   "metadata": {},
   "outputs": [],
   "source": [
    "le = LabelEncoder()\n",
    "rf_id = le.fit_transform(new_df_copy['rf_service_id'])\n",
    "rf_id = pd.get_dummies(rf_id, prefix = 'rf')"
   ]
  },
  {
   "cell_type": "code",
   "execution_count": 40,
   "id": "7a73d3d7",
   "metadata": {},
   "outputs": [],
   "source": [
    "new_df_copy = pd.concat([new_df_copy, rf_id], axis = 1)"
   ]
  },
  {
   "cell_type": "code",
   "execution_count": 41,
   "id": "cd6b5999",
   "metadata": {},
   "outputs": [],
   "source": [
    "#from tsfresh import extract_features, select_features\n",
    "#from tsfresh.utilities.dataframe_functions import impute\n",
    "#train = new_df_copy[['account', 'pay_date', 'day_payment']]\n",
    "#X = extract_features(train, column_id=\"account\", column_sort=\"pay_date\", impute_function=impute)\n",
    "#select = select_features(X, np.array(target['target_24m']))"
   ]
  },
  {
   "cell_type": "code",
   "execution_count": 42,
   "id": "7f171ca8",
   "metadata": {},
   "outputs": [],
   "source": [
    "FEATURES = ['day_payment', 'balance_sum', 'ipi1', 'ipi2',\n",
    "       'ppi1', 'ppi2', 'ppi3', 'cpi1', 'unemp1', 'gdp_nom', 'gdp_yoy',\n",
    "       'salary', 'sales', 'income_nom', 'income_real_1', 'income_real_2',\n",
    "       'USDRUB1', 'EURRUB1', 'brent', 'USDRUB_pct', 'brent_pct', 'EURRUB_pct',\n",
    "       'invst', 'key_rate', 'mrf_0', 'mrf_1', 'mrf_2', 'mrf_3', 'mrf_4',\n",
    "       'mrf_5', 'mrf_6', 'rf_0', 'rf_1', 'rf_2', 'rf_3', 'rf_4', 'rf_5', 'rf_6', 'rf_7',\n",
    "       'rf_8', 'rf_9', 'rf_10', 'rf_11', 'rf_12', 'rf_13', 'rf_14', 'rf_15',\n",
    "       'rf_16', 'rf_17', 'rf_18', 'rf_19', 'rf_20', 'rf_21', 'rf_22', 'rf_23',\n",
    "       'rf_24', 'rf_25', 'rf_26', 'rf_27', 'rf_28', 'rf_29', 'rf_30', 'rf_31',\n",
    "       'rf_32', 'rf_33', 'rf_34', 'rf_35', 'rf_36', 'rf_37', 'rf_38', 'rf_39',\n",
    "       'rf_40', 'rf_41', 'rf_42', 'rf_43', 'rf_44', 'rf_45', 'rf_46', 'rf_47',\n",
    "       'rf_48', 'rf_49', 'rf_50', 'rf_51', 'rf_52', 'rf_53', 'rf_54', 'rf_55', 'rf_56',\n",
    "       'rf_57', 'rf_58', 'rf_59', 'rf_60', 'rf_61', 'rf_62', 'rf_63', 'rf_64',\n",
    "       'rf_65', 'rf_66', 'rf_67', 'rf_68', 'rf_69', 'rf_70', 'rf_71', 'rf_72',\n",
    "       'rf_73', 'rf_74']"
   ]
  },
  {
   "cell_type": "code",
   "execution_count": 43,
   "id": "31a64d8a",
   "metadata": {},
   "outputs": [],
   "source": [
    "FEATURES_scale = ['day_payment', 'balance_sum', 'ipi1', 'ipi2',\n",
    "       'ppi1', 'ppi2', 'ppi3', 'cpi1', 'unemp1', 'gdp_nom', 'gdp_yoy',\n",
    "       'salary', 'sales', 'income_nom', 'income_real_1', 'income_real_2',\n",
    "       'USDRUB1', 'EURRUB1', 'brent', 'USDRUB_pct', 'brent_pct', 'EURRUB_pct',\n",
    "       'invst', 'key_rate']"
   ]
  },
  {
   "cell_type": "code",
   "execution_count": 44,
   "id": "720eed22",
   "metadata": {},
   "outputs": [],
   "source": [
    "X_train = new_df_copy[['account', 'day_payment', 'balance_sum', 'ipi1', 'ipi2',\n",
    "       'ppi1', 'ppi2', 'ppi3', 'cpi1', 'unemp1', 'gdp_nom', 'gdp_yoy',\n",
    "       'salary', 'sales', 'income_nom', 'income_real_1', 'income_real_2',\n",
    "       'USDRUB1', 'EURRUB1', 'brent', 'USDRUB_pct', 'brent_pct', 'EURRUB_pct',\n",
    "       'invst', 'key_rate', 'mrf_0', 'mrf_1', 'mrf_2', 'mrf_3', 'mrf_4',\n",
    "       'mrf_5', 'mrf_6', 'rf_0', 'rf_1', 'rf_2', 'rf_3', 'rf_4', 'rf_5', 'rf_6', 'rf_7',\n",
    "       'rf_8', 'rf_9', 'rf_10', 'rf_11', 'rf_12', 'rf_13', 'rf_14', 'rf_15',\n",
    "       'rf_16', 'rf_17', 'rf_18', 'rf_19', 'rf_20', 'rf_21', 'rf_22', 'rf_23',\n",
    "       'rf_24', 'rf_25', 'rf_26', 'rf_27', 'rf_28', 'rf_29', 'rf_30', 'rf_31',\n",
    "       'rf_32', 'rf_33', 'rf_34', 'rf_35', 'rf_36', 'rf_37', 'rf_38', 'rf_39',\n",
    "       'rf_40', 'rf_41', 'rf_42', 'rf_43', 'rf_44', 'rf_45', 'rf_46', 'rf_47',\n",
    "       'rf_48', 'rf_49', 'rf_50', 'rf_51', 'rf_52', 'rf_53', 'rf_54', 'rf_55', 'rf_56',\n",
    "       'rf_57', 'rf_58', 'rf_59', 'rf_60', 'rf_61', 'rf_62', 'rf_63', 'rf_64',\n",
    "       'rf_65', 'rf_66', 'rf_67', 'rf_68', 'rf_69', 'rf_70', 'rf_71', 'rf_72',\n",
    "       'rf_73', 'rf_74']]"
   ]
  },
  {
   "cell_type": "code",
   "execution_count": 45,
   "id": "c67e8a4b",
   "metadata": {},
   "outputs": [],
   "source": [
    "from sklearn.preprocessing import MinMaxScaler\n",
    "scaler = MinMaxScaler()\n",
    "X_train[FEATURES_scale] = scaler.fit_transform(X_train[FEATURES_scale])"
   ]
  },
  {
   "cell_type": "code",
   "execution_count": 46,
   "id": "43407485",
   "metadata": {
    "scrolled": true
   },
   "outputs": [
    {
     "name": "stderr",
     "output_type": "stream",
     "text": [
      "100%|███████████████████████████████████| 72862/72862 [00:37<00:00, 1956.53it/s]\n"
     ]
    }
   ],
   "source": [
    "sequences = []\n",
    "\n",
    "for idx, group in tqdm(X_train.groupby('account')):\n",
    "    \n",
    "    seq_feat = group[FEATURES]\n",
    "    label = target[target.account == idx].iloc[0].target_24m\n",
    "    \n",
    "    sequences.append((seq_feat, int(label)))"
   ]
  },
  {
   "cell_type": "code",
   "execution_count": 36,
   "id": "fbe234f5",
   "metadata": {},
   "outputs": [],
   "source": [
    "from sklearn.model_selection import train_test_split\n",
    "train_seq, test_seq = train_test_split(sequences, test_size = 0.2)"
   ]
  },
  {
   "cell_type": "code",
   "execution_count": 47,
   "id": "bf71551a",
   "metadata": {},
   "outputs": [],
   "source": [
    "del new_df, new_df_copy, new_df_new, X_train"
   ]
  },
  {
   "cell_type": "markdown",
   "id": "bb7df602",
   "metadata": {},
   "source": [
    "## Dataset"
   ]
  },
  {
   "cell_type": "raw",
   "id": "a5cd8e08",
   "metadata": {},
   "source": [
    "class Lstm_Dataset(Dataset):\n",
    "    \n",
    "    def __init__(self, sequences):\n",
    "        self.sequences = sequences\n",
    "    \n",
    "    def __len__(self):\n",
    "        \n",
    "        return len(self.sequences)\n",
    "    \n",
    "    def __getitem__(self, item):\n",
    "        \n",
    "        sequence, label = self.sequences[item]\n",
    "        \n",
    "        return dict( sequence = torch.Tensor(sequence.to_numpy()),\n",
    "                    label = torch.Tensor(label).long()\n",
    "        )"
   ]
  },
  {
   "cell_type": "code",
   "execution_count": 48,
   "id": "45c506aa",
   "metadata": {},
   "outputs": [],
   "source": [
    "from dataset_lstm import Lstm_Dataset"
   ]
  },
  {
   "cell_type": "code",
   "execution_count": 49,
   "id": "9fe1de90",
   "metadata": {},
   "outputs": [],
   "source": [
    "class SurfaceModule(LightningDataModule):\n",
    "    \n",
    "    def __init__(self, train_seq, test_seq, batch_size):\n",
    "        super().__init__()\n",
    "        self.train_seq = train_seq\n",
    "        self.test_seq = test_seq\n",
    "        self.batch_size = batch_size\n",
    "        \n",
    "    def setup(self, stage = None):\n",
    "        self.train_dataset = Lstm_Dataset(self.train_seq)\n",
    "        self.test_dataset = Lstm_Dataset(self.test_seq)\n",
    "    \n",
    "    def train_dataloader(self):\n",
    "        \n",
    "        return( DataLoader(\n",
    "        self.train_dataset, \n",
    "        batch_size = self.batch_size,\n",
    "        shuffle = True, num_workers = 4))\n",
    "    \n",
    "    def val_dataloader(self):\n",
    "        \n",
    "        return( DataLoader(\n",
    "        self.test_dataset, \n",
    "        batch_size = self.batch_size,\n",
    "        shuffle = False, num_workers = 4))\n",
    "    \n",
    "    def test_dataloader(self):\n",
    "        \n",
    "        return( DataLoader(\n",
    "        self.test_dataset, \n",
    "        batch_size = self.batch_size,\n",
    "        shuffle = False, num_workers = 4))"
   ]
  },
  {
   "cell_type": "code",
   "execution_count": 50,
   "id": "749b779a",
   "metadata": {},
   "outputs": [
    {
     "ename": "NameError",
     "evalue": "name 'train_seq' is not defined",
     "output_type": "error",
     "traceback": [
      "\u001b[0;31m---------------------------------------------------------------------------\u001b[0m",
      "\u001b[0;31mNameError\u001b[0m                                 Traceback (most recent call last)",
      "Cell \u001b[0;32mIn [50], line 5\u001b[0m\n\u001b[1;32m      1\u001b[0m EPOCHS \u001b[38;5;241m=\u001b[39m \u001b[38;5;241m100\u001b[39m\n\u001b[1;32m      2\u001b[0m BATCH_SIZE \u001b[38;5;241m=\u001b[39m \u001b[38;5;241m256\u001b[39m\n\u001b[0;32m----> 5\u001b[0m data_module \u001b[38;5;241m=\u001b[39m SurfaceModule(\u001b[43mtrain_seq\u001b[49m, test_seq, BATCH_SIZE)\n",
      "\u001b[0;31mNameError\u001b[0m: name 'train_seq' is not defined"
     ]
    }
   ],
   "source": [
    "EPOCHS = 100\n",
    "BATCH_SIZE = 256\n",
    "\n",
    "\n",
    "data_module = SurfaceModule(train_seq, test_seq, BATCH_SIZE)"
   ]
  },
  {
   "cell_type": "markdown",
   "id": "90c7be7a",
   "metadata": {},
   "source": [
    "## Model"
   ]
  },
  {
   "cell_type": "code",
   "execution_count": 51,
   "id": "0367384c",
   "metadata": {},
   "outputs": [],
   "source": [
    "device = torch.device('cpu')\n",
    "if torch.cuda.is_available():\n",
    "    device = torch.device('cuda:0')"
   ]
  },
  {
   "cell_type": "code",
   "execution_count": 52,
   "id": "ebe4e28a",
   "metadata": {},
   "outputs": [],
   "source": [
    "class _SepConv1d(nn.Module):\n",
    "    \n",
    "    def __init__(self, ni, no, kernel, stride, pad):\n",
    "        super().__init__()\n",
    "        self.depthwise = nn.Conv1d(ni, ni, kernel, stride, padding=pad, groups=ni)\n",
    "        self.pointwise = nn.Conv1d(ni, no, kernel_size=1)\n",
    "\n",
    "    def forward(self, x):\n",
    "        return self.pointwise(self.depthwise(x))"
   ]
  },
  {
   "cell_type": "code",
   "execution_count": 53,
   "id": "6c7463ad",
   "metadata": {},
   "outputs": [],
   "source": [
    "class SepConv1d(nn.Module):\n",
    "\n",
    "    def __init__(self, ni, no, kernel, stride, pad, \n",
    "                 drop=None, bn=True,\n",
    "                 activ=lambda: nn.PReLU()):\n",
    "    \n",
    "        super().__init__()\n",
    "        assert drop is None or (0.0 < drop < 1.0)\n",
    "        layers = [_SepConv1d(ni, no, kernel, stride, pad)]\n",
    "        if activ:\n",
    "            layers.append(activ())\n",
    "        if bn:\n",
    "            layers.append(nn.BatchNorm1d(no))\n",
    "        if drop is not None:\n",
    "            layers.append(nn.Dropout(drop))\n",
    "        self.layers = nn.Sequential(*layers)\n",
    "        \n",
    "    def forward(self, x): \n",
    "        return self.layers(x)"
   ]
  },
  {
   "cell_type": "code",
   "execution_count": 54,
   "id": "5b8da76a",
   "metadata": {},
   "outputs": [],
   "source": [
    "class Flatten(nn.Module):\n",
    "\n",
    "    def __init__(self, keep_batch_dim=True):\n",
    "        super().__init__()\n",
    "        self.keep_batch_dim = keep_batch_dim\n",
    "\n",
    "    def forward(self, x):\n",
    "        if self.keep_batch_dim:\n",
    "            return x.view(x.size(0), -1)\n",
    "        return x.view(-1)"
   ]
  },
  {
   "cell_type": "code",
   "execution_count": 55,
   "id": "3313732d",
   "metadata": {},
   "outputs": [],
   "source": [
    "from torch.autograd import Variable"
   ]
  },
  {
   "cell_type": "code",
   "execution_count": 56,
   "id": "3a1f8255",
   "metadata": {},
   "outputs": [],
   "source": [
    "class LSTM_Model(nn.Module):\n",
    "    \n",
    "    def __init__(self, n_features, n_classes, dropout, n_hidden = 256, n_layers = 3, attention_cnn = True):\n",
    "        super().__init__()\n",
    "        \n",
    "        self.n_hidden = n_hidden\n",
    "        self.n_layers = n_layers\n",
    "        self.n_classes = n_classes\n",
    "        self.attention_cnn = attention_cnn\n",
    "        self.fft = nn.Sequential(\n",
    "            SepConv1d(n_features, 32, 8, 2, 4, drop = dropout),\n",
    "            SepConv1d(32,  32, 3, 1, 1, drop = dropout),\n",
    "            SepConv1d(32,  64, 6, 2, 4, drop = dropout),\n",
    "            SepConv1d(64,  64, 3, 1, 1, drop = dropout),\n",
    "            SepConv1d(64, 128, 6, 4, 4, drop = dropout),\n",
    "            SepConv1d(128, 128, 6, 4, 4, drop = dropout),\n",
    "            SepConv1d(128, 256, 6, 2, 3),\n",
    "            Flatten(),\n",
    "            nn.Dropout(dropout), nn.Linear(512, 256), nn.PReLU(), nn.BatchNorm1d(256))\n",
    "            #nn.Dropout(dropout), nn.Linear(256 , 128), nn.PReLU(), nn.BatchNorm1d(128))\n",
    "        \n",
    "        \n",
    "        \n",
    "        self.lstm = nn.LSTM(input_size = n_features, \n",
    "                           hidden_size = n_hidden,\n",
    "                           num_layers = n_layers,\n",
    "                           bidirectional = True,\n",
    "                           #batch_first = True,\n",
    "                           dropout = dropout)\n",
    "        \n",
    "        self.out = nn.Sequential(nn.Linear(768,256), nn.ReLU(inplace = True),\n",
    "            nn.Linear(256, 64), nn.ReLU(inplace=True), nn.Linear(64, n_classes))\n",
    "        \n",
    "        self.init_weights(nn.init.kaiming_normal_)\n",
    "        \n",
    "    def attention_net(self, lstm_output, final_state):\n",
    "        \n",
    "        hidden = final_state.view(-1, self.n_hidden * 2, self.n_layers)  \n",
    "        attn_weights = torch.bmm(lstm_output, hidden)\n",
    "        soft_attn_weights = F.softmax(attn_weights, 1)\n",
    "        context = torch.bmm(lstm_output.transpose(1, 2), soft_attn_weights)\n",
    "        return context, soft_attn_weights.data.numpy()\n",
    "        \n",
    "    def init_weights(self, init_fn):\n",
    "        def init(m): \n",
    "            for child in m.children():\n",
    "                if isinstance(child, nn.Conv1d):\n",
    "                    init_fn(child.weights)\n",
    "        init(self)\n",
    "        \n",
    "    def forward(self, x):\n",
    "        \n",
    "        if self.attention_cnn:\n",
    "        \n",
    "            x_perm = x.permute(1,0,2)\n",
    "            hidden_state = Variable(torch.zeros(self.n_layers * 2 , x_perm.shape[1] , self.n_hidden)) \n",
    "            cell_state = Variable(torch.zeros(self.n_layers * 2 , x_perm.shape[1], self.n_hidden)) \n",
    "\n",
    "            output, (final_hidden_state, final_cell_state) = self.lstm(x_perm, (hidden_state, cell_state))\n",
    "            output = output.permute(1, 0, 2)\n",
    "            attn_output, attention = self.attention_net(output, final_hidden_state)\n",
    "            \n",
    "            self.fft_out = self.fft(x.permute(0,2,1))\n",
    "        \n",
    "            t_in = torch.cat([attn_output.sum(2), self.fft_out], dim=1)\n",
    "            out = self.out(t_in)\n",
    "        \n",
    "        else:\n",
    "        \n",
    "            self.lstm.flatten_parameters()\n",
    "            _, (self.hidden, _) = self.lstm(x)\n",
    "            \n",
    "            model_test = nn.Sequential(nn.Linear(256,64), nn.ReLU(), nn.Linear(64, self.n_classes))\n",
    "            out = model_test(self.hidden[-1])\n",
    "        \n",
    "        \n",
    "            \n",
    "        return out\n",
    "    "
   ]
  },
  {
   "cell_type": "code",
   "execution_count": 57,
   "id": "0fd1afd3",
   "metadata": {},
   "outputs": [],
   "source": [
    "class LSTM_PL(LightningModule):\n",
    "    def __init__(self, n_features, n_classes):\n",
    "        super().__init__()\n",
    "        self.save_hyperparameters()\n",
    "        \n",
    "        self.train_acc = BinaryAccuracy()\n",
    "        self.val_acc = BinaryAccuracy()\n",
    "        \n",
    "        self.model = LSTM_Model(n_features, n_classes, dropout = 0.5)\n",
    "        self.criterion = nn.BCEWithLogitsLoss()\n",
    "        #self.criterion = nn.CrossEntropyLoss()\n",
    "\n",
    "    def forward(self, x):\n",
    "        \n",
    "        output = self.model(x['sequence'])\n",
    "        output = output.view(-1)\n",
    "\n",
    "        return output\n",
    "\n",
    "    def training_step(self, batch, *args):\n",
    "        \n",
    "        sequences = batch['sequence']\n",
    "        labels = batch['label'].float()\n",
    "        \n",
    "        output = self.forward(batch)\n",
    "        loss = self.criterion(output, labels.to(device))\n",
    "    \n",
    "        self.train_acc(output.round(), labels)\n",
    "        \n",
    "        self.log(\"training_loss\", loss.item(), prog_bar = True, logger = True, on_step = True, on_epoch=True)\n",
    "        self.log(\"training_accuracy\", self.train_acc, prog_bar = True, logger = True, on_step = True, on_epoch=True)\n",
    "        return {\"loss\": loss}\n",
    "    \n",
    "\n",
    "    def validation_step(self, batch, *args):\n",
    "        \n",
    "        sequences = batch['sequence']\n",
    "        labels = batch['label'].float()\n",
    "        \n",
    "        output = self.forward(batch)\n",
    "        loss = self.criterion(output, labels.to(device))\n",
    "        \n",
    "        self.val_acc(output.round(), labels)\n",
    "        self.log(\"val_loss\", loss.item(), prog_bar = True, logger = True, on_step = False, on_epoch=True)\n",
    "        self.log(\"val_accuracy\", self.val_acc, prog_bar = True, logger = True, on_step = False, on_epoch=True)\n",
    "        return {\"loss\": loss}\n",
    "\n",
    "    def test_step(self, batch, *args):\n",
    "        \n",
    "        sequences = batch['sequence']\n",
    "        labels = batch['label']\n",
    "        \n",
    "        output = self.forward(batch)\n",
    "        loss = self.criterion(output, batch['label'].to(device))\n",
    "        predictions = torch.argmax(output, dim = 1)\n",
    "        \n",
    "        self.log(\"test_loss\", loss.item(), prog_bar = True, logger = True, on_step = False, on_epoch=True)\n",
    "        return {\"loss\": loss, \"accuracy\" : step_acc}\n",
    "    \n",
    "    def configure_optimizers(self):\n",
    "        \n",
    "        \n",
    "        optimizer = torch.optim.Adam(self.parameters(), lr=3e-3)\n",
    "        scheduler = torch.optim.lr_scheduler.StepLR(\n",
    "        optimizer, step_size = 20, gamma = 0.5)\n",
    "        return {\"optimizer\": optimizer, \n",
    "               \"lr_scheduler\": {\n",
    "                   \"scheduler\": scheduler,\n",
    "                   \"monitor\": \"training_loss\"\n",
    "               }}"
   ]
  },
  {
   "cell_type": "code",
   "execution_count": 58,
   "id": "fe0f5b62",
   "metadata": {},
   "outputs": [],
   "source": [
    "model = LSTM_PL(\n",
    "n_features = len(FEATURES),\n",
    "n_classes = 1).to(device)"
   ]
  },
  {
   "cell_type": "code",
   "execution_count": 59,
   "id": "c34d3b7c",
   "metadata": {},
   "outputs": [],
   "source": [
    "from pytorch_lightning.callbacks import ModelCheckpoint"
   ]
  },
  {
   "cell_type": "code",
   "execution_count": 83,
   "id": "37cd6c56",
   "metadata": {
    "scrolled": true
   },
   "outputs": [
    {
     "name": "stderr",
     "output_type": "stream",
     "text": [
      "GPU available: False, used: False\n",
      "TPU available: False, using: 0 TPU cores\n",
      "IPU available: False, using: 0 IPUs\n",
      "HPU available: False, using: 0 HPUs\n",
      "\n",
      "  | Name      | Type              | Params\n",
      "------------------------------------------------\n",
      "0 | train_acc | BinaryAccuracy    | 0     \n",
      "1 | val_acc   | BinaryAccuracy    | 0     \n",
      "2 | model     | LSTM_Model        | 4.3 M \n",
      "3 | criterion | BCEWithLogitsLoss | 0     \n",
      "------------------------------------------------\n",
      "4.3 M     Trainable params\n",
      "0         Non-trainable params\n",
      "4.3 M     Total params\n",
      "17.274    Total estimated model params size (MB)\n"
     ]
    },
    {
     "data": {
      "application/vnd.jupyter.widget-view+json": {
       "model_id": "",
       "version_major": 2,
       "version_minor": 0
      },
      "text/plain": [
       "Sanity Checking: 0it [00:00, ?it/s]"
      ]
     },
     "metadata": {},
     "output_type": "display_data"
    },
    {
     "data": {
      "application/vnd.jupyter.widget-view+json": {
       "model_id": "7ca34f2ceeca493ca10d34a2ce5048eb",
       "version_major": 2,
       "version_minor": 0
      },
      "text/plain": [
       "Training: 0it [00:00, ?it/s]"
      ]
     },
     "metadata": {},
     "output_type": "display_data"
    },
    {
     "data": {
      "application/vnd.jupyter.widget-view+json": {
       "model_id": "",
       "version_major": 2,
       "version_minor": 0
      },
      "text/plain": [
       "Validation: 0it [00:00, ?it/s]"
      ]
     },
     "metadata": {},
     "output_type": "display_data"
    },
    {
     "data": {
      "application/vnd.jupyter.widget-view+json": {
       "model_id": "",
       "version_major": 2,
       "version_minor": 0
      },
      "text/plain": [
       "Validation: 0it [00:00, ?it/s]"
      ]
     },
     "metadata": {},
     "output_type": "display_data"
    },
    {
     "data": {
      "application/vnd.jupyter.widget-view+json": {
       "model_id": "",
       "version_major": 2,
       "version_minor": 0
      },
      "text/plain": [
       "Validation: 0it [00:00, ?it/s]"
      ]
     },
     "metadata": {},
     "output_type": "display_data"
    },
    {
     "data": {
      "application/vnd.jupyter.widget-view+json": {
       "model_id": "",
       "version_major": 2,
       "version_minor": 0
      },
      "text/plain": [
       "Validation: 0it [00:00, ?it/s]"
      ]
     },
     "metadata": {},
     "output_type": "display_data"
    },
    {
     "data": {
      "application/vnd.jupyter.widget-view+json": {
       "model_id": "",
       "version_major": 2,
       "version_minor": 0
      },
      "text/plain": [
       "Validation: 0it [00:00, ?it/s]"
      ]
     },
     "metadata": {},
     "output_type": "display_data"
    },
    {
     "data": {
      "application/vnd.jupyter.widget-view+json": {
       "model_id": "",
       "version_major": 2,
       "version_minor": 0
      },
      "text/plain": [
       "Validation: 0it [00:00, ?it/s]"
      ]
     },
     "metadata": {},
     "output_type": "display_data"
    },
    {
     "data": {
      "application/vnd.jupyter.widget-view+json": {
       "model_id": "",
       "version_major": 2,
       "version_minor": 0
      },
      "text/plain": [
       "Validation: 0it [00:00, ?it/s]"
      ]
     },
     "metadata": {},
     "output_type": "display_data"
    },
    {
     "data": {
      "application/vnd.jupyter.widget-view+json": {
       "model_id": "",
       "version_major": 2,
       "version_minor": 0
      },
      "text/plain": [
       "Validation: 0it [00:00, ?it/s]"
      ]
     },
     "metadata": {},
     "output_type": "display_data"
    },
    {
     "data": {
      "application/vnd.jupyter.widget-view+json": {
       "model_id": "",
       "version_major": 2,
       "version_minor": 0
      },
      "text/plain": [
       "Validation: 0it [00:00, ?it/s]"
      ]
     },
     "metadata": {},
     "output_type": "display_data"
    },
    {
     "data": {
      "application/vnd.jupyter.widget-view+json": {
       "model_id": "",
       "version_major": 2,
       "version_minor": 0
      },
      "text/plain": [
       "Validation: 0it [00:00, ?it/s]"
      ]
     },
     "metadata": {},
     "output_type": "display_data"
    },
    {
     "data": {
      "application/vnd.jupyter.widget-view+json": {
       "model_id": "",
       "version_major": 2,
       "version_minor": 0
      },
      "text/plain": [
       "Validation: 0it [00:00, ?it/s]"
      ]
     },
     "metadata": {},
     "output_type": "display_data"
    },
    {
     "data": {
      "application/vnd.jupyter.widget-view+json": {
       "model_id": "",
       "version_major": 2,
       "version_minor": 0
      },
      "text/plain": [
       "Validation: 0it [00:00, ?it/s]"
      ]
     },
     "metadata": {},
     "output_type": "display_data"
    },
    {
     "data": {
      "application/vnd.jupyter.widget-view+json": {
       "model_id": "",
       "version_major": 2,
       "version_minor": 0
      },
      "text/plain": [
       "Validation: 0it [00:00, ?it/s]"
      ]
     },
     "metadata": {},
     "output_type": "display_data"
    },
    {
     "data": {
      "application/vnd.jupyter.widget-view+json": {
       "model_id": "",
       "version_major": 2,
       "version_minor": 0
      },
      "text/plain": [
       "Validation: 0it [00:00, ?it/s]"
      ]
     },
     "metadata": {},
     "output_type": "display_data"
    },
    {
     "data": {
      "application/vnd.jupyter.widget-view+json": {
       "model_id": "",
       "version_major": 2,
       "version_minor": 0
      },
      "text/plain": [
       "Validation: 0it [00:00, ?it/s]"
      ]
     },
     "metadata": {},
     "output_type": "display_data"
    },
    {
     "data": {
      "application/vnd.jupyter.widget-view+json": {
       "model_id": "",
       "version_major": 2,
       "version_minor": 0
      },
      "text/plain": [
       "Validation: 0it [00:00, ?it/s]"
      ]
     },
     "metadata": {},
     "output_type": "display_data"
    },
    {
     "data": {
      "application/vnd.jupyter.widget-view+json": {
       "model_id": "",
       "version_major": 2,
       "version_minor": 0
      },
      "text/plain": [
       "Validation: 0it [00:00, ?it/s]"
      ]
     },
     "metadata": {},
     "output_type": "display_data"
    },
    {
     "data": {
      "application/vnd.jupyter.widget-view+json": {
       "model_id": "",
       "version_major": 2,
       "version_minor": 0
      },
      "text/plain": [
       "Validation: 0it [00:00, ?it/s]"
      ]
     },
     "metadata": {},
     "output_type": "display_data"
    },
    {
     "data": {
      "application/vnd.jupyter.widget-view+json": {
       "model_id": "",
       "version_major": 2,
       "version_minor": 0
      },
      "text/plain": [
       "Validation: 0it [00:00, ?it/s]"
      ]
     },
     "metadata": {},
     "output_type": "display_data"
    },
    {
     "data": {
      "application/vnd.jupyter.widget-view+json": {
       "model_id": "",
       "version_major": 2,
       "version_minor": 0
      },
      "text/plain": [
       "Validation: 0it [00:00, ?it/s]"
      ]
     },
     "metadata": {},
     "output_type": "display_data"
    },
    {
     "data": {
      "application/vnd.jupyter.widget-view+json": {
       "model_id": "",
       "version_major": 2,
       "version_minor": 0
      },
      "text/plain": [
       "Validation: 0it [00:00, ?it/s]"
      ]
     },
     "metadata": {},
     "output_type": "display_data"
    },
    {
     "data": {
      "application/vnd.jupyter.widget-view+json": {
       "model_id": "",
       "version_major": 2,
       "version_minor": 0
      },
      "text/plain": [
       "Validation: 0it [00:00, ?it/s]"
      ]
     },
     "metadata": {},
     "output_type": "display_data"
    },
    {
     "data": {
      "application/vnd.jupyter.widget-view+json": {
       "model_id": "",
       "version_major": 2,
       "version_minor": 0
      },
      "text/plain": [
       "Validation: 0it [00:00, ?it/s]"
      ]
     },
     "metadata": {},
     "output_type": "display_data"
    },
    {
     "data": {
      "application/vnd.jupyter.widget-view+json": {
       "model_id": "",
       "version_major": 2,
       "version_minor": 0
      },
      "text/plain": [
       "Validation: 0it [00:00, ?it/s]"
      ]
     },
     "metadata": {},
     "output_type": "display_data"
    },
    {
     "data": {
      "application/vnd.jupyter.widget-view+json": {
       "model_id": "",
       "version_major": 2,
       "version_minor": 0
      },
      "text/plain": [
       "Validation: 0it [00:00, ?it/s]"
      ]
     },
     "metadata": {},
     "output_type": "display_data"
    },
    {
     "data": {
      "application/vnd.jupyter.widget-view+json": {
       "model_id": "",
       "version_major": 2,
       "version_minor": 0
      },
      "text/plain": [
       "Validation: 0it [00:00, ?it/s]"
      ]
     },
     "metadata": {},
     "output_type": "display_data"
    },
    {
     "data": {
      "application/vnd.jupyter.widget-view+json": {
       "model_id": "",
       "version_major": 2,
       "version_minor": 0
      },
      "text/plain": [
       "Validation: 0it [00:00, ?it/s]"
      ]
     },
     "metadata": {},
     "output_type": "display_data"
    },
    {
     "data": {
      "application/vnd.jupyter.widget-view+json": {
       "model_id": "",
       "version_major": 2,
       "version_minor": 0
      },
      "text/plain": [
       "Validation: 0it [00:00, ?it/s]"
      ]
     },
     "metadata": {},
     "output_type": "display_data"
    },
    {
     "data": {
      "application/vnd.jupyter.widget-view+json": {
       "model_id": "",
       "version_major": 2,
       "version_minor": 0
      },
      "text/plain": [
       "Validation: 0it [00:00, ?it/s]"
      ]
     },
     "metadata": {},
     "output_type": "display_data"
    },
    {
     "data": {
      "application/vnd.jupyter.widget-view+json": {
       "model_id": "",
       "version_major": 2,
       "version_minor": 0
      },
      "text/plain": [
       "Validation: 0it [00:00, ?it/s]"
      ]
     },
     "metadata": {},
     "output_type": "display_data"
    },
    {
     "data": {
      "application/vnd.jupyter.widget-view+json": {
       "model_id": "",
       "version_major": 2,
       "version_minor": 0
      },
      "text/plain": [
       "Validation: 0it [00:00, ?it/s]"
      ]
     },
     "metadata": {},
     "output_type": "display_data"
    },
    {
     "data": {
      "application/vnd.jupyter.widget-view+json": {
       "model_id": "",
       "version_major": 2,
       "version_minor": 0
      },
      "text/plain": [
       "Validation: 0it [00:00, ?it/s]"
      ]
     },
     "metadata": {},
     "output_type": "display_data"
    },
    {
     "data": {
      "application/vnd.jupyter.widget-view+json": {
       "model_id": "",
       "version_major": 2,
       "version_minor": 0
      },
      "text/plain": [
       "Validation: 0it [00:00, ?it/s]"
      ]
     },
     "metadata": {},
     "output_type": "display_data"
    },
    {
     "data": {
      "application/vnd.jupyter.widget-view+json": {
       "model_id": "",
       "version_major": 2,
       "version_minor": 0
      },
      "text/plain": [
       "Validation: 0it [00:00, ?it/s]"
      ]
     },
     "metadata": {},
     "output_type": "display_data"
    },
    {
     "data": {
      "application/vnd.jupyter.widget-view+json": {
       "model_id": "",
       "version_major": 2,
       "version_minor": 0
      },
      "text/plain": [
       "Validation: 0it [00:00, ?it/s]"
      ]
     },
     "metadata": {},
     "output_type": "display_data"
    },
    {
     "data": {
      "application/vnd.jupyter.widget-view+json": {
       "model_id": "",
       "version_major": 2,
       "version_minor": 0
      },
      "text/plain": [
       "Validation: 0it [00:00, ?it/s]"
      ]
     },
     "metadata": {},
     "output_type": "display_data"
    },
    {
     "data": {
      "application/vnd.jupyter.widget-view+json": {
       "model_id": "",
       "version_major": 2,
       "version_minor": 0
      },
      "text/plain": [
       "Validation: 0it [00:00, ?it/s]"
      ]
     },
     "metadata": {},
     "output_type": "display_data"
    },
    {
     "data": {
      "application/vnd.jupyter.widget-view+json": {
       "model_id": "",
       "version_major": 2,
       "version_minor": 0
      },
      "text/plain": [
       "Validation: 0it [00:00, ?it/s]"
      ]
     },
     "metadata": {},
     "output_type": "display_data"
    },
    {
     "data": {
      "application/vnd.jupyter.widget-view+json": {
       "model_id": "",
       "version_major": 2,
       "version_minor": 0
      },
      "text/plain": [
       "Validation: 0it [00:00, ?it/s]"
      ]
     },
     "metadata": {},
     "output_type": "display_data"
    },
    {
     "data": {
      "application/vnd.jupyter.widget-view+json": {
       "model_id": "",
       "version_major": 2,
       "version_minor": 0
      },
      "text/plain": [
       "Validation: 0it [00:00, ?it/s]"
      ]
     },
     "metadata": {},
     "output_type": "display_data"
    },
    {
     "data": {
      "application/vnd.jupyter.widget-view+json": {
       "model_id": "",
       "version_major": 2,
       "version_minor": 0
      },
      "text/plain": [
       "Validation: 0it [00:00, ?it/s]"
      ]
     },
     "metadata": {},
     "output_type": "display_data"
    },
    {
     "data": {
      "application/vnd.jupyter.widget-view+json": {
       "model_id": "",
       "version_major": 2,
       "version_minor": 0
      },
      "text/plain": [
       "Validation: 0it [00:00, ?it/s]"
      ]
     },
     "metadata": {},
     "output_type": "display_data"
    },
    {
     "data": {
      "application/vnd.jupyter.widget-view+json": {
       "model_id": "",
       "version_major": 2,
       "version_minor": 0
      },
      "text/plain": [
       "Validation: 0it [00:00, ?it/s]"
      ]
     },
     "metadata": {},
     "output_type": "display_data"
    },
    {
     "data": {
      "application/vnd.jupyter.widget-view+json": {
       "model_id": "",
       "version_major": 2,
       "version_minor": 0
      },
      "text/plain": [
       "Validation: 0it [00:00, ?it/s]"
      ]
     },
     "metadata": {},
     "output_type": "display_data"
    },
    {
     "data": {
      "application/vnd.jupyter.widget-view+json": {
       "model_id": "",
       "version_major": 2,
       "version_minor": 0
      },
      "text/plain": [
       "Validation: 0it [00:00, ?it/s]"
      ]
     },
     "metadata": {},
     "output_type": "display_data"
    },
    {
     "data": {
      "application/vnd.jupyter.widget-view+json": {
       "model_id": "",
       "version_major": 2,
       "version_minor": 0
      },
      "text/plain": [
       "Validation: 0it [00:00, ?it/s]"
      ]
     },
     "metadata": {},
     "output_type": "display_data"
    },
    {
     "data": {
      "application/vnd.jupyter.widget-view+json": {
       "model_id": "",
       "version_major": 2,
       "version_minor": 0
      },
      "text/plain": [
       "Validation: 0it [00:00, ?it/s]"
      ]
     },
     "metadata": {},
     "output_type": "display_data"
    },
    {
     "data": {
      "application/vnd.jupyter.widget-view+json": {
       "model_id": "",
       "version_major": 2,
       "version_minor": 0
      },
      "text/plain": [
       "Validation: 0it [00:00, ?it/s]"
      ]
     },
     "metadata": {},
     "output_type": "display_data"
    },
    {
     "data": {
      "application/vnd.jupyter.widget-view+json": {
       "model_id": "",
       "version_major": 2,
       "version_minor": 0
      },
      "text/plain": [
       "Validation: 0it [00:00, ?it/s]"
      ]
     },
     "metadata": {},
     "output_type": "display_data"
    },
    {
     "data": {
      "application/vnd.jupyter.widget-view+json": {
       "model_id": "",
       "version_major": 2,
       "version_minor": 0
      },
      "text/plain": [
       "Validation: 0it [00:00, ?it/s]"
      ]
     },
     "metadata": {},
     "output_type": "display_data"
    },
    {
     "data": {
      "application/vnd.jupyter.widget-view+json": {
       "model_id": "",
       "version_major": 2,
       "version_minor": 0
      },
      "text/plain": [
       "Validation: 0it [00:00, ?it/s]"
      ]
     },
     "metadata": {},
     "output_type": "display_data"
    },
    {
     "data": {
      "application/vnd.jupyter.widget-view+json": {
       "model_id": "",
       "version_major": 2,
       "version_minor": 0
      },
      "text/plain": [
       "Validation: 0it [00:00, ?it/s]"
      ]
     },
     "metadata": {},
     "output_type": "display_data"
    },
    {
     "data": {
      "application/vnd.jupyter.widget-view+json": {
       "model_id": "",
       "version_major": 2,
       "version_minor": 0
      },
      "text/plain": [
       "Validation: 0it [00:00, ?it/s]"
      ]
     },
     "metadata": {},
     "output_type": "display_data"
    },
    {
     "data": {
      "application/vnd.jupyter.widget-view+json": {
       "model_id": "",
       "version_major": 2,
       "version_minor": 0
      },
      "text/plain": [
       "Validation: 0it [00:00, ?it/s]"
      ]
     },
     "metadata": {},
     "output_type": "display_data"
    },
    {
     "data": {
      "application/vnd.jupyter.widget-view+json": {
       "model_id": "",
       "version_major": 2,
       "version_minor": 0
      },
      "text/plain": [
       "Validation: 0it [00:00, ?it/s]"
      ]
     },
     "metadata": {},
     "output_type": "display_data"
    },
    {
     "data": {
      "application/vnd.jupyter.widget-view+json": {
       "model_id": "",
       "version_major": 2,
       "version_minor": 0
      },
      "text/plain": [
       "Validation: 0it [00:00, ?it/s]"
      ]
     },
     "metadata": {},
     "output_type": "display_data"
    },
    {
     "data": {
      "application/vnd.jupyter.widget-view+json": {
       "model_id": "",
       "version_major": 2,
       "version_minor": 0
      },
      "text/plain": [
       "Validation: 0it [00:00, ?it/s]"
      ]
     },
     "metadata": {},
     "output_type": "display_data"
    },
    {
     "data": {
      "application/vnd.jupyter.widget-view+json": {
       "model_id": "",
       "version_major": 2,
       "version_minor": 0
      },
      "text/plain": [
       "Validation: 0it [00:00, ?it/s]"
      ]
     },
     "metadata": {},
     "output_type": "display_data"
    },
    {
     "data": {
      "application/vnd.jupyter.widget-view+json": {
       "model_id": "",
       "version_major": 2,
       "version_minor": 0
      },
      "text/plain": [
       "Validation: 0it [00:00, ?it/s]"
      ]
     },
     "metadata": {},
     "output_type": "display_data"
    },
    {
     "data": {
      "application/vnd.jupyter.widget-view+json": {
       "model_id": "",
       "version_major": 2,
       "version_minor": 0
      },
      "text/plain": [
       "Validation: 0it [00:00, ?it/s]"
      ]
     },
     "metadata": {},
     "output_type": "display_data"
    },
    {
     "data": {
      "application/vnd.jupyter.widget-view+json": {
       "model_id": "",
       "version_major": 2,
       "version_minor": 0
      },
      "text/plain": [
       "Validation: 0it [00:00, ?it/s]"
      ]
     },
     "metadata": {},
     "output_type": "display_data"
    },
    {
     "data": {
      "application/vnd.jupyter.widget-view+json": {
       "model_id": "",
       "version_major": 2,
       "version_minor": 0
      },
      "text/plain": [
       "Validation: 0it [00:00, ?it/s]"
      ]
     },
     "metadata": {},
     "output_type": "display_data"
    },
    {
     "data": {
      "application/vnd.jupyter.widget-view+json": {
       "model_id": "",
       "version_major": 2,
       "version_minor": 0
      },
      "text/plain": [
       "Validation: 0it [00:00, ?it/s]"
      ]
     },
     "metadata": {},
     "output_type": "display_data"
    },
    {
     "data": {
      "application/vnd.jupyter.widget-view+json": {
       "model_id": "",
       "version_major": 2,
       "version_minor": 0
      },
      "text/plain": [
       "Validation: 0it [00:00, ?it/s]"
      ]
     },
     "metadata": {},
     "output_type": "display_data"
    },
    {
     "data": {
      "application/vnd.jupyter.widget-view+json": {
       "model_id": "",
       "version_major": 2,
       "version_minor": 0
      },
      "text/plain": [
       "Validation: 0it [00:00, ?it/s]"
      ]
     },
     "metadata": {},
     "output_type": "display_data"
    },
    {
     "data": {
      "application/vnd.jupyter.widget-view+json": {
       "model_id": "",
       "version_major": 2,
       "version_minor": 0
      },
      "text/plain": [
       "Validation: 0it [00:00, ?it/s]"
      ]
     },
     "metadata": {},
     "output_type": "display_data"
    },
    {
     "data": {
      "application/vnd.jupyter.widget-view+json": {
       "model_id": "",
       "version_major": 2,
       "version_minor": 0
      },
      "text/plain": [
       "Validation: 0it [00:00, ?it/s]"
      ]
     },
     "metadata": {},
     "output_type": "display_data"
    },
    {
     "data": {
      "application/vnd.jupyter.widget-view+json": {
       "model_id": "",
       "version_major": 2,
       "version_minor": 0
      },
      "text/plain": [
       "Validation: 0it [00:00, ?it/s]"
      ]
     },
     "metadata": {},
     "output_type": "display_data"
    },
    {
     "data": {
      "application/vnd.jupyter.widget-view+json": {
       "model_id": "",
       "version_major": 2,
       "version_minor": 0
      },
      "text/plain": [
       "Validation: 0it [00:00, ?it/s]"
      ]
     },
     "metadata": {},
     "output_type": "display_data"
    },
    {
     "data": {
      "application/vnd.jupyter.widget-view+json": {
       "model_id": "",
       "version_major": 2,
       "version_minor": 0
      },
      "text/plain": [
       "Validation: 0it [00:00, ?it/s]"
      ]
     },
     "metadata": {},
     "output_type": "display_data"
    },
    {
     "data": {
      "application/vnd.jupyter.widget-view+json": {
       "model_id": "",
       "version_major": 2,
       "version_minor": 0
      },
      "text/plain": [
       "Validation: 0it [00:00, ?it/s]"
      ]
     },
     "metadata": {},
     "output_type": "display_data"
    },
    {
     "data": {
      "application/vnd.jupyter.widget-view+json": {
       "model_id": "",
       "version_major": 2,
       "version_minor": 0
      },
      "text/plain": [
       "Validation: 0it [00:00, ?it/s]"
      ]
     },
     "metadata": {},
     "output_type": "display_data"
    },
    {
     "data": {
      "application/vnd.jupyter.widget-view+json": {
       "model_id": "",
       "version_major": 2,
       "version_minor": 0
      },
      "text/plain": [
       "Validation: 0it [00:00, ?it/s]"
      ]
     },
     "metadata": {},
     "output_type": "display_data"
    },
    {
     "data": {
      "application/vnd.jupyter.widget-view+json": {
       "model_id": "",
       "version_major": 2,
       "version_minor": 0
      },
      "text/plain": [
       "Validation: 0it [00:00, ?it/s]"
      ]
     },
     "metadata": {},
     "output_type": "display_data"
    },
    {
     "data": {
      "application/vnd.jupyter.widget-view+json": {
       "model_id": "",
       "version_major": 2,
       "version_minor": 0
      },
      "text/plain": [
       "Validation: 0it [00:00, ?it/s]"
      ]
     },
     "metadata": {},
     "output_type": "display_data"
    },
    {
     "data": {
      "application/vnd.jupyter.widget-view+json": {
       "model_id": "",
       "version_major": 2,
       "version_minor": 0
      },
      "text/plain": [
       "Validation: 0it [00:00, ?it/s]"
      ]
     },
     "metadata": {},
     "output_type": "display_data"
    },
    {
     "data": {
      "application/vnd.jupyter.widget-view+json": {
       "model_id": "",
       "version_major": 2,
       "version_minor": 0
      },
      "text/plain": [
       "Validation: 0it [00:00, ?it/s]"
      ]
     },
     "metadata": {},
     "output_type": "display_data"
    },
    {
     "data": {
      "application/vnd.jupyter.widget-view+json": {
       "model_id": "",
       "version_major": 2,
       "version_minor": 0
      },
      "text/plain": [
       "Validation: 0it [00:00, ?it/s]"
      ]
     },
     "metadata": {},
     "output_type": "display_data"
    },
    {
     "data": {
      "application/vnd.jupyter.widget-view+json": {
       "model_id": "",
       "version_major": 2,
       "version_minor": 0
      },
      "text/plain": [
       "Validation: 0it [00:00, ?it/s]"
      ]
     },
     "metadata": {},
     "output_type": "display_data"
    },
    {
     "data": {
      "application/vnd.jupyter.widget-view+json": {
       "model_id": "",
       "version_major": 2,
       "version_minor": 0
      },
      "text/plain": [
       "Validation: 0it [00:00, ?it/s]"
      ]
     },
     "metadata": {},
     "output_type": "display_data"
    },
    {
     "data": {
      "application/vnd.jupyter.widget-view+json": {
       "model_id": "",
       "version_major": 2,
       "version_minor": 0
      },
      "text/plain": [
       "Validation: 0it [00:00, ?it/s]"
      ]
     },
     "metadata": {},
     "output_type": "display_data"
    },
    {
     "data": {
      "application/vnd.jupyter.widget-view+json": {
       "model_id": "",
       "version_major": 2,
       "version_minor": 0
      },
      "text/plain": [
       "Validation: 0it [00:00, ?it/s]"
      ]
     },
     "metadata": {},
     "output_type": "display_data"
    },
    {
     "data": {
      "application/vnd.jupyter.widget-view+json": {
       "model_id": "",
       "version_major": 2,
       "version_minor": 0
      },
      "text/plain": [
       "Validation: 0it [00:00, ?it/s]"
      ]
     },
     "metadata": {},
     "output_type": "display_data"
    },
    {
     "data": {
      "application/vnd.jupyter.widget-view+json": {
       "model_id": "",
       "version_major": 2,
       "version_minor": 0
      },
      "text/plain": [
       "Validation: 0it [00:00, ?it/s]"
      ]
     },
     "metadata": {},
     "output_type": "display_data"
    },
    {
     "data": {
      "application/vnd.jupyter.widget-view+json": {
       "model_id": "",
       "version_major": 2,
       "version_minor": 0
      },
      "text/plain": [
       "Validation: 0it [00:00, ?it/s]"
      ]
     },
     "metadata": {},
     "output_type": "display_data"
    },
    {
     "data": {
      "application/vnd.jupyter.widget-view+json": {
       "model_id": "",
       "version_major": 2,
       "version_minor": 0
      },
      "text/plain": [
       "Validation: 0it [00:00, ?it/s]"
      ]
     },
     "metadata": {},
     "output_type": "display_data"
    },
    {
     "data": {
      "application/vnd.jupyter.widget-view+json": {
       "model_id": "",
       "version_major": 2,
       "version_minor": 0
      },
      "text/plain": [
       "Validation: 0it [00:00, ?it/s]"
      ]
     },
     "metadata": {},
     "output_type": "display_data"
    },
    {
     "data": {
      "application/vnd.jupyter.widget-view+json": {
       "model_id": "",
       "version_major": 2,
       "version_minor": 0
      },
      "text/plain": [
       "Validation: 0it [00:00, ?it/s]"
      ]
     },
     "metadata": {},
     "output_type": "display_data"
    },
    {
     "data": {
      "application/vnd.jupyter.widget-view+json": {
       "model_id": "",
       "version_major": 2,
       "version_minor": 0
      },
      "text/plain": [
       "Validation: 0it [00:00, ?it/s]"
      ]
     },
     "metadata": {},
     "output_type": "display_data"
    },
    {
     "data": {
      "application/vnd.jupyter.widget-view+json": {
       "model_id": "",
       "version_major": 2,
       "version_minor": 0
      },
      "text/plain": [
       "Validation: 0it [00:00, ?it/s]"
      ]
     },
     "metadata": {},
     "output_type": "display_data"
    },
    {
     "data": {
      "application/vnd.jupyter.widget-view+json": {
       "model_id": "",
       "version_major": 2,
       "version_minor": 0
      },
      "text/plain": [
       "Validation: 0it [00:00, ?it/s]"
      ]
     },
     "metadata": {},
     "output_type": "display_data"
    },
    {
     "data": {
      "application/vnd.jupyter.widget-view+json": {
       "model_id": "",
       "version_major": 2,
       "version_minor": 0
      },
      "text/plain": [
       "Validation: 0it [00:00, ?it/s]"
      ]
     },
     "metadata": {},
     "output_type": "display_data"
    },
    {
     "data": {
      "application/vnd.jupyter.widget-view+json": {
       "model_id": "",
       "version_major": 2,
       "version_minor": 0
      },
      "text/plain": [
       "Validation: 0it [00:00, ?it/s]"
      ]
     },
     "metadata": {},
     "output_type": "display_data"
    },
    {
     "data": {
      "application/vnd.jupyter.widget-view+json": {
       "model_id": "",
       "version_major": 2,
       "version_minor": 0
      },
      "text/plain": [
       "Validation: 0it [00:00, ?it/s]"
      ]
     },
     "metadata": {},
     "output_type": "display_data"
    },
    {
     "data": {
      "application/vnd.jupyter.widget-view+json": {
       "model_id": "",
       "version_major": 2,
       "version_minor": 0
      },
      "text/plain": [
       "Validation: 0it [00:00, ?it/s]"
      ]
     },
     "metadata": {},
     "output_type": "display_data"
    },
    {
     "data": {
      "application/vnd.jupyter.widget-view+json": {
       "model_id": "",
       "version_major": 2,
       "version_minor": 0
      },
      "text/plain": [
       "Validation: 0it [00:00, ?it/s]"
      ]
     },
     "metadata": {},
     "output_type": "display_data"
    },
    {
     "data": {
      "application/vnd.jupyter.widget-view+json": {
       "model_id": "",
       "version_major": 2,
       "version_minor": 0
      },
      "text/plain": [
       "Validation: 0it [00:00, ?it/s]"
      ]
     },
     "metadata": {},
     "output_type": "display_data"
    },
    {
     "data": {
      "application/vnd.jupyter.widget-view+json": {
       "model_id": "",
       "version_major": 2,
       "version_minor": 0
      },
      "text/plain": [
       "Validation: 0it [00:00, ?it/s]"
      ]
     },
     "metadata": {},
     "output_type": "display_data"
    },
    {
     "data": {
      "application/vnd.jupyter.widget-view+json": {
       "model_id": "",
       "version_major": 2,
       "version_minor": 0
      },
      "text/plain": [
       "Validation: 0it [00:00, ?it/s]"
      ]
     },
     "metadata": {},
     "output_type": "display_data"
    },
    {
     "data": {
      "application/vnd.jupyter.widget-view+json": {
       "model_id": "",
       "version_major": 2,
       "version_minor": 0
      },
      "text/plain": [
       "Validation: 0it [00:00, ?it/s]"
      ]
     },
     "metadata": {},
     "output_type": "display_data"
    },
    {
     "name": "stderr",
     "output_type": "stream",
     "text": [
      "`Trainer.fit` stopped: `max_epochs=100` reached.\n"
     ]
    }
   ],
   "source": [
    "checkpoint_callbacks = ModelCheckpoint(dirpath = 'lstm_models', save_top_k = 3,\n",
    "                                       filename = \"high-bce-{epoch}-{val_accuracy:.2f}\",\n",
    "                                      monitor = 'val_accuracy', mode = 'max')\n",
    "trainer = Trainer(max_epochs = EPOCHS, callbacks = [checkpoint_callbacks], gradient_clip_val=0.01)\n",
    "trainer.fit(model, data_module)"
   ]
  },
  {
   "cell_type": "code",
   "execution_count": 84,
   "id": "c1449b97",
   "metadata": {},
   "outputs": [],
   "source": [
    "torch.save(model.state_dict(), './lstm_models/model_train_last_full.pt')"
   ]
  },
  {
   "cell_type": "code",
   "execution_count": 60,
   "id": "c6665649",
   "metadata": {
    "scrolled": true
   },
   "outputs": [
    {
     "data": {
      "text/plain": [
       "LSTM_PL(\n",
       "  (train_acc): BinaryAccuracy()\n",
       "  (val_acc): BinaryAccuracy()\n",
       "  (model): LSTM_Model(\n",
       "    (fft): Sequential(\n",
       "      (0): SepConv1d(\n",
       "        (layers): Sequential(\n",
       "          (0): _SepConv1d(\n",
       "            (depthwise): Conv1d(106, 106, kernel_size=(8,), stride=(2,), padding=(4,), groups=106)\n",
       "            (pointwise): Conv1d(106, 32, kernel_size=(1,), stride=(1,))\n",
       "          )\n",
       "          (1): PReLU(num_parameters=1)\n",
       "          (2): BatchNorm1d(32, eps=1e-05, momentum=0.1, affine=True, track_running_stats=True)\n",
       "          (3): Dropout(p=0.5, inplace=False)\n",
       "        )\n",
       "      )\n",
       "      (1): SepConv1d(\n",
       "        (layers): Sequential(\n",
       "          (0): _SepConv1d(\n",
       "            (depthwise): Conv1d(32, 32, kernel_size=(3,), stride=(1,), padding=(1,), groups=32)\n",
       "            (pointwise): Conv1d(32, 32, kernel_size=(1,), stride=(1,))\n",
       "          )\n",
       "          (1): PReLU(num_parameters=1)\n",
       "          (2): BatchNorm1d(32, eps=1e-05, momentum=0.1, affine=True, track_running_stats=True)\n",
       "          (3): Dropout(p=0.5, inplace=False)\n",
       "        )\n",
       "      )\n",
       "      (2): SepConv1d(\n",
       "        (layers): Sequential(\n",
       "          (0): _SepConv1d(\n",
       "            (depthwise): Conv1d(32, 32, kernel_size=(6,), stride=(2,), padding=(4,), groups=32)\n",
       "            (pointwise): Conv1d(32, 64, kernel_size=(1,), stride=(1,))\n",
       "          )\n",
       "          (1): PReLU(num_parameters=1)\n",
       "          (2): BatchNorm1d(64, eps=1e-05, momentum=0.1, affine=True, track_running_stats=True)\n",
       "          (3): Dropout(p=0.5, inplace=False)\n",
       "        )\n",
       "      )\n",
       "      (3): SepConv1d(\n",
       "        (layers): Sequential(\n",
       "          (0): _SepConv1d(\n",
       "            (depthwise): Conv1d(64, 64, kernel_size=(3,), stride=(1,), padding=(1,), groups=64)\n",
       "            (pointwise): Conv1d(64, 64, kernel_size=(1,), stride=(1,))\n",
       "          )\n",
       "          (1): PReLU(num_parameters=1)\n",
       "          (2): BatchNorm1d(64, eps=1e-05, momentum=0.1, affine=True, track_running_stats=True)\n",
       "          (3): Dropout(p=0.5, inplace=False)\n",
       "        )\n",
       "      )\n",
       "      (4): SepConv1d(\n",
       "        (layers): Sequential(\n",
       "          (0): _SepConv1d(\n",
       "            (depthwise): Conv1d(64, 64, kernel_size=(6,), stride=(4,), padding=(4,), groups=64)\n",
       "            (pointwise): Conv1d(64, 128, kernel_size=(1,), stride=(1,))\n",
       "          )\n",
       "          (1): PReLU(num_parameters=1)\n",
       "          (2): BatchNorm1d(128, eps=1e-05, momentum=0.1, affine=True, track_running_stats=True)\n",
       "          (3): Dropout(p=0.5, inplace=False)\n",
       "        )\n",
       "      )\n",
       "      (5): SepConv1d(\n",
       "        (layers): Sequential(\n",
       "          (0): _SepConv1d(\n",
       "            (depthwise): Conv1d(128, 128, kernel_size=(6,), stride=(4,), padding=(4,), groups=128)\n",
       "            (pointwise): Conv1d(128, 128, kernel_size=(1,), stride=(1,))\n",
       "          )\n",
       "          (1): PReLU(num_parameters=1)\n",
       "          (2): BatchNorm1d(128, eps=1e-05, momentum=0.1, affine=True, track_running_stats=True)\n",
       "          (3): Dropout(p=0.5, inplace=False)\n",
       "        )\n",
       "      )\n",
       "      (6): SepConv1d(\n",
       "        (layers): Sequential(\n",
       "          (0): _SepConv1d(\n",
       "            (depthwise): Conv1d(128, 128, kernel_size=(6,), stride=(2,), padding=(3,), groups=128)\n",
       "            (pointwise): Conv1d(128, 256, kernel_size=(1,), stride=(1,))\n",
       "          )\n",
       "          (1): PReLU(num_parameters=1)\n",
       "          (2): BatchNorm1d(256, eps=1e-05, momentum=0.1, affine=True, track_running_stats=True)\n",
       "        )\n",
       "      )\n",
       "      (7): Flatten()\n",
       "      (8): Dropout(p=0.5, inplace=False)\n",
       "      (9): Linear(in_features=512, out_features=256, bias=True)\n",
       "      (10): PReLU(num_parameters=1)\n",
       "      (11): BatchNorm1d(256, eps=1e-05, momentum=0.1, affine=True, track_running_stats=True)\n",
       "    )\n",
       "    (lstm): LSTM(106, 256, num_layers=3, dropout=0.5, bidirectional=True)\n",
       "    (out): Sequential(\n",
       "      (0): Linear(in_features=768, out_features=256, bias=True)\n",
       "      (1): ReLU(inplace=True)\n",
       "      (2): Linear(in_features=256, out_features=64, bias=True)\n",
       "      (3): ReLU(inplace=True)\n",
       "      (4): Linear(in_features=64, out_features=1, bias=True)\n",
       "    )\n",
       "  )\n",
       "  (criterion): BCEWithLogitsLoss()\n",
       ")"
      ]
     },
     "execution_count": 60,
     "metadata": {},
     "output_type": "execute_result"
    }
   ],
   "source": [
    "model = LSTM_PL(n_features = len(FEATURES),n_classes = 1).to(device)\n",
    "model.load_state_dict(torch.load('./lstm_models/model_train_last_full.pt'))\n",
    "model.eval()"
   ]
  },
  {
   "cell_type": "code",
   "execution_count": null,
   "id": "4d94d649",
   "metadata": {},
   "outputs": [],
   "source": [
    "# test"
   ]
  },
  {
   "cell_type": "code",
   "execution_count": 85,
   "id": "868f30f4",
   "metadata": {},
   "outputs": [],
   "source": [
    "new_df = pd.read_pickle('mid_term.pkl')"
   ]
  },
  {
   "cell_type": "code",
   "execution_count": null,
   "id": "44801148",
   "metadata": {},
   "outputs": [],
   "source": [
    "# прогнать верхнюю часть в загрузке на тест"
   ]
  },
  {
   "cell_type": "code",
   "execution_count": 61,
   "id": "50fcf21a",
   "metadata": {},
   "outputs": [],
   "source": [
    "test_data = DataLoader(Lstm_Dataset(sequences), batch_size = 128, shuffle = False, num_workers = 2)"
   ]
  },
  {
   "cell_type": "code",
   "execution_count": 62,
   "id": "a3a38344",
   "metadata": {},
   "outputs": [
    {
     "name": "stderr",
     "output_type": "stream",
     "text": [
      "100%|█████████████████████████████████████████| 570/570 [05:27<00:00,  1.74it/s]\n"
     ]
    }
   ],
   "source": [
    "from sklearn.metrics import confusion_matrix\n",
    "output_total = []\n",
    "for batch in tqdm(test_data):\n",
    "    output = model(batch)\n",
    "    output = output.detach().numpy()\n",
    "    output_total.append(output)"
   ]
  },
  {
   "cell_type": "code",
   "execution_count": 68,
   "id": "574295fe",
   "metadata": {},
   "outputs": [],
   "source": [
    "total = np.concatenate(output_total, axis=0)"
   ]
  },
  {
   "cell_type": "code",
   "execution_count": 71,
   "id": "b760959f",
   "metadata": {},
   "outputs": [],
   "source": [
    "import math\n",
    "\n",
    "def sigmoid(x):\n",
    "    return 1 / (1 + math.exp(-x))"
   ]
  },
  {
   "cell_type": "code",
   "execution_count": 73,
   "id": "659138dc",
   "metadata": {},
   "outputs": [],
   "source": [
    "vfunc = np.vectorize(sigmoid)\n",
    "prob_total = vfunc(total)"
   ]
  },
  {
   "cell_type": "code",
   "execution_count": 1,
   "id": "722991ed",
   "metadata": {},
   "outputs": [],
   "source": [
    "def get_model_profit(y_test, y_pred, debt: list, fee = 2000):\n",
    "    \n",
    "    df = pd.DataFrame(zip(y_test, y_pred, debt), columns = ['target', 'predict', 'debt'])\n",
    "    \n",
    "    TP = df.query('target == 1 and predict == 1')\n",
    "    TP_eff = TP['debt'].sum() + len(TP)*fee\n",
    "    \n",
    "    TN = df.query('target == 0 and predict == 0')\n",
    "    TN_eff = 0 #len(TN)*fee\n",
    "    \n",
    "    FN = df.query('target == 1 and predict == 0')\n",
    "    FN_eff = FN['debt'].sum()\n",
    "    \n",
    "    FP = df.query('target == 0 and predict == 1')\n",
    "    FP_eff = len(FP)*fee\n",
    "    \n",
    "    profit = TP_eff + TN_eff - FN_eff - FP_eff\n",
    "    \n",
    "    return round(profit,2)"
   ]
  },
  {
   "cell_type": "code",
   "execution_count": 184,
   "id": "c571e7ac",
   "metadata": {},
   "outputs": [],
   "source": [
    "y = target['target_24m'].values"
   ]
  },
  {
   "cell_type": "code",
   "execution_count": 185,
   "id": "13779cc3",
   "metadata": {},
   "outputs": [],
   "source": [
    "dolg = new_df_copy[['account','dolg_loaded']].drop_duplicates()['dolg_loaded'].values"
   ]
  },
  {
   "cell_type": "code",
   "execution_count": 202,
   "id": "742ff13e",
   "metadata": {},
   "outputs": [],
   "source": [
    "short_frame = new_df_copy[['account', 'sent_date', 'dolg_sent', 'target_24m']].drop_duplicates()"
   ]
  },
  {
   "cell_type": "code",
   "execution_count": 203,
   "id": "e91ec38b",
   "metadata": {},
   "outputs": [],
   "source": [
    "short_frame['probs'] = prob_total"
   ]
  },
  {
   "cell_type": "code",
   "execution_count": 227,
   "id": "9131ce97",
   "metadata": {},
   "outputs": [],
   "source": [
    "short_qvartal = short_frame[(short_frame['sent_date'] > '2022-04-01')&(short_frame['sent_date'] < '2022-07-01')]"
   ]
  },
  {
   "cell_type": "code",
   "execution_count": 228,
   "id": "2e667b7d",
   "metadata": {},
   "outputs": [
    {
     "name": "stderr",
     "output_type": "stream",
     "text": [
      "100%|███████████████████████████████████████████| 41/41 [00:04<00:00,  8.75it/s]\n"
     ]
    }
   ],
   "source": [
    "from sklearn.metrics import accuracy_score, f1_score, classification_report, recall_score, precision_score\n",
    "payments = []\n",
    "for i in tqdm(np.linspace(0,1,41)):\n",
    "    round_prob = np.where(short_qvartal['probs'].values > i, 1, 0)\n",
    "    payments.append([[i*100, get_model_profit(short_qvartal['target_24m'].values, round_prob, short_qvartal['dolg_sent'].values), precision_score(short_qvartal['target_24m'].values, round_prob) ]])"
   ]
  },
  {
   "cell_type": "code",
   "execution_count": 235,
   "id": "1d342785",
   "metadata": {},
   "outputs": [
    {
     "name": "stdout",
     "output_type": "stream",
     "text": [
      "              precision    recall  f1-score   support\n",
      "\n",
      "           0       0.64      0.97      0.77     10047\n",
      "           1       0.34      0.03      0.05      5616\n",
      "\n",
      "    accuracy                           0.63     15663\n",
      "   macro avg       0.49      0.50      0.41     15663\n",
      "weighted avg       0.53      0.63      0.51     15663\n",
      "\n"
     ]
    }
   ],
   "source": [
    "print(classification_report(short_qvartal['target_24m'].values, np.where(short_qvartal['probs'].values > 0.8, 1, 0)))"
   ]
  },
  {
   "cell_type": "code",
   "execution_count": 231,
   "id": "ee0a5868",
   "metadata": {},
   "outputs": [
    {
     "name": "stdout",
     "output_type": "stream",
     "text": [
      "[[3154 6893]\n",
      " [1749 3867]]\n"
     ]
    }
   ],
   "source": [
    "print(confusion_matrix(short_qvartal['target_24m'].values, np.where(short_qvartal['probs'].values > 0.15, 1, 0)))"
   ]
  },
  {
   "cell_type": "code",
   "execution_count": 232,
   "id": "22240b56",
   "metadata": {},
   "outputs": [
    {
     "data": {
      "text/plain": [
       "[[[0.0, 13769808.0, 0.3585520015322735]],\n",
       " [[2.5, 9868785.25, 0.35762453774200564]],\n",
       " [[5.0, 8418546.5, 0.3579076170082594]],\n",
       " [[7.500000000000001, 7552663.5, 0.3581864379863427]],\n",
       " [[10.0, 6560378.75, 0.3576093246259403]],\n",
       " [[12.5, 5381663.0, 0.35757206304972566]],\n",
       " [[15.000000000000002, 4177255.0, 0.35938661710037173]],\n",
       " [[17.5, 2869990.5, 0.3601872137024497]],\n",
       " [[20.0, 1698274.0, 0.3616365568544102]],\n",
       " [[22.5, 651553.0, 0.363543557168784]],\n",
       " [[25.0, -379958.0, 0.3659099186597062]],\n",
       " [[27.500000000000004, -1543003.0, 0.36594012605042014]],\n",
       " [[30.000000000000004, -2986374.5, 0.3667931135103589]],\n",
       " [[32.5, -4786648.0, 0.3674402846010503]],\n",
       " [[35.0, -6347756.0, 0.37109297232729443]],\n",
       " [[37.5, -7907019.5, 0.37279774489076817]],\n",
       " [[40.0, -8979514.0, 0.37516979081771257]],\n",
       " [[42.50000000000001, -10143604.75, 0.37258013329101874]],\n",
       " [[45.0, -11047990.0, 0.3683254631311297]],\n",
       " [[47.5, -11767012.5, 0.36236647493837304]],\n",
       " [[50.0, -12393228.0, 0.3614180478821363]],\n",
       " [[52.5, -13301894.5, 0.36015538290788013]],\n",
       " [[55.00000000000001, -13809342.12, 0.3571884984025559]],\n",
       " [[57.50000000000001, -14179786.88, 0.35600578871201155]],\n",
       " [[60.00000000000001, -14482829.5, 0.353518821603928]],\n",
       " [[62.5, -14796142.62, 0.34868421052631576]],\n",
       " [[65.0, -15008623.88, 0.34935897435897434]],\n",
       " [[67.5, -15217451.0, 0.34988179669030733]],\n",
       " [[70.0, -15411989.12, 0.3481781376518219]],\n",
       " [[72.50000000000001, -15541519.0, 0.35037593984962406]],\n",
       " [[75.0, -15662619.19, 0.35058430717863104]],\n",
       " [[77.5, -15804595.56, 0.3484848484848485]],\n",
       " [[80.0, -15948456.44, 0.33905579399141633]],\n",
       " [[82.5, -16124150.5, 0.32186732186732187]],\n",
       " [[85.00000000000001, -16274095.84, 0.3153153153153153]],\n",
       " [[87.5, -16380515.12, 0.31297709923664124]],\n",
       " [[90.0, -16494188.47, 0.3157894736842105]],\n",
       " [[92.5, -16579670.42, 0.2947976878612717]],\n",
       " [[95.0, -16662860.09, 0.2975206611570248]],\n",
       " [[97.50000000000001, -16765408.52, 0.3235294117647059]],\n",
       " [[100.0, -16902408.0, 0.0]]]"
      ]
     },
     "execution_count": 232,
     "metadata": {},
     "output_type": "execute_result"
    }
   ],
   "source": [
    "payments"
   ]
  },
  {
   "cell_type": "code",
   "execution_count": 142,
   "id": "d8674fa6",
   "metadata": {},
   "outputs": [],
   "source": [
    "import matplotlib.pyplot as plt"
   ]
  },
  {
   "cell_type": "code",
   "execution_count": 143,
   "id": "fd6df4da",
   "metadata": {},
   "outputs": [
    {
     "data": {
      "text/plain": [
       "[<matplotlib.lines.Line2D at 0x7f89a5e5dac0>]"
      ]
     },
     "execution_count": 143,
     "metadata": {},
     "output_type": "execute_result"
    },
    {
     "data": {
      "image/png": "[encoded data removed]",
      "text/plain": [
       "<Figure size 640x480 with 1 Axes>"
      ]
     },
     "metadata": {},
     "output_type": "display_data"
    }
   ],
   "source": [
    "plt.plot(np.linspace(0,1,41), payments)"
   ]
  },
  {
   "cell_type": "code",
   "execution_count": null,
   "id": "73b66c7b",
   "metadata": {},
   "outputs": [],
   "source": []
  },
  {
   "cell_type": "code",
   "execution_count": null,
   "id": "47190ca8",
   "metadata": {},
   "outputs": [],
   "source": [
    "def calculate_output_length(length_in, kernel_size, stride, padding, dilation=1):\n",
    "    return (length_in + 2 * padding - dilation * (kernel_size - 1) - 1) // stride + 1"
   ]
  },
  {
   "cell_type": "code",
   "execution_count": null,
   "id": "8cefb2e6",
   "metadata": {},
   "outputs": [],
   "source": [
    "calculate_output_length(2, 6, 2, 3)"
   ]
  },
  {
   "cell_type": "code",
   "execution_count": 69,
   "id": "f83c4808",
   "metadata": {},
   "outputs": [
    {
     "data": {
      "text/plain": [
       "torch.Size([256, 106, 24])"
      ]
     },
     "execution_count": 69,
     "metadata": {},
     "output_type": "execute_result"
    }
   ],
   "source": [
    "torch.rand(256,24,106).permute(0,2,1).shape"
   ]
  }
 ],
 "metadata": {
  "kernelspec": {
   "display_name": "Python 3.9 transformers",
   "language": "python",
   "name": "transformers"
  },
  "language_info": {
   "codemirror_mode": {
    "name": "ipython",
    "version": 3
   },
   "file_extension": ".py",
   "mimetype": "text/x-python",
   "name": "python",
   "nbconvert_exporter": "python",
   "pygments_lexer": "ipython3",
   "version": "3.9.15"
  }
 },
 "nbformat": 4,
 "nbformat_minor": 5
}
