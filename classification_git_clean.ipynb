{
 "cells": [
  {
   "cell_type": "code",
   "execution_count": 1,
   "metadata": {},
   "outputs": [],
   "source": [
    "import pandas as pd\n",
    "import numpy as np\n",
    "from datetime import datetime\n",
    "import matplotlib.pyplot as plt\n",
    "import openpyxl\n",
    "from pandas import DataFrame\n",
    "from sklearn.linear_model import LinearRegression\n",
    "from statsmodels.graphics.tsaplots import plot_acf\n",
    "from statsmodels.graphics.tsaplots import plot_pacf\n",
    "from statsmodels.tsa.arima_model import ARIMA\n",
    "from sklearn.metrics import mean_squared_error\n",
    "from sklearn.preprocessing import normalize\n",
    "from sklearn.preprocessing import StandardScaler\n",
    "from sklearn.preprocessing import quantile_transform\n",
    "from statsmodels.tsa.stattools import adfuller\n",
    "import statsmodels.api as sm\n",
    "import statsmodels.tsa.api as smt\n",
    "import sys\n",
    "import seaborn as sns\n",
    "import warnings\n",
    "warnings.filterwarnings('ignore')\n",
    "from tqdm import tqdm\n",
    "\n",
    "import statsmodels.formula.api as smf\n",
    "import scipy.stats as scs\n",
    "from scipy.optimize import minimize\n",
    "\n",
    "import matplotlib.pyplot as plt\n",
    "from sklearn.metrics import r2_score "
   ]
  },
  {
   "cell_type": "code",
   "execution_count": 2,
   "metadata": {},
   "outputs": [],
   "source": [
    "from statsmodels.discrete.discrete_model import Logit\n",
    "from statsmodels.discrete.discrete_model import Probit"
   ]
  },
  {
   "cell_type": "code",
   "execution_count": 3,
   "metadata": {},
   "outputs": [],
   "source": [
    "from sklearn.ensemble import RandomForestClassifier \n",
    "from sklearn.model_selection import train_test_split\n",
    "from sklearn.metrics import classification_report\n",
    "from imblearn.over_sampling import SMOTE\n",
    "from imblearn.over_sampling import SMOTEN\n",
    "from imblearn.over_sampling import SMOTENC\n",
    "from imblearn.combine import SMOTEENN\n",
    "from imblearn.under_sampling import EditedNearestNeighbours"
   ]
  },
  {
   "cell_type": "code",
   "execution_count": 4,
   "metadata": {
    "scrolled": true
   },
   "outputs": [
    {
     "data": {
      "text/html": [
       "<div>\n",
       "<style scoped>\n",
       "    .dataframe tbody tr th:only-of-type {\n",
       "        vertical-align: middle;\n",
       "    }\n",
       "\n",
       "    .dataframe tbody tr th {\n",
       "        vertical-align: top;\n",
       "    }\n",
       "\n",
       "    .dataframe thead th {\n",
       "        text-align: right;\n",
       "    }\n",
       "</style>\n",
       "<table border=\"1\" class=\"dataframe\">\n",
       "  <thead>\n",
       "    <tr style=\"text-align: right;\">\n",
       "      <th></th>\n",
       "      <th>Unnamed: 0</th>\n",
       "      <th>upload_date</th>\n",
       "      <th>date_begin</th>\n",
       "      <th>inn</th>\n",
       "      <th>account_id</th>\n",
       "      <th>macro_segment</th>\n",
       "      <th>segment</th>\n",
       "      <th>segment_2</th>\n",
       "      <th>business_type</th>\n",
       "      <th>mrf_service_id</th>\n",
       "      <th>...</th>\n",
       "      <th>cmrcl_expn</th>\n",
       "      <th>admn_expn</th>\n",
       "      <th>profit_from_sales</th>\n",
       "      <th>intrst_rcv</th>\n",
       "      <th>intrst_pbl</th>\n",
       "      <th>othr_incm</th>\n",
       "      <th>def_tax_ast</th>\n",
       "      <th>rcvb</th>\n",
       "      <th>load_dttm</th>\n",
       "      <th>src_id</th>\n",
       "    </tr>\n",
       "  </thead>\n",
       "  <tbody>\n",
       "    <tr>\n",
       "      <th>0</th>\n",
       "      <td>0</td>\n",
       "      <td>2021-10-14</td>\n",
       "      <td>2020-07-01</td>\n",
       "      <td>7806460052</td>\n",
       "      <td>654000155089</td>\n",
       "      <td>B2B</td>\n",
       "      <td>3К</td>\n",
       "      <td>ТОП</td>\n",
       "      <td>b2b</td>\n",
       "      <td>16</td>\n",
       "      <td>...</td>\n",
       "      <td>949490000.0</td>\n",
       "      <td>NaN</td>\n",
       "      <td>347295000.0</td>\n",
       "      <td>1973000.0</td>\n",
       "      <td>8336000.0</td>\n",
       "      <td>573020000.0</td>\n",
       "      <td>1929000.0</td>\n",
       "      <td>1.554150e+08</td>\n",
       "      <td>2021-10-07 02:29:45.479</td>\n",
       "      <td>221</td>\n",
       "    </tr>\n",
       "    <tr>\n",
       "      <th>1</th>\n",
       "      <td>1</td>\n",
       "      <td>2021-10-14</td>\n",
       "      <td>2019-03-01</td>\n",
       "      <td>5250056647</td>\n",
       "      <td>278000204373</td>\n",
       "      <td>B2B</td>\n",
       "      <td>3К</td>\n",
       "      <td>ТОП</td>\n",
       "      <td>b2b</td>\n",
       "      <td>12</td>\n",
       "      <td>...</td>\n",
       "      <td>NaN</td>\n",
       "      <td>2.304695e+09</td>\n",
       "      <td>422336000.0</td>\n",
       "      <td>9351000.0</td>\n",
       "      <td>404573000.0</td>\n",
       "      <td>261984000.0</td>\n",
       "      <td>NaN</td>\n",
       "      <td>3.236164e+09</td>\n",
       "      <td>2021-10-07 02:29:45.479</td>\n",
       "      <td>221</td>\n",
       "    </tr>\n",
       "    <tr>\n",
       "      <th>2</th>\n",
       "      <td>6</td>\n",
       "      <td>2021-10-14</td>\n",
       "      <td>2019-03-01</td>\n",
       "      <td>5517010163</td>\n",
       "      <td>833000092255</td>\n",
       "      <td>B2B</td>\n",
       "      <td>МСП</td>\n",
       "      <td>Средний</td>\n",
       "      <td>b2b</td>\n",
       "      <td>11</td>\n",
       "      <td>...</td>\n",
       "      <td>68051000.0</td>\n",
       "      <td>NaN</td>\n",
       "      <td>-23452000.0</td>\n",
       "      <td>348000.0</td>\n",
       "      <td>NaN</td>\n",
       "      <td>53123000.0</td>\n",
       "      <td>NaN</td>\n",
       "      <td>3.668000e+06</td>\n",
       "      <td>2021-10-07 02:29:45.479</td>\n",
       "      <td>221</td>\n",
       "    </tr>\n",
       "    <tr>\n",
       "      <th>3</th>\n",
       "      <td>10</td>\n",
       "      <td>2021-10-14</td>\n",
       "      <td>2020-12-01</td>\n",
       "      <td>3812157949</td>\n",
       "      <td>638000146163</td>\n",
       "      <td>B2B</td>\n",
       "      <td>МСП</td>\n",
       "      <td>Малый</td>\n",
       "      <td>b2b</td>\n",
       "      <td>16</td>\n",
       "      <td>...</td>\n",
       "      <td>6186000.0</td>\n",
       "      <td>NaN</td>\n",
       "      <td>581000.0</td>\n",
       "      <td>NaN</td>\n",
       "      <td>NaN</td>\n",
       "      <td>NaN</td>\n",
       "      <td>NaN</td>\n",
       "      <td>1.150000e+05</td>\n",
       "      <td>2021-10-07 02:29:45.479</td>\n",
       "      <td>221</td>\n",
       "    </tr>\n",
       "    <tr>\n",
       "      <th>4</th>\n",
       "      <td>11</td>\n",
       "      <td>2021-10-14</td>\n",
       "      <td>2019-08-01</td>\n",
       "      <td>2635211336</td>\n",
       "      <td>426010153434</td>\n",
       "      <td>B2B</td>\n",
       "      <td>МСП</td>\n",
       "      <td>Микро</td>\n",
       "      <td>b2b</td>\n",
       "      <td>14</td>\n",
       "      <td>...</td>\n",
       "      <td>NaN</td>\n",
       "      <td>NaN</td>\n",
       "      <td>627000.0</td>\n",
       "      <td>NaN</td>\n",
       "      <td>NaN</td>\n",
       "      <td>127000.0</td>\n",
       "      <td>NaN</td>\n",
       "      <td>4.290000e+05</td>\n",
       "      <td>2021-10-07 02:29:45.479</td>\n",
       "      <td>221</td>\n",
       "    </tr>\n",
       "  </tbody>\n",
       "</table>\n",
       "<p>5 rows × 136 columns</p>\n",
       "</div>"
      ],
      "text/plain": [
       "   Unnamed: 0 upload_date date_begin         inn    account_id macro_segment  \\\n",
       "0           0  2021-10-14 2020-07-01  7806460052  654000155089           B2B   \n",
       "1           1  2021-10-14 2019-03-01  5250056647  278000204373           B2B   \n",
       "2           6  2021-10-14 2019-03-01  5517010163  833000092255           B2B   \n",
       "3          10  2021-10-14 2020-12-01  3812157949  638000146163           B2B   \n",
       "4          11  2021-10-14 2019-08-01  2635211336  426010153434           B2B   \n",
       "\n",
       "  segment segment_2 business_type  mrf_service_id  ...   cmrcl_expn  \\\n",
       "0      3К       ТОП           b2b              16  ...  949490000.0   \n",
       "1      3К       ТОП           b2b              12  ...          NaN   \n",
       "2     МСП   Средний           b2b              11  ...   68051000.0   \n",
       "3     МСП     Малый           b2b              16  ...    6186000.0   \n",
       "4     МСП     Микро           b2b              14  ...          NaN   \n",
       "\n",
       "      admn_expn profit_from_sales intrst_rcv   intrst_pbl    othr_incm  \\\n",
       "0           NaN       347295000.0  1973000.0    8336000.0  573020000.0   \n",
       "1  2.304695e+09       422336000.0  9351000.0  404573000.0  261984000.0   \n",
       "2           NaN       -23452000.0   348000.0          NaN   53123000.0   \n",
       "3           NaN          581000.0        NaN          NaN          NaN   \n",
       "4           NaN          627000.0        NaN          NaN     127000.0   \n",
       "\n",
       "   def_tax_ast          rcvb               load_dttm  src_id  \n",
       "0    1929000.0  1.554150e+08 2021-10-07 02:29:45.479     221  \n",
       "1          NaN  3.236164e+09 2021-10-07 02:29:45.479     221  \n",
       "2          NaN  3.668000e+06 2021-10-07 02:29:45.479     221  \n",
       "3          NaN  1.150000e+05 2021-10-07 02:29:45.479     221  \n",
       "4          NaN  4.290000e+05 2021-10-07 02:29:45.479     221  \n",
       "\n",
       "[5 rows x 136 columns]"
      ]
     },
     "execution_count": 4,
     "metadata": {},
     "output_type": "execute_result"
    }
   ],
   "source": [
    "ota  = pd.read_excel(\n",
    "    'spd_others_new_new1.xlsx')\n",
    "ota.head()"
   ]
  },
  {
   "cell_type": "markdown",
   "metadata": {},
   "source": [
    "### баланс классов"
   ]
  },
  {
   "cell_type": "code",
   "execution_count": 7,
   "metadata": {},
   "outputs": [
    {
     "data": {
      "text/plain": [
       "0    39585\n",
       "1     2464\n",
       "Name: fl_fpd3, dtype: int64"
      ]
     },
     "execution_count": 7,
     "metadata": {},
     "output_type": "execute_result"
    }
   ],
   "source": [
    "ota.fl_fpd3.value_counts()"
   ]
  },
  {
   "cell_type": "code",
   "execution_count": 8,
   "metadata": {},
   "outputs": [
    {
     "data": {
      "text/plain": [
       "0.10433070866141732"
      ]
     },
     "execution_count": 8,
     "metadata": {},
     "output_type": "execute_result"
    }
   ],
   "source": [
    "ota[(ota['tot_psv']>9500) & (ota['tot_psv']< 10500) & (ota['crn_ast']>9500) & (ota['crn_ast']<10500)].fl_fpd3.value_counts()[1] / (ota[(ota['tot_psv']>9500) & (ota['tot_psv']< 10500) & (ota['crn_ast']>9500) & (ota['crn_ast']<10500)].fl_fpd3.value_counts()[1]+ ota[(ota['tot_psv']>9500) & (ota['tot_psv']< 10500) & (ota['crn_ast']>9500) & (ota['crn_ast']<10500)].fl_fpd3.value_counts()[0])"
   ]
  },
  {
   "cell_type": "code",
   "execution_count": 9,
   "metadata": {},
   "outputs": [
    {
     "data": {
      "text/plain": [
       "0.0    411\n",
       "1.0     96\n",
       "Name: spark_registries, dtype: int64"
      ]
     },
     "execution_count": 9,
     "metadata": {},
     "output_type": "execute_result"
    }
   ],
   "source": [
    "ota[(ota['tot_psv']>=10000) & (ota['tot_psv']< 10500) & (ota['crn_ast']>=10000) & (ota['crn_ast']<10500)].spark_registries.value_counts()"
   ]
  },
  {
   "cell_type": "code",
   "execution_count": 10,
   "metadata": {},
   "outputs": [],
   "source": [
    "df = ota.isna().sum()\n",
    "df = pd.DataFrame(df, columns = ['count'])"
   ]
  },
  {
   "cell_type": "code",
   "execution_count": 22,
   "metadata": {},
   "outputs": [],
   "source": [
    "ota_copy = ota.copy()"
   ]
  },
  {
   "cell_type": "code",
   "execution_count": 12,
   "metadata": {},
   "outputs": [
    {
     "data": {
      "text/plain": [
       "42049"
      ]
     },
     "execution_count": 12,
     "metadata": {},
     "output_type": "execute_result"
    }
   ],
   "source": [
    "len(ota)"
   ]
  },
  {
   "cell_type": "code",
   "execution_count": 13,
   "metadata": {},
   "outputs": [
    {
     "data": {
      "text/plain": [
       "Index(['inn_old', 'risk_indicator', 'paymentindex', 'cash_assets',\n",
       "       'intang_ast', 'longterm_fnc_ivsm', 'othr_non_crn_ast', 'vat_prch_val',\n",
       "       'shortterm_fnc_ivsm', 'addl_cptl', 'rsrv_cptl', 'longterm_brw_fnd',\n",
       "       'othr_longterm_lby', 'longterm_lby', 'shortterm_brw_fnd', 'def_tax_lby',\n",
       "       'cmrcl_expn', 'admn_expn', 'intrst_rcv', 'intrst_pbl', 'def_tax_ast'],\n",
       "      dtype='object')"
      ]
     },
     "execution_count": 13,
     "metadata": {},
     "output_type": "execute_result"
    }
   ],
   "source": [
    "df[df['count'] > 23000].index"
   ]
  },
  {
   "cell_type": "code",
   "execution_count": 17,
   "metadata": {},
   "outputs": [
    {
     "data": {
      "text/plain": [
       "Index(['Unnamed: 0', 'upload_date', 'date_begin', 'inn', 'account_id',\n",
       "       'macro_segment', 'segment', 'segment_2', 'business_type',\n",
       "       'mrf_service_id', 'mrf_name', 'rf_service_id', 'rf_name', 'device_ind',\n",
       "       'product', 'diff_date', 'all_rev_sum', 'all_rev_sum_1', 'all_rev_sum_2',\n",
       "       'all_rev_sum_3', 'all_rev_sum_4', 'all_rev_sum_5', 'all_rev_sum_6',\n",
       "       'all_rev_sum_7', 'all_rev_sum_8', 'all_rev_sum_9', 'all_rev_sum_10',\n",
       "       'all_rev_sum_11', 'all_rev_sum_12', 'pay_sum', 'pay_sum_1', 'pay_sum_2',\n",
       "       'pay_sum_3', 'pay_sum_4', 'pay_sum_5', 'pay_sum_6', 'pay_sum_7',\n",
       "       'pay_sum_8', 'pay_sum_9', 'pay_sum_10', 'pay_sum_11', 'pay_sum_12',\n",
       "       'debt_sum_1', 'debt_sum_2', 'debt_sum_3', 'debt_sum_4', 'debt_sum_5',\n",
       "       'debt_sum_6', 'debt_sum_7', 'debt_sum_8'],\n",
       "      dtype='object')"
      ]
     },
     "execution_count": 17,
     "metadata": {},
     "output_type": "execute_result"
    }
   ],
   "source": [
    "ota_copy.columns[:50]"
   ]
  },
  {
   "cell_type": "markdown",
   "metadata": {},
   "source": [
    "### удалил бесполезные регрессоры апостериорные и по которым нету информации"
   ]
  },
  {
   "cell_type": "code",
   "execution_count": 23,
   "metadata": {},
   "outputs": [],
   "source": [
    "ota_copy = ota_copy.drop(columns = ['all_rev_sum', 'all_rev_sum_1',\n",
    "       'all_rev_sum_2', 'all_rev_sum_3', 'all_rev_sum_4', 'all_rev_sum_5',\n",
    "       'all_rev_sum_6', 'all_rev_sum_7', 'all_rev_sum_8', 'all_rev_sum_9',\n",
    "       'all_rev_sum_10', 'all_rev_sum_11', 'all_rev_sum_12', 'pay_sum',\n",
    "       'pay_sum_1', 'pay_sum_2', 'pay_sum_3', 'pay_sum_4', 'pay_sum_5',\n",
    "       'pay_sum_6', 'pay_sum_7', 'pay_sum_8', 'pay_sum_9', 'pay_sum_10',\n",
    "       'pay_sum_11', 'debt_sum_1', 'debt_sum_2', 'debt_sum_3',\n",
    "       'debt_sum_4', 'debt_sum_5', 'debt_sum_6', 'debt_sum_7', 'debt_sum_8',\n",
    "       'debt_sum_9', 'debt_sum_10', 'debt_sum_11', 'debt_sum_12', 'debt_bad_sum_1', 'debt_bad_sum_2', 'debt_bad_sum_3', 'debt_bad_sum_4',\n",
    "       'debt_bad_sum_5', 'debt_bad_sum_6', 'debt_bad_sum_7', 'debt_bad_sum_8',\n",
    "       'debt_bad_sum_9', 'debt_bad_sum_10', 'debt_bad_sum_11',\n",
    "       'debt_bad_sum_12', 'fl_fpd1', 'fl_fpd2', 'fl_fpd6',\n",
    "       'fl_fpd9', 'fl_fpd12',  'diff_date', 'inn_old', 'cash_assets', 'intang_ast', 'othr_non_crn_ast', 'Unnamed: 0', 'upload_date',\n",
    "       'rsrv_cptl'])"
   ]
  },
  {
   "cell_type": "code",
   "execution_count": 29,
   "metadata": {},
   "outputs": [],
   "source": [
    "def isNaN(num):\n",
    "    return num!= num"
   ]
  },
  {
   "cell_type": "code",
   "execution_count": 25,
   "metadata": {},
   "outputs": [
    {
     "data": {
      "text/plain": [
       "Index(['date_begin', 'inn', 'account_id', 'macro_segment', 'segment',\n",
       "       'segment_2', 'business_type', 'mrf_service_id', 'mrf_name',\n",
       "       'rf_service_id', 'rf_name', 'device_ind', 'product', 'pay_sum_12',\n",
       "       'fl_fpd3', 'period', 'sparkid', 'periodname', 'kpp', 'ogrn', 'normname',\n",
       "       'address', 'director_inn', 'okato_regionname', 'okato_regioncode',\n",
       "       'okved_code', 'industry', 'company_age', 'legal_form', 'ownership_form',\n",
       "       'risk_indicator', 'consolidatedindicator', 'indexofduediligence',\n",
       "       'failurescore', 'paymentindex', 'spark_registries', 'fix_ast',\n",
       "       'longterm_fnc_ivsm', 'non_crn_ast', 'rsrv', 'vat_prch_val',\n",
       "       'shortterm_fnc_ivsm', 'cash_and_eqv', 'crn_ast', 'tot_ast', 'ahr_cptl',\n",
       "       'addl_cptl', 'rtnd_erng', 'cptl_and_rsrv', 'longterm_brw_fnd',\n",
       "       'othr_longterm_lby', 'longterm_lby', 'shortterm_brw_fnd', 'crdr_dbt',\n",
       "       'shortterm_lby', 'tot_psv', 'revenue', 'othr_expn', 'pft_bfr_tax',\n",
       "       'crn_incm_tax', 'def_tax_lby', 'net_profit', 'cogs', 'grs_profit',\n",
       "       'cmrcl_expn', 'admn_expn', 'profit_from_sales', 'intrst_rcv',\n",
       "       'intrst_pbl', 'othr_incm', 'def_tax_ast', 'rcvb', 'load_dttm',\n",
       "       'src_id'],\n",
       "      dtype='object')"
      ]
     },
     "execution_count": 25,
     "metadata": {},
     "output_type": "execute_result"
    }
   ],
   "source": [
    "ota_copy.columns"
   ]
  },
  {
   "cell_type": "markdown",
   "metadata": {},
   "source": [
    "### предполагаемый набор фичей по непрерывным регрессорам"
   ]
  },
  {
   "cell_type": "code",
   "execution_count": 26,
   "metadata": {},
   "outputs": [],
   "source": [
    "features = ['company_age', 'risk_indicator', 'indexofduediligence',\n",
    "       'failurescore', 'paymentindex', 'fix_ast',\n",
    "       'longterm_fnc_ivsm', 'non_crn_ast', 'rsrv', 'vat_prch_val',\n",
    "       'shortterm_fnc_ivsm', 'cash_and_eqv', 'crn_ast', 'tot_ast', 'ahr_cptl',\n",
    "       'addl_cptl', 'rtnd_erng', 'cptl_and_rsrv', 'longterm_brw_fnd',\n",
    "       'othr_longterm_lby', 'longterm_lby', 'shortterm_brw_fnd', 'crdr_dbt', 'shortterm_lby',\n",
    "       'tot_psv', 'revenue', 'othr_expn', 'pft_bfr_tax', 'crn_incm_tax',\n",
    "       'def_tax_lby', 'net_profit', 'cogs', 'grs_profit', 'cmrcl_expn',\n",
    "       'admn_expn', 'profit_from_sales', 'intrst_rcv', 'intrst_pbl',\n",
    "       'othr_incm', 'def_tax_ast', 'rcvb']"
   ]
  },
  {
   "cell_type": "code",
   "execution_count": 37,
   "metadata": {},
   "outputs": [],
   "source": [
    "ota_copy1 = ota_copy.copy()"
   ]
  },
  {
   "cell_type": "markdown",
   "metadata": {},
   "source": [
    "### здесь я удаляю пустые наблюдения, больше 10 пропусков по присутсвуюшим фичам выше"
   ]
  },
  {
   "cell_type": "code",
   "execution_count": 38,
   "metadata": {},
   "outputs": [],
   "source": [
    "drop = []\n",
    "for j in range(ota_copy1.index[0], ota_copy1.index[len(ota_copy1)-1]):\n",
    "    ind = 0\n",
    "    for i in features:\n",
    "        if isNaN(ota_copy1[i].loc[j]):\n",
    "            ind +=1\n",
    "    if ind > 10:\n",
    "        drop.append(j)\n",
    "        \n",
    "        "
   ]
  },
  {
   "cell_type": "code",
   "execution_count": 39,
   "metadata": {},
   "outputs": [
    {
     "data": {
      "text/plain": [
       "35258"
      ]
     },
     "execution_count": 39,
     "metadata": {},
     "output_type": "execute_result"
    }
   ],
   "source": [
    "len(drop)"
   ]
  },
  {
   "cell_type": "code",
   "execution_count": 40,
   "metadata": {},
   "outputs": [],
   "source": [
    "ota_copy1 = ota_copy1.drop(drop)"
   ]
  },
  {
   "cell_type": "code",
   "execution_count": 41,
   "metadata": {},
   "outputs": [
    {
     "data": {
      "text/plain": [
       "0    6308\n",
       "1     483\n",
       "Name: fl_fpd3, dtype: int64"
      ]
     },
     "execution_count": 41,
     "metadata": {},
     "output_type": "execute_result"
    }
   ],
   "source": [
    "ota_copy1.fl_fpd3.value_counts()"
   ]
  },
  {
   "cell_type": "code",
   "execution_count": 42,
   "metadata": {},
   "outputs": [],
   "source": [
    "ota_copy2 = ota_copy1.copy()"
   ]
  },
  {
   "cell_type": "code",
   "execution_count": 43,
   "metadata": {},
   "outputs": [
    {
     "name": "stdout",
     "output_type": "stream",
     "text": [
      "<class 'pandas.core.frame.DataFrame'>\n",
      "Int64Index: 6791 entries, 0 to 42048\n",
      "Data columns (total 41 columns):\n",
      " #   Column               Non-Null Count  Dtype  \n",
      "---  ------               --------------  -----  \n",
      " 0   company_age          6791 non-null   int64  \n",
      " 1   risk_indicator       2734 non-null   float64\n",
      " 2   indexofduediligence  6752 non-null   float64\n",
      " 3   failurescore         6705 non-null   float64\n",
      " 4   paymentindex         2734 non-null   float64\n",
      " 5   fix_ast              6716 non-null   float64\n",
      " 6   longterm_fnc_ivsm    1926 non-null   float64\n",
      " 7   non_crn_ast          6781 non-null   float64\n",
      " 8   rsrv                 6706 non-null   float64\n",
      " 9   vat_prch_val         5043 non-null   float64\n",
      " 10  shortterm_fnc_ivsm   3712 non-null   float64\n",
      " 11  cash_and_eqv         6749 non-null   float64\n",
      " 12  crn_ast              6791 non-null   float64\n",
      " 13  tot_ast              6791 non-null   float64\n",
      " 14  ahr_cptl             6766 non-null   float64\n",
      " 15  addl_cptl            1410 non-null   float64\n",
      " 16  rtnd_erng            6782 non-null   float64\n",
      " 17  cptl_and_rsrv        6791 non-null   float64\n",
      " 18  longterm_brw_fnd     3760 non-null   float64\n",
      " 19  othr_longterm_lby    2086 non-null   float64\n",
      " 20  longterm_lby         6272 non-null   float64\n",
      " 21  shortterm_brw_fnd    4789 non-null   float64\n",
      " 22  crdr_dbt             6791 non-null   float64\n",
      " 23  shortterm_lby        6791 non-null   float64\n",
      " 24  tot_psv              6791 non-null   float64\n",
      " 25  revenue              6766 non-null   float64\n",
      " 26  othr_expn            6782 non-null   float64\n",
      " 27  pft_bfr_tax          6791 non-null   float64\n",
      " 28  crn_incm_tax         6391 non-null   float64\n",
      " 29  def_tax_lby          4237 non-null   float64\n",
      " 30  net_profit           6789 non-null   float64\n",
      " 31  cogs                 6670 non-null   float64\n",
      " 32  grs_profit           6769 non-null   float64\n",
      " 33  cmrcl_expn           4168 non-null   float64\n",
      " 34  admn_expn            4550 non-null   float64\n",
      " 35  profit_from_sales    6790 non-null   float64\n",
      " 36  intrst_rcv           4723 non-null   float64\n",
      " 37  intrst_pbl           4942 non-null   float64\n",
      " 38  othr_incm            6682 non-null   float64\n",
      " 39  def_tax_ast          4193 non-null   float64\n",
      " 40  rcvb                 6790 non-null   float64\n",
      "dtypes: float64(40), int64(1)\n",
      "memory usage: 2.2 MB\n"
     ]
    }
   ],
   "source": [
    "ota_copy2[features].info()"
   ]
  },
  {
   "cell_type": "markdown",
   "metadata": {},
   "source": [
    "### перевел некоторые регр в флоты"
   ]
  },
  {
   "cell_type": "code",
   "execution_count": 24,
   "metadata": {},
   "outputs": [],
   "source": [
    "ota_copy2[\"fix_ast\"] = pd.to_numeric(ota_copy2[\"fix_ast\"])\n",
    "ota_copy2[\"rtnd_erng\"] = pd.to_numeric(ota_copy2[\"rtnd_erng\"])\n",
    "ota_copy2[\"othr_expn\"] = pd.to_numeric(ota_copy2[\"othr_expn\"])\n",
    "ota_copy2[\"pft_bfr_tax\"] = pd.to_numeric(ota_copy2[\"pft_bfr_tax\"])\n",
    "ota_copy2[\"def_tax_lby\"] = pd.to_numeric(ota_copy2[\"def_tax_lby\"])\n",
    "ota_copy2[\"othr_incm\"] = pd.to_numeric(ota_copy2[\"othr_incm\"])\n",
    "ota_copy2[\"def_tax_ast\"] = pd.to_numeric(ota_copy2[\"def_tax_ast\"])"
   ]
  },
  {
   "cell_type": "markdown",
   "metadata": {},
   "source": [
    "### заполнил медианами"
   ]
  },
  {
   "cell_type": "code",
   "execution_count": 44,
   "metadata": {},
   "outputs": [],
   "source": [
    "ota_copy2[features] = ota_copy2[features].fillna(ota_copy2[features].median())"
   ]
  },
  {
   "cell_type": "code",
   "execution_count": 45,
   "metadata": {},
   "outputs": [
    {
     "data": {
      "text/plain": [
       "0.0    5258\n",
       "1.0     492\n",
       "Name: spark_registries, dtype: int64"
      ]
     },
     "execution_count": 45,
     "metadata": {},
     "output_type": "execute_result"
    }
   ],
   "source": [
    "ota_copy2.spark_registries.value_counts()"
   ]
  },
  {
   "cell_type": "markdown",
   "metadata": {},
   "source": [
    "## далее процесс добавления бинарок в фрейм по присутствующим переменным"
   ]
  },
  {
   "cell_type": "markdown",
   "metadata": {},
   "source": [
    "### добавление мрфов"
   ]
  },
  {
   "cell_type": "code",
   "execution_count": 46,
   "metadata": {},
   "outputs": [],
   "source": [
    "mrf = DataFrame(ota_copy2.mrf_name)\n",
    "mrf = pd.get_dummies(mrf)"
   ]
  },
  {
   "cell_type": "code",
   "execution_count": 47,
   "metadata": {},
   "outputs": [],
   "source": [
    "ota_copy3 = pd.concat([ota_copy2, mrf], axis = 1)"
   ]
  },
  {
   "cell_type": "markdown",
   "metadata": {},
   "source": [
    "### добавление показателя консолидации"
   ]
  },
  {
   "cell_type": "code",
   "execution_count": 48,
   "metadata": {},
   "outputs": [
    {
     "data": {
      "text/plain": [
       "Low       4479\n",
       "Medium    1401\n",
       "High       872\n",
       "Name: consolidatedindicator, dtype: int64"
      ]
     },
     "execution_count": 48,
     "metadata": {},
     "output_type": "execute_result"
    }
   ],
   "source": [
    "ota_copy3.consolidatedindicator.value_counts()"
   ]
  },
  {
   "cell_type": "code",
   "execution_count": 49,
   "metadata": {},
   "outputs": [],
   "source": [
    "consol = pd.get_dummies(ota_copy3.consolidatedindicator, dummy_na = True, columns = ['High', 'Low', 'Medium', 'No inf']).values\n",
    "consol = pd.DataFrame(consol, columns = ['High', 'Low', 'Medium', 'No inf'] )\n",
    "consol = consol.set_index(ota_copy3.index)"
   ]
  },
  {
   "cell_type": "code",
   "execution_count": 50,
   "metadata": {},
   "outputs": [],
   "source": [
    "ota_copy4 = pd.concat([ota_copy3, consol], axis = 1)"
   ]
  },
  {
   "cell_type": "code",
   "execution_count": 52,
   "metadata": {},
   "outputs": [],
   "source": [
    "ota_copy5 = ota_copy4.copy()"
   ]
  },
  {
   "cell_type": "markdown",
   "metadata": {},
   "source": [
    "### добавление размера сегмента"
   ]
  },
  {
   "cell_type": "code",
   "execution_count": 51,
   "metadata": {},
   "outputs": [
    {
     "ename": "AttributeError",
     "evalue": "'DataFrame' object has no attribute 'segment_level3_new'",
     "output_type": "error",
     "traceback": [
      "\u001b[1;31m---------------------------------------------------------------------------\u001b[0m",
      "\u001b[1;31mAttributeError\u001b[0m                            Traceback (most recent call last)",
      "\u001b[1;32m<ipython-input-51-8cdface29db4>\u001b[0m in \u001b[0;36m<module>\u001b[1;34m\u001b[0m\n\u001b[1;32m----> 1\u001b[1;33m \u001b[0mlevel\u001b[0m \u001b[1;33m=\u001b[0m \u001b[0mpd\u001b[0m\u001b[1;33m.\u001b[0m\u001b[0mget_dummies\u001b[0m\u001b[1;33m(\u001b[0m\u001b[0mota_copy4\u001b[0m\u001b[1;33m.\u001b[0m\u001b[0msegment_level3_new\u001b[0m\u001b[1;33m)\u001b[0m\u001b[1;33m\u001b[0m\u001b[1;33m\u001b[0m\u001b[0m\n\u001b[0m\u001b[0;32m      2\u001b[0m \u001b[0mlevel\u001b[0m \u001b[1;33m=\u001b[0m \u001b[0mpd\u001b[0m\u001b[1;33m.\u001b[0m\u001b[0mDataFrame\u001b[0m\u001b[1;33m(\u001b[0m\u001b[0mlevel\u001b[0m\u001b[1;33m)\u001b[0m\u001b[1;33m\u001b[0m\u001b[1;33m\u001b[0m\u001b[0m\n\u001b[0;32m      3\u001b[0m \u001b[0mlevel\u001b[0m \u001b[1;33m=\u001b[0m \u001b[0mlevel\u001b[0m\u001b[1;33m.\u001b[0m\u001b[0mset_index\u001b[0m\u001b[1;33m(\u001b[0m\u001b[0mota_copy3\u001b[0m\u001b[1;33m.\u001b[0m\u001b[0mindex\u001b[0m\u001b[1;33m)\u001b[0m\u001b[1;33m\u001b[0m\u001b[1;33m\u001b[0m\u001b[0m\n",
      "\u001b[1;32m~\\Anaconda3\\lib\\site-packages\\pandas\\core\\generic.py\u001b[0m in \u001b[0;36m__getattr__\u001b[1;34m(self, name)\u001b[0m\n\u001b[0;32m   5137\u001b[0m             \u001b[1;32mif\u001b[0m \u001b[0mself\u001b[0m\u001b[1;33m.\u001b[0m\u001b[0m_info_axis\u001b[0m\u001b[1;33m.\u001b[0m\u001b[0m_can_hold_identifiers_and_holds_name\u001b[0m\u001b[1;33m(\u001b[0m\u001b[0mname\u001b[0m\u001b[1;33m)\u001b[0m\u001b[1;33m:\u001b[0m\u001b[1;33m\u001b[0m\u001b[1;33m\u001b[0m\u001b[0m\n\u001b[0;32m   5138\u001b[0m                 \u001b[1;32mreturn\u001b[0m \u001b[0mself\u001b[0m\u001b[1;33m[\u001b[0m\u001b[0mname\u001b[0m\u001b[1;33m]\u001b[0m\u001b[1;33m\u001b[0m\u001b[1;33m\u001b[0m\u001b[0m\n\u001b[1;32m-> 5139\u001b[1;33m             \u001b[1;32mreturn\u001b[0m \u001b[0mobject\u001b[0m\u001b[1;33m.\u001b[0m\u001b[0m__getattribute__\u001b[0m\u001b[1;33m(\u001b[0m\u001b[0mself\u001b[0m\u001b[1;33m,\u001b[0m \u001b[0mname\u001b[0m\u001b[1;33m)\u001b[0m\u001b[1;33m\u001b[0m\u001b[1;33m\u001b[0m\u001b[0m\n\u001b[0m\u001b[0;32m   5140\u001b[0m \u001b[1;33m\u001b[0m\u001b[0m\n\u001b[0;32m   5141\u001b[0m     \u001b[1;32mdef\u001b[0m \u001b[0m__setattr__\u001b[0m\u001b[1;33m(\u001b[0m\u001b[0mself\u001b[0m\u001b[1;33m,\u001b[0m \u001b[0mname\u001b[0m\u001b[1;33m:\u001b[0m \u001b[0mstr\u001b[0m\u001b[1;33m,\u001b[0m \u001b[0mvalue\u001b[0m\u001b[1;33m)\u001b[0m \u001b[1;33m->\u001b[0m \u001b[1;32mNone\u001b[0m\u001b[1;33m:\u001b[0m\u001b[1;33m\u001b[0m\u001b[1;33m\u001b[0m\u001b[0m\n",
      "\u001b[1;31mAttributeError\u001b[0m: 'DataFrame' object has no attribute 'segment_level3_new'"
     ]
    }
   ],
   "source": [
    "level = pd.get_dummies(ota_copy4.segment_level3_new)\n",
    "level = pd.DataFrame(level)\n",
    "level = level.set_index(ota_copy3.index)"
   ]
  },
  {
   "cell_type": "code",
   "execution_count": 33,
   "metadata": {},
   "outputs": [],
   "source": [
    "ota_copy5 = pd.concat([ota_copy4, level], axis = 1)"
   ]
  },
  {
   "cell_type": "markdown",
   "metadata": {},
   "source": [
    "### добавление скора спарка в том числе и на отсутствие информации"
   ]
  },
  {
   "cell_type": "code",
   "execution_count": 53,
   "metadata": {},
   "outputs": [],
   "source": [
    "spark_des = pd.get_dummies(ota_copy5.spark_registries, dummy_na = True).values\n",
    "spark_des = pd.DataFrame(spark_des, columns = ['Good spark', 'Bad spark', 'No inf spark'])\n",
    "spark_des = spark_des.set_index(ota_copy3.index)"
   ]
  },
  {
   "cell_type": "code",
   "execution_count": 54,
   "metadata": {},
   "outputs": [],
   "source": [
    "ota_copy6 = pd.concat([ota_copy5, spark_des], axis = 1)"
   ]
  },
  {
   "cell_type": "code",
   "execution_count": 68,
   "metadata": {},
   "outputs": [],
   "source": [
    "ota_total = ota_copy6.copy()"
   ]
  },
  {
   "cell_type": "markdown",
   "metadata": {},
   "source": [
    "### добавление 30 наиболее распространенных полей деятельности фирм"
   ]
  },
  {
   "cell_type": "code",
   "execution_count": 69,
   "metadata": {},
   "outputs": [],
   "source": [
    "industry = pd.get_dummies(ota_total.industry)\n",
    "industry = pd.DataFrame(industry, columns = pd.DataFrame(pd.get_dummies(ota_total.industry).sum().sort_values(ascending = False)[1:30]).index)\n",
    "industry = industry.set_index(ota_total.index)"
   ]
  },
  {
   "cell_type": "code",
   "execution_count": 70,
   "metadata": {},
   "outputs": [],
   "source": [
    "ota_total = pd.concat([ota_total, industry], axis = 1)"
   ]
  },
  {
   "cell_type": "markdown",
   "metadata": {},
   "source": [
    "### удаление оставшихся колонок - временных меток и уже ненужных текстовых переменных"
   ]
  },
  {
   "cell_type": "code",
   "execution_count": 71,
   "metadata": {},
   "outputs": [],
   "source": [
    "ota_total = ota_total.drop(columns = ['account_id',\n",
    "       'mrf_service_id', 'mrf_name', 'rf_service_id', 'rf_name',\n",
    "       'device_ind', 'product', 'period',\n",
    "       'sparkid', 'periodname', 'kpp', 'ogrn', 'normname', 'address',\n",
    "       'director_inn', 'okato_regionname', 'okato_regioncode', 'okved_code', 'load_dttm', 'src_id', 'spark_registries','industry', 'consolidatedindicator', 'macro_segment', 'segment', 'segment_2',\n",
    "       'business_type', 'pay_sum_12'            ])"
   ]
  },
  {
   "cell_type": "markdown",
   "metadata": {},
   "source": [
    "### добавление некоторых бинарных на тип владения и форма собственности "
   ]
  },
  {
   "cell_type": "code",
   "execution_count": 73,
   "metadata": {},
   "outputs": [],
   "source": [
    "def industry(cam_60_total):\n",
    "    \n",
    "  \n",
    "    a = np.random.randint(low = 0, high=1, size= len(cam_60_total), dtype='l')\n",
    "    cam_60_total['OOO'] = a\n",
    "    cam_60_total['НАО'] = a\n",
    "    cam_60_total['ПАО'] = a\n",
    "    cam_60_total['Privat'] = a\n",
    "    cam_60_total['Zabugorie'] = a\n",
    "    cam_60_total['Zabugorie+Privat'] = a\n",
    "    \n",
    "    \n",
    "    \n",
    "    for i in range(0,len(cam_60_total)):\n",
    "        \n",
    "        if cam_60_total['legal_form'].iloc[i] == 'Общества с ограниченной ответственностью':\n",
    "            cam_60_total['OOO'].iloc[i] = 1\n",
    "        if cam_60_total['legal_form'].iloc[i] == 'Непубличные акционерные общества':\n",
    "            cam_60_total['НАО'].iloc[i] = 1\n",
    "        if cam_60_total['legal_form'].iloc[i] == 'Публичные акционерные общества':\n",
    "            cam_60_total['ПАО'].iloc[i] = 1\n",
    "        if cam_60_total['ownership_form'].iloc[i] == 'Частная собственность':\n",
    "            cam_60_total['Privat'].iloc[i] = 1\n",
    "        if cam_60_total['ownership_form'].iloc[i] == 'Собственность иностранных юридических лиц':\n",
    "            cam_60_total['Zabugorie'].iloc[i] = 1\n",
    "        if cam_60_total['ownership_form'].iloc[i] == 'Совместная частная и иностранная собственность':\n",
    "            cam_60_total['Zabugorie+Privat'].iloc[i] = 1\n",
    "    return cam_60_total\n",
    "\n",
    "    "
   ]
  },
  {
   "cell_type": "code",
   "execution_count": 74,
   "metadata": {},
   "outputs": [],
   "source": [
    "ota_total = industry(ota_total)"
   ]
  },
  {
   "cell_type": "markdown",
   "metadata": {},
   "source": [
    "### исключние текстовых"
   ]
  },
  {
   "cell_type": "code",
   "execution_count": 75,
   "metadata": {},
   "outputs": [],
   "source": [
    "ota_total = ota_total.drop(columns = ['ownership_form', 'legal_form'])"
   ]
  },
  {
   "cell_type": "code",
   "execution_count": 156,
   "metadata": {},
   "outputs": [],
   "source": [
    "y = ota_total.fl_fpd3\n",
    "X = ota_total.drop(columns = ['fl_fpd3'])"
   ]
  },
  {
   "cell_type": "markdown",
   "metadata": {},
   "source": [
    "### Тест - трейн разделение"
   ]
  },
  {
   "cell_type": "code",
   "execution_count": 77,
   "metadata": {},
   "outputs": [],
   "source": [
    "X_train, X_test, y_train, y_test = train_test_split(X, y, test_size=0.2, random_state=42)"
   ]
  },
  {
   "cell_type": "code",
   "execution_count": 78,
   "metadata": {},
   "outputs": [],
   "source": [
    "X_train = X_train.drop(columns = 'date_begin')"
   ]
  },
  {
   "cell_type": "markdown",
   "metadata": {},
   "source": [
    "### пересемплирование на основе категорианльных фичей, можно использовать еще smoteen из combine, но он не учитывает бинарки, но может давать лучшие результаты"
   ]
  },
  {
   "cell_type": "code",
   "execution_count": 79,
   "metadata": {},
   "outputs": [],
   "source": [
    "smeen = SMOTENC(random_state=1, categorical_features=[i for i in range(41,len(X.columns)-1)])\n",
    "X_train_res, y_train_res = smeen.fit_resample(X_train, y_train)"
   ]
  },
  {
   "cell_type": "code",
   "execution_count": 80,
   "metadata": {},
   "outputs": [],
   "source": [
    "smteen = SMOTEENN(enn=EditedNearestNeighbours(sampling_strategy='majority'))"
   ]
  },
  {
   "cell_type": "code",
   "execution_count": 81,
   "metadata": {},
   "outputs": [],
   "source": [
    "X_train_res_under, y_train_res_under = smteen.fit_resample(X_train, y_train)"
   ]
  },
  {
   "cell_type": "code",
   "execution_count": 82,
   "metadata": {},
   "outputs": [
    {
     "data": {
      "text/plain": [
       "1    5054\n",
       "0    5054\n",
       "Name: fl_fpd3, dtype: int64"
      ]
     },
     "execution_count": 82,
     "metadata": {},
     "output_type": "execute_result"
    }
   ],
   "source": [
    "y_train_res.value_counts()"
   ]
  },
  {
   "cell_type": "code",
   "execution_count": 85,
   "metadata": {},
   "outputs": [
    {
     "data": {
      "text/plain": [
       "Index(['inn', 'company_age', 'risk_indicator', 'indexofduediligence',\n",
       "       'failurescore', 'paymentindex', 'fix_ast', 'longterm_fnc_ivsm',\n",
       "       'non_crn_ast', 'rsrv', 'vat_prch_val', 'shortterm_fnc_ivsm',\n",
       "       'cash_and_eqv', 'crn_ast', 'tot_ast', 'ahr_cptl', 'addl_cptl',\n",
       "       'rtnd_erng', 'cptl_and_rsrv', 'longterm_brw_fnd', 'othr_longterm_lby',\n",
       "       'longterm_lby', 'shortterm_brw_fnd', 'crdr_dbt', 'shortterm_lby',\n",
       "       'tot_psv', 'revenue', 'othr_expn', 'pft_bfr_tax', 'crn_incm_tax',\n",
       "       'def_tax_lby', 'net_profit', 'cogs', 'grs_profit', 'cmrcl_expn',\n",
       "       'admn_expn', 'profit_from_sales', 'intrst_rcv', 'intrst_pbl',\n",
       "       'othr_incm', 'def_tax_ast', 'rcvb', 'mrf_name_Волга',\n",
       "       'mrf_name_Дальний Восток', 'mrf_name_Прочие', 'mrf_name_Северо-Запад',\n",
       "       'mrf_name_Сибирь', 'mrf_name_Урал', 'mrf_name_Центр', 'mrf_name_Юг',\n",
       "       'High', 'Low', 'Medium', 'No inf', 'Good spark', 'Bad spark',\n",
       "       'No inf spark',\n",
       "       'Торговля розничная лекарственными средствами в специализированных магазинах (аптеках)',\n",
       "       'Торговля оптовая неспециализированная', 'Выращивание зерновых культур',\n",
       "       'Строительство автомобильных дорог и автомагистралей',\n",
       "       'Аренда и управление собственным или арендованным недвижимым имуществом',\n",
       "       'Аренда и управление собственным или арендованным нежилым недвижимым имуществом',\n",
       "       'Выращивание зерновых (кроме риса), зернобобовых культур и семян масличных культур',\n",
       "       'Торговля оптовая фармацевтической продукцией',\n",
       "       'Разработка компьютерного программного обеспечения',\n",
       "       'Торговля оптовая лесоматериалами, строительными материалами и санитарно-техническим оборудованием',\n",
       "       'Деятельность вспомогательная прочая, связанная с перевозками',\n",
       "       'Торговля розничная прочая в неспециализированных магазинах',\n",
       "       'Деятельность автомобильного грузового транспорта',\n",
       "       'Торговля оптовая твердым, жидким и газообразным топливом и подобными продуктами',\n",
       "       'Торговля розничная преимущественно пищевыми продуктами, включая напитки, и табачными изделиями в неспециализированных магазинах',\n",
       "       'Торговля розничная легковыми автомобилями и легкими автотранспортными средствами в специализированных магазинах',\n",
       "       'Разведение молочного крупного рогатого скота, производство сырого молока',\n",
       "       'Деятельность ресторанов и услуги по доставке продуктов питания',\n",
       "       'Производство электромонтажных работ',\n",
       "       'Передача электроэнергии и технологическое присоединение к распределительным электросетям',\n",
       "       'Торговля оптовая прочими машинами и оборудованием',\n",
       "       'Консультирование по вопросам коммерческой деятельности и управления',\n",
       "       'Торговля оптовая автомобильными деталями, узлами и принадлежностями, кроме деятельности агентов',\n",
       "       'Деятельность по финансовой аренде (лизингу/сублизингу)',\n",
       "       'Научные исследования и разработки в области естественных и технических наук прочие',\n",
       "       'Торговля оптовая машинами, оборудованием и инструментами для сельского хозяйства',\n",
       "       'Деятельность заказчика-застройщика, генерального подрядчика',\n",
       "       'Торговля оптовая производственным электротехническим оборудованием, машинами, аппаратурой и материалами',\n",
       "       'Выращивание однолетних культур', 'OOO', 'НАО', 'ПАО', 'Privat',\n",
       "       'Zabugorie', 'Zabugorie+Privat'],\n",
       "      dtype='object')"
      ]
     },
     "execution_count": 85,
     "metadata": {},
     "output_type": "execute_result"
    }
   ],
   "source": [
    "X_train_res.columns"
   ]
  },
  {
   "cell_type": "markdown",
   "metadata": {},
   "source": [
    "### не дамми из фичей"
   ]
  },
  {
   "cell_type": "code",
   "execution_count": 83,
   "metadata": {},
   "outputs": [],
   "source": [
    "X_non_dummy = X_train_res[['company_age', 'risk_indicator', 'indexofduediligence', 'failurescore',\n",
    "       'paymentindex', 'fix_ast', 'longterm_fnc_ivsm', 'non_crn_ast', 'rsrv',\n",
    "       'vat_prch_val', 'shortterm_fnc_ivsm', 'cash_and_eqv', 'crn_ast',\n",
    "       'tot_ast', 'ahr_cptl', 'addl_cptl', 'rtnd_erng', 'cptl_and_rsrv',\n",
    "       'longterm_brw_fnd', 'othr_longterm_lby', 'longterm_lby',\n",
    "       'shortterm_brw_fnd', 'crdr_dbt', 'shortterm_lby', 'tot_psv', 'revenue',\n",
    "       'othr_expn', 'pft_bfr_tax', 'crn_incm_tax', 'def_tax_lby', 'net_profit',\n",
    "       'cogs', 'grs_profit', 'cmrcl_expn', 'admn_expn', 'profit_from_sales',\n",
    "       'intrst_rcv', 'intrst_pbl', 'othr_incm', 'def_tax_ast', 'rcvb']]"
   ]
  },
  {
   "cell_type": "code",
   "execution_count": 158,
   "metadata": {},
   "outputs": [],
   "source": [
    "X_non_dummy_test = X_test[['company_age', 'risk_indicator', 'indexofduediligence', 'failurescore',\n",
    "       'paymentindex', 'fix_ast', 'longterm_fnc_ivsm', 'non_crn_ast', 'rsrv',\n",
    "       'vat_prch_val', 'shortterm_fnc_ivsm', 'cash_and_eqv', 'crn_ast',\n",
    "       'tot_ast', 'ahr_cptl', 'addl_cptl', 'rtnd_erng', 'cptl_and_rsrv',\n",
    "       'longterm_brw_fnd', 'othr_longterm_lby', 'longterm_lby',\n",
    "       'shortterm_brw_fnd', 'crdr_dbt', 'shortterm_lby', 'tot_psv', 'revenue',\n",
    "       'othr_expn', 'pft_bfr_tax', 'crn_incm_tax', 'def_tax_lby', 'net_profit',\n",
    "       'cogs', 'grs_profit', 'cmrcl_expn', 'admn_expn', 'profit_from_sales',\n",
    "       'intrst_rcv', 'intrst_pbl', 'othr_incm', 'def_tax_ast', 'rcvb']]"
   ]
  },
  {
   "cell_type": "markdown",
   "metadata": {},
   "source": [
    "### дамми из фичей"
   ]
  },
  {
   "cell_type": "code",
   "execution_count": 86,
   "metadata": {},
   "outputs": [],
   "source": [
    "X_dummy = X_train_res[['mrf_name_Волга',\n",
    "       'mrf_name_Дальний Восток', 'mrf_name_Прочие', 'mrf_name_Северо-Запад',\n",
    "       'mrf_name_Сибирь', 'mrf_name_Урал', 'mrf_name_Центр', 'mrf_name_Юг',\n",
    "       'High', 'Low', 'Medium', 'No inf', 'Good spark', 'Bad spark',\n",
    "       'No inf spark',\n",
    "       'Торговля розничная лекарственными средствами в специализированных магазинах (аптеках)',\n",
    "       'Торговля оптовая неспециализированная', 'Выращивание зерновых культур',\n",
    "       'Строительство автомобильных дорог и автомагистралей',\n",
    "       'Аренда и управление собственным или арендованным недвижимым имуществом',\n",
    "       'Аренда и управление собственным или арендованным нежилым недвижимым имуществом',\n",
    "       'Выращивание зерновых (кроме риса), зернобобовых культур и семян масличных культур',\n",
    "       'Торговля оптовая фармацевтической продукцией',\n",
    "       'Разработка компьютерного программного обеспечения',\n",
    "       'Торговля оптовая лесоматериалами, строительными материалами и санитарно-техническим оборудованием',\n",
    "       'Деятельность вспомогательная прочая, связанная с перевозками',\n",
    "       'Торговля розничная прочая в неспециализированных магазинах',\n",
    "       'Деятельность автомобильного грузового транспорта',\n",
    "       'Торговля оптовая твердым, жидким и газообразным топливом и подобными продуктами',\n",
    "       'Торговля розничная преимущественно пищевыми продуктами, включая напитки, и табачными изделиями в неспециализированных магазинах',\n",
    "       'Торговля розничная легковыми автомобилями и легкими автотранспортными средствами в специализированных магазинах',\n",
    "       'Разведение молочного крупного рогатого скота, производство сырого молока',\n",
    "       'Деятельность ресторанов и услуги по доставке продуктов питания',\n",
    "       'Производство электромонтажных работ',\n",
    "       'Передача электроэнергии и технологическое присоединение к распределительным электросетям',\n",
    "       'Торговля оптовая прочими машинами и оборудованием',\n",
    "       'Консультирование по вопросам коммерческой деятельности и управления',\n",
    "       'Торговля оптовая автомобильными деталями, узлами и принадлежностями, кроме деятельности агентов',\n",
    "       'Деятельность по финансовой аренде (лизингу/сублизингу)',\n",
    "       'Научные исследования и разработки в области естественных и технических наук прочие',\n",
    "       'Торговля оптовая машинами, оборудованием и инструментами для сельского хозяйства',\n",
    "       'Деятельность заказчика-застройщика, генерального подрядчика',\n",
    "       'Торговля оптовая производственным электротехническим оборудованием, машинами, аппаратурой и материалами',\n",
    "       'Выращивание однолетних культур', 'OOO', 'НАО', 'ПАО', 'Privat',\n",
    "       'Zabugorie', 'Zabugorie+Privat']]"
   ]
  },
  {
   "cell_type": "code",
   "execution_count": 159,
   "metadata": {},
   "outputs": [],
   "source": [
    "X_dummy_test = X_test[['mrf_name_Волга',\n",
    "       'mrf_name_Дальний Восток', 'mrf_name_Прочие', 'mrf_name_Северо-Запад',\n",
    "       'mrf_name_Сибирь', 'mrf_name_Урал', 'mrf_name_Центр', 'mrf_name_Юг',\n",
    "       'High', 'Low', 'Medium', 'No inf', 'Good spark', 'Bad spark',\n",
    "       'No inf spark',\n",
    "       'Торговля розничная лекарственными средствами в специализированных магазинах (аптеках)',\n",
    "       'Торговля оптовая неспециализированная', 'Выращивание зерновых культур',\n",
    "       'Строительство автомобильных дорог и автомагистралей',\n",
    "       'Аренда и управление собственным или арендованным недвижимым имуществом',\n",
    "       'Аренда и управление собственным или арендованным нежилым недвижимым имуществом',\n",
    "       'Выращивание зерновых (кроме риса), зернобобовых культур и семян масличных культур',\n",
    "       'Торговля оптовая фармацевтической продукцией',\n",
    "       'Разработка компьютерного программного обеспечения',\n",
    "       'Торговля оптовая лесоматериалами, строительными материалами и санитарно-техническим оборудованием',\n",
    "       'Деятельность вспомогательная прочая, связанная с перевозками',\n",
    "       'Торговля розничная прочая в неспециализированных магазинах',\n",
    "       'Деятельность автомобильного грузового транспорта',\n",
    "       'Торговля оптовая твердым, жидким и газообразным топливом и подобными продуктами',\n",
    "       'Торговля розничная преимущественно пищевыми продуктами, включая напитки, и табачными изделиями в неспециализированных магазинах',\n",
    "       'Торговля розничная легковыми автомобилями и легкими автотранспортными средствами в специализированных магазинах',\n",
    "       'Разведение молочного крупного рогатого скота, производство сырого молока',\n",
    "       'Деятельность ресторанов и услуги по доставке продуктов питания',\n",
    "       'Производство электромонтажных работ',\n",
    "       'Передача электроэнергии и технологическое присоединение к распределительным электросетям',\n",
    "       'Торговля оптовая прочими машинами и оборудованием',\n",
    "       'Консультирование по вопросам коммерческой деятельности и управления',\n",
    "       'Торговля оптовая автомобильными деталями, узлами и принадлежностями, кроме деятельности агентов',\n",
    "       'Деятельность по финансовой аренде (лизингу/сублизингу)',\n",
    "       'Научные исследования и разработки в области естественных и технических наук прочие',\n",
    "       'Торговля оптовая машинами, оборудованием и инструментами для сельского хозяйства',\n",
    "       'Деятельность заказчика-застройщика, генерального подрядчика',\n",
    "       'Торговля оптовая производственным электротехническим оборудованием, машинами, аппаратурой и материалами',\n",
    "       'Выращивание однолетних культур', 'OOO', 'НАО', 'ПАО', 'Privat',\n",
    "       'Zabugorie', 'Zabugorie+Privat']]"
   ]
  },
  {
   "cell_type": "markdown",
   "metadata": {},
   "source": [
    "### Нормализуем непрерывные"
   ]
  },
  {
   "cell_type": "code",
   "execution_count": 87,
   "metadata": {},
   "outputs": [],
   "source": [
    "from sklearn.preprocessing import StandardScaler\n",
    "stdsc = StandardScaler()\n",
    "X_std = stdsc.fit_transform(X_non_dummy)"
   ]
  },
  {
   "cell_type": "code",
   "execution_count": 160,
   "metadata": {},
   "outputs": [],
   "source": [
    "X_std_test = stdsc.transform(X_non_dummy_test)"
   ]
  },
  {
   "cell_type": "markdown",
   "metadata": {},
   "source": [
    "### объединяем дамми и непрерывные норм"
   ]
  },
  {
   "cell_type": "code",
   "execution_count": 88,
   "metadata": {},
   "outputs": [],
   "source": [
    "Norm = pd.DataFrame(X_std, columns = X_non_dummy.columns)\n",
    "Norm = Norm.set_index(X_train_res.index)"
   ]
  },
  {
   "cell_type": "code",
   "execution_count": 89,
   "metadata": {},
   "outputs": [],
   "source": [
    "Norm_dummy = pd.concat([Norm, X_dummy], axis = 1)"
   ]
  },
  {
   "cell_type": "code",
   "execution_count": 162,
   "metadata": {},
   "outputs": [],
   "source": [
    "Norm_test = pd.DataFrame(X_std_test, columns = X_non_dummy_test.columns)\n",
    "Norm_test = Norm_test.set_index(X_test.index)\n",
    "Norm_dummy_test = pd.concat([Norm_test, X_dummy_test], axis = 1)"
   ]
  },
  {
   "cell_type": "code",
   "execution_count": 90,
   "metadata": {},
   "outputs": [],
   "source": [
    "feat_labels = X_train_res.columns"
   ]
  },
  {
   "cell_type": "code",
   "execution_count": 91,
   "metadata": {},
   "outputs": [],
   "source": [
    "feat_all = Norm_dummy.columns"
   ]
  },
  {
   "cell_type": "code",
   "execution_count": 92,
   "metadata": {},
   "outputs": [],
   "source": [
    "plt.rcParams[\"figure.figsize\"] = (20, 10)"
   ]
  },
  {
   "cell_type": "markdown",
   "metadata": {},
   "source": [
    "### отбор фичей на основе рфц"
   ]
  },
  {
   "cell_type": "code",
   "execution_count": 93,
   "metadata": {},
   "outputs": [
    {
     "data": {
      "image/png": "[encoded data removed]",
      "text/plain": [
       "<Figure size 1440x720 with 1 Axes>"
      ]
     },
     "metadata": {
      "needs_background": "light"
     },
     "output_type": "display_data"
    }
   ],
   "source": [
    "forest = RandomForestClassifier(n_estimators = 1000, random_state = 42)\n",
    "forest.fit(Norm_dummy, y_train_res)\n",
    "importances = forest.feature_importances_\n",
    "indices = np.argsort(importances)[::-1]\n",
    "srt_feat = [feat_all[b] for i, b in enumerate(indices)]\n",
    "srt_imp = [importances[b] for i, b in enumerate(indices)]\n",
    "plt.title('Important features')\n",
    "plt.bar(range(Norm_dummy.shape[1]),srt_imp, align = 'center')\n",
    "plt.xticks(range(Norm_dummy.shape[1]), srt_feat, rotation = 90, fontsize = 15)\n",
    "plt.xlim([-1, Norm_dummy.shape[1]])\n",
    "plt.tight_layout()\n",
    "plt.show()"
   ]
  },
  {
   "cell_type": "code",
   "execution_count": 94,
   "metadata": {},
   "outputs": [
    {
     "data": {
      "text/plain": [
       "['indexofduediligence',\n",
       " 'def_tax_lby',\n",
       " 'shortterm_fnc_ivsm',\n",
       " 'ahr_cptl',\n",
       " 'vat_prch_val',\n",
       " 'cmrcl_expn',\n",
       " 'longterm_fnc_ivsm',\n",
       " 'longterm_lby',\n",
       " 'def_tax_ast',\n",
       " 'failurescore',\n",
       " 'intrst_rcv',\n",
       " 'othr_incm',\n",
       " 'rsrv',\n",
       " 'longterm_brw_fnd',\n",
       " 'admn_expn',\n",
       " 'rcvb',\n",
       " 'intrst_pbl',\n",
       " 'crdr_dbt',\n",
       " 'fix_ast',\n",
       " 'tot_psv',\n",
       " 'tot_ast',\n",
       " 'shortterm_brw_fnd',\n",
       " 'othr_expn',\n",
       " 'shortterm_lby',\n",
       " 'risk_indicator',\n",
       " 'cash_and_eqv',\n",
       " 'crn_ast',\n",
       " 'paymentindex',\n",
       " 'non_crn_ast',\n",
       " 'company_age',\n",
       " 'othr_longterm_lby',\n",
       " 'cptl_and_rsrv',\n",
       " 'cogs',\n",
       " 'revenue',\n",
       " 'grs_profit',\n",
       " 'crn_incm_tax',\n",
       " 'rtnd_erng',\n",
       " 'net_profit',\n",
       " 'pft_bfr_tax',\n",
       " 'profit_from_sales',\n",
       " 'addl_cptl',\n",
       " 'mrf_name_Урал',\n",
       " 'Privat',\n",
       " 'mrf_name_Центр',\n",
       " 'mrf_name_Северо-Запад',\n",
       " 'mrf_name_Юг',\n",
       " 'Good spark',\n",
       " 'No inf spark',\n",
       " 'mrf_name_Волга',\n",
       " 'Zabugorie+Privat',\n",
       " 'mrf_name_Сибирь',\n",
       " 'High',\n",
       " 'Medium',\n",
       " 'Bad spark',\n",
       " 'OOO',\n",
       " 'Торговля розничная лекарственными средствами в специализированных магазинах (аптеках)',\n",
       " 'Low',\n",
       " 'НАО',\n",
       " 'mrf_name_Дальний Восток',\n",
       " 'Zabugorie',\n",
       " 'Выращивание зерновых культур',\n",
       " 'Торговля оптовая неспециализированная',\n",
       " 'ПАО',\n",
       " 'Торговля розничная прочая в неспециализированных магазинах',\n",
       " 'Строительство автомобильных дорог и автомагистралей',\n",
       " 'Передача электроэнергии и технологическое присоединение к распределительным электросетям',\n",
       " 'Выращивание зерновых (кроме риса), зернобобовых культур и семян масличных культур',\n",
       " 'Деятельность по финансовой аренде (лизингу/сублизингу)',\n",
       " 'Аренда и управление собственным или арендованным недвижимым имуществом',\n",
       " 'Деятельность автомобильного грузового транспорта',\n",
       " 'Деятельность заказчика-застройщика, генерального подрядчика',\n",
       " 'Торговля розничная преимущественно пищевыми продуктами, включая напитки, и табачными изделиями в неспециализированных магазинах',\n",
       " 'Аренда и управление собственным или арендованным нежилым недвижимым имуществом',\n",
       " 'Деятельность вспомогательная прочая, связанная с перевозками',\n",
       " 'Торговля розничная легковыми автомобилями и легкими автотранспортными средствами в специализированных магазинах',\n",
       " 'Разработка компьютерного программного обеспечения',\n",
       " 'mrf_name_Прочие',\n",
       " 'Научные исследования и разработки в области естественных и технических наук прочие',\n",
       " 'Торговля оптовая фармацевтической продукцией',\n",
       " 'Деятельность ресторанов и услуги по доставке продуктов питания',\n",
       " 'Выращивание однолетних культур',\n",
       " 'Торговля оптовая твердым, жидким и газообразным топливом и подобными продуктами',\n",
       " 'Торговля оптовая машинами, оборудованием и инструментами для сельского хозяйства',\n",
       " 'Разведение молочного крупного рогатого скота, производство сырого молока',\n",
       " 'Торговля оптовая лесоматериалами, строительными материалами и санитарно-техническим оборудованием',\n",
       " 'Производство электромонтажных работ',\n",
       " 'Торговля оптовая прочими машинами и оборудованием',\n",
       " 'Торговля оптовая производственным электротехническим оборудованием, машинами, аппаратурой и материалами',\n",
       " 'No inf',\n",
       " 'Консультирование по вопросам коммерческой деятельности и управления',\n",
       " 'Торговля оптовая автомобильными деталями, узлами и принадлежностями, кроме деятельности агентов']"
      ]
     },
     "execution_count": 94,
     "metadata": {},
     "output_type": "execute_result"
    }
   ],
   "source": [
    "srt_feat"
   ]
  },
  {
   "cell_type": "raw",
   "metadata": {},
   "source": [
    "from sklearn.model_selection import KFold\n",
    "kf = KFold(n_splits=3)\n",
    "for train_index, test_index in kf.split(X):\n",
    "    X_tr = X_train.values[train_index]\n",
    "    X_val = X_train.values[test_index]\n",
    "    y_tr = y_train.values[train_index]\n",
    "    y_val = y_train.values[test_index]"
   ]
  },
  {
   "cell_type": "code",
   "execution_count": 163,
   "metadata": {},
   "outputs": [],
   "source": [
    "X_log_test = Norm_dummy_test[[\n",
    " 'def_tax_lby',\n",
    " 'ahr_cptl',\n",
    " 'cmrcl_expn',\n",
    " 'longterm_fnc_ivsm',\n",
    " 'longterm_lby',\n",
    " 'def_tax_ast',\n",
    " 'failurescore',\n",
    " 'intrst_rcv',\n",
    " 'longterm_brw_fnd',\n",
    " 'admn_expn',\n",
    " 'rcvb',\n",
    " 'crdr_dbt',\n",
    " 'fix_ast',\n",
    " 'shortterm_brw_fnd',\n",
    " 'risk_indicator',\n",
    " 'cash_and_eqv',\n",
    " 'company_age',\n",
    " 'othr_longterm_lby',\n",
    " 'cptl_and_rsrv',\n",
    " 'cogs',\n",
    " 'revenue',\n",
    " 'crn_incm_tax',\n",
    " 'rtnd_erng',\n",
    " 'profit_from_sales',\n",
    " 'addl_cptl',\n",
    " 'mrf_name_Урал',\n",
    " 'Privat',\n",
    " 'mrf_name_Центр',\n",
    " 'mrf_name_Северо-Запад',\n",
    " 'mrf_name_Юг',\n",
    " 'Good spark',\n",
    " 'No inf spark',\n",
    " 'mrf_name_Волга',\n",
    " 'Zabugorie+Privat',\n",
    " 'mrf_name_Сибирь',\n",
    " 'OOO',\n",
    " 'Торговля розничная лекарственными средствами в специализированных магазинах (аптеках)',\n",
    " 'Low',\n",
    " 'НАО',\n",
    " 'mrf_name_Дальний Восток',\n",
    " 'Выращивание зерновых культур',\n",
    " 'Торговля оптовая неспециализированная',\n",
    " 'ПАО',\n",
    " 'Торговля розничная прочая в неспециализированных магазинах',\n",
    " 'Строительство автомобильных дорог и автомагистралей',\n",
    " 'Передача электроэнергии и технологическое присоединение к распределительным электросетям',\n",
    " 'Выращивание зерновых (кроме риса), зернобобовых культур и семян масличных культур',\n",
    " 'Деятельность по финансовой аренде (лизингу/сублизингу)',\n",
    " 'Аренда и управление собственным или арендованным недвижимым имуществом',\n",
    " 'Деятельность автомобильного грузового транспорта',\n",
    " 'Деятельность заказчика-застройщика, генерального подрядчика',\n",
    " 'Торговля розничная преимущественно пищевыми продуктами, включая напитки, и табачными изделиями в неспециализированных магазинах',\n",
    " 'Аренда и управление собственным или арендованным нежилым недвижимым имуществом',\n",
    " 'Деятельность вспомогательная прочая, связанная с перевозками',\n",
    " 'Торговля розничная легковыми автомобилями и легкими автотранспортными средствами в специализированных магазинах',\n",
    " 'Разработка компьютерного программного обеспечения',\n",
    " 'Научные исследования и разработки в области естественных и технических наук прочие',\n",
    " 'Торговля оптовая фармацевтической продукцией',\n",
    " 'Деятельность ресторанов и услуги по доставке продуктов питания',\n",
    " 'Выращивание однолетних культур',\n",
    " 'Торговля оптовая твердым, жидким и газообразным топливом и подобными продуктами',\n",
    " 'Торговля оптовая машинами, оборудованием и инструментами для сельского хозяйства',\n",
    " 'Разведение молочного крупного рогатого скота, производство сырого молока',\n",
    " 'Торговля оптовая лесоматериалами, строительными материалами и санитарно-техническим оборудованием',\n",
    " 'Производство электромонтажных работ',\n",
    " 'Торговля оптовая прочими машинами и оборудованием',\n",
    " 'Торговля оптовая производственным электротехническим оборудованием, машинами, аппаратурой и материалами',\n",
    " 'No inf',\n",
    " 'Консультирование по вопросам коммерческой деятельности и управления',\n",
    " 'Торговля оптовая автомобильными деталями, узлами и принадлежностями, кроме деятельности агентов']]\n",
    "X_log_test = sm.add_constant(X_log_test)"
   ]
  },
  {
   "cell_type": "code",
   "execution_count": 146,
   "metadata": {},
   "outputs": [],
   "source": [
    "X_log_train = Norm_dummy[[\n",
    " 'def_tax_lby',\n",
    " 'ahr_cptl',\n",
    " 'cmrcl_expn',\n",
    " 'longterm_fnc_ivsm',\n",
    " 'longterm_lby',\n",
    " 'def_tax_ast',\n",
    " 'failurescore',\n",
    " 'intrst_rcv',\n",
    " 'longterm_brw_fnd',\n",
    " 'admn_expn',\n",
    " 'rcvb',\n",
    " 'crdr_dbt',\n",
    " 'fix_ast',\n",
    " 'shortterm_brw_fnd',\n",
    " 'risk_indicator',\n",
    " 'cash_and_eqv',\n",
    " 'company_age',\n",
    " 'othr_longterm_lby',\n",
    " 'cptl_and_rsrv',\n",
    " 'cogs',\n",
    " 'revenue',\n",
    " 'crn_incm_tax',\n",
    " 'rtnd_erng',\n",
    " 'profit_from_sales',\n",
    " 'addl_cptl',\n",
    " 'mrf_name_Урал',\n",
    " 'Privat',\n",
    " 'mrf_name_Центр',\n",
    " 'mrf_name_Северо-Запад',\n",
    " 'mrf_name_Юг',\n",
    " 'Good spark',\n",
    " 'No inf spark',\n",
    " 'mrf_name_Волга',\n",
    " 'Zabugorie+Privat',\n",
    " 'mrf_name_Сибирь',\n",
    " 'OOO',\n",
    " 'Торговля розничная лекарственными средствами в специализированных магазинах (аптеках)',\n",
    " 'Low',\n",
    " 'НАО',\n",
    " 'mrf_name_Дальний Восток',\n",
    " 'Выращивание зерновых культур',\n",
    " 'Торговля оптовая неспециализированная',\n",
    " 'ПАО',\n",
    " 'Торговля розничная прочая в неспециализированных магазинах',\n",
    " 'Строительство автомобильных дорог и автомагистралей',\n",
    " 'Передача электроэнергии и технологическое присоединение к распределительным электросетям',\n",
    " 'Выращивание зерновых (кроме риса), зернобобовых культур и семян масличных культур',\n",
    " 'Деятельность по финансовой аренде (лизингу/сублизингу)',\n",
    " 'Аренда и управление собственным или арендованным недвижимым имуществом',\n",
    " 'Деятельность автомобильного грузового транспорта',\n",
    " 'Деятельность заказчика-застройщика, генерального подрядчика',\n",
    " 'Торговля розничная преимущественно пищевыми продуктами, включая напитки, и табачными изделиями в неспециализированных магазинах',\n",
    " 'Аренда и управление собственным или арендованным нежилым недвижимым имуществом',\n",
    " 'Деятельность вспомогательная прочая, связанная с перевозками',\n",
    " 'Торговля розничная легковыми автомобилями и легкими автотранспортными средствами в специализированных магазинах',\n",
    " 'Разработка компьютерного программного обеспечения',\n",
    " 'Научные исследования и разработки в области естественных и технических наук прочие',\n",
    " 'Торговля оптовая фармацевтической продукцией',\n",
    " 'Деятельность ресторанов и услуги по доставке продуктов питания',\n",
    " 'Выращивание однолетних культур',\n",
    " 'Торговля оптовая твердым, жидким и газообразным топливом и подобными продуктами',\n",
    " 'Торговля оптовая машинами, оборудованием и инструментами для сельского хозяйства',\n",
    " 'Разведение молочного крупного рогатого скота, производство сырого молока',\n",
    " 'Торговля оптовая лесоматериалами, строительными материалами и санитарно-техническим оборудованием',\n",
    " 'Производство электромонтажных работ',\n",
    " 'Торговля оптовая прочими машинами и оборудованием',\n",
    " 'Торговля оптовая производственным электротехническим оборудованием, машинами, аппаратурой и материалами',\n",
    " 'No inf',\n",
    " 'Консультирование по вопросам коммерческой деятельности и управления',\n",
    " 'Торговля оптовая автомобильными деталями, узлами и принадлежностями, кроме деятельности агентов']]\n",
    "X_log_train = sm.add_constant(X_log_train)"
   ]
  },
  {
   "cell_type": "code",
   "execution_count": 147,
   "metadata": {
    "scrolled": false
   },
   "outputs": [
    {
     "name": "stdout",
     "output_type": "stream",
     "text": [
      "Warning: Maximum number of iterations has been exceeded.\n",
      "         Current function value: 0.520637\n",
      "         Iterations: 35\n",
      "                                                                                         Results: Logit\n",
      "================================================================================================================================================================================================\n",
      "Model:                                                         Logit                                                      Pseudo R-squared:                                           0.249     \n",
      "Dependent Variable:                                            fl_fpd3                                                    AIC:                                                        10667.2006\n",
      "Date:                                                          2021-10-22 17:36                                           BIC:                                                        11179.8974\n",
      "No. Observations:                                              10108                                                      Log-Likelihood:                                             -5262.6   \n",
      "Df Model:                                                      70                                                         LL-Null:                                                    -7006.3   \n",
      "Df Residuals:                                                  10037                                                      LLR p-value:                                                0.0000    \n",
      "Converged:                                                     0.0000                                                     Scale:                                                      1.0000    \n",
      "No. Iterations:                                                35.0000                                                                                                                          \n",
      "------------------------------------------------------------------------------------------------------------------------------------------------------------------------------------------------\n",
      "                                                                                                                                 Coef.     Std.Err.      z     P>|z|      [0.025       0.975]   \n",
      "------------------------------------------------------------------------------------------------------------------------------------------------------------------------------------------------\n",
      "const                                                                                                                             3.7168       0.3114  11.9365 0.0000        3.1065       4.3271\n",
      "def_tax_lby                                                                                                                       3.6568       0.6386   5.7261 0.0000        2.4052       4.9085\n",
      "ahr_cptl                                                                                                                          4.4792       0.9251   4.8419 0.0000        2.6660       6.2923\n",
      "cmrcl_expn                                                                                                                       11.5445       2.7146   4.2528 0.0000        6.2241      16.8650\n",
      "longterm_fnc_ivsm                                                                                                                -1.9011       0.4208  -4.5179 0.0000       -2.7259      -1.0764\n",
      "longterm_lby                                                                                                                      2.6385       1.5636   1.6874 0.0915       -0.4261       5.7031\n",
      "def_tax_ast                                                                                                                      -0.4199       0.0862  -4.8695 0.0000       -0.5889      -0.2509\n",
      "failurescore                                                                                                                      0.0935       0.0415   2.2501 0.0244        0.0120       0.1749\n",
      "intrst_rcv                                                                                                                        0.2260       0.0982   2.3028 0.0213        0.0337       0.4184\n",
      "longterm_brw_fnd                                                                                                                 -2.2713       1.1838  -1.9187 0.0550       -4.5915       0.0488\n",
      "admn_expn                                                                                                                         3.2665       0.6271   5.2088 0.0000        2.0374       4.4956\n",
      "rcvb                                                                                                                             -0.1777       0.0786  -2.2605 0.0238       -0.3318      -0.0236\n",
      "crdr_dbt                                                                                                                          0.2879       0.1046   2.7524 0.0059        0.0829       0.4929\n",
      "fix_ast                                                                                                                          -2.2135       0.6668  -3.3196 0.0009       -3.5204      -0.9066\n",
      "shortterm_brw_fnd                                                                                                                 0.2661       0.0956   2.7829 0.0054        0.0787       0.4535\n",
      "risk_indicator                                                                                                                    0.0651       0.0283   2.2954 0.0217        0.0095       0.1206\n",
      "cash_and_eqv                                                                                                                     -0.2202       0.1315  -1.6750 0.0939       -0.4779       0.0375\n",
      "company_age                                                                                                                       0.0878       0.0281   3.1312 0.0017        0.0329       0.1428\n",
      "othr_longterm_lby                                                                                                                -0.2743       0.1938  -1.4153 0.1570       -0.6541       0.1056\n",
      "cptl_and_rsrv                                                                                                                    -8.6375       1.6895  -5.1124 0.0000      -11.9489      -5.3261\n",
      "cogs                                                                                                                             42.9996      11.0313   3.8980 0.0001       21.3787      64.6205\n",
      "revenue                                                                                                                         -56.5008      14.2676  -3.9601 0.0001      -84.4648     -28.5368\n",
      "crn_incm_tax                                                                                                                      1.4299       0.2610   5.4794 0.0000        0.9184       1.9413\n",
      "rtnd_erng                                                                                                                         3.2090       0.6237   5.1449 0.0000        1.9865       4.4315\n",
      "profit_from_sales                                                                                                                 7.1359       1.7225   4.1428 0.0000        3.7598      10.5119\n",
      "addl_cptl                                                                                                                         1.8425       0.2938   6.2720 0.0000        1.2667       2.4182\n",
      "mrf_name_Урал                                                                                                                    -4.4671       0.2176 -20.5253 0.0000       -4.8936      -4.0405\n",
      "Privat                                                                                                                            0.9428       0.0900  10.4784 0.0000        0.7664       1.1191\n",
      "mrf_name_Центр                                                                                                                   -3.2949       0.2059 -15.9996 0.0000       -3.6985      -2.8913\n",
      "mrf_name_Северо-Запад                                                                                                            -4.2271       0.2321 -18.2144 0.0000       -4.6820      -3.7722\n",
      "mrf_name_Юг                                                                                                                      -2.8181       0.2075 -13.5786 0.0000       -3.2249      -2.4114\n",
      "Good spark                                                                                                                       -0.3531       0.0896  -3.9398 0.0001       -0.5288      -0.1775\n",
      "No inf spark                                                                                                                     -0.4347       0.1070  -4.0624 0.0000       -0.6444      -0.2250\n",
      "mrf_name_Волга                                                                                                                   -3.4471       0.2117 -16.2812 0.0000       -3.8621      -3.0321\n",
      "Zabugorie+Privat                                                                                                                 -1.5900       0.3035  -5.2390 0.0000       -2.1848      -0.9951\n",
      "mrf_name_Сибирь                                                                                                                  -3.7444       0.2197 -17.0452 0.0000       -4.1750      -3.3139\n",
      "OOO                                                                                                                              -0.6942       0.2287  -3.0357 0.0024       -1.1425      -0.2460\n",
      "Торговля розничная лекарственными средствами в специализированных магазинах (аптеках)                                            -3.4007       0.4201  -8.0955 0.0000       -4.2240      -2.5774\n",
      "Low                                                                                                                               0.1140       0.0834   1.3673 0.1715       -0.0494       0.2774\n",
      "НАО                                                                                                                              -0.9508       0.2311  -4.1148 0.0000       -1.4037      -0.4979\n",
      "mrf_name_Дальний Восток                                                                                                          -3.1322       0.2204 -14.2097 0.0000       -3.5642      -2.7002\n",
      "Выращивание зерновых культур                                                                                                     -3.1819       0.4317  -7.3708 0.0000       -4.0280      -2.3358\n",
      "Торговля оптовая неспециализированная                                                                                            -3.0349       0.3924  -7.7342 0.0000       -3.8040      -2.2658\n",
      "ПАО                                                                                                                              -2.9857       0.3918  -7.6208 0.0000       -3.7536      -2.2179\n",
      "Торговля розничная прочая в неспециализированных магазинах                                                                       -2.4509       0.5431  -4.5129 0.0000       -3.5153      -1.3864\n",
      "Строительство автомобильных дорог и автомагистралей                                                                              -2.7769       0.4710  -5.8959 0.0000       -3.7000      -1.8538\n",
      "Передача электроэнергии и технологическое присоединение к распределительным электросетям                                         -1.0786       0.5203  -2.0732 0.0382       -2.0983      -0.0589\n",
      "Выращивание зерновых (кроме риса), зернобобовых культур и семян масличных культур                                                -3.3522       0.5962  -5.6225 0.0000       -4.5208      -2.1837\n",
      "Деятельность по финансовой аренде (лизингу/сублизингу)                                                                           -2.3077       0.5796  -3.9819 0.0001       -3.4436      -1.1718\n",
      "Аренда и управление собственным или арендованным недвижимым имуществом                                                           -1.8044       0.3416  -5.2815 0.0000       -2.4739      -1.1348\n",
      "Деятельность автомобильного грузового транспорта                                                                                 -3.8417       1.0138  -3.7893 0.0002       -5.8288      -1.8547\n",
      "Деятельность заказчика-застройщика, генерального подрядчика                                                                      -3.5080       1.0253  -3.4214 0.0006       -5.5176      -1.4984\n",
      "Торговля розничная преимущественно пищевыми продуктами, включая напитки, и табачными изделиями в неспециализированных магазинах  -1.6080       0.4033  -3.9868 0.0001       -2.3985      -0.8175\n",
      "Аренда и управление собственным или арендованным нежилым недвижимым имуществом                                                   -3.1493       0.5512  -5.7137 0.0000       -4.2296      -2.0690\n",
      "Деятельность вспомогательная прочая, связанная с перевозками                                                                    -33.3786 2343682.2868  -0.0000 1.0000 -4593566.2519 4593499.4947\n",
      "Торговля розничная легковыми автомобилями и легкими автотранспортными средствами в специализированных магазинах                  -1.9246       0.4499  -4.2774 0.0000       -2.8064      -1.0427\n",
      "Разработка компьютерного программного обеспечения                                                                                -2.5882       0.4835  -5.3535 0.0000       -3.5357      -1.6406\n",
      "Научные исследования и разработки в области естественных и технических наук прочие                                               -2.6532       0.6698  -3.9613 0.0001       -3.9659      -1.3404\n",
      "Торговля оптовая фармацевтической продукцией                                                                                     -2.6678       0.5262  -5.0699 0.0000       -3.6992      -1.6365\n",
      "Деятельность ресторанов и услуги по доставке продуктов питания                                                                   -4.3172       0.7105  -6.0765 0.0000       -5.7098      -2.9247\n",
      "Выращивание однолетних культур                                                                                                   -4.0391       1.0170  -3.9716 0.0001       -6.0324      -2.0458\n",
      "Торговля оптовая твердым, жидким и газообразным топливом и подобными продуктами                                                  -3.9745       1.0158  -3.9127 0.0001       -5.9654      -1.9836\n",
      "Торговля оптовая машинами, оборудованием и инструментами для сельского хозяйства                                                 -3.6677       1.0180  -3.6027 0.0003       -5.6630      -1.6724\n",
      "Разведение молочного крупного рогатого скота, производство сырого молока                                                         -3.0129       0.7378  -4.0837 0.0000       -4.4589      -1.5668\n",
      "Торговля оптовая лесоматериалами, строительными материалами и санитарно-техническим оборудованием                                -3.2256       0.7271  -4.4365 0.0000       -4.6505      -1.8006\n",
      "Производство электромонтажных работ                                                                                              -2.1762       0.4847  -4.4896 0.0000       -3.1263      -1.2262\n",
      "Торговля оптовая прочими машинами и оборудованием                                                                                -3.0249       0.7306  -4.1401 0.0000       -4.4569      -1.5929\n",
      "Торговля оптовая производственным электротехническим оборудованием, машинами, аппаратурой и материалами                          -2.7587       0.7384  -3.7359 0.0002       -4.2060      -1.3114\n",
      "No inf                                                                                                                           -2.7807       0.6609  -4.2073 0.0000       -4.0761      -1.4853\n",
      "Консультирование по вопросам коммерческой деятельности и управления                                                              -2.2585       0.6228  -3.6263 0.0003       -3.4793      -1.0378\n",
      "Торговля оптовая автомобильными деталями, узлами и принадлежностями, кроме деятельности агентов                                  -2.8565       0.7353  -3.8850 0.0001       -4.2976      -1.4154\n",
      "================================================================================================================================================================================================\n",
      "\n"
     ]
    }
   ],
   "source": [
    "logit_model=Logit(y_train_res, X_log_train)\n",
    "result=logit_model.fit()\n",
    "print(result.summary2())"
   ]
  },
  {
   "cell_type": "code",
   "execution_count": 149,
   "metadata": {},
   "outputs": [],
   "source": [
    "glm_probit = sm.GLM(y_train_res, X_log_train, family=sm.families.Binomial(link=sm.families.links.probit))\n"
   ]
  },
  {
   "cell_type": "code",
   "execution_count": 150,
   "metadata": {},
   "outputs": [
    {
     "data": {
      "text/html": [
       "<table class=\"simpletable\">\n",
       "<caption>Generalized Linear Model Regression Results</caption>\n",
       "<tr>\n",
       "  <th>Dep. Variable:</th>        <td>fl_fpd3</td>     <th>  No. Observations:  </th>  <td> 10108</td> \n",
       "</tr>\n",
       "<tr>\n",
       "  <th>Model:</th>                  <td>GLM</td>       <th>  Df Residuals:      </th>  <td> 10037</td> \n",
       "</tr>\n",
       "<tr>\n",
       "  <th>Model Family:</th>        <td>Binomial</td>     <th>  Df Model:          </th>  <td>    70</td> \n",
       "</tr>\n",
       "<tr>\n",
       "  <th>Link Function:</th>        <td>probit</td>      <th>  Scale:             </th> <td>  1.0000</td>\n",
       "</tr>\n",
       "<tr>\n",
       "  <th>Method:</th>                <td>IRLS</td>       <th>  Log-Likelihood:    </th> <td>     nan</td>\n",
       "</tr>\n",
       "<tr>\n",
       "  <th>Date:</th>            <td>Fri, 22 Oct 2021</td> <th>  Deviance:          </th> <td>  10536.</td>\n",
       "</tr>\n",
       "<tr>\n",
       "  <th>Time:</th>                <td>17:37:19</td>     <th>  Pearson chi2:      </th> <td>1.12e+04</td>\n",
       "</tr>\n",
       "<tr>\n",
       "  <th>No. Iterations:</th>         <td>40</td>        <th>                     </th>     <td> </td>   \n",
       "</tr>\n",
       "<tr>\n",
       "  <th>Covariance Type:</th>     <td>nonrobust</td>    <th>                     </th>     <td> </td>   \n",
       "</tr>\n",
       "</table>\n",
       "<table class=\"simpletable\">\n",
       "<tr>\n",
       "                                                                 <td></td>                                                                    <th>coef</th>     <th>std err</th>      <th>z</th>      <th>P>|z|</th>  <th>[0.025</th>    <th>0.975]</th>  \n",
       "</tr>\n",
       "<tr>\n",
       "  <th>const</th>                                                                                                                           <td>    2.0573</td> <td>    0.167</td> <td>   12.335</td> <td> 0.000</td> <td>    1.730</td> <td>    2.384</td>\n",
       "</tr>\n",
       "<tr>\n",
       "  <th>def_tax_lby</th>                                                                                                                     <td>    2.0317</td> <td>    0.330</td> <td>    6.161</td> <td> 0.000</td> <td>    1.385</td> <td>    2.678</td>\n",
       "</tr>\n",
       "<tr>\n",
       "  <th>ahr_cptl</th>                                                                                                                        <td>    2.5671</td> <td>    0.510</td> <td>    5.036</td> <td> 0.000</td> <td>    1.568</td> <td>    3.566</td>\n",
       "</tr>\n",
       "<tr>\n",
       "  <th>cmrcl_expn</th>                                                                                                                      <td>    5.7883</td> <td>    1.592</td> <td>    3.636</td> <td> 0.000</td> <td>    2.669</td> <td>    8.908</td>\n",
       "</tr>\n",
       "<tr>\n",
       "  <th>longterm_fnc_ivsm</th>                                                                                                               <td>   -1.0665</td> <td>    0.232</td> <td>   -4.594</td> <td> 0.000</td> <td>   -1.521</td> <td>   -0.611</td>\n",
       "</tr>\n",
       "<tr>\n",
       "  <th>longterm_lby</th>                                                                                                                    <td>    1.5653</td> <td>    0.687</td> <td>    2.278</td> <td> 0.023</td> <td>    0.219</td> <td>    2.912</td>\n",
       "</tr>\n",
       "<tr>\n",
       "  <th>def_tax_ast</th>                                                                                                                     <td>   -0.2338</td> <td>    0.047</td> <td>   -4.970</td> <td> 0.000</td> <td>   -0.326</td> <td>   -0.142</td>\n",
       "</tr>\n",
       "<tr>\n",
       "  <th>failurescore</th>                                                                                                                    <td>    0.0567</td> <td>    0.025</td> <td>    2.286</td> <td> 0.022</td> <td>    0.008</td> <td>    0.105</td>\n",
       "</tr>\n",
       "<tr>\n",
       "  <th>intrst_rcv</th>                                                                                                                      <td>    0.1159</td> <td>    0.052</td> <td>    2.221</td> <td> 0.026</td> <td>    0.014</td> <td>    0.218</td>\n",
       "</tr>\n",
       "<tr>\n",
       "  <th>longterm_brw_fnd</th>                                                                                                                <td>   -1.2975</td> <td>    0.522</td> <td>   -2.488</td> <td> 0.013</td> <td>   -2.320</td> <td>   -0.275</td>\n",
       "</tr>\n",
       "<tr>\n",
       "  <th>admn_expn</th>                                                                                                                       <td>    1.6397</td> <td>    0.367</td> <td>    4.462</td> <td> 0.000</td> <td>    0.919</td> <td>    2.360</td>\n",
       "</tr>\n",
       "<tr>\n",
       "  <th>rcvb</th>                                                                                                                            <td>   -0.0783</td> <td>    0.042</td> <td>   -1.864</td> <td> 0.062</td> <td>   -0.161</td> <td>    0.004</td>\n",
       "</tr>\n",
       "<tr>\n",
       "  <th>crdr_dbt</th>                                                                                                                        <td>    0.1455</td> <td>    0.057</td> <td>    2.532</td> <td> 0.011</td> <td>    0.033</td> <td>    0.258</td>\n",
       "</tr>\n",
       "<tr>\n",
       "  <th>fix_ast</th>                                                                                                                         <td>   -1.3162</td> <td>    0.356</td> <td>   -3.702</td> <td> 0.000</td> <td>   -2.013</td> <td>   -0.619</td>\n",
       "</tr>\n",
       "<tr>\n",
       "  <th>shortterm_brw_fnd</th>                                                                                                               <td>    0.1348</td> <td>    0.050</td> <td>    2.700</td> <td> 0.007</td> <td>    0.037</td> <td>    0.233</td>\n",
       "</tr>\n",
       "<tr>\n",
       "  <th>risk_indicator</th>                                                                                                                  <td>    0.0361</td> <td>    0.017</td> <td>    2.155</td> <td> 0.031</td> <td>    0.003</td> <td>    0.069</td>\n",
       "</tr>\n",
       "<tr>\n",
       "  <th>cash_and_eqv</th>                                                                                                                    <td>   -0.1209</td> <td>    0.071</td> <td>   -1.710</td> <td> 0.087</td> <td>   -0.259</td> <td>    0.018</td>\n",
       "</tr>\n",
       "<tr>\n",
       "  <th>company_age</th>                                                                                                                     <td>    0.0544</td> <td>    0.017</td> <td>    3.244</td> <td> 0.001</td> <td>    0.022</td> <td>    0.087</td>\n",
       "</tr>\n",
       "<tr>\n",
       "  <th>othr_longterm_lby</th>                                                                                                               <td>   -0.1615</td> <td>    0.086</td> <td>   -1.883</td> <td> 0.060</td> <td>   -0.330</td> <td>    0.007</td>\n",
       "</tr>\n",
       "<tr>\n",
       "  <th>cptl_and_rsrv</th>                                                                                                                   <td>   -4.8878</td> <td>    0.926</td> <td>   -5.279</td> <td> 0.000</td> <td>   -6.702</td> <td>   -3.073</td>\n",
       "</tr>\n",
       "<tr>\n",
       "  <th>cogs</th>                                                                                                                            <td>   21.3864</td> <td>    6.464</td> <td>    3.308</td> <td> 0.001</td> <td>    8.717</td> <td>   34.056</td>\n",
       "</tr>\n",
       "<tr>\n",
       "  <th>revenue</th>                                                                                                                         <td>  -28.1821</td> <td>    8.361</td> <td>   -3.371</td> <td> 0.001</td> <td>  -44.569</td> <td>  -11.795</td>\n",
       "</tr>\n",
       "<tr>\n",
       "  <th>crn_incm_tax</th>                                                                                                                    <td>    0.8228</td> <td>    0.145</td> <td>    5.679</td> <td> 0.000</td> <td>    0.539</td> <td>    1.107</td>\n",
       "</tr>\n",
       "<tr>\n",
       "  <th>rtnd_erng</th>                                                                                                                       <td>    1.7954</td> <td>    0.340</td> <td>    5.279</td> <td> 0.000</td> <td>    1.129</td> <td>    2.462</td>\n",
       "</tr>\n",
       "<tr>\n",
       "  <th>profit_from_sales</th>                                                                                                               <td>    3.6379</td> <td>    1.010</td> <td>    3.603</td> <td> 0.000</td> <td>    1.659</td> <td>    5.617</td>\n",
       "</tr>\n",
       "<tr>\n",
       "  <th>addl_cptl</th>                                                                                                                       <td>    1.0421</td> <td>    0.160</td> <td>    6.493</td> <td> 0.000</td> <td>    0.728</td> <td>    1.357</td>\n",
       "</tr>\n",
       "<tr>\n",
       "  <th>mrf_name_Урал</th>                                                                                                                   <td>   -2.5077</td> <td>    0.104</td> <td>  -24.110</td> <td> 0.000</td> <td>   -2.712</td> <td>   -2.304</td>\n",
       "</tr>\n",
       "<tr>\n",
       "  <th>Privat</th>                                                                                                                          <td>    0.5616</td> <td>    0.053</td> <td>   10.543</td> <td> 0.000</td> <td>    0.457</td> <td>    0.666</td>\n",
       "</tr>\n",
       "<tr>\n",
       "  <th>mrf_name_Центр</th>                                                                                                                  <td>   -1.7986</td> <td>    0.096</td> <td>  -18.789</td> <td> 0.000</td> <td>   -1.986</td> <td>   -1.611</td>\n",
       "</tr>\n",
       "<tr>\n",
       "  <th>mrf_name_Северо-Запад</th>                                                                                                           <td>   -2.3742</td> <td>    0.115</td> <td>  -20.623</td> <td> 0.000</td> <td>   -2.600</td> <td>   -2.149</td>\n",
       "</tr>\n",
       "<tr>\n",
       "  <th>mrf_name_Юг</th>                                                                                                                     <td>   -1.5035</td> <td>    0.097</td> <td>  -15.542</td> <td> 0.000</td> <td>   -1.693</td> <td>   -1.314</td>\n",
       "</tr>\n",
       "<tr>\n",
       "  <th>Good spark</th>                                                                                                                      <td>   -0.2082</td> <td>    0.053</td> <td>   -3.901</td> <td> 0.000</td> <td>   -0.313</td> <td>   -0.104</td>\n",
       "</tr>\n",
       "<tr>\n",
       "  <th>No inf spark</th>                                                                                                                    <td>   -0.2609</td> <td>    0.064</td> <td>   -4.078</td> <td> 0.000</td> <td>   -0.386</td> <td>   -0.135</td>\n",
       "</tr>\n",
       "<tr>\n",
       "  <th>mrf_name_Волга</th>                                                                                                                  <td>   -1.8932</td> <td>    0.100</td> <td>  -18.863</td> <td> 0.000</td> <td>   -2.090</td> <td>   -1.697</td>\n",
       "</tr>\n",
       "<tr>\n",
       "  <th>Zabugorie+Privat</th>                                                                                                                <td>   -0.8550</td> <td>    0.156</td> <td>   -5.473</td> <td> 0.000</td> <td>   -1.161</td> <td>   -0.549</td>\n",
       "</tr>\n",
       "<tr>\n",
       "  <th>mrf_name_Сибирь</th>                                                                                                                 <td>   -2.0696</td> <td>    0.107</td> <td>  -19.420</td> <td> 0.000</td> <td>   -2.278</td> <td>   -1.861</td>\n",
       "</tr>\n",
       "<tr>\n",
       "  <th>OOO</th>                                                                                                                             <td>   -0.4215</td> <td>    0.132</td> <td>   -3.203</td> <td> 0.001</td> <td>   -0.679</td> <td>   -0.164</td>\n",
       "</tr>\n",
       "<tr>\n",
       "  <th>Торговля розничная лекарственными средствами в специализированных магазинах (аптеках)</th>                                           <td>   -1.9195</td> <td>    0.195</td> <td>   -9.825</td> <td> 0.000</td> <td>   -2.302</td> <td>   -1.537</td>\n",
       "</tr>\n",
       "<tr>\n",
       "  <th>Low</th>                                                                                                                             <td>    0.0626</td> <td>    0.050</td> <td>    1.252</td> <td> 0.210</td> <td>   -0.035</td> <td>    0.161</td>\n",
       "</tr>\n",
       "<tr>\n",
       "  <th>НАО</th>                                                                                                                             <td>   -0.5755</td> <td>    0.133</td> <td>   -4.320</td> <td> 0.000</td> <td>   -0.837</td> <td>   -0.314</td>\n",
       "</tr>\n",
       "<tr>\n",
       "  <th>mrf_name_Дальний Восток</th>                                                                                                         <td>   -1.6895</td> <td>    0.107</td> <td>  -15.777</td> <td> 0.000</td> <td>   -1.899</td> <td>   -1.480</td>\n",
       "</tr>\n",
       "<tr>\n",
       "  <th>Выращивание зерновых культур</th>                                                                                                    <td>   -1.7976</td> <td>    0.210</td> <td>   -8.571</td> <td> 0.000</td> <td>   -2.209</td> <td>   -1.387</td>\n",
       "</tr>\n",
       "<tr>\n",
       "  <th>Торговля оптовая неспециализированная</th>                                                                                           <td>   -1.7309</td> <td>    0.189</td> <td>   -9.144</td> <td> 0.000</td> <td>   -2.102</td> <td>   -1.360</td>\n",
       "</tr>\n",
       "<tr>\n",
       "  <th>ПАО</th>                                                                                                                             <td>   -1.7051</td> <td>    0.211</td> <td>   -8.069</td> <td> 0.000</td> <td>   -2.119</td> <td>   -1.291</td>\n",
       "</tr>\n",
       "<tr>\n",
       "  <th>Торговля розничная прочая в неспециализированных магазинах</th>                                                                      <td>   -1.4081</td> <td>    0.279</td> <td>   -5.039</td> <td> 0.000</td> <td>   -1.956</td> <td>   -0.860</td>\n",
       "</tr>\n",
       "<tr>\n",
       "  <th>Строительство автомобильных дорог и автомагистралей</th>                                                                             <td>   -1.5948</td> <td>    0.236</td> <td>   -6.755</td> <td> 0.000</td> <td>   -2.058</td> <td>   -1.132</td>\n",
       "</tr>\n",
       "<tr>\n",
       "  <th>Передача электроэнергии и технологическое присоединение к распределительным электросетям</th>                                        <td>   -0.5750</td> <td>    0.285</td> <td>   -2.017</td> <td> 0.044</td> <td>   -1.134</td> <td>   -0.016</td>\n",
       "</tr>\n",
       "<tr>\n",
       "  <th>Выращивание зерновых (кроме риса), зернобобовых культур и семян масличных культур</th>                                               <td>   -1.9274</td> <td>    0.285</td> <td>   -6.768</td> <td> 0.000</td> <td>   -2.486</td> <td>   -1.369</td>\n",
       "</tr>\n",
       "<tr>\n",
       "  <th>Деятельность по финансовой аренде (лизингу/сублизингу)</th>                                                                          <td>   -1.4109</td> <td>    0.310</td> <td>   -4.545</td> <td> 0.000</td> <td>   -2.019</td> <td>   -0.802</td>\n",
       "</tr>\n",
       "<tr>\n",
       "  <th>Аренда и управление собственным или арендованным недвижимым имуществом</th>                                                          <td>   -0.9671</td> <td>    0.185</td> <td>   -5.229</td> <td> 0.000</td> <td>   -1.330</td> <td>   -0.605</td>\n",
       "</tr>\n",
       "<tr>\n",
       "  <th>Деятельность автомобильного грузового транспорта</th>                                                                                <td>   -2.0564</td> <td>    0.427</td> <td>   -4.818</td> <td> 0.000</td> <td>   -2.893</td> <td>   -1.220</td>\n",
       "</tr>\n",
       "<tr>\n",
       "  <th>Деятельность заказчика-застройщика, генерального подрядчика</th>                                                                     <td>   -1.9455</td> <td>    0.464</td> <td>   -4.191</td> <td> 0.000</td> <td>   -2.855</td> <td>   -1.036</td>\n",
       "</tr>\n",
       "<tr>\n",
       "  <th>Торговля розничная преимущественно пищевыми продуктами, включая напитки, и табачными изделиями в неспециализированных магазинах</th> <td>   -0.9607</td> <td>    0.230</td> <td>   -4.169</td> <td> 0.000</td> <td>   -1.412</td> <td>   -0.509</td>\n",
       "</tr>\n",
       "<tr>\n",
       "  <th>Аренда и управление собственным или арендованным нежилым недвижимым имуществом</th>                                                  <td>   -1.7819</td> <td>    0.267</td> <td>   -6.676</td> <td> 0.000</td> <td>   -2.305</td> <td>   -1.259</td>\n",
       "</tr>\n",
       "<tr>\n",
       "  <th>Деятельность вспомогательная прочая, связанная с перевозками</th>                                                                    <td>   -8.7364</td> <td> 1.19e+06</td> <td>-7.32e-06</td> <td> 1.000</td> <td>-2.34e+06</td> <td> 2.34e+06</td>\n",
       "</tr>\n",
       "<tr>\n",
       "  <th>Торговля розничная легковыми автомобилями и легкими автотранспортными средствами в специализированных магазинах</th>                 <td>   -1.1459</td> <td>    0.247</td> <td>   -4.632</td> <td> 0.000</td> <td>   -1.631</td> <td>   -0.661</td>\n",
       "</tr>\n",
       "<tr>\n",
       "  <th>Разработка компьютерного программного обеспечения</th>                                                                               <td>   -1.4405</td> <td>    0.241</td> <td>   -5.988</td> <td> 0.000</td> <td>   -1.912</td> <td>   -0.969</td>\n",
       "</tr>\n",
       "<tr>\n",
       "  <th>Научные исследования и разработки в области естественных и технических наук прочие</th>                                              <td>   -1.3954</td> <td>    0.317</td> <td>   -4.399</td> <td> 0.000</td> <td>   -2.017</td> <td>   -0.774</td>\n",
       "</tr>\n",
       "<tr>\n",
       "  <th>Торговля оптовая фармацевтической продукцией</th>                                                                                    <td>   -1.4456</td> <td>    0.252</td> <td>   -5.747</td> <td> 0.000</td> <td>   -1.939</td> <td>   -0.953</td>\n",
       "</tr>\n",
       "<tr>\n",
       "  <th>Деятельность ресторанов и услуги по доставке продуктов питания</th>                                                                  <td>   -2.2131</td> <td>    0.356</td> <td>   -6.210</td> <td> 0.000</td> <td>   -2.912</td> <td>   -1.515</td>\n",
       "</tr>\n",
       "<tr>\n",
       "  <th>Выращивание однолетних культур</th>                                                                                                  <td>   -2.1659</td> <td>    0.420</td> <td>   -5.159</td> <td> 0.000</td> <td>   -2.989</td> <td>   -1.343</td>\n",
       "</tr>\n",
       "<tr>\n",
       "  <th>Торговля оптовая твердым, жидким и газообразным топливом и подобными продуктами</th>                                                 <td>   -2.1545</td> <td>    0.432</td> <td>   -4.985</td> <td> 0.000</td> <td>   -3.002</td> <td>   -1.307</td>\n",
       "</tr>\n",
       "<tr>\n",
       "  <th>Торговля оптовая машинами, оборудованием и инструментами для сельского хозяйства</th>                                                <td>   -2.0050</td> <td>    0.444</td> <td>   -4.518</td> <td> 0.000</td> <td>   -2.875</td> <td>   -1.135</td>\n",
       "</tr>\n",
       "<tr>\n",
       "  <th>Разведение молочного крупного рогатого скота, производство сырого молока</th>                                                        <td>   -1.6979</td> <td>    0.355</td> <td>   -4.788</td> <td> 0.000</td> <td>   -2.393</td> <td>   -1.003</td>\n",
       "</tr>\n",
       "<tr>\n",
       "  <th>Торговля оптовая лесоматериалами, строительными материалами и санитарно-техническим оборудованием</th>                               <td>   -1.7989</td> <td>    0.335</td> <td>   -5.362</td> <td> 0.000</td> <td>   -2.456</td> <td>   -1.141</td>\n",
       "</tr>\n",
       "<tr>\n",
       "  <th>Производство электромонтажных работ</th>                                                                                             <td>   -1.2993</td> <td>    0.262</td> <td>   -4.966</td> <td> 0.000</td> <td>   -1.812</td> <td>   -0.786</td>\n",
       "</tr>\n",
       "<tr>\n",
       "  <th>Торговля оптовая прочими машинами и оборудованием</th>                                                                               <td>   -1.7297</td> <td>    0.350</td> <td>   -4.939</td> <td> 0.000</td> <td>   -2.416</td> <td>   -1.043</td>\n",
       "</tr>\n",
       "<tr>\n",
       "  <th>Торговля оптовая производственным электротехническим оборудованием, машинами, аппаратурой и материалами</th>                         <td>   -1.4754</td> <td>    0.343</td> <td>   -4.299</td> <td> 0.000</td> <td>   -2.148</td> <td>   -0.803</td>\n",
       "</tr>\n",
       "<tr>\n",
       "  <th>No inf</th>                                                                                                                          <td>   -1.4865</td> <td>    0.340</td> <td>   -4.373</td> <td> 0.000</td> <td>   -2.153</td> <td>   -0.820</td>\n",
       "</tr>\n",
       "<tr>\n",
       "  <th>Консультирование по вопросам коммерческой деятельности и управления</th>                                                             <td>   -1.2737</td> <td>    0.321</td> <td>   -3.970</td> <td> 0.000</td> <td>   -1.903</td> <td>   -0.645</td>\n",
       "</tr>\n",
       "<tr>\n",
       "  <th>Торговля оптовая автомобильными деталями, узлами и принадлежностями, кроме деятельности агентов</th>                                 <td>   -1.6366</td> <td>    0.360</td> <td>   -4.548</td> <td> 0.000</td> <td>   -2.342</td> <td>   -0.931</td>\n",
       "</tr>\n",
       "</table>"
      ],
      "text/plain": [
       "<class 'statsmodels.iolib.summary.Summary'>\n",
       "\"\"\"\n",
       "                 Generalized Linear Model Regression Results                  \n",
       "==============================================================================\n",
       "Dep. Variable:                fl_fpd3   No. Observations:                10108\n",
       "Model:                            GLM   Df Residuals:                    10037\n",
       "Model Family:                Binomial   Df Model:                           70\n",
       "Link Function:                 probit   Scale:                          1.0000\n",
       "Method:                          IRLS   Log-Likelihood:                    nan\n",
       "Date:                Fri, 22 Oct 2021   Deviance:                       10536.\n",
       "Time:                        17:37:19   Pearson chi2:                 1.12e+04\n",
       "No. Iterations:                    40                                         \n",
       "Covariance Type:            nonrobust                                         \n",
       "===================================================================================================================================================================================================\n",
       "                                                                                                                                      coef    std err          z      P>|z|      [0.025      0.975]\n",
       "---------------------------------------------------------------------------------------------------------------------------------------------------------------------------------------------------\n",
       "const                                                                                                                               2.0573      0.167     12.335      0.000       1.730       2.384\n",
       "def_tax_lby                                                                                                                         2.0317      0.330      6.161      0.000       1.385       2.678\n",
       "ahr_cptl                                                                                                                            2.5671      0.510      5.036      0.000       1.568       3.566\n",
       "cmrcl_expn                                                                                                                          5.7883      1.592      3.636      0.000       2.669       8.908\n",
       "longterm_fnc_ivsm                                                                                                                  -1.0665      0.232     -4.594      0.000      -1.521      -0.611\n",
       "longterm_lby                                                                                                                        1.5653      0.687      2.278      0.023       0.219       2.912\n",
       "def_tax_ast                                                                                                                        -0.2338      0.047     -4.970      0.000      -0.326      -0.142\n",
       "failurescore                                                                                                                        0.0567      0.025      2.286      0.022       0.008       0.105\n",
       "intrst_rcv                                                                                                                          0.1159      0.052      2.221      0.026       0.014       0.218\n",
       "longterm_brw_fnd                                                                                                                   -1.2975      0.522     -2.488      0.013      -2.320      -0.275\n",
       "admn_expn                                                                                                                           1.6397      0.367      4.462      0.000       0.919       2.360\n",
       "rcvb                                                                                                                               -0.0783      0.042     -1.864      0.062      -0.161       0.004\n",
       "crdr_dbt                                                                                                                            0.1455      0.057      2.532      0.011       0.033       0.258\n",
       "fix_ast                                                                                                                            -1.3162      0.356     -3.702      0.000      -2.013      -0.619\n",
       "shortterm_brw_fnd                                                                                                                   0.1348      0.050      2.700      0.007       0.037       0.233\n",
       "risk_indicator                                                                                                                      0.0361      0.017      2.155      0.031       0.003       0.069\n",
       "cash_and_eqv                                                                                                                       -0.1209      0.071     -1.710      0.087      -0.259       0.018\n",
       "company_age                                                                                                                         0.0544      0.017      3.244      0.001       0.022       0.087\n",
       "othr_longterm_lby                                                                                                                  -0.1615      0.086     -1.883      0.060      -0.330       0.007\n",
       "cptl_and_rsrv                                                                                                                      -4.8878      0.926     -5.279      0.000      -6.702      -3.073\n",
       "cogs                                                                                                                               21.3864      6.464      3.308      0.001       8.717      34.056\n",
       "revenue                                                                                                                           -28.1821      8.361     -3.371      0.001     -44.569     -11.795\n",
       "crn_incm_tax                                                                                                                        0.8228      0.145      5.679      0.000       0.539       1.107\n",
       "rtnd_erng                                                                                                                           1.7954      0.340      5.279      0.000       1.129       2.462\n",
       "profit_from_sales                                                                                                                   3.6379      1.010      3.603      0.000       1.659       5.617\n",
       "addl_cptl                                                                                                                           1.0421      0.160      6.493      0.000       0.728       1.357\n",
       "mrf_name_Урал                                                                                                                      -2.5077      0.104    -24.110      0.000      -2.712      -2.304\n",
       "Privat                                                                                                                              0.5616      0.053     10.543      0.000       0.457       0.666\n",
       "mrf_name_Центр                                                                                                                     -1.7986      0.096    -18.789      0.000      -1.986      -1.611\n",
       "mrf_name_Северо-Запад                                                                                                              -2.3742      0.115    -20.623      0.000      -2.600      -2.149\n",
       "mrf_name_Юг                                                                                                                        -1.5035      0.097    -15.542      0.000      -1.693      -1.314\n",
       "Good spark                                                                                                                         -0.2082      0.053     -3.901      0.000      -0.313      -0.104\n",
       "No inf spark                                                                                                                       -0.2609      0.064     -4.078      0.000      -0.386      -0.135\n",
       "mrf_name_Волга                                                                                                                     -1.8932      0.100    -18.863      0.000      -2.090      -1.697\n",
       "Zabugorie+Privat                                                                                                                   -0.8550      0.156     -5.473      0.000      -1.161      -0.549\n",
       "mrf_name_Сибирь                                                                                                                    -2.0696      0.107    -19.420      0.000      -2.278      -1.861\n",
       "OOO                                                                                                                                -0.4215      0.132     -3.203      0.001      -0.679      -0.164\n",
       "Торговля розничная лекарственными средствами в специализированных магазинах (аптеках)                                              -1.9195      0.195     -9.825      0.000      -2.302      -1.537\n",
       "Low                                                                                                                                 0.0626      0.050      1.252      0.210      -0.035       0.161\n",
       "НАО                                                                                                                                -0.5755      0.133     -4.320      0.000      -0.837      -0.314\n",
       "mrf_name_Дальний Восток                                                                                                            -1.6895      0.107    -15.777      0.000      -1.899      -1.480\n",
       "Выращивание зерновых культур                                                                                                       -1.7976      0.210     -8.571      0.000      -2.209      -1.387\n",
       "Торговля оптовая неспециализированная                                                                                              -1.7309      0.189     -9.144      0.000      -2.102      -1.360\n",
       "ПАО                                                                                                                                -1.7051      0.211     -8.069      0.000      -2.119      -1.291\n",
       "Торговля розничная прочая в неспециализированных магазинах                                                                         -1.4081      0.279     -5.039      0.000      -1.956      -0.860\n",
       "Строительство автомобильных дорог и автомагистралей                                                                                -1.5948      0.236     -6.755      0.000      -2.058      -1.132\n",
       "Передача электроэнергии и технологическое присоединение к распределительным электросетям                                           -0.5750      0.285     -2.017      0.044      -1.134      -0.016\n",
       "Выращивание зерновых (кроме риса), зернобобовых культур и семян масличных культур                                                  -1.9274      0.285     -6.768      0.000      -2.486      -1.369\n",
       "Деятельность по финансовой аренде (лизингу/сублизингу)                                                                             -1.4109      0.310     -4.545      0.000      -2.019      -0.802\n",
       "Аренда и управление собственным или арендованным недвижимым имуществом                                                             -0.9671      0.185     -5.229      0.000      -1.330      -0.605\n",
       "Деятельность автомобильного грузового транспорта                                                                                   -2.0564      0.427     -4.818      0.000      -2.893      -1.220\n",
       "Деятельность заказчика-застройщика, генерального подрядчика                                                                        -1.9455      0.464     -4.191      0.000      -2.855      -1.036\n",
       "Торговля розничная преимущественно пищевыми продуктами, включая напитки, и табачными изделиями в неспециализированных магазинах    -0.9607      0.230     -4.169      0.000      -1.412      -0.509\n",
       "Аренда и управление собственным или арендованным нежилым недвижимым имуществом                                                     -1.7819      0.267     -6.676      0.000      -2.305      -1.259\n",
       "Деятельность вспомогательная прочая, связанная с перевозками                                                                       -8.7364   1.19e+06  -7.32e-06      1.000   -2.34e+06    2.34e+06\n",
       "Торговля розничная легковыми автомобилями и легкими автотранспортными средствами в специализированных магазинах                    -1.1459      0.247     -4.632      0.000      -1.631      -0.661\n",
       "Разработка компьютерного программного обеспечения                                                                                  -1.4405      0.241     -5.988      0.000      -1.912      -0.969\n",
       "Научные исследования и разработки в области естественных и технических наук прочие                                                 -1.3954      0.317     -4.399      0.000      -2.017      -0.774\n",
       "Торговля оптовая фармацевтической продукцией                                                                                       -1.4456      0.252     -5.747      0.000      -1.939      -0.953\n",
       "Деятельность ресторанов и услуги по доставке продуктов питания                                                                     -2.2131      0.356     -6.210      0.000      -2.912      -1.515\n",
       "Выращивание однолетних культур                                                                                                     -2.1659      0.420     -5.159      0.000      -2.989      -1.343\n",
       "Торговля оптовая твердым, жидким и газообразным топливом и подобными продуктами                                                    -2.1545      0.432     -4.985      0.000      -3.002      -1.307\n",
       "Торговля оптовая машинами, оборудованием и инструментами для сельского хозяйства                                                   -2.0050      0.444     -4.518      0.000      -2.875      -1.135\n",
       "Разведение молочного крупного рогатого скота, производство сырого молока                                                           -1.6979      0.355     -4.788      0.000      -2.393      -1.003\n",
       "Торговля оптовая лесоматериалами, строительными материалами и санитарно-техническим оборудованием                                  -1.7989      0.335     -5.362      0.000      -2.456      -1.141\n",
       "Производство электромонтажных работ                                                                                                -1.2993      0.262     -4.966      0.000      -1.812      -0.786\n",
       "Торговля оптовая прочими машинами и оборудованием                                                                                  -1.7297      0.350     -4.939      0.000      -2.416      -1.043\n",
       "Торговля оптовая производственным электротехническим оборудованием, машинами, аппаратурой и материалами                            -1.4754      0.343     -4.299      0.000      -2.148      -0.803\n",
       "No inf                                                                                                                             -1.4865      0.340     -4.373      0.000      -2.153      -0.820\n",
       "Консультирование по вопросам коммерческой деятельности и управления                                                                -1.2737      0.321     -3.970      0.000      -1.903      -0.645\n",
       "Торговля оптовая автомобильными деталями, узлами и принадлежностями, кроме деятельности агентов                                    -1.6366      0.360     -4.548      0.000      -2.342      -0.931\n",
       "===================================================================================================================================================================================================\n",
       "\"\"\""
      ]
     },
     "execution_count": 150,
     "metadata": {},
     "output_type": "execute_result"
    }
   ],
   "source": [
    "results_probit = glm_probit.fit()\n",
    "results_probit.summary()"
   ]
  },
  {
   "cell_type": "code",
   "execution_count": 164,
   "metadata": {},
   "outputs": [],
   "source": [
    "y_pred = results_probit.predict(X_log_test)"
   ]
  },
  {
   "cell_type": "code",
   "execution_count": 165,
   "metadata": {},
   "outputs": [],
   "source": [
    "probit_flags = []\n",
    "for i in range(0, len(y_pred)):\n",
    "    if y_pred.iloc[i]>=0.4:\n",
    "        probit_flags.append(1)\n",
    "    else:\n",
    "        probit_flags.append(0)"
   ]
  },
  {
   "cell_type": "code",
   "execution_count": 166,
   "metadata": {},
   "outputs": [
    {
     "name": "stdout",
     "output_type": "stream",
     "text": [
      "[[658 596]\n",
      " [ 52  53]]\n"
     ]
    }
   ],
   "source": [
    "from sklearn.metrics import confusion_matrix\n",
    "confusion_matrix = confusion_matrix(y_test, probit_flags)\n",
    "print(confusion_matrix)"
   ]
  },
  {
   "cell_type": "code",
   "execution_count": 168,
   "metadata": {},
   "outputs": [],
   "source": [
    "X_log_test_gompit = Norm_dummy_test[[\n",
    " 'def_tax_lby',\n",
    " 'ahr_cptl',\n",
    " 'cmrcl_expn',\n",
    " 'longterm_fnc_ivsm',\n",
    " 'longterm_lby',\n",
    " 'def_tax_ast',\n",
    " 'failurescore',\n",
    " 'intrst_rcv',\n",
    " 'longterm_brw_fnd',\n",
    " 'admn_expn',\n",
    " 'rcvb',\n",
    " 'crdr_dbt',\n",
    " 'fix_ast',\n",
    " 'shortterm_brw_fnd',\n",
    " 'risk_indicator',\n",
    " 'cash_and_eqv',\n",
    " 'company_age',\n",
    " 'othr_longterm_lby',\n",
    " 'cptl_and_rsrv',\n",
    " 'cogs',\n",
    " 'revenue',\n",
    " 'crn_incm_tax',\n",
    " 'rtnd_erng',\n",
    " 'profit_from_sales',\n",
    " 'addl_cptl',\n",
    " 'mrf_name_Урал',\n",
    " 'Privat',\n",
    " 'mrf_name_Центр',\n",
    " 'mrf_name_Северо-Запад',\n",
    " 'mrf_name_Юг',\n",
    " 'Good spark',\n",
    " 'No inf spark',\n",
    " 'mrf_name_Волга',\n",
    " 'Zabugorie+Privat',\n",
    " 'mrf_name_Сибирь',\n",
    " 'OOO',\n",
    " 'Торговля розничная лекарственными средствами в специализированных магазинах (аптеках)',\n",
    " 'Low',\n",
    " 'НАО',\n",
    " 'mrf_name_Дальний Восток',\n",
    " 'Выращивание зерновых культур',\n",
    " 'Торговля оптовая неспециализированная',\n",
    " 'ПАО',\n",
    " 'Торговля розничная прочая в неспециализированных магазинах',\n",
    " 'Строительство автомобильных дорог и автомагистралей',\n",
    " 'Передача электроэнергии и технологическое присоединение к распределительным электросетям',\n",
    " 'Выращивание зерновых (кроме риса), зернобобовых культур и семян масличных культур',\n",
    " 'Деятельность по финансовой аренде (лизингу/сублизингу)',\n",
    " 'Аренда и управление собственным или арендованным недвижимым имуществом',\n",
    " 'Деятельность автомобильного грузового транспорта',\n",
    " 'Деятельность заказчика-застройщика, генерального подрядчика',\n",
    " 'Торговля розничная преимущественно пищевыми продуктами, включая напитки, и табачными изделиями в неспециализированных магазинах',\n",
    " 'Аренда и управление собственным или арендованным нежилым недвижимым имуществом',\n",
    " 'Деятельность вспомогательная прочая, связанная с перевозками',\n",
    " 'Торговля розничная легковыми автомобилями и легкими автотранспортными средствами в специализированных магазинах',\n",
    " 'Разработка компьютерного программного обеспечения',\n",
    " 'Научные исследования и разработки в области естественных и технических наук прочие',\n",
    " 'Торговля оптовая фармацевтической продукцией',\n",
    " 'Деятельность ресторанов и услуги по доставке продуктов питания',\n",
    " 'Выращивание однолетних культур',\n",
    " 'Торговля оптовая твердым, жидким и газообразным топливом и подобными продуктами',\n",
    " 'Торговля оптовая машинами, оборудованием и инструментами для сельского хозяйства',\n",
    " 'Разведение молочного крупного рогатого скота, производство сырого молока',\n",
    " 'Торговля оптовая лесоматериалами, строительными материалами и санитарно-техническим оборудованием',\n",
    " 'Производство электромонтажных работ',\n",
    " 'Торговля оптовая прочими машинами и оборудованием',\n",
    " 'Торговля оптовая производственным электротехническим оборудованием, машинами, аппаратурой и материалами',\n",
    " 'No inf',\n",
    " 'Консультирование по вопросам коммерческой деятельности и управления',\n",
    " 'Торговля оптовая автомобильными деталями, узлами и принадлежностями, кроме деятельности агентов']]\n",
    "X_log_test_gompit = sm.add_constant(X_log_test_gompit)"
   ]
  },
  {
   "cell_type": "code",
   "execution_count": 169,
   "metadata": {},
   "outputs": [],
   "source": [
    "X_log_train_gompit = Norm_dummy[[\n",
    " 'def_tax_lby',\n",
    " 'ahr_cptl',\n",
    " 'cmrcl_expn',\n",
    " 'longterm_fnc_ivsm',\n",
    " 'longterm_lby',\n",
    " 'def_tax_ast',\n",
    " 'failurescore',\n",
    " 'intrst_rcv',\n",
    " 'longterm_brw_fnd',\n",
    " 'admn_expn',\n",
    " 'rcvb',\n",
    " 'crdr_dbt',\n",
    " 'fix_ast',\n",
    " 'shortterm_brw_fnd',\n",
    " 'risk_indicator',\n",
    " 'cash_and_eqv',\n",
    " 'company_age',\n",
    " 'othr_longterm_lby',\n",
    " 'cptl_and_rsrv',\n",
    " 'cogs',\n",
    " 'revenue',\n",
    " 'crn_incm_tax',\n",
    " 'rtnd_erng',\n",
    " 'profit_from_sales',\n",
    " 'addl_cptl',\n",
    " 'mrf_name_Урал',\n",
    " 'Privat',\n",
    " 'mrf_name_Центр',\n",
    " 'mrf_name_Северо-Запад',\n",
    " 'mrf_name_Юг',\n",
    " 'Good spark',\n",
    " 'No inf spark',\n",
    " 'mrf_name_Волга',\n",
    " 'Zabugorie+Privat',\n",
    " 'mrf_name_Сибирь',\n",
    " 'OOO',\n",
    " 'Торговля розничная лекарственными средствами в специализированных магазинах (аптеках)',\n",
    " 'Low',\n",
    " 'НАО',\n",
    " 'mrf_name_Дальний Восток',\n",
    " 'Выращивание зерновых культур',\n",
    " 'Торговля оптовая неспециализированная',\n",
    " 'ПАО',\n",
    " 'Торговля розничная прочая в неспециализированных магазинах',\n",
    " 'Строительство автомобильных дорог и автомагистралей',\n",
    " 'Передача электроэнергии и технологическое присоединение к распределительным электросетям',\n",
    " 'Выращивание зерновых (кроме риса), зернобобовых культур и семян масличных культур',\n",
    " 'Деятельность по финансовой аренде (лизингу/сублизингу)',\n",
    " 'Аренда и управление собственным или арендованным недвижимым имуществом',\n",
    " 'Деятельность автомобильного грузового транспорта',\n",
    " 'Деятельность заказчика-застройщика, генерального подрядчика',\n",
    " 'Торговля розничная преимущественно пищевыми продуктами, включая напитки, и табачными изделиями в неспециализированных магазинах',\n",
    " 'Аренда и управление собственным или арендованным нежилым недвижимым имуществом',\n",
    " 'Деятельность вспомогательная прочая, связанная с перевозками',\n",
    " 'Торговля розничная легковыми автомобилями и легкими автотранспортными средствами в специализированных магазинах',\n",
    " 'Разработка компьютерного программного обеспечения',\n",
    " 'Научные исследования и разработки в области естественных и технических наук прочие',\n",
    " 'Торговля оптовая фармацевтической продукцией',\n",
    " 'Деятельность ресторанов и услуги по доставке продуктов питания',\n",
    " 'Выращивание однолетних культур',\n",
    " 'Торговля оптовая твердым, жидким и газообразным топливом и подобными продуктами',\n",
    " 'Торговля оптовая машинами, оборудованием и инструментами для сельского хозяйства',\n",
    " 'Разведение молочного крупного рогатого скота, производство сырого молока',\n",
    " 'Торговля оптовая лесоматериалами, строительными материалами и санитарно-техническим оборудованием',\n",
    " 'Производство электромонтажных работ',\n",
    " 'Торговля оптовая прочими машинами и оборудованием',\n",
    " 'Торговля оптовая производственным электротехническим оборудованием, машинами, аппаратурой и материалами',\n",
    " 'No inf',\n",
    " 'Консультирование по вопросам коммерческой деятельности и управления',\n",
    " 'Торговля оптовая автомобильными деталями, узлами и принадлежностями, кроме деятельности агентов']]\n",
    "X_log_train_gompit = sm.add_constant(X_log_train_gompit)"
   ]
  },
  {
   "cell_type": "code",
   "execution_count": 170,
   "metadata": {},
   "outputs": [
    {
     "data": {
      "text/html": [
       "<table class=\"simpletable\">\n",
       "<caption>Generalized Linear Model Regression Results</caption>\n",
       "<tr>\n",
       "  <th>Dep. Variable:</th>        <td>fl_fpd3</td>     <th>  No. Observations:  </th>   <td> 10108</td>  \n",
       "</tr>\n",
       "<tr>\n",
       "  <th>Model:</th>                  <td>GLM</td>       <th>  Df Residuals:      </th>   <td> 10037</td>  \n",
       "</tr>\n",
       "<tr>\n",
       "  <th>Model Family:</th>        <td>Binomial</td>     <th>  Df Model:          </th>   <td>    70</td>  \n",
       "</tr>\n",
       "<tr>\n",
       "  <th>Link Function:</th>        <td>cloglog</td>     <th>  Scale:             </th>  <td>  1.0000</td> \n",
       "</tr>\n",
       "<tr>\n",
       "  <th>Method:</th>                <td>IRLS</td>       <th>  Log-Likelihood:    </th>  <td>     nan</td> \n",
       "</tr>\n",
       "<tr>\n",
       "  <th>Date:</th>            <td>Fri, 22 Oct 2021</td> <th>  Deviance:          </th> <td>3.5303e+05</td>\n",
       "</tr>\n",
       "<tr>\n",
       "  <th>Time:</th>                <td>18:18:43</td>     <th>  Pearson chi2:      </th>  <td>1.73e+19</td> \n",
       "</tr>\n",
       "<tr>\n",
       "  <th>No. Iterations:</th>         <td>100</td>       <th>                     </th>      <td> </td>    \n",
       "</tr>\n",
       "<tr>\n",
       "  <th>Covariance Type:</th>     <td>nonrobust</td>    <th>                     </th>      <td> </td>    \n",
       "</tr>\n",
       "</table>\n",
       "<table class=\"simpletable\">\n",
       "<tr>\n",
       "                                                                 <td></td>                                                                    <th>coef</th>     <th>std err</th>      <th>z</th>      <th>P>|z|</th>  <th>[0.025</th>    <th>0.975]</th>  \n",
       "</tr>\n",
       "<tr>\n",
       "  <th>const</th>                                                                                                                           <td>-7.781e+12</td> <td> 2.13e+05</td> <td>-3.66e+07</td> <td> 0.000</td> <td>-7.78e+12</td> <td>-7.78e+12</td>\n",
       "</tr>\n",
       "<tr>\n",
       "  <th>def_tax_lby</th>                                                                                                                     <td> 2.206e+14</td> <td> 3.93e+05</td> <td> 5.62e+08</td> <td> 0.000</td> <td> 2.21e+14</td> <td> 2.21e+14</td>\n",
       "</tr>\n",
       "<tr>\n",
       "  <th>ahr_cptl</th>                                                                                                                        <td> 6.719e+12</td> <td> 5.84e+05</td> <td> 1.15e+07</td> <td> 0.000</td> <td> 6.72e+12</td> <td> 6.72e+12</td>\n",
       "</tr>\n",
       "<tr>\n",
       "  <th>cmrcl_expn</th>                                                                                                                      <td> 2.808e+14</td> <td> 2.41e+06</td> <td> 1.16e+08</td> <td> 0.000</td> <td> 2.81e+14</td> <td> 2.81e+14</td>\n",
       "</tr>\n",
       "<tr>\n",
       "  <th>longterm_fnc_ivsm</th>                                                                                                               <td>-1.351e+14</td> <td>  2.9e+05</td> <td>-4.65e+08</td> <td> 0.000</td> <td>-1.35e+14</td> <td>-1.35e+14</td>\n",
       "</tr>\n",
       "<tr>\n",
       "  <th>longterm_lby</th>                                                                                                                    <td> 3.426e+14</td> <td> 8.33e+05</td> <td> 4.11e+08</td> <td> 0.000</td> <td> 3.43e+14</td> <td> 3.43e+14</td>\n",
       "</tr>\n",
       "<tr>\n",
       "  <th>def_tax_ast</th>                                                                                                                     <td>-4.805e+13</td> <td> 6.64e+04</td> <td>-7.24e+08</td> <td> 0.000</td> <td> -4.8e+13</td> <td> -4.8e+13</td>\n",
       "</tr>\n",
       "<tr>\n",
       "  <th>failurescore</th>                                                                                                                    <td>   5.5e+12</td> <td> 3.53e+04</td> <td> 1.56e+08</td> <td> 0.000</td> <td>  5.5e+12</td> <td>  5.5e+12</td>\n",
       "</tr>\n",
       "<tr>\n",
       "  <th>intrst_rcv</th>                                                                                                                      <td> 6.785e+11</td> <td> 7.16e+04</td> <td> 9.48e+06</td> <td> 0.000</td> <td> 6.79e+11</td> <td> 6.79e+11</td>\n",
       "</tr>\n",
       "<tr>\n",
       "  <th>longterm_brw_fnd</th>                                                                                                                <td>-2.356e+14</td> <td> 6.31e+05</td> <td>-3.73e+08</td> <td> 0.000</td> <td>-2.36e+14</td> <td>-2.36e+14</td>\n",
       "</tr>\n",
       "<tr>\n",
       "  <th>admn_expn</th>                                                                                                                       <td>  1.05e+14</td> <td> 5.52e+05</td> <td>  1.9e+08</td> <td> 0.000</td> <td> 1.05e+14</td> <td> 1.05e+14</td>\n",
       "</tr>\n",
       "<tr>\n",
       "  <th>rcvb</th>                                                                                                                            <td>-4.249e+13</td> <td> 4.96e+04</td> <td>-8.57e+08</td> <td> 0.000</td> <td>-4.25e+13</td> <td>-4.25e+13</td>\n",
       "</tr>\n",
       "<tr>\n",
       "  <th>crdr_dbt</th>                                                                                                                        <td> 2.656e+13</td> <td> 7.04e+04</td> <td> 3.77e+08</td> <td> 0.000</td> <td> 2.66e+13</td> <td> 2.66e+13</td>\n",
       "</tr>\n",
       "<tr>\n",
       "  <th>fix_ast</th>                                                                                                                         <td>-1.486e+14</td> <td> 4.07e+05</td> <td>-3.65e+08</td> <td> 0.000</td> <td>-1.49e+14</td> <td>-1.49e+14</td>\n",
       "</tr>\n",
       "<tr>\n",
       "  <th>shortterm_brw_fnd</th>                                                                                                               <td> 2.064e+13</td> <td> 5.69e+04</td> <td> 3.62e+08</td> <td> 0.000</td> <td> 2.06e+13</td> <td> 2.06e+13</td>\n",
       "</tr>\n",
       "<tr>\n",
       "  <th>risk_indicator</th>                                                                                                                  <td> 6.672e+12</td> <td>  2.5e+04</td> <td> 2.67e+08</td> <td> 0.000</td> <td> 6.67e+12</td> <td> 6.67e+12</td>\n",
       "</tr>\n",
       "<tr>\n",
       "  <th>cash_and_eqv</th>                                                                                                                    <td> 3.518e+12</td> <td> 7.52e+04</td> <td> 4.68e+07</td> <td> 0.000</td> <td> 3.52e+12</td> <td> 3.52e+12</td>\n",
       "</tr>\n",
       "<tr>\n",
       "  <th>company_age</th>                                                                                                                     <td> 1.933e+12</td> <td> 2.51e+04</td> <td> 7.71e+07</td> <td> 0.000</td> <td> 1.93e+12</td> <td> 1.93e+12</td>\n",
       "</tr>\n",
       "<tr>\n",
       "  <th>othr_longterm_lby</th>                                                                                                               <td>-3.413e+13</td> <td> 1.08e+05</td> <td>-3.17e+08</td> <td> 0.000</td> <td>-3.41e+13</td> <td>-3.41e+13</td>\n",
       "</tr>\n",
       "<tr>\n",
       "  <th>cptl_and_rsrv</th>                                                                                                                   <td>-1.101e+14</td> <td> 8.67e+05</td> <td>-1.27e+08</td> <td> 0.000</td> <td> -1.1e+14</td> <td> -1.1e+14</td>\n",
       "</tr>\n",
       "<tr>\n",
       "  <th>cogs</th>                                                                                                                            <td> 1.032e+15</td> <td> 9.77e+06</td> <td> 1.06e+08</td> <td> 0.000</td> <td> 1.03e+15</td> <td> 1.03e+15</td>\n",
       "</tr>\n",
       "<tr>\n",
       "  <th>revenue</th>                                                                                                                         <td>-1.363e+15</td> <td> 1.26e+07</td> <td>-1.08e+08</td> <td> 0.000</td> <td>-1.36e+15</td> <td>-1.36e+15</td>\n",
       "</tr>\n",
       "<tr>\n",
       "  <th>crn_incm_tax</th>                                                                                                                    <td> 6.263e+13</td> <td> 1.34e+05</td> <td> 4.66e+08</td> <td> 0.000</td> <td> 6.26e+13</td> <td> 6.26e+13</td>\n",
       "</tr>\n",
       "<tr>\n",
       "  <th>rtnd_erng</th>                                                                                                                       <td> 4.111e+13</td> <td> 3.01e+05</td> <td> 1.37e+08</td> <td> 0.000</td> <td> 4.11e+13</td> <td> 4.11e+13</td>\n",
       "</tr>\n",
       "<tr>\n",
       "  <th>profit_from_sales</th>                                                                                                               <td> 1.853e+14</td> <td> 1.51e+06</td> <td> 1.22e+08</td> <td> 0.000</td> <td> 1.85e+14</td> <td> 1.85e+14</td>\n",
       "</tr>\n",
       "<tr>\n",
       "  <th>addl_cptl</th>                                                                                                                       <td> 6.649e+13</td> <td> 1.37e+05</td> <td> 4.85e+08</td> <td> 0.000</td> <td> 6.65e+13</td> <td> 6.65e+13</td>\n",
       "</tr>\n",
       "<tr>\n",
       "  <th>mrf_name_Урал</th>                                                                                                                   <td> -1.14e+14</td> <td> 1.12e+05</td> <td>-1.02e+09</td> <td> 0.000</td> <td>-1.14e+14</td> <td>-1.14e+14</td>\n",
       "</tr>\n",
       "<tr>\n",
       "  <th>Privat</th>                                                                                                                          <td> 5.606e+13</td> <td> 7.99e+04</td> <td> 7.01e+08</td> <td> 0.000</td> <td> 5.61e+13</td> <td> 5.61e+13</td>\n",
       "</tr>\n",
       "<tr>\n",
       "  <th>mrf_name_Центр</th>                                                                                                                  <td>-4.775e+12</td> <td> 8.41e+04</td> <td>-5.68e+07</td> <td> 0.000</td> <td>-4.77e+12</td> <td>-4.77e+12</td>\n",
       "</tr>\n",
       "<tr>\n",
       "  <th>mrf_name_Северо-Запад</th>                                                                                                           <td>-1.205e+14</td> <td> 3.31e+05</td> <td>-3.64e+08</td> <td> 0.000</td> <td>-1.21e+14</td> <td>-1.21e+14</td>\n",
       "</tr>\n",
       "<tr>\n",
       "  <th>mrf_name_Юг</th>                                                                                                                     <td> 8.941e+12</td> <td> 8.58e+04</td> <td> 1.04e+08</td> <td> 0.000</td> <td> 8.94e+12</td> <td> 8.94e+12</td>\n",
       "</tr>\n",
       "<tr>\n",
       "  <th>Good spark</th>                                                                                                                      <td>-1.376e+13</td> <td>  7.4e+04</td> <td>-1.86e+08</td> <td> 0.000</td> <td>-1.38e+13</td> <td>-1.38e+13</td>\n",
       "</tr>\n",
       "<tr>\n",
       "  <th>No inf spark</th>                                                                                                                    <td>-5.707e+12</td> <td> 9.08e+04</td> <td>-6.29e+07</td> <td> 0.000</td> <td>-5.71e+12</td> <td>-5.71e+12</td>\n",
       "</tr>\n",
       "<tr>\n",
       "  <th>mrf_name_Волга</th>                                                                                                                  <td>-9.608e+12</td> <td> 9.58e+04</td> <td>   -1e+08</td> <td> 0.000</td> <td>-9.61e+12</td> <td>-9.61e+12</td>\n",
       "</tr>\n",
       "<tr>\n",
       "  <th>Zabugorie+Privat</th>                                                                                                                <td>-5.727e+14</td> <td> 2.02e+06</td> <td>-2.84e+08</td> <td> 0.000</td> <td>-5.73e+14</td> <td>-5.73e+14</td>\n",
       "</tr>\n",
       "<tr>\n",
       "  <th>mrf_name_Сибирь</th>                                                                                                                 <td>-2.502e+13</td> <td> 1.09e+05</td> <td>-2.29e+08</td> <td> 0.000</td> <td> -2.5e+13</td> <td> -2.5e+13</td>\n",
       "</tr>\n",
       "<tr>\n",
       "  <th>OOO</th>                                                                                                                             <td>-5.647e+12</td> <td>  1.8e+05</td> <td>-3.13e+07</td> <td> 0.000</td> <td>-5.65e+12</td> <td>-5.65e+12</td>\n",
       "</tr>\n",
       "<tr>\n",
       "  <th>Торговля розничная лекарственными средствами в специализированных магазинах (аптеках)</th>                                           <td>-2.218e+14</td> <td> 1.78e+06</td> <td>-1.25e+08</td> <td> 0.000</td> <td>-2.22e+14</td> <td>-2.22e+14</td>\n",
       "</tr>\n",
       "<tr>\n",
       "  <th>Low</th>                                                                                                                             <td> 1.413e+13</td> <td> 7.22e+04</td> <td> 1.96e+08</td> <td> 0.000</td> <td> 1.41e+13</td> <td> 1.41e+13</td>\n",
       "</tr>\n",
       "<tr>\n",
       "  <th>НАО</th>                                                                                                                             <td> -4.13e+13</td> <td> 1.85e+05</td> <td>-2.24e+08</td> <td> 0.000</td> <td>-4.13e+13</td> <td>-4.13e+13</td>\n",
       "</tr>\n",
       "<tr>\n",
       "  <th>mrf_name_Дальний Восток</th>                                                                                                         <td> -2.51e+12</td> <td> 1.09e+05</td> <td>-2.31e+07</td> <td> 0.000</td> <td>-2.51e+12</td> <td>-2.51e+12</td>\n",
       "</tr>\n",
       "<tr>\n",
       "  <th>Выращивание зерновых культур</th>                                                                                                    <td> 1.911e+14</td> <td> 7.37e+06</td> <td> 2.59e+07</td> <td> 0.000</td> <td> 1.91e+14</td> <td> 1.91e+14</td>\n",
       "</tr>\n",
       "<tr>\n",
       "  <th>Торговля оптовая неспециализированная</th>                                                                                           <td> 7.157e+13</td> <td> 5.75e+06</td> <td> 1.24e+07</td> <td> 0.000</td> <td> 7.16e+13</td> <td> 7.16e+13</td>\n",
       "</tr>\n",
       "<tr>\n",
       "  <th>ПАО</th>                                                                                                                             <td>-1.087e+14</td> <td> 2.85e+05</td> <td>-3.81e+08</td> <td> 0.000</td> <td>-1.09e+14</td> <td>-1.09e+14</td>\n",
       "</tr>\n",
       "<tr>\n",
       "  <th>Торговля розничная прочая в неспециализированных магазинах</th>                                                                      <td>-9.295e+13</td> <td> 3.53e+05</td> <td>-2.63e+08</td> <td> 0.000</td> <td> -9.3e+13</td> <td> -9.3e+13</td>\n",
       "</tr>\n",
       "<tr>\n",
       "  <th>Строительство автомобильных дорог и автомагистралей</th>                                                                             <td> 1.964e+14</td> <td> 7.65e+06</td> <td> 2.57e+07</td> <td> 0.000</td> <td> 1.96e+14</td> <td> 1.96e+14</td>\n",
       "</tr>\n",
       "<tr>\n",
       "  <th>Передача электроэнергии и технологическое присоединение к распределительным электросетям</th>                                        <td>-6.403e+14</td> <td>  3.8e+06</td> <td>-1.68e+08</td> <td> 0.000</td> <td> -6.4e+14</td> <td> -6.4e+14</td>\n",
       "</tr>\n",
       "<tr>\n",
       "  <th>Выращивание зерновых (кроме риса), зернобобовых культур и семян масличных культур</th>                                               <td> 8.424e+13</td> <td> 8.52e+06</td> <td> 9.88e+06</td> <td> 0.000</td> <td> 8.42e+13</td> <td> 8.42e+13</td>\n",
       "</tr>\n",
       "<tr>\n",
       "  <th>Деятельность по финансовой аренде (лизингу/сублизингу)</th>                                                                          <td>-3.661e+13</td> <td> 3.42e+05</td> <td>-1.07e+08</td> <td> 0.000</td> <td>-3.66e+13</td> <td>-3.66e+13</td>\n",
       "</tr>\n",
       "<tr>\n",
       "  <th>Аренда и управление собственным или арендованным недвижимым имуществом</th>                                                          <td> 1.434e+14</td> <td> 2.32e+05</td> <td> 6.17e+08</td> <td> 0.000</td> <td> 1.43e+14</td> <td> 1.43e+14</td>\n",
       "</tr>\n",
       "<tr>\n",
       "  <th>Деятельность автомобильного грузового транспорта</th>                                                                                <td>-1.573e+14</td> <td> 9.28e+05</td> <td>-1.69e+08</td> <td> 0.000</td> <td>-1.57e+14</td> <td>-1.57e+14</td>\n",
       "</tr>\n",
       "<tr>\n",
       "  <th>Деятельность заказчика-застройщика, генерального подрядчика</th>                                                                     <td> 1.354e+13</td> <td> 1.21e+07</td> <td> 1.12e+06</td> <td> 0.000</td> <td> 1.35e+13</td> <td> 1.35e+13</td>\n",
       "</tr>\n",
       "<tr>\n",
       "  <th>Торговля розничная преимущественно пищевыми продуктами, включая напитки, и табачными изделиями в неспециализированных магазинах</th> <td>-1.334e+14</td> <td> 2.06e+06</td> <td>-6.47e+07</td> <td> 0.000</td> <td>-1.33e+14</td> <td>-1.33e+14</td>\n",
       "</tr>\n",
       "<tr>\n",
       "  <th>Аренда и управление собственным или арендованным нежилым недвижимым имуществом</th>                                                  <td> 2.397e+14</td> <td> 8.39e+06</td> <td> 2.86e+07</td> <td> 0.000</td> <td>  2.4e+14</td> <td>  2.4e+14</td>\n",
       "</tr>\n",
       "<tr>\n",
       "  <th>Деятельность вспомогательная прочая, связанная с перевозками</th>                                                                    <td>-5.428e+14</td> <td> 9.89e+06</td> <td>-5.49e+07</td> <td> 0.000</td> <td>-5.43e+14</td> <td>-5.43e+14</td>\n",
       "</tr>\n",
       "<tr>\n",
       "  <th>Торговля розничная легковыми автомобилями и легкими автотранспортными средствами в специализированных магазинах</th>                 <td> 1.962e+14</td> <td> 2.93e+05</td> <td>  6.7e+08</td> <td> 0.000</td> <td> 1.96e+14</td> <td> 1.96e+14</td>\n",
       "</tr>\n",
       "<tr>\n",
       "  <th>Разработка компьютерного программного обеспечения</th>                                                                               <td> 2.655e+13</td> <td> 2.49e+05</td> <td> 1.07e+08</td> <td> 0.000</td> <td> 2.65e+13</td> <td> 2.65e+13</td>\n",
       "</tr>\n",
       "<tr>\n",
       "  <th>Научные исследования и разработки в области естественных и технических наук прочие</th>                                              <td> 4.346e+13</td> <td> 3.26e+05</td> <td> 1.33e+08</td> <td> 0.000</td> <td> 4.35e+13</td> <td> 4.35e+13</td>\n",
       "</tr>\n",
       "<tr>\n",
       "  <th>Торговля оптовая фармацевтической продукцией</th>                                                                                    <td> 8.394e+13</td> <td> 2.53e+05</td> <td> 3.31e+08</td> <td> 0.000</td> <td> 8.39e+13</td> <td> 8.39e+13</td>\n",
       "</tr>\n",
       "<tr>\n",
       "  <th>Деятельность ресторанов и услуги по доставке продуктов питания</th>                                                                  <td>-6.299e+13</td> <td> 3.13e+05</td> <td>-2.02e+08</td> <td> 0.000</td> <td> -6.3e+13</td> <td> -6.3e+13</td>\n",
       "</tr>\n",
       "<tr>\n",
       "  <th>Выращивание однолетних культур</th>                                                                                                  <td> 6.304e+13</td> <td> 1.13e+07</td> <td> 5.56e+06</td> <td> 0.000</td> <td>  6.3e+13</td> <td>  6.3e+13</td>\n",
       "</tr>\n",
       "<tr>\n",
       "  <th>Торговля оптовая твердым, жидким и газообразным топливом и подобными продуктами</th>                                                 <td>-1.579e+14</td> <td> 1.07e+06</td> <td>-1.47e+08</td> <td> 0.000</td> <td>-1.58e+14</td> <td>-1.58e+14</td>\n",
       "</tr>\n",
       "<tr>\n",
       "  <th>Торговля оптовая машинами, оборудованием и инструментами для сельского хозяйства</th>                                                <td>  -9.6e+13</td> <td> 3.31e+05</td> <td> -2.9e+08</td> <td> 0.000</td> <td> -9.6e+13</td> <td> -9.6e+13</td>\n",
       "</tr>\n",
       "<tr>\n",
       "  <th>Разведение молочного крупного рогатого скота, производство сырого молока</th>                                                        <td>-1.468e+14</td> <td> 1.07e+06</td> <td>-1.37e+08</td> <td> 0.000</td> <td>-1.47e+14</td> <td>-1.47e+14</td>\n",
       "</tr>\n",
       "<tr>\n",
       "  <th>Торговля оптовая лесоматериалами, строительными материалами и санитарно-техническим оборудованием</th>                               <td>-8.817e+13</td> <td> 3.16e+05</td> <td>-2.79e+08</td> <td> 0.000</td> <td>-8.82e+13</td> <td>-8.82e+13</td>\n",
       "</tr>\n",
       "<tr>\n",
       "  <th>Производство электромонтажных работ</th>                                                                                             <td> 3.157e+14</td> <td>  2.9e+05</td> <td> 1.09e+09</td> <td> 0.000</td> <td> 3.16e+14</td> <td> 3.16e+14</td>\n",
       "</tr>\n",
       "<tr>\n",
       "  <th>Торговля оптовая прочими машинами и оборудованием</th>                                                                               <td>-1.375e+14</td> <td> 3.98e+05</td> <td>-3.45e+08</td> <td> 0.000</td> <td>-1.38e+14</td> <td>-1.38e+14</td>\n",
       "</tr>\n",
       "<tr>\n",
       "  <th>Торговля оптовая производственным электротехническим оборудованием, машинами, аппаратурой и материалами</th>                         <td> 1.714e+14</td> <td> 1.19e+07</td> <td> 1.44e+07</td> <td> 0.000</td> <td> 1.71e+14</td> <td> 1.71e+14</td>\n",
       "</tr>\n",
       "<tr>\n",
       "  <th>No inf</th>                                                                                                                          <td>-1.055e+14</td> <td> 5.89e+05</td> <td>-1.79e+08</td> <td> 0.000</td> <td>-1.06e+14</td> <td>-1.06e+14</td>\n",
       "</tr>\n",
       "<tr>\n",
       "  <th>Консультирование по вопросам коммерческой деятельности и управления</th>                                                             <td> 1.097e+14</td> <td> 3.38e+05</td> <td> 3.24e+08</td> <td> 0.000</td> <td>  1.1e+14</td> <td>  1.1e+14</td>\n",
       "</tr>\n",
       "<tr>\n",
       "  <th>Торговля оптовая автомобильными деталями, узлами и принадлежностями, кроме деятельности агентов</th>                                 <td> 2.003e+14</td> <td> 1.12e+07</td> <td> 1.79e+07</td> <td> 0.000</td> <td>    2e+14</td> <td>    2e+14</td>\n",
       "</tr>\n",
       "</table>"
      ],
      "text/plain": [
       "<class 'statsmodels.iolib.summary.Summary'>\n",
       "\"\"\"\n",
       "                 Generalized Linear Model Regression Results                  \n",
       "==============================================================================\n",
       "Dep. Variable:                fl_fpd3   No. Observations:                10108\n",
       "Model:                            GLM   Df Residuals:                    10037\n",
       "Model Family:                Binomial   Df Model:                           70\n",
       "Link Function:                cloglog   Scale:                          1.0000\n",
       "Method:                          IRLS   Log-Likelihood:                    nan\n",
       "Date:                Fri, 22 Oct 2021   Deviance:                   3.5303e+05\n",
       "Time:                        18:18:43   Pearson chi2:                 1.73e+19\n",
       "No. Iterations:                   100                                         \n",
       "Covariance Type:            nonrobust                                         \n",
       "===================================================================================================================================================================================================\n",
       "                                                                                                                                      coef    std err          z      P>|z|      [0.025      0.975]\n",
       "---------------------------------------------------------------------------------------------------------------------------------------------------------------------------------------------------\n",
       "const                                                                                                                           -7.781e+12   2.13e+05  -3.66e+07      0.000   -7.78e+12   -7.78e+12\n",
       "def_tax_lby                                                                                                                      2.206e+14   3.93e+05   5.62e+08      0.000    2.21e+14    2.21e+14\n",
       "ahr_cptl                                                                                                                         6.719e+12   5.84e+05   1.15e+07      0.000    6.72e+12    6.72e+12\n",
       "cmrcl_expn                                                                                                                       2.808e+14   2.41e+06   1.16e+08      0.000    2.81e+14    2.81e+14\n",
       "longterm_fnc_ivsm                                                                                                               -1.351e+14    2.9e+05  -4.65e+08      0.000   -1.35e+14   -1.35e+14\n",
       "longterm_lby                                                                                                                     3.426e+14   8.33e+05   4.11e+08      0.000    3.43e+14    3.43e+14\n",
       "def_tax_ast                                                                                                                     -4.805e+13   6.64e+04  -7.24e+08      0.000    -4.8e+13    -4.8e+13\n",
       "failurescore                                                                                                                       5.5e+12   3.53e+04   1.56e+08      0.000     5.5e+12     5.5e+12\n",
       "intrst_rcv                                                                                                                       6.785e+11   7.16e+04   9.48e+06      0.000    6.79e+11    6.79e+11\n",
       "longterm_brw_fnd                                                                                                                -2.356e+14   6.31e+05  -3.73e+08      0.000   -2.36e+14   -2.36e+14\n",
       "admn_expn                                                                                                                         1.05e+14   5.52e+05    1.9e+08      0.000    1.05e+14    1.05e+14\n",
       "rcvb                                                                                                                            -4.249e+13   4.96e+04  -8.57e+08      0.000   -4.25e+13   -4.25e+13\n",
       "crdr_dbt                                                                                                                         2.656e+13   7.04e+04   3.77e+08      0.000    2.66e+13    2.66e+13\n",
       "fix_ast                                                                                                                         -1.486e+14   4.07e+05  -3.65e+08      0.000   -1.49e+14   -1.49e+14\n",
       "shortterm_brw_fnd                                                                                                                2.064e+13   5.69e+04   3.62e+08      0.000    2.06e+13    2.06e+13\n",
       "risk_indicator                                                                                                                   6.672e+12    2.5e+04   2.67e+08      0.000    6.67e+12    6.67e+12\n",
       "cash_and_eqv                                                                                                                     3.518e+12   7.52e+04   4.68e+07      0.000    3.52e+12    3.52e+12\n",
       "company_age                                                                                                                      1.933e+12   2.51e+04   7.71e+07      0.000    1.93e+12    1.93e+12\n",
       "othr_longterm_lby                                                                                                               -3.413e+13   1.08e+05  -3.17e+08      0.000   -3.41e+13   -3.41e+13\n",
       "cptl_and_rsrv                                                                                                                   -1.101e+14   8.67e+05  -1.27e+08      0.000    -1.1e+14    -1.1e+14\n",
       "cogs                                                                                                                             1.032e+15   9.77e+06   1.06e+08      0.000    1.03e+15    1.03e+15\n",
       "revenue                                                                                                                         -1.363e+15   1.26e+07  -1.08e+08      0.000   -1.36e+15   -1.36e+15\n",
       "crn_incm_tax                                                                                                                     6.263e+13   1.34e+05   4.66e+08      0.000    6.26e+13    6.26e+13\n",
       "rtnd_erng                                                                                                                        4.111e+13   3.01e+05   1.37e+08      0.000    4.11e+13    4.11e+13\n",
       "profit_from_sales                                                                                                                1.853e+14   1.51e+06   1.22e+08      0.000    1.85e+14    1.85e+14\n",
       "addl_cptl                                                                                                                        6.649e+13   1.37e+05   4.85e+08      0.000    6.65e+13    6.65e+13\n",
       "mrf_name_Урал                                                                                                                    -1.14e+14   1.12e+05  -1.02e+09      0.000   -1.14e+14   -1.14e+14\n",
       "Privat                                                                                                                           5.606e+13   7.99e+04   7.01e+08      0.000    5.61e+13    5.61e+13\n",
       "mrf_name_Центр                                                                                                                  -4.775e+12   8.41e+04  -5.68e+07      0.000   -4.77e+12   -4.77e+12\n",
       "mrf_name_Северо-Запад                                                                                                           -1.205e+14   3.31e+05  -3.64e+08      0.000   -1.21e+14   -1.21e+14\n",
       "mrf_name_Юг                                                                                                                      8.941e+12   8.58e+04   1.04e+08      0.000    8.94e+12    8.94e+12\n",
       "Good spark                                                                                                                      -1.376e+13    7.4e+04  -1.86e+08      0.000   -1.38e+13   -1.38e+13\n",
       "No inf spark                                                                                                                    -5.707e+12   9.08e+04  -6.29e+07      0.000   -5.71e+12   -5.71e+12\n",
       "mrf_name_Волга                                                                                                                  -9.608e+12   9.58e+04     -1e+08      0.000   -9.61e+12   -9.61e+12\n",
       "Zabugorie+Privat                                                                                                                -5.727e+14   2.02e+06  -2.84e+08      0.000   -5.73e+14   -5.73e+14\n",
       "mrf_name_Сибирь                                                                                                                 -2.502e+13   1.09e+05  -2.29e+08      0.000    -2.5e+13    -2.5e+13\n",
       "OOO                                                                                                                             -5.647e+12    1.8e+05  -3.13e+07      0.000   -5.65e+12   -5.65e+12\n",
       "Торговля розничная лекарственными средствами в специализированных магазинах (аптеках)                                           -2.218e+14   1.78e+06  -1.25e+08      0.000   -2.22e+14   -2.22e+14\n",
       "Low                                                                                                                              1.413e+13   7.22e+04   1.96e+08      0.000    1.41e+13    1.41e+13\n",
       "НАО                                                                                                                              -4.13e+13   1.85e+05  -2.24e+08      0.000   -4.13e+13   -4.13e+13\n",
       "mrf_name_Дальний Восток                                                                                                          -2.51e+12   1.09e+05  -2.31e+07      0.000   -2.51e+12   -2.51e+12\n",
       "Выращивание зерновых культур                                                                                                     1.911e+14   7.37e+06   2.59e+07      0.000    1.91e+14    1.91e+14\n",
       "Торговля оптовая неспециализированная                                                                                            7.157e+13   5.75e+06   1.24e+07      0.000    7.16e+13    7.16e+13\n",
       "ПАО                                                                                                                             -1.087e+14   2.85e+05  -3.81e+08      0.000   -1.09e+14   -1.09e+14\n",
       "Торговля розничная прочая в неспециализированных магазинах                                                                      -9.295e+13   3.53e+05  -2.63e+08      0.000    -9.3e+13    -9.3e+13\n",
       "Строительство автомобильных дорог и автомагистралей                                                                              1.964e+14   7.65e+06   2.57e+07      0.000    1.96e+14    1.96e+14\n",
       "Передача электроэнергии и технологическое присоединение к распределительным электросетям                                        -6.403e+14    3.8e+06  -1.68e+08      0.000    -6.4e+14    -6.4e+14\n",
       "Выращивание зерновых (кроме риса), зернобобовых культур и семян масличных культур                                                8.424e+13   8.52e+06   9.88e+06      0.000    8.42e+13    8.42e+13\n",
       "Деятельность по финансовой аренде (лизингу/сублизингу)                                                                          -3.661e+13   3.42e+05  -1.07e+08      0.000   -3.66e+13   -3.66e+13\n",
       "Аренда и управление собственным или арендованным недвижимым имуществом                                                           1.434e+14   2.32e+05   6.17e+08      0.000    1.43e+14    1.43e+14\n",
       "Деятельность автомобильного грузового транспорта                                                                                -1.573e+14   9.28e+05  -1.69e+08      0.000   -1.57e+14   -1.57e+14\n",
       "Деятельность заказчика-застройщика, генерального подрядчика                                                                      1.354e+13   1.21e+07   1.12e+06      0.000    1.35e+13    1.35e+13\n",
       "Торговля розничная преимущественно пищевыми продуктами, включая напитки, и табачными изделиями в неспециализированных магазинах -1.334e+14   2.06e+06  -6.47e+07      0.000   -1.33e+14   -1.33e+14\n",
       "Аренда и управление собственным или арендованным нежилым недвижимым имуществом                                                   2.397e+14   8.39e+06   2.86e+07      0.000     2.4e+14     2.4e+14\n",
       "Деятельность вспомогательная прочая, связанная с перевозками                                                                    -5.428e+14   9.89e+06  -5.49e+07      0.000   -5.43e+14   -5.43e+14\n",
       "Торговля розничная легковыми автомобилями и легкими автотранспортными средствами в специализированных магазинах                  1.962e+14   2.93e+05    6.7e+08      0.000    1.96e+14    1.96e+14\n",
       "Разработка компьютерного программного обеспечения                                                                                2.655e+13   2.49e+05   1.07e+08      0.000    2.65e+13    2.65e+13\n",
       "Научные исследования и разработки в области естественных и технических наук прочие                                               4.346e+13   3.26e+05   1.33e+08      0.000    4.35e+13    4.35e+13\n",
       "Торговля оптовая фармацевтической продукцией                                                                                     8.394e+13   2.53e+05   3.31e+08      0.000    8.39e+13    8.39e+13\n",
       "Деятельность ресторанов и услуги по доставке продуктов питания                                                                  -6.299e+13   3.13e+05  -2.02e+08      0.000    -6.3e+13    -6.3e+13\n",
       "Выращивание однолетних культур                                                                                                   6.304e+13   1.13e+07   5.56e+06      0.000     6.3e+13     6.3e+13\n",
       "Торговля оптовая твердым, жидким и газообразным топливом и подобными продуктами                                                 -1.579e+14   1.07e+06  -1.47e+08      0.000   -1.58e+14   -1.58e+14\n",
       "Торговля оптовая машинами, оборудованием и инструментами для сельского хозяйства                                                  -9.6e+13   3.31e+05   -2.9e+08      0.000    -9.6e+13    -9.6e+13\n",
       "Разведение молочного крупного рогатого скота, производство сырого молока                                                        -1.468e+14   1.07e+06  -1.37e+08      0.000   -1.47e+14   -1.47e+14\n",
       "Торговля оптовая лесоматериалами, строительными материалами и санитарно-техническим оборудованием                               -8.817e+13   3.16e+05  -2.79e+08      0.000   -8.82e+13   -8.82e+13\n",
       "Производство электромонтажных работ                                                                                              3.157e+14    2.9e+05   1.09e+09      0.000    3.16e+14    3.16e+14\n",
       "Торговля оптовая прочими машинами и оборудованием                                                                               -1.375e+14   3.98e+05  -3.45e+08      0.000   -1.38e+14   -1.38e+14\n",
       "Торговля оптовая производственным электротехническим оборудованием, машинами, аппаратурой и материалами                          1.714e+14   1.19e+07   1.44e+07      0.000    1.71e+14    1.71e+14\n",
       "No inf                                                                                                                          -1.055e+14   5.89e+05  -1.79e+08      0.000   -1.06e+14   -1.06e+14\n",
       "Консультирование по вопросам коммерческой деятельности и управления                                                              1.097e+14   3.38e+05   3.24e+08      0.000     1.1e+14     1.1e+14\n",
       "Торговля оптовая автомобильными деталями, узлами и принадлежностями, кроме деятельности агентов                                  2.003e+14   1.12e+07   1.79e+07      0.000       2e+14       2e+14\n",
       "===================================================================================================================================================================================================\n",
       "\"\"\""
      ]
     },
     "execution_count": 170,
     "metadata": {},
     "output_type": "execute_result"
    }
   ],
   "source": [
    "glm_cloglog = sm.GLM(y_train_res, X_log_train_gompit, family=sm.families.Binomial(link=sm.families.links.cloglog))\n",
    "results_gompit = glm_cloglog.fit()\n",
    "results_gompit.summary()"
   ]
  },
  {
   "cell_type": "code",
   "execution_count": 171,
   "metadata": {},
   "outputs": [],
   "source": [
    "y_pred = results_gompit.predict(X_log_test_gompit)"
   ]
  },
  {
   "cell_type": "code",
   "execution_count": 172,
   "metadata": {},
   "outputs": [],
   "source": [
    "gompit_flags = []\n",
    "for i in range(0, len(y_pred)):\n",
    "    if y_pred.iloc[i] >= 0.5:\n",
    "        gompit_flags.append(1)\n",
    "    else:\n",
    "        gompit_flags.append(0)"
   ]
  },
  {
   "cell_type": "code",
   "execution_count": 173,
   "metadata": {},
   "outputs": [
    {
     "name": "stdout",
     "output_type": "stream",
     "text": [
      "[[585 669]\n",
      " [ 49  56]]\n"
     ]
    }
   ],
   "source": [
    "from sklearn.metrics import confusion_matrix\n",
    "confusion_matrix = confusion_matrix(y_test, gompit_flags)\n",
    "print(confusion_matrix)"
   ]
  },
  {
   "cell_type": "code",
   "execution_count": null,
   "metadata": {},
   "outputs": [],
   "source": [
    "coef = [[results_gompit.params[i] for i in range(0, len(results_gompit.params))]]"
   ]
  },
  {
   "cell_type": "code",
   "execution_count": null,
   "metadata": {},
   "outputs": [],
   "source": [
    "w = np.array(coef).transpose()\n",
    "\n",
    "def full_log_likelihood(w, X, y):\n",
    "    score = np.dot(X, w).reshape(1, X.shape[0])\n",
    "    return np.sum(-np.log(1 + np.exp(score))) + np.sum(y * score)\n",
    "\n",
    "def null_log_likelihood(w, X, y):\n",
    "    z = np.array([w if i == 0 else 0.0 for i, w in enumerate(w.reshape(1, X.shape[1])[0])]).reshape(X.shape[1], 1)\n",
    "    score = np.dot(X, z).reshape(1, X.shape[0])\n",
    "    return np.sum(-np.log(1 + np.exp(score))) + np.sum(y * score)\n",
    "\n",
    "def mcfadden_rsquare(w, X, y):\n",
    "    return 1.0 - (full_log_likelihood(w, X, y) / null_log_likelihood(w, X, y))\n"
   ]
  },
  {
   "cell_type": "code",
   "execution_count": null,
   "metadata": {},
   "outputs": [],
   "source": [
    "mcfadden_rsquare(w, X_log_train_gompit.values , y_train_res.values)"
   ]
  },
  {
   "cell_type": "code",
   "execution_count": null,
   "metadata": {},
   "outputs": [],
   "source": [
    "vlad_a4 = np.dot(X_log_train_gompit.values, w).reshape(1, X_log_train_gompit.values.shape[0])\n",
    "np.sum(-np.log(1 + np.exp(vlad_a4))) + np.sum(y_train_res.values * vlad_a4)"
   ]
  },
  {
   "cell_type": "markdown",
   "metadata": {},
   "source": [
    "### полученная логит - модель с интерпритируемыми знаками, выбор - информционные критерии, МакФаден Р2"
   ]
  },
  {
   "cell_type": "markdown",
   "metadata": {},
   "source": [
    "### На основе данных фичей строим модель без переобучения на мусорных (бинарных)"
   ]
  },
  {
   "cell_type": "markdown",
   "metadata": {},
   "source": [
    "### классический логрег и логрег на сигмоиде с итерациями ГД"
   ]
  },
  {
   "cell_type": "code",
   "execution_count": 174,
   "metadata": {},
   "outputs": [],
   "source": [
    "X_log_train = Norm_dummy\n",
    "X_log_test = Norm_dummy_test"
   ]
  },
  {
   "cell_type": "code",
   "execution_count": 175,
   "metadata": {},
   "outputs": [
    {
     "data": {
      "text/plain": [
       "LogisticRegression(multi_class='ovr', random_state=1)"
      ]
     },
     "execution_count": 175,
     "metadata": {},
     "output_type": "execute_result"
    }
   ],
   "source": [
    "from sklearn.linear_model import LogisticRegression\n",
    "from sklearn import metrics\n",
    "\n",
    "logreg = LogisticRegression(C = 1.0, random_state = 1, solver = 'lbfgs', multi_class = 'ovr')\n",
    "logreg.fit(X_log_train, y_train_res)"
   ]
  },
  {
   "cell_type": "code",
   "execution_count": 176,
   "metadata": {},
   "outputs": [
    {
     "data": {
      "text/plain": [
       "array([ 9.36101854e-02,  3.01467184e-02,  3.20365976e-02,  1.38196836e-01,\n",
       "        3.01467184e-02, -6.97932145e-01, -1.03897160e+00, -4.91735522e-01,\n",
       "       -6.83268849e-02,  2.86952882e-02,  1.42725392e-01, -1.16006123e-01,\n",
       "       -6.29668231e-02, -4.47775727e-01,  7.20393216e-01,  6.90131972e-01,\n",
       "        7.27706075e-01, -1.32650749e+00, -5.57900941e-01, -4.85956091e-02,\n",
       "        5.57366593e-01, -2.66233589e-01, -2.68238344e-01,  9.70438814e-01,\n",
       "       -4.47776390e-01, -2.06257281e-01, -2.45572217e-01,  2.76733457e-01,\n",
       "        1.10828587e+00,  1.93706170e+00,  1.91122195e-01, -2.07480819e-01,\n",
       "        2.26839911e-01,  4.14577025e-01,  5.39735120e-01,  9.23989748e-02,\n",
       "        2.99663593e-02,  3.31612306e-01,  4.47076504e-01, -2.28248414e-01,\n",
       "       -1.32513204e-01, -3.21297877e+00, -2.99382293e+00, -4.13525018e+00,\n",
       "       -3.89601049e+00, -3.46209891e+00, -4.18026557e+00, -3.06363438e+00,\n",
       "       -2.58909001e+00, -1.81332410e+00, -1.58278950e+00, -1.77797636e+00,\n",
       "       -3.12083689e+00, -1.73284219e+00, -1.45862799e+00, -1.75064851e+00,\n",
       "       -2.93332188e+00, -2.67373434e+00, -2.59456477e+00, -2.21786451e+00,\n",
       "       -1.53049950e+00, -2.23002852e+00, -2.53216878e+00, -2.09711478e+00,\n",
       "       -1.91569826e+00, -2.34822955e+00, -2.90689059e+00, -1.85202747e+00,\n",
       "       -2.47528998e+00, -2.61338583e+00, -1.30259735e+00, -1.57361842e+00,\n",
       "       -2.11501697e+00, -1.90349495e+00, -1.68449878e+00, -9.48733524e-01,\n",
       "       -2.18445659e+00, -1.68369218e+00, -2.08416743e+00, -1.81381032e+00,\n",
       "       -1.78522651e+00, -2.39705925e+00, -2.28697473e+00, -1.99028175e+00,\n",
       "       -2.62305455e+00, -3.28608324e-01, -5.78641894e-01, -2.19335156e+00,\n",
       "        8.25255858e-01, -3.45393063e-04, -1.58412665e+00])"
      ]
     },
     "execution_count": 176,
     "metadata": {},
     "output_type": "execute_result"
    }
   ],
   "source": [
    "logreg.coef_[0]"
   ]
  },
  {
   "cell_type": "code",
   "execution_count": 177,
   "metadata": {},
   "outputs": [],
   "source": [
    "class LRGD(object):\n",
    "    def __init__(self, eta = 0.01, n_iter = 1000, random_state = 1):\n",
    "        self.eta = eta\n",
    "        self.n_iter = n_iter\n",
    "        self.random_state = random_state\n",
    "    def fit(self, X, y):\n",
    "        rgen = np.random.RandomState(self.random_state)\n",
    "        self.w_ = rgen.normal(loc = 0.0, scale = 0.01, size = 1 + X.shape[1])\n",
    "        self.cost_ =[]\n",
    "        for i in range(self.n_iter):\n",
    "            net_input = self.net_input(X)\n",
    "            output = self.activation(net_input)\n",
    "            errors = (y-output)\n",
    "            self.w_[1:] += self.eta * X.T.dot(errors)\n",
    "            self.w_[0] += self.eta * errors.sum()\n",
    "            cost = (-y.dot(np.log(output))-((1-y).dot(np.log(1-output))))\n",
    "            self.cost_.append(cost)\n",
    "        return self\n",
    "    def net_input(self,X):\n",
    "        return np.dot(X, self.w_[1:])+self.w_[0]\n",
    "    def activation(self,z):\n",
    "        return 1./(1.+np.exp(-np.clip(z,-250,250)))\n",
    "    def predict(self, X):\n",
    "        return np.where(self.activation(self.net_input(X)) >= 0.5,1,0)"
   ]
  },
  {
   "cell_type": "code",
   "execution_count": 178,
   "metadata": {},
   "outputs": [
    {
     "data": {
      "text/plain": [
       "<__main__.LRGD at 0x2361f50bd60>"
      ]
     },
     "execution_count": 178,
     "metadata": {},
     "output_type": "execute_result"
    }
   ],
   "source": [
    "lrgd = LRGD(eta = 0.01, n_iter = 1000, random_state = 42)\n",
    "lrgd.fit(X_log_train, y_train_res)"
   ]
  },
  {
   "cell_type": "code",
   "execution_count": 179,
   "metadata": {},
   "outputs": [],
   "source": [
    "y_pred = lrgd.predict(X_log_test)"
   ]
  },
  {
   "cell_type": "markdown",
   "metadata": {},
   "source": [
    "### сигмоид слишком хорош, - либо модернизировать парцептроны либо думать что то с итерациями и временем"
   ]
  },
  {
   "cell_type": "code",
   "execution_count": 180,
   "metadata": {},
   "outputs": [
    {
     "name": "stdout",
     "output_type": "stream",
     "text": [
      "[[370 884]\n",
      " [ 31  74]]\n"
     ]
    }
   ],
   "source": [
    "from sklearn.metrics import confusion_matrix\n",
    "confusion_matrix = confusion_matrix(y_test, y_pred)\n",
    "print(confusion_matrix)"
   ]
  },
  {
   "cell_type": "code",
   "execution_count": 181,
   "metadata": {},
   "outputs": [
    {
     "name": "stdout",
     "output_type": "stream",
     "text": [
      "              precision    recall  f1-score   support\n",
      "\n",
      "           0       0.92      0.30      0.45      1254\n",
      "           1       0.08      0.70      0.14       105\n",
      "\n",
      "    accuracy                           0.33      1359\n",
      "   macro avg       0.50      0.50      0.29      1359\n",
      "weighted avg       0.86      0.33      0.42      1359\n",
      "\n"
     ]
    }
   ],
   "source": [
    "print(classification_report(y_test, y_pred))"
   ]
  },
  {
   "cell_type": "markdown",
   "metadata": {},
   "source": [
    "### результаты логрега"
   ]
  },
  {
   "cell_type": "code",
   "execution_count": 182,
   "metadata": {},
   "outputs": [
    {
     "name": "stdout",
     "output_type": "stream",
     "text": [
      "Accuracy of logistic regression classifier on test set: 0.61\n"
     ]
    }
   ],
   "source": [
    "y_pred = logreg.predict(X_log_test)\n",
    "print('Accuracy of logistic regression classifier on test set: {:.2f}'.format(logreg.score(X_log_test, y_test)))"
   ]
  },
  {
   "cell_type": "markdown",
   "metadata": {},
   "source": [
    "### достаточно хорошо, на этом я и остановился"
   ]
  },
  {
   "cell_type": "code",
   "execution_count": 183,
   "metadata": {},
   "outputs": [
    {
     "name": "stdout",
     "output_type": "stream",
     "text": [
      "[[786 468]\n",
      " [ 67  38]]\n"
     ]
    }
   ],
   "source": [
    "from sklearn.metrics import confusion_matrix\n",
    "confusion_matrix = confusion_matrix(y_test, y_pred)\n",
    "print(confusion_matrix)"
   ]
  },
  {
   "cell_type": "code",
   "execution_count": 184,
   "metadata": {},
   "outputs": [
    {
     "name": "stdout",
     "output_type": "stream",
     "text": [
      "              precision    recall  f1-score   support\n",
      "\n",
      "           0       0.92      0.63      0.75      1254\n",
      "           1       0.08      0.36      0.12       105\n",
      "\n",
      "    accuracy                           0.61      1359\n",
      "   macro avg       0.50      0.49      0.44      1359\n",
      "weighted avg       0.86      0.61      0.70      1359\n",
      "\n"
     ]
    }
   ],
   "source": [
    "from sklearn.metrics import classification_report\n",
    "print(classification_report(y_test, y_pred))"
   ]
  },
  {
   "cell_type": "markdown",
   "metadata": {},
   "source": [
    "### Рок-Аук соу-соу - для текущих данных - хорошо, можно что-то придумать с комбайном на семпле как ранее говорил"
   ]
  },
  {
   "cell_type": "code",
   "execution_count": 185,
   "metadata": {},
   "outputs": [
    {
     "data": {
      "image/png": "[encoded data removed]",
      "text/plain": [
       "<Figure size 1440x720 with 1 Axes>"
      ]
     },
     "metadata": {
      "needs_background": "light"
     },
     "output_type": "display_data"
    }
   ],
   "source": [
    "from sklearn.metrics import roc_auc_score\n",
    "from sklearn.metrics import roc_curve\n",
    "logit_roc_auc = roc_auc_score(y_test, logreg.predict(X_log_test))\n",
    "fpr, tpr, thresholds = roc_curve(y_test, logreg.predict_proba(X_log_test)[:,1])\n",
    "plt.figure()\n",
    "plt.plot(fpr, tpr, label='Logistic Regression (area = %0.2f)' % logit_roc_auc)\n",
    "plt.plot([0, 1], [0, 1],'r--')\n",
    "plt.xlim([0.0, 1.0])\n",
    "plt.ylim([0.0, 1.05])\n",
    "plt.xlabel('False Positive Rate')\n",
    "plt.ylabel('True Positive Rate')\n",
    "plt.title('Receiver operating characteristic')\n",
    "plt.legend(loc=\"lower right\")\n",
    "plt.savefig('Log_ROC')\n",
    "plt.show()"
   ]
  },
  {
   "cell_type": "markdown",
   "metadata": {},
   "source": [
    "### попробуем ДЕРЕВО - должно быть хуже из-за бинарок"
   ]
  },
  {
   "cell_type": "code",
   "execution_count": 186,
   "metadata": {},
   "outputs": [
    {
     "data": {
      "text/plain": [
       "DecisionTreeClassifier(max_depth=25, random_state=1)"
      ]
     },
     "execution_count": 186,
     "metadata": {},
     "output_type": "execute_result"
    }
   ],
   "source": [
    "from sklearn.tree import DecisionTreeClassifier\n",
    "tree_model = DecisionTreeClassifier(criterion = 'gini', max_depth = 25, random_state = 1)\n",
    "tree_model.fit(X_log_train, y_train_res)"
   ]
  },
  {
   "cell_type": "code",
   "execution_count": 187,
   "metadata": {},
   "outputs": [],
   "source": [
    "y_pred = tree_model.predict(X_log_test)"
   ]
  },
  {
   "cell_type": "markdown",
   "metadata": {},
   "source": [
    "### хуже чем логрег бтв, хуже лучше я интуитивно смотрю на проценте верных 1 и не совсем ужасном проценте верных 0 - задача получить 40-50% процентов верных 1 и не ниже 60% верных 0, мой пов"
   ]
  },
  {
   "cell_type": "code",
   "execution_count": 188,
   "metadata": {},
   "outputs": [
    {
     "name": "stdout",
     "output_type": "stream",
     "text": [
      "[[1041  213]\n",
      " [  83   22]]\n"
     ]
    }
   ],
   "source": [
    "from sklearn.metrics import confusion_matrix\n",
    "confusion_matrix = confusion_matrix(y_test, y_pred)\n",
    "print(confusion_matrix)"
   ]
  },
  {
   "cell_type": "code",
   "execution_count": 224,
   "metadata": {},
   "outputs": [
    {
     "data": {
      "text/plain": [
       "18739    0\n",
       "18300    0\n",
       "599      0\n",
       "27102    0\n",
       "40627    0\n",
       "        ..\n",
       "34616    0\n",
       "3369     0\n",
       "463      0\n",
       "7850     0\n",
       "33221    0\n",
       "Name: fl_fpd3, Length: 1359, dtype: int64"
      ]
     },
     "execution_count": 224,
     "metadata": {},
     "output_type": "execute_result"
    }
   ],
   "source": [
    "y_test"
   ]
  },
  {
   "cell_type": "markdown",
   "metadata": {},
   "source": [
    "### построим сетку на деревьях"
   ]
  },
  {
   "cell_type": "code",
   "execution_count": 189,
   "metadata": {},
   "outputs": [],
   "source": [
    "from sklearn.model_selection import GridSearchCV\n",
    "from sklearn.metrics import make_scorer\n",
    "from sklearn.metrics import f1_score\n",
    "\n",
    "rfc = RandomForestClassifier(n_jobs=10 , random_state = 1, bootstrap = False) \n",
    "\n",
    "param_grid = { \n",
    "    'n_estimators': [30,50,75,100,150,200],\n",
    "    'max_features': ['auto', 'sqrt', 'log2'],\n",
    "    'max_depth' : [ 15, 20,25,30,31,32],\n",
    "    'criterion' :['gini', 'entropy']\n",
    "}\n",
    "\n",
    "CV_rfc = GridSearchCV(estimator=rfc, param_grid=param_grid, scoring = 'f1_macro')"
   ]
  },
  {
   "cell_type": "code",
   "execution_count": 190,
   "metadata": {},
   "outputs": [
    {
     "data": {
      "text/plain": [
       "GridSearchCV(estimator=RandomForestClassifier(bootstrap=False, n_jobs=10,\n",
       "                                              random_state=1),\n",
       "             param_grid={'criterion': ['gini', 'entropy'],\n",
       "                         'max_depth': [15, 20, 25, 30, 31, 32],\n",
       "                         'max_features': ['auto', 'sqrt', 'log2'],\n",
       "                         'n_estimators': [30, 50, 75, 100, 150, 200]},\n",
       "             scoring='f1_macro')"
      ]
     },
     "execution_count": 190,
     "metadata": {},
     "output_type": "execute_result"
    }
   ],
   "source": [
    "CV_rfc.fit(X_log_train, y_train_res)"
   ]
  },
  {
   "cell_type": "code",
   "execution_count": 191,
   "metadata": {},
   "outputs": [
    {
     "data": {
      "text/plain": [
       "{'criterion': 'gini',\n",
       " 'max_depth': 32,\n",
       " 'max_features': 'log2',\n",
       " 'n_estimators': 150}"
      ]
     },
     "execution_count": 191,
     "metadata": {},
     "output_type": "execute_result"
    }
   ],
   "source": [
    "CV_rfc.best_params_"
   ]
  },
  {
   "cell_type": "code",
   "execution_count": 209,
   "metadata": {},
   "outputs": [],
   "source": [
    "rfc1 = RandomForestClassifier(n_jobs=10 , random_state = 1, max_depth = 70, max_features = 'log2', criterion = 'gini', \n",
    "                            n_estimators = 200, bootstrap = True) "
   ]
  },
  {
   "cell_type": "code",
   "execution_count": 210,
   "metadata": {},
   "outputs": [
    {
     "data": {
      "text/plain": [
       "RandomForestClassifier(max_depth=70, max_features='log2', n_estimators=200,\n",
       "                       n_jobs=10, random_state=1)"
      ]
     },
     "execution_count": 210,
     "metadata": {},
     "output_type": "execute_result"
    }
   ],
   "source": [
    "rfc1.fit(X_log_train, y_train_res)"
   ]
  },
  {
   "cell_type": "code",
   "execution_count": 211,
   "metadata": {},
   "outputs": [],
   "source": [
    "y_pred = rfc1.predict(X_log_test)"
   ]
  },
  {
   "cell_type": "markdown",
   "metadata": {},
   "source": [
    "### переобучились, можно поставить ограничение на бутстрап с Тру, но вряд ли будет лучше чем логрег когда ф1_мак дает 0 попаданий на 0 классе"
   ]
  },
  {
   "cell_type": "code",
   "execution_count": 212,
   "metadata": {},
   "outputs": [
    {
     "name": "stdout",
     "output_type": "stream",
     "text": [
      "[[1229   25]\n",
      " [  99    6]]\n"
     ]
    }
   ],
   "source": [
    "from sklearn.metrics import confusion_matrix\n",
    "confusion_matrix = confusion_matrix(y_test, y_pred)\n",
    "print(confusion_matrix)"
   ]
  },
  {
   "cell_type": "code",
   "execution_count": 213,
   "metadata": {},
   "outputs": [
    {
     "name": "stdout",
     "output_type": "stream",
     "text": [
      "              precision    recall  f1-score   support\n",
      "\n",
      "           0       0.93      0.98      0.95      1254\n",
      "           1       0.19      0.06      0.09       105\n",
      "\n",
      "    accuracy                           0.91      1359\n",
      "   macro avg       0.56      0.52      0.52      1359\n",
      "weighted avg       0.87      0.91      0.89      1359\n",
      "\n"
     ]
    }
   ],
   "source": [
    "from sklearn.metrics import classification_report\n",
    "print(classification_report(y_test, y_pred))"
   ]
  },
  {
   "cell_type": "markdown",
   "metadata": {},
   "source": [
    "### попробовал на ближайших соседях с ф бетта и матьюс кор - тоже не очень"
   ]
  },
  {
   "cell_type": "code",
   "execution_count": 214,
   "metadata": {},
   "outputs": [],
   "source": [
    "from sklearn.metrics import matthews_corrcoef\n",
    "from sklearn.metrics import make_scorer\n",
    "from sklearn.metrics import fbeta_score"
   ]
  },
  {
   "cell_type": "code",
   "execution_count": 215,
   "metadata": {},
   "outputs": [],
   "source": [
    "from sklearn.neighbors import KNeighborsClassifier\n",
    "knn = KNeighborsClassifier(n_jobs = 10)\n",
    "scorer = make_scorer(fbeta_score, beta = 2, average='weighted')\n",
    "param_grid = { \n",
    "    'n_neighbors': [2,3,4],\n",
    "    'algorithm': ['auto', 'ball_tree', 'kd_tree', 'brute'],\n",
    "    'metric' :['euclidean', 'manhattan', 'chebyshev', 'minkowski'],\n",
    "    'weights': ['uniform', 'distance'],\n",
    "    'p': [1,1.5,2]\n",
    "}\n",
    "\n",
    "CV_knn = GridSearchCV(estimator=knn, param_grid=param_grid, scoring = scorer)"
   ]
  },
  {
   "cell_type": "code",
   "execution_count": 216,
   "metadata": {},
   "outputs": [
    {
     "data": {
      "text/plain": [
       "GridSearchCV(estimator=KNeighborsClassifier(n_jobs=10),\n",
       "             param_grid={'algorithm': ['auto', 'ball_tree', 'kd_tree', 'brute'],\n",
       "                         'metric': ['euclidean', 'manhattan', 'chebyshev',\n",
       "                                    'minkowski'],\n",
       "                         'n_neighbors': [2, 3, 4], 'p': [1, 1.5, 2],\n",
       "                         'weights': ['uniform', 'distance']},\n",
       "             scoring=make_scorer(fbeta_score, beta=2, average=weighted))"
      ]
     },
     "execution_count": 216,
     "metadata": {},
     "output_type": "execute_result"
    }
   ],
   "source": [
    "CV_knn.fit(X_log_train, y_train_res)"
   ]
  },
  {
   "cell_type": "code",
   "execution_count": 217,
   "metadata": {},
   "outputs": [
    {
     "data": {
      "text/plain": [
       "{'algorithm': 'auto',\n",
       " 'metric': 'manhattan',\n",
       " 'n_neighbors': 2,\n",
       " 'p': 1,\n",
       " 'weights': 'uniform'}"
      ]
     },
     "execution_count": 217,
     "metadata": {},
     "output_type": "execute_result"
    }
   ],
   "source": [
    "CV_knn.best_params_"
   ]
  },
  {
   "cell_type": "code",
   "execution_count": 218,
   "metadata": {},
   "outputs": [],
   "source": [
    "knn1 = KNeighborsClassifier(n_jobs=10 , algorithm = 'auto', metric = 'manhattan', n_neighbors = 2, p =1, weights = 'uniform') "
   ]
  },
  {
   "cell_type": "code",
   "execution_count": 219,
   "metadata": {},
   "outputs": [
    {
     "data": {
      "text/plain": [
       "KNeighborsClassifier(metric='manhattan', n_jobs=10, n_neighbors=2, p=1)"
      ]
     },
     "execution_count": 219,
     "metadata": {},
     "output_type": "execute_result"
    }
   ],
   "source": [
    "knn1.fit(X_log_train, y_train_res)"
   ]
  },
  {
   "cell_type": "code",
   "execution_count": 220,
   "metadata": {},
   "outputs": [],
   "source": [
    "y_pred = knn1.predict(X_log_test)"
   ]
  },
  {
   "cell_type": "markdown",
   "metadata": {},
   "source": [
    "### результат"
   ]
  },
  {
   "cell_type": "code",
   "execution_count": 221,
   "metadata": {},
   "outputs": [
    {
     "name": "stdout",
     "output_type": "stream",
     "text": [
      "[[1081  173]\n",
      " [  81   24]]\n"
     ]
    }
   ],
   "source": [
    "from sklearn.metrics import confusion_matrix\n",
    "confusion_matrix = confusion_matrix(y_test, y_pred)\n",
    "print(confusion_matrix)"
   ]
  },
  {
   "cell_type": "markdown",
   "metadata": {},
   "source": [
    "# Forecast part 2"
   ]
  },
  {
   "cell_type": "code",
   "execution_count": 265,
   "metadata": {},
   "outputs": [],
   "source": [
    "d = {'index': y.index, 'value': y.values}\n",
    "data_y = pd.DataFrame(data=d)"
   ]
  },
  {
   "cell_type": "code",
   "execution_count": 266,
   "metadata": {},
   "outputs": [
    {
     "data": {
      "text/html": [
       "<div>\n",
       "<style scoped>\n",
       "    .dataframe tbody tr th:only-of-type {\n",
       "        vertical-align: middle;\n",
       "    }\n",
       "\n",
       "    .dataframe tbody tr th {\n",
       "        vertical-align: top;\n",
       "    }\n",
       "\n",
       "    .dataframe thead th {\n",
       "        text-align: right;\n",
       "    }\n",
       "</style>\n",
       "<table border=\"1\" class=\"dataframe\">\n",
       "  <thead>\n",
       "    <tr style=\"text-align: right;\">\n",
       "      <th></th>\n",
       "      <th>index</th>\n",
       "      <th>value</th>\n",
       "    </tr>\n",
       "  </thead>\n",
       "  <tbody>\n",
       "    <tr>\n",
       "      <th>0</th>\n",
       "      <td>0</td>\n",
       "      <td>0</td>\n",
       "    </tr>\n",
       "    <tr>\n",
       "      <th>1</th>\n",
       "      <td>1</td>\n",
       "      <td>0</td>\n",
       "    </tr>\n",
       "    <tr>\n",
       "      <th>2</th>\n",
       "      <td>2</td>\n",
       "      <td>0</td>\n",
       "    </tr>\n",
       "    <tr>\n",
       "      <th>3</th>\n",
       "      <td>9</td>\n",
       "      <td>0</td>\n",
       "    </tr>\n",
       "    <tr>\n",
       "      <th>4</th>\n",
       "      <td>10</td>\n",
       "      <td>1</td>\n",
       "    </tr>\n",
       "    <tr>\n",
       "      <th>...</th>\n",
       "      <td>...</td>\n",
       "      <td>...</td>\n",
       "    </tr>\n",
       "    <tr>\n",
       "      <th>6786</th>\n",
       "      <td>42014</td>\n",
       "      <td>0</td>\n",
       "    </tr>\n",
       "    <tr>\n",
       "      <th>6787</th>\n",
       "      <td>42017</td>\n",
       "      <td>0</td>\n",
       "    </tr>\n",
       "    <tr>\n",
       "      <th>6788</th>\n",
       "      <td>42024</td>\n",
       "      <td>0</td>\n",
       "    </tr>\n",
       "    <tr>\n",
       "      <th>6789</th>\n",
       "      <td>42040</td>\n",
       "      <td>0</td>\n",
       "    </tr>\n",
       "    <tr>\n",
       "      <th>6790</th>\n",
       "      <td>42048</td>\n",
       "      <td>1</td>\n",
       "    </tr>\n",
       "  </tbody>\n",
       "</table>\n",
       "<p>6791 rows × 2 columns</p>\n",
       "</div>"
      ],
      "text/plain": [
       "      index  value\n",
       "0         0      0\n",
       "1         1      0\n",
       "2         2      0\n",
       "3         9      0\n",
       "4        10      1\n",
       "...     ...    ...\n",
       "6786  42014      0\n",
       "6787  42017      0\n",
       "6788  42024      0\n",
       "6789  42040      0\n",
       "6790  42048      1\n",
       "\n",
       "[6791 rows x 2 columns]"
      ]
     },
     "execution_count": 266,
     "metadata": {},
     "output_type": "execute_result"
    }
   ],
   "source": [
    "data_y"
   ]
  },
  {
   "cell_type": "code",
   "execution_count": 267,
   "metadata": {},
   "outputs": [],
   "source": [
    "X_reseted = X.reset_index()"
   ]
  },
  {
   "cell_type": "code",
   "execution_count": 268,
   "metadata": {},
   "outputs": [],
   "source": [
    "merged_ytest = data_y.merge(X_reseted, on = ['index'], how = 'inner')"
   ]
  },
  {
   "cell_type": "code",
   "execution_count": 269,
   "metadata": {},
   "outputs": [],
   "source": [
    "merged_ytest_drop = merged_ytest.drop(columns = [ 'inn', 'company_age', 'risk_indicator',\n",
    "       'indexofduediligence', 'failurescore', 'paymentindex', 'fix_ast',\n",
    "       'longterm_fnc_ivsm', 'non_crn_ast', 'rsrv', 'vat_prch_val',\n",
    "       'shortterm_fnc_ivsm', 'cash_and_eqv', 'crn_ast', 'tot_ast', 'ahr_cptl',\n",
    "       'addl_cptl', 'rtnd_erng', 'cptl_and_rsrv', 'longterm_brw_fnd',\n",
    "       'othr_longterm_lby', 'longterm_lby', 'shortterm_brw_fnd', 'crdr_dbt',\n",
    "       'shortterm_lby', 'tot_psv', 'revenue', 'othr_expn', 'pft_bfr_tax',\n",
    "       'crn_incm_tax', 'def_tax_lby', 'net_profit', 'cogs', 'grs_profit',\n",
    "       'cmrcl_expn', 'admn_expn', 'profit_from_sales', 'intrst_rcv',\n",
    "       'intrst_pbl', 'othr_incm', 'def_tax_ast', 'rcvb', 'mrf_name_Волга',\n",
    "       'mrf_name_Дальний Восток', 'mrf_name_Прочие', 'mrf_name_Северо-Запад',\n",
    "       'mrf_name_Сибирь', 'mrf_name_Урал', 'mrf_name_Центр', 'mrf_name_Юг',\n",
    "       'High', 'Low', 'Medium', 'No inf', 'Good spark', 'Bad spark',\n",
    "       'No inf spark',\n",
    "       'Торговля розничная лекарственными средствами в специализированных магазинах (аптеках)',\n",
    "       'Торговля оптовая неспециализированная', 'Выращивание зерновых культур',\n",
    "       'Строительство автомобильных дорог и автомагистралей',\n",
    "       'Аренда и управление собственным или арендованным недвижимым имуществом',\n",
    "       'Аренда и управление собственным или арендованным нежилым недвижимым имуществом',\n",
    "       'Выращивание зерновых (кроме риса), зернобобовых культур и семян масличных культур',\n",
    "       'Торговля оптовая фармацевтической продукцией',\n",
    "       'Разработка компьютерного программного обеспечения',\n",
    "       'Торговля оптовая лесоматериалами, строительными материалами и санитарно-техническим оборудованием',\n",
    "       'Деятельность вспомогательная прочая, связанная с перевозками',\n",
    "       'Торговля розничная прочая в неспециализированных магазинах',\n",
    "       'Деятельность автомобильного грузового транспорта',\n",
    "       'Торговля оптовая твердым, жидким и газообразным топливом и подобными продуктами',\n",
    "       'Торговля розничная преимущественно пищевыми продуктами, включая напитки, и табачными изделиями в неспециализированных магазинах',\n",
    "       'Торговля розничная легковыми автомобилями и легкими автотранспортными средствами в специализированных магазинах',\n",
    "       'Разведение молочного крупного рогатого скота, производство сырого молока',\n",
    "       'Деятельность ресторанов и услуги по доставке продуктов питания',\n",
    "       'Производство электромонтажных работ',\n",
    "       'Передача электроэнергии и технологическое присоединение к распределительным электросетям',\n",
    "       'Торговля оптовая прочими машинами и оборудованием',\n",
    "       'Консультирование по вопросам коммерческой деятельности и управления',\n",
    "       'Торговля оптовая автомобильными деталями, узлами и принадлежностями, кроме деятельности агентов',\n",
    "       'Деятельность по финансовой аренде (лизингу/сублизингу)',\n",
    "       'Научные исследования и разработки в области естественных и технических наук прочие',\n",
    "       'Торговля оптовая машинами, оборудованием и инструментами для сельского хозяйства',\n",
    "       'Деятельность заказчика-застройщика, генерального подрядчика',\n",
    "       'Торговля оптовая производственным электротехническим оборудованием, машинами, аппаратурой и материалами',\n",
    "       'Выращивание однолетних культур', 'OOO', 'НАО', 'ПАО', 'Privat',\n",
    "       'Zabugorie', 'Zabugorie+Privat'])"
   ]
  },
  {
   "cell_type": "code",
   "execution_count": 270,
   "metadata": {},
   "outputs": [],
   "source": [
    "merged_ytest_drop['value_pred'] = y_pred"
   ]
  },
  {
   "cell_type": "code",
   "execution_count": 272,
   "metadata": {},
   "outputs": [],
   "source": [
    "tot_tot = merged_ytest_drop.sort_values(by=['date_begin'])"
   ]
  },
  {
   "cell_type": "code",
   "execution_count": 276,
   "metadata": {},
   "outputs": [],
   "source": [
    "fpd_model = tot_tot.groupby(by=[\"date_begin\"]).mean().value_pred"
   ]
  },
  {
   "cell_type": "code",
   "execution_count": 280,
   "metadata": {},
   "outputs": [
    {
     "data": {
      "text/plain": [
       "array([0.10909091, 0.07949791, 0.09125475, 0.0720339 , 0.04583333,\n",
       "       0.04132231, 0.0562249 , 0.0952381 , 0.08294931, 0.04651163,\n",
       "       0.04744526, 0.09186352, 0.10344828, 0.06008584, 0.1350211 ,\n",
       "       0.10067114, 0.10191083, 0.06481481, 0.084     , 0.0893617 ,\n",
       "       0.07009346, 0.09090909, 0.06280193, 0.08450704, 0.0625    ,\n",
       "       0.06842105, 0.06      , 0.072     , 0.08290155])"
      ]
     },
     "execution_count": 280,
     "metadata": {},
     "output_type": "execute_result"
    }
   ],
   "source": [
    "fpd_model.values"
   ]
  },
  {
   "cell_type": "code",
   "execution_count": 278,
   "metadata": {},
   "outputs": [],
   "source": [
    "spd_forecast  = pd.read_excel(\n",
    "    'spd_others_forecast.xlsx')"
   ]
  },
  {
   "cell_type": "code",
   "execution_count": 281,
   "metadata": {},
   "outputs": [],
   "source": [
    "spd_forecast['fpd3_model'] = fpd_model.values"
   ]
  },
  {
   "cell_type": "code",
   "execution_count": 321,
   "metadata": {},
   "outputs": [],
   "source": [
    "spd_forecast.loc[29] = ['2021-06-01', 0, 0.07832]\n",
    "spd_forecast.loc[29] = ['2021-07-01', 0, 0.0722]"
   ]
  },
  {
   "cell_type": "code",
   "execution_count": 322,
   "metadata": {},
   "outputs": [
    {
     "data": {
      "text/plain": [
       "array([[ 0.00000000e+00],\n",
       "       [-2.34771160e-03],\n",
       "       [ 9.43429451e-03],\n",
       "       [-1.29315805e-02],\n",
       "       [-1.01152327e-02],\n",
       "       [-1.65656932e-03],\n",
       "       [ 2.23134340e-03],\n",
       "       [-3.19346225e-03],\n",
       "       [-2.12870053e-03],\n",
       "       [ 8.39959812e-03],\n",
       "       [ 1.58232991e-03],\n",
       "       [ 7.36832641e-03],\n",
       "       [ 1.75008862e-02],\n",
       "       [ 5.04833152e-02],\n",
       "       [-3.83479792e-02],\n",
       "       [-4.71079272e-02],\n",
       "       [ 3.42988333e-02],\n",
       "       [-3.58799128e-02],\n",
       "       [ 1.89392987e-02],\n",
       "       [-1.49519033e-02],\n",
       "       [-7.53952305e-03],\n",
       "       [ 1.40040438e-02],\n",
       "       [ 3.89237697e-03],\n",
       "       [ 1.02296254e-02],\n",
       "       [-2.79115125e-02],\n",
       "       [-1.11000552e-03],\n",
       "       [ 1.01156671e-02],\n",
       "       [ 4.48228393e-05],\n",
       "       [ 1.31611777e-02]])"
      ]
     },
     "execution_count": 322,
     "metadata": {},
     "output_type": "execute_result"
    }
   ],
   "source": [
    "spd_forecast[['fpd3']][:29].diff().fillna(0).values"
   ]
  },
  {
   "cell_type": "code",
   "execution_count": 338,
   "metadata": {},
   "outputs": [],
   "source": [
    "spd_forecast['diff'] = spd_forecast['fpd3_model'] -spd_forecast['fpd3']"
   ]
  },
  {
   "cell_type": "code",
   "execution_count": 342,
   "metadata": {},
   "outputs": [
    {
     "data": {
      "text/plain": [
       "0.016391316479500952"
      ]
     },
     "execution_count": 342,
     "metadata": {},
     "output_type": "execute_result"
    }
   ],
   "source": [
    "spd_forecast['diff'].mean()"
   ]
  },
  {
   "cell_type": "code",
   "execution_count": 346,
   "metadata": {},
   "outputs": [],
   "source": [
    "spd_forecast['fdp3_model'] = spd_forecast['fpd3_model'] - 0.015"
   ]
  },
  {
   "cell_type": "code",
   "execution_count": 348,
   "metadata": {},
   "outputs": [
    {
     "data": {
      "text/html": [
       "<div>\n",
       "<style scoped>\n",
       "    .dataframe tbody tr th:only-of-type {\n",
       "        vertical-align: middle;\n",
       "    }\n",
       "\n",
       "    .dataframe tbody tr th {\n",
       "        vertical-align: top;\n",
       "    }\n",
       "\n",
       "    .dataframe thead th {\n",
       "        text-align: right;\n",
       "    }\n",
       "</style>\n",
       "<table border=\"1\" class=\"dataframe\">\n",
       "  <thead>\n",
       "    <tr style=\"text-align: right;\">\n",
       "      <th></th>\n",
       "      <th>date</th>\n",
       "      <th>fpd3</th>\n",
       "      <th>fpd3_model</th>\n",
       "      <th>diff</th>\n",
       "      <th>fdp3_model</th>\n",
       "    </tr>\n",
       "  </thead>\n",
       "  <tbody>\n",
       "    <tr>\n",
       "      <th>0</th>\n",
       "      <td>2019-01-01 00:00:00</td>\n",
       "      <td>0.0699634</td>\n",
       "      <td>0.109091</td>\n",
       "      <td>0.0391275</td>\n",
       "      <td>0.0940909</td>\n",
       "    </tr>\n",
       "    <tr>\n",
       "      <th>1</th>\n",
       "      <td>2019-02-01 00:00:00</td>\n",
       "      <td>0.0676157</td>\n",
       "      <td>0.0794979</td>\n",
       "      <td>0.0118822</td>\n",
       "      <td>0.0644979</td>\n",
       "    </tr>\n",
       "    <tr>\n",
       "      <th>2</th>\n",
       "      <td>2019-03-01 00:00:00</td>\n",
       "      <td>0.07705</td>\n",
       "      <td>0.0912548</td>\n",
       "      <td>0.0142048</td>\n",
       "      <td>0.0762548</td>\n",
       "    </tr>\n",
       "    <tr>\n",
       "      <th>3</th>\n",
       "      <td>2019-04-01 00:00:00</td>\n",
       "      <td>0.0641184</td>\n",
       "      <td>0.0720339</td>\n",
       "      <td>0.00791553</td>\n",
       "      <td>0.0570339</td>\n",
       "    </tr>\n",
       "    <tr>\n",
       "      <th>4</th>\n",
       "      <td>2019-05-01 00:00:00</td>\n",
       "      <td>0.0540031</td>\n",
       "      <td>0.0458333</td>\n",
       "      <td>-0.00816981</td>\n",
       "      <td>0.0308333</td>\n",
       "    </tr>\n",
       "    <tr>\n",
       "      <th>5</th>\n",
       "      <td>2019-06-01 00:00:00</td>\n",
       "      <td>0.0523466</td>\n",
       "      <td>0.0413223</td>\n",
       "      <td>-0.0110243</td>\n",
       "      <td>0.0263223</td>\n",
       "    </tr>\n",
       "    <tr>\n",
       "      <th>6</th>\n",
       "      <td>2019-07-01 00:00:00</td>\n",
       "      <td>0.0545779</td>\n",
       "      <td>0.0562249</td>\n",
       "      <td>0.00164699</td>\n",
       "      <td>0.0412249</td>\n",
       "    </tr>\n",
       "    <tr>\n",
       "      <th>7</th>\n",
       "      <td>2019-08-01 00:00:00</td>\n",
       "      <td>0.0513845</td>\n",
       "      <td>0.0952381</td>\n",
       "      <td>0.0438536</td>\n",
       "      <td>0.0802381</td>\n",
       "    </tr>\n",
       "    <tr>\n",
       "      <th>8</th>\n",
       "      <td>2019-09-01 00:00:00</td>\n",
       "      <td>0.0492558</td>\n",
       "      <td>0.0829493</td>\n",
       "      <td>0.0336936</td>\n",
       "      <td>0.0679493</td>\n",
       "    </tr>\n",
       "    <tr>\n",
       "      <th>9</th>\n",
       "      <td>2019-10-01 00:00:00</td>\n",
       "      <td>0.0576553</td>\n",
       "      <td>0.0465116</td>\n",
       "      <td>-0.0111437</td>\n",
       "      <td>0.0315116</td>\n",
       "    </tr>\n",
       "    <tr>\n",
       "      <th>10</th>\n",
       "      <td>2019-11-01 00:00:00</td>\n",
       "      <td>0.0592377</td>\n",
       "      <td>0.0474453</td>\n",
       "      <td>-0.0117924</td>\n",
       "      <td>0.0324453</td>\n",
       "    </tr>\n",
       "    <tr>\n",
       "      <th>11</th>\n",
       "      <td>2019-12-01 00:00:00</td>\n",
       "      <td>0.066606</td>\n",
       "      <td>0.0918635</td>\n",
       "      <td>0.0252575</td>\n",
       "      <td>0.0768635</td>\n",
       "    </tr>\n",
       "    <tr>\n",
       "      <th>12</th>\n",
       "      <td>2020-01-01 00:00:00</td>\n",
       "      <td>0.0841069</td>\n",
       "      <td>0.103448</td>\n",
       "      <td>0.0193414</td>\n",
       "      <td>0.0884483</td>\n",
       "    </tr>\n",
       "    <tr>\n",
       "      <th>13</th>\n",
       "      <td>2020-02-01 00:00:00</td>\n",
       "      <td>0.13459</td>\n",
       "      <td>0.0600858</td>\n",
       "      <td>-0.0745044</td>\n",
       "      <td>0.0450858</td>\n",
       "    </tr>\n",
       "    <tr>\n",
       "      <th>14</th>\n",
       "      <td>2020-03-01 00:00:00</td>\n",
       "      <td>0.0962422</td>\n",
       "      <td>0.135021</td>\n",
       "      <td>0.0387789</td>\n",
       "      <td>0.120021</td>\n",
       "    </tr>\n",
       "    <tr>\n",
       "      <th>15</th>\n",
       "      <td>2020-04-01 00:00:00</td>\n",
       "      <td>0.0491343</td>\n",
       "      <td>0.100671</td>\n",
       "      <td>0.0515368</td>\n",
       "      <td>0.0856711</td>\n",
       "    </tr>\n",
       "    <tr>\n",
       "      <th>16</th>\n",
       "      <td>2020-05-01 00:00:00</td>\n",
       "      <td>0.0834331</td>\n",
       "      <td>0.101911</td>\n",
       "      <td>0.0184777</td>\n",
       "      <td>0.0869108</td>\n",
       "    </tr>\n",
       "    <tr>\n",
       "      <th>17</th>\n",
       "      <td>2020-06-01 00:00:00</td>\n",
       "      <td>0.0475532</td>\n",
       "      <td>0.0648148</td>\n",
       "      <td>0.0172616</td>\n",
       "      <td>0.0498148</td>\n",
       "    </tr>\n",
       "    <tr>\n",
       "      <th>18</th>\n",
       "      <td>2020-07-01 00:00:00</td>\n",
       "      <td>0.0664925</td>\n",
       "      <td>0.084</td>\n",
       "      <td>0.0175075</td>\n",
       "      <td>0.069</td>\n",
       "    </tr>\n",
       "    <tr>\n",
       "      <th>19</th>\n",
       "      <td>2020-08-01 00:00:00</td>\n",
       "      <td>0.0515406</td>\n",
       "      <td>0.0893617</td>\n",
       "      <td>0.0378211</td>\n",
       "      <td>0.0743617</td>\n",
       "    </tr>\n",
       "    <tr>\n",
       "      <th>20</th>\n",
       "      <td>2020-09-01 00:00:00</td>\n",
       "      <td>0.0440011</td>\n",
       "      <td>0.0700935</td>\n",
       "      <td>0.0260924</td>\n",
       "      <td>0.0550935</td>\n",
       "    </tr>\n",
       "    <tr>\n",
       "      <th>21</th>\n",
       "      <td>2020-10-01 00:00:00</td>\n",
       "      <td>0.0580051</td>\n",
       "      <td>0.0909091</td>\n",
       "      <td>0.032904</td>\n",
       "      <td>0.0759091</td>\n",
       "    </tr>\n",
       "    <tr>\n",
       "      <th>22</th>\n",
       "      <td>2020-11-01 00:00:00</td>\n",
       "      <td>0.0618975</td>\n",
       "      <td>0.0628019</td>\n",
       "      <td>0.000904418</td>\n",
       "      <td>0.0478019</td>\n",
       "    </tr>\n",
       "    <tr>\n",
       "      <th>23</th>\n",
       "      <td>2020-12-01 00:00:00</td>\n",
       "      <td>0.0721271</td>\n",
       "      <td>0.084507</td>\n",
       "      <td>0.0123799</td>\n",
       "      <td>0.069507</td>\n",
       "    </tr>\n",
       "    <tr>\n",
       "      <th>24</th>\n",
       "      <td>2021-01-01 00:00:00</td>\n",
       "      <td>0.0442156</td>\n",
       "      <td>0.0625</td>\n",
       "      <td>0.0182844</td>\n",
       "      <td>0.0475</td>\n",
       "    </tr>\n",
       "    <tr>\n",
       "      <th>25</th>\n",
       "      <td>2021-02-01 00:00:00</td>\n",
       "      <td>0.0431056</td>\n",
       "      <td>0.0684211</td>\n",
       "      <td>0.0253154</td>\n",
       "      <td>0.0534211</td>\n",
       "    </tr>\n",
       "    <tr>\n",
       "      <th>26</th>\n",
       "      <td>2021-03-01 00:00:00</td>\n",
       "      <td>0.0532213</td>\n",
       "      <td>0.06</td>\n",
       "      <td>0.00677871</td>\n",
       "      <td>0.045</td>\n",
       "    </tr>\n",
       "    <tr>\n",
       "      <th>27</th>\n",
       "      <td>2021-04-01 00:00:00</td>\n",
       "      <td>0.0532661</td>\n",
       "      <td>0.072</td>\n",
       "      <td>0.0187339</td>\n",
       "      <td>0.057</td>\n",
       "    </tr>\n",
       "    <tr>\n",
       "      <th>28</th>\n",
       "      <td>2021-05-01 00:00:00</td>\n",
       "      <td>0.0664273</td>\n",
       "      <td>0.0829016</td>\n",
       "      <td>0.0164743</td>\n",
       "      <td>0.0679016</td>\n",
       "    </tr>\n",
       "    <tr>\n",
       "      <th>29</th>\n",
       "      <td>2021-07-01</td>\n",
       "      <td>0</td>\n",
       "      <td>0.0722</td>\n",
       "      <td>0.0722</td>\n",
       "      <td>0.0572</td>\n",
       "    </tr>\n",
       "  </tbody>\n",
       "</table>\n",
       "</div>"
      ],
      "text/plain": [
       "                   date       fpd3 fpd3_model         diff fdp3_model\n",
       "0   2019-01-01 00:00:00  0.0699634   0.109091    0.0391275  0.0940909\n",
       "1   2019-02-01 00:00:00  0.0676157  0.0794979    0.0118822  0.0644979\n",
       "2   2019-03-01 00:00:00    0.07705  0.0912548    0.0142048  0.0762548\n",
       "3   2019-04-01 00:00:00  0.0641184  0.0720339   0.00791553  0.0570339\n",
       "4   2019-05-01 00:00:00  0.0540031  0.0458333  -0.00816981  0.0308333\n",
       "5   2019-06-01 00:00:00  0.0523466  0.0413223   -0.0110243  0.0263223\n",
       "6   2019-07-01 00:00:00  0.0545779  0.0562249   0.00164699  0.0412249\n",
       "7   2019-08-01 00:00:00  0.0513845  0.0952381    0.0438536  0.0802381\n",
       "8   2019-09-01 00:00:00  0.0492558  0.0829493    0.0336936  0.0679493\n",
       "9   2019-10-01 00:00:00  0.0576553  0.0465116   -0.0111437  0.0315116\n",
       "10  2019-11-01 00:00:00  0.0592377  0.0474453   -0.0117924  0.0324453\n",
       "11  2019-12-01 00:00:00   0.066606  0.0918635    0.0252575  0.0768635\n",
       "12  2020-01-01 00:00:00  0.0841069   0.103448    0.0193414  0.0884483\n",
       "13  2020-02-01 00:00:00    0.13459  0.0600858   -0.0745044  0.0450858\n",
       "14  2020-03-01 00:00:00  0.0962422   0.135021    0.0387789   0.120021\n",
       "15  2020-04-01 00:00:00  0.0491343   0.100671    0.0515368  0.0856711\n",
       "16  2020-05-01 00:00:00  0.0834331   0.101911    0.0184777  0.0869108\n",
       "17  2020-06-01 00:00:00  0.0475532  0.0648148    0.0172616  0.0498148\n",
       "18  2020-07-01 00:00:00  0.0664925      0.084    0.0175075      0.069\n",
       "19  2020-08-01 00:00:00  0.0515406  0.0893617    0.0378211  0.0743617\n",
       "20  2020-09-01 00:00:00  0.0440011  0.0700935    0.0260924  0.0550935\n",
       "21  2020-10-01 00:00:00  0.0580051  0.0909091     0.032904  0.0759091\n",
       "22  2020-11-01 00:00:00  0.0618975  0.0628019  0.000904418  0.0478019\n",
       "23  2020-12-01 00:00:00  0.0721271   0.084507    0.0123799   0.069507\n",
       "24  2021-01-01 00:00:00  0.0442156     0.0625    0.0182844     0.0475\n",
       "25  2021-02-01 00:00:00  0.0431056  0.0684211    0.0253154  0.0534211\n",
       "26  2021-03-01 00:00:00  0.0532213       0.06   0.00677871      0.045\n",
       "27  2021-04-01 00:00:00  0.0532661      0.072    0.0187339      0.057\n",
       "28  2021-05-01 00:00:00  0.0664273  0.0829016    0.0164743  0.0679016\n",
       "29           2021-07-01          0     0.0722       0.0722     0.0572"
      ]
     },
     "execution_count": 348,
     "metadata": {},
     "output_type": "execute_result"
    }
   ],
   "source": [
    "spd_forecast"
   ]
  },
  {
   "cell_type": "code",
   "execution_count": 350,
   "metadata": {},
   "outputs": [
    {
     "data": {
      "image/png": "[encoded data removed]",
      "text/plain": [
       "<Figure size 1080x504 with 1 Axes>"
      ]
     },
     "metadata": {
      "needs_background": "light"
     },
     "output_type": "display_data"
    }
   ],
   "source": [
    "plt.figure(figsize=(15, 7))\n",
    "plt.plot(spd_forecast.date[16:], spd_forecast[['fdp3_model']][16:], \"r\", label=\"Прогноз\")\n",
    "plt.plot(spd_forecast.date[16:29], spd_forecast[['fpd3']][16:29],  'b', label=\"Факт\")\n",
    "plt.legend(loc=\"best\")\n",
    "plt.title(\"FPD3\")\n",
    "plt.grid(True)"
   ]
  },
  {
   "cell_type": "code",
   "execution_count": 222,
   "metadata": {},
   "outputs": [
    {
     "name": "stdout",
     "output_type": "stream",
     "text": [
      "              precision    recall  f1-score   support\n",
      "\n",
      "           0       0.93      0.86      0.89      1254\n",
      "           1       0.12      0.23      0.16       105\n",
      "\n",
      "    accuracy                           0.81      1359\n",
      "   macro avg       0.53      0.55      0.53      1359\n",
      "weighted avg       0.87      0.81      0.84      1359\n",
      "\n"
     ]
    }
   ],
   "source": [
    "from sklearn.metrics import classification_report\n",
    "print(classification_report(y_test, y_pred))"
   ]
  },
  {
   "cell_type": "markdown",
   "metadata": {},
   "source": [
    "# Forecast"
   ]
  },
  {
   "cell_type": "code",
   "execution_count": 253,
   "metadata": {},
   "outputs": [],
   "source": [
    "X_dummy_all = X[['mrf_name_Волга',\n",
    "       'mrf_name_Дальний Восток', 'mrf_name_Прочие', 'mrf_name_Северо-Запад',\n",
    "       'mrf_name_Сибирь', 'mrf_name_Урал', 'mrf_name_Центр', 'mrf_name_Юг',\n",
    "       'High', 'Low', 'Medium', 'No inf', 'Good spark', 'Bad spark',\n",
    "       'No inf spark',\n",
    "       'Торговля розничная лекарственными средствами в специализированных магазинах (аптеках)',\n",
    "       'Торговля оптовая неспециализированная', 'Выращивание зерновых культур',\n",
    "       'Строительство автомобильных дорог и автомагистралей',\n",
    "       'Аренда и управление собственным или арендованным недвижимым имуществом',\n",
    "       'Аренда и управление собственным или арендованным нежилым недвижимым имуществом',\n",
    "       'Выращивание зерновых (кроме риса), зернобобовых культур и семян масличных культур',\n",
    "       'Торговля оптовая фармацевтической продукцией',\n",
    "       'Разработка компьютерного программного обеспечения',\n",
    "       'Торговля оптовая лесоматериалами, строительными материалами и санитарно-техническим оборудованием',\n",
    "       'Деятельность вспомогательная прочая, связанная с перевозками',\n",
    "       'Торговля розничная прочая в неспециализированных магазинах',\n",
    "       'Деятельность автомобильного грузового транспорта',\n",
    "       'Торговля оптовая твердым, жидким и газообразным топливом и подобными продуктами',\n",
    "       'Торговля розничная преимущественно пищевыми продуктами, включая напитки, и табачными изделиями в неспециализированных магазинах',\n",
    "       'Торговля розничная легковыми автомобилями и легкими автотранспортными средствами в специализированных магазинах',\n",
    "       'Разведение молочного крупного рогатого скота, производство сырого молока',\n",
    "       'Деятельность ресторанов и услуги по доставке продуктов питания',\n",
    "       'Производство электромонтажных работ',\n",
    "       'Передача электроэнергии и технологическое присоединение к распределительным электросетям',\n",
    "       'Торговля оптовая прочими машинами и оборудованием',\n",
    "       'Консультирование по вопросам коммерческой деятельности и управления',\n",
    "       'Торговля оптовая автомобильными деталями, узлами и принадлежностями, кроме деятельности агентов',\n",
    "       'Деятельность по финансовой аренде (лизингу/сублизингу)',\n",
    "       'Научные исследования и разработки в области естественных и технических наук прочие',\n",
    "       'Торговля оптовая машинами, оборудованием и инструментами для сельского хозяйства',\n",
    "       'Деятельность заказчика-застройщика, генерального подрядчика',\n",
    "       'Торговля оптовая производственным электротехническим оборудованием, машинами, аппаратурой и материалами',\n",
    "       'Выращивание однолетних культур', 'OOO', 'НАО', 'ПАО', 'Privat',\n",
    "       'Zabugorie', 'Zabugorie+Privat']]"
   ]
  },
  {
   "cell_type": "code",
   "execution_count": 254,
   "metadata": {},
   "outputs": [],
   "source": [
    "X_non_dummy_all  = X[['company_age', 'risk_indicator', 'indexofduediligence', 'failurescore',\n",
    "       'paymentindex', 'fix_ast', 'longterm_fnc_ivsm', 'non_crn_ast', 'rsrv',\n",
    "       'vat_prch_val', 'shortterm_fnc_ivsm', 'cash_and_eqv', 'crn_ast',\n",
    "       'tot_ast', 'ahr_cptl', 'addl_cptl', 'rtnd_erng', 'cptl_and_rsrv',\n",
    "       'longterm_brw_fnd', 'othr_longterm_lby', 'longterm_lby',\n",
    "       'shortterm_brw_fnd', 'crdr_dbt', 'shortterm_lby', 'tot_psv', 'revenue',\n",
    "       'othr_expn', 'pft_bfr_tax', 'crn_incm_tax', 'def_tax_lby', 'net_profit',\n",
    "       'cogs', 'grs_profit', 'cmrcl_expn', 'admn_expn', 'profit_from_sales',\n",
    "       'intrst_rcv', 'intrst_pbl', 'othr_incm', 'def_tax_ast', 'rcvb']]"
   ]
  },
  {
   "cell_type": "code",
   "execution_count": 255,
   "metadata": {},
   "outputs": [],
   "source": [
    "X_std_all = stdsc.transform(X_non_dummy_all)"
   ]
  },
  {
   "cell_type": "code",
   "execution_count": 256,
   "metadata": {},
   "outputs": [],
   "source": [
    "Norm_all = pd.DataFrame(X_std_all, columns = X_non_dummy_all.columns)\n",
    "Norm_all = Norm_all.set_index(X.index)\n",
    "Norm_dummy_all = pd.concat([Norm_all, X_dummy_all], axis = 1)"
   ]
  },
  {
   "cell_type": "code",
   "execution_count": 258,
   "metadata": {},
   "outputs": [],
   "source": [
    "y_pred = knn1.predict(Norm_dummy_all)"
   ]
  },
  {
   "cell_type": "code",
   "execution_count": 263,
   "metadata": {},
   "outputs": [
    {
     "name": "stdout",
     "output_type": "stream",
     "text": [
      "[[6135  173]\n",
      " [ 134  349]]\n"
     ]
    }
   ],
   "source": [
    "from sklearn.metrics import confusion_matrix\n",
    "confusion_matrix = confusion_matrix(y, y_pred)\n",
    "print(confusion_matrix)"
   ]
  },
  {
   "cell_type": "code",
   "execution_count": 264,
   "metadata": {},
   "outputs": [
    {
     "data": {
      "text/plain": [
       "array([0, 0, 0, ..., 0, 0, 1], dtype=int64)"
      ]
     },
     "execution_count": 264,
     "metadata": {},
     "output_type": "execute_result"
    }
   ],
   "source": [
    "y_pred"
   ]
  },
  {
   "cell_type": "markdown",
   "metadata": {},
   "source": [
    "### SVC на метрике жаккарда"
   ]
  },
  {
   "cell_type": "code",
   "execution_count": null,
   "metadata": {},
   "outputs": [],
   "source": [
    "from sklearn.svm import SVC"
   ]
  },
  {
   "cell_type": "code",
   "execution_count": null,
   "metadata": {},
   "outputs": [],
   "source": [
    "svm = SVC(random_state = 42)\n",
    "\n",
    "param_grid = { \n",
    "    'C': [3, 5, 10, 15, 25],\n",
    "    'kernel': ['sigmoid', 'poly'], #'linear', 'rbf'\n",
    "    'gamma' :['scale', 'auto'],\n",
    "    'coef0': [1, 2,3,5]\n",
    "}\n",
    "\n",
    "CV_svm = GridSearchCV(estimator=svm, param_grid=param_grid, scoring = 'jaccard')\n"
   ]
  },
  {
   "cell_type": "code",
   "execution_count": null,
   "metadata": {},
   "outputs": [],
   "source": [
    "CV_svm.fit(X_log_train, y_train_res)"
   ]
  },
  {
   "cell_type": "code",
   "execution_count": null,
   "metadata": {},
   "outputs": [],
   "source": [
    "CV_svm.best_params_"
   ]
  },
  {
   "cell_type": "code",
   "execution_count": null,
   "metadata": {},
   "outputs": [],
   "source": [
    "svm1 = SVC(random_state = 42 , C = 25, coef0 = 3, gamma = 'scale', kernel = 'poly')"
   ]
  },
  {
   "cell_type": "code",
   "execution_count": null,
   "metadata": {},
   "outputs": [],
   "source": [
    "svm1.fit(X_log_train, y_train_res)"
   ]
  },
  {
   "cell_type": "code",
   "execution_count": null,
   "metadata": {},
   "outputs": [],
   "source": [
    "y_pred = svm1.predict(X_log_test)"
   ]
  },
  {
   "cell_type": "markdown",
   "metadata": {},
   "source": [
    "### Результат"
   ]
  },
  {
   "cell_type": "code",
   "execution_count": null,
   "metadata": {},
   "outputs": [],
   "source": [
    "from sklearn.metrics import confusion_matrix\n",
    "confusion_matrix = confusion_matrix(y_test, y_pred)\n",
    "print(confusion_matrix)"
   ]
  },
  {
   "cell_type": "code",
   "execution_count": null,
   "metadata": {},
   "outputs": [],
   "source": [
    "from mlxtend.plotting import plot_decision_regions"
   ]
  },
  {
   "cell_type": "code",
   "execution_count": null,
   "metadata": {},
   "outputs": [],
   "source": [
    "svm1.fit(X_log_train[[ 'vat_prch_val','failurescore']], y_train_res)"
   ]
  },
  {
   "cell_type": "markdown",
   "metadata": {},
   "source": [
    "### тут график отрисовки для значимости регрессоров в плане классификации, советую использовать до 4 с индикаторами неиспользуемых в построении - отпраляйте в филлеры, вмемто классификатора одна из моделей, тут я брал свм1, которая выше"
   ]
  },
  {
   "cell_type": "code",
   "execution_count": null,
   "metadata": {},
   "outputs": [],
   "source": [
    "value = 1.5\n",
    "width = 0.75\n",
    "plot_decision_regions(X_log_train[['vat_prch_val','failurescore']].values[0:150], y_train_res.values[0:150], svm1, feature_index=[0,1],\n",
    "              #filler_feature_values={2: value, 3:value\n",
    "                                     #,  4:value, \n",
    "                                    #5: value, 6:value, 7: value, 8:value,\n",
    "                                    #9: value, 10:value, 11: value, 12:value,\n",
    "                                    #13: value, 14:value, 15: value, 16:value,\n",
    "                                    #17: value, 18:value, 19: value, 20:value,\n",
    "                                    #21: value, 22:value, 23: value, 24:value,\n",
    "                                    #25: value, 26:value, 27: value, 28:value,\n",
    "                                    #29: value, 30:value, 31: value},  \n",
    "             # filler_feature_ranges={2: width, 3:width\n",
    "                                     #,  4:width, \n",
    "                                    #5: width, 6:width, 7: width, 8:width,\n",
    "                                    #9: width, 10:width, 11: width, 12:width,\n",
    "                                    #13: width, 14: width, 15: width, 16:width,\n",
    "                                    #17: width, 18:width, 19: width, 20:width,\n",
    "                                    #21: width, 22:width, 23: width, 24:width,\n",
    "                                    #25: width, 26:width, 27: width, 28: width,\n",
    "                                    #29: width, 30: width, 31: width},\n",
    "                      zoom_factor = 10)   \n",
    "plt.legend(loc = 'upper left')\n",
    "plt.tight_layout()\n",
    "plt.show()"
   ]
  },
  {
   "cell_type": "code",
   "execution_count": null,
   "metadata": {},
   "outputs": [],
   "source": [
    "from sklearn.metrics import roc_auc_score\n",
    "from sklearn.metrics import roc_curve\n",
    "logit_roc_auc = roc_auc_score(y_test, tree_model.predict(X_test))\n",
    "fpr, tpr, thresholds = roc_curve(y_test, tree_model.predict_proba(X_test)[:,1])\n",
    "plt.figure()\n",
    "plt.plot(fpr, tpr, label='Logistic Regression (area = %0.2f)' % logit_roc_auc)\n",
    "plt.plot([0, 1], [0, 1],'r--')\n",
    "plt.xlim([0.0, 1.0])\n",
    "plt.ylim([0.0, 1.05])\n",
    "plt.xlabel('False Positive Rate')\n",
    "plt.ylabel('True Positive Rate')\n",
    "plt.title('Receiver operating characteristic')\n",
    "plt.legend(loc=\"lower right\")\n",
    "plt.savefig('Log_ROC')\n",
    "plt.show()"
   ]
  },
  {
   "cell_type": "code",
   "execution_count": null,
   "metadata": {},
   "outputs": [],
   "source": [
    "import numpy as np\n",
    "from sklearn.metrics import precision_recall_fscore_support\n",
    "from sklearn.metrics import matthews_corrcoef\n",
    "\n",
    "yyy_true = np.array([])\n",
    "yyy_pred = np.array([])\n",
    "precision_recall_fscore_support(y_test, y_pred, average='macro')"
   ]
  },
  {
   "cell_type": "code",
   "execution_count": null,
   "metadata": {},
   "outputs": [],
   "source": [
    "print(pd.__version__)"
   ]
  },
  {
   "cell_type": "code",
   "execution_count": null,
   "metadata": {},
   "outputs": [],
   "source": [
    "import matplotlib"
   ]
  },
  {
   "cell_type": "code",
   "execution_count": null,
   "metadata": {},
   "outputs": [],
   "source": [
    "print(matplotlib.__version__)"
   ]
  },
  {
   "cell_type": "code",
   "execution_count": null,
   "metadata": {},
   "outputs": [],
   "source": []
  }
 ],
 "metadata": {
  "kernelspec": {
   "display_name": "Python 3",
   "language": "python",
   "name": "python3"
  },
  "language_info": {
   "codemirror_mode": {
    "name": "ipython",
    "version": 3
   },
   "file_extension": ".py",
   "mimetype": "text/x-python",
   "name": "python",
   "nbconvert_exporter": "python",
   "pygments_lexer": "ipython3",
   "version": "3.8.5"
  }
 },
 "nbformat": 4,
 "nbformat_minor": 4
}
