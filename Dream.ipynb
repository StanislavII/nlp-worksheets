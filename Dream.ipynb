{
 "cells": [
  {
   "cell_type": "code",
   "execution_count": 1,
   "metadata": {},
   "outputs": [
    {
     "name": "stderr",
     "output_type": "stream",
     "text": [
      "C:\\Users\\stanislav.ilyushin\\Anaconda3\\envs\\rapid\\lib\\site-packages\\statsmodels\\compat\\pandas.py:65: FutureWarning: pandas.Int64Index is deprecated and will be removed from pandas in a future version. Use pandas.Index with the appropriate dtype instead.\n",
      "  from pandas import Int64Index as NumericIndex\n"
     ]
    },
    {
     "name": "stdout",
     "output_type": "stream",
     "text": [
      "It is recommended that the examples are run in interactive mode\n"
     ]
    }
   ],
   "source": [
    "import gpboost as gpb\n",
    "import lightgbm as lgb\n",
    "import numpy as np\n",
    "import numpy.linalg as la\n",
    "from collections import OrderedDict\n",
    "from scipy import stats\n",
    "from linearmodels.datasets import wage_panel\n",
    "import matplotlib.pyplot as plt\n",
    "import pandas as pd\n",
    "from linearmodels.panel import compare\n",
    "import statsmodels.api as sm\n",
    "from linearmodels.panel import RandomEffects\n",
    "from linearmodels.panel import BetweenOLS\n",
    "from linearmodels.panel import FirstDifferenceOLS\n",
    "from linearmodels import PanelOLS\n",
    "from linearmodels import PooledOLS\n",
    "from statsmodels.datasets import grunfeld\n",
    "from statsmodels.stats.diagnostic import het_white, het_breuschpagan\n",
    "plt.style.use('ggplot')\n",
    "def f1d(x):\n",
    "    \"\"\"Non-linear function for simulation\"\"\"\n",
    "    return (1.7 * (1 / (1 + np.exp(-(x - 0.5) * 20)) + 0.75 * x))\n",
    "print(\"It is recommended that the examples are run in interactive mode\")"
   ]
  },
  {
   "cell_type": "code",
   "execution_count": 2,
   "metadata": {},
   "outputs": [
    {
     "name": "stdout",
     "output_type": "stream",
     "text": [
      "\n",
      "F. Vella and M. Verbeek (1998), \"Whose Wages Do Unions Raise? A Dynamic Model\n",
      "of Unionism and Wage Rate Determination for Young Men,\" Journal of Applied\n",
      "Econometrics 13, 163-183.\n",
      "\n",
      "nr                       person identifier\n",
      "year                     1980 to 1987\n",
      "black                    =1 if black\n",
      "exper                    labor market experience\n",
      "hisp                     =1 if Hispanic\n",
      "hours                    annual hours worked\n",
      "married                  =1 if married\n",
      "educ                     years of schooling\n",
      "union                    =1 if in union\n",
      "lwage                    log(wage)\n",
      "expersq                  exper^2\n",
      "occupation               Occupation code\n",
      "\n",
      "         black  exper  hisp  hours  married  educ  union     lwage  expersq  \\\n",
      "nr year                                                                       \n",
      "13 1980      0      1     0   2672        0    14      0  1.197540        1   \n",
      "   1981      0      2     0   2320        0    14      1  1.853060        4   \n",
      "   1982      0      3     0   2940        0    14      0  1.344462        9   \n",
      "   1983      0      4     0   2960        0    14      0  1.433213       16   \n",
      "   1984      0      5     0   3071        0    14      0  1.568125       25   \n",
      "\n",
      "         occupation  year  \n",
      "nr year                    \n",
      "13 1980           9  1980  \n",
      "   1981           9  1981  \n",
      "   1982           9  1982  \n",
      "   1983           9  1983  \n",
      "   1984           5  1984  \n"
     ]
    }
   ],
   "source": [
    "data = wage_panel.load()\n",
    "year = pd.Categorical(data.year)\n",
    "data = data.set_index([\"nr\", \"year\"])\n",
    "data[\"year\"] = year\n",
    "print(wage_panel.DESCR)\n",
    "print(data.head())"
   ]
  },
  {
   "cell_type": "code",
   "execution_count": 3,
   "metadata": {},
   "outputs": [
    {
     "data": {
      "text/plain": [
       "Index(['black', 'exper', 'hisp', 'hours', 'married', 'educ', 'union', 'lwage',\n",
       "       'expersq', 'occupation', 'year'],\n",
       "      dtype='object')"
      ]
     },
     "execution_count": 3,
     "metadata": {},
     "output_type": "execute_result"
    }
   ],
   "source": [
    "data.columns"
   ]
  },
  {
   "cell_type": "code",
   "execution_count": 4,
   "metadata": {},
   "outputs": [],
   "source": [
    "data = grunfeld.load_pandas().data\n",
    "data.year = data.year.astype(np.int64)\n",
    "data = data.set_index(['firm','year'])"
   ]
  },
  {
   "cell_type": "code",
   "execution_count": 5,
   "metadata": {},
   "outputs": [
    {
     "data": {
      "text/html": [
       "<div>\n",
       "<style scoped>\n",
       "    .dataframe tbody tr th:only-of-type {\n",
       "        vertical-align: middle;\n",
       "    }\n",
       "\n",
       "    .dataframe tbody tr th {\n",
       "        vertical-align: top;\n",
       "    }\n",
       "\n",
       "    .dataframe thead th {\n",
       "        text-align: right;\n",
       "    }\n",
       "</style>\n",
       "<table border=\"1\" class=\"dataframe\">\n",
       "  <thead>\n",
       "    <tr style=\"text-align: right;\">\n",
       "      <th></th>\n",
       "      <th></th>\n",
       "      <th>invest</th>\n",
       "      <th>value</th>\n",
       "      <th>capital</th>\n",
       "    </tr>\n",
       "    <tr>\n",
       "      <th>firm</th>\n",
       "      <th>year</th>\n",
       "      <th></th>\n",
       "      <th></th>\n",
       "      <th></th>\n",
       "    </tr>\n",
       "  </thead>\n",
       "  <tbody>\n",
       "    <tr>\n",
       "      <th rowspan=\"5\" valign=\"top\">General Motors</th>\n",
       "      <th>1935</th>\n",
       "      <td>317.600</td>\n",
       "      <td>3078.500</td>\n",
       "      <td>2.800</td>\n",
       "    </tr>\n",
       "    <tr>\n",
       "      <th>1936</th>\n",
       "      <td>391.800</td>\n",
       "      <td>4661.700</td>\n",
       "      <td>52.600</td>\n",
       "    </tr>\n",
       "    <tr>\n",
       "      <th>1937</th>\n",
       "      <td>410.600</td>\n",
       "      <td>5387.100</td>\n",
       "      <td>156.900</td>\n",
       "    </tr>\n",
       "    <tr>\n",
       "      <th>1938</th>\n",
       "      <td>257.700</td>\n",
       "      <td>2792.200</td>\n",
       "      <td>209.200</td>\n",
       "    </tr>\n",
       "    <tr>\n",
       "      <th>1939</th>\n",
       "      <td>330.800</td>\n",
       "      <td>4313.200</td>\n",
       "      <td>203.400</td>\n",
       "    </tr>\n",
       "    <tr>\n",
       "      <th>...</th>\n",
       "      <th>...</th>\n",
       "      <td>...</td>\n",
       "      <td>...</td>\n",
       "      <td>...</td>\n",
       "    </tr>\n",
       "    <tr>\n",
       "      <th rowspan=\"5\" valign=\"top\">American Steel</th>\n",
       "      <th>1950</th>\n",
       "      <td>4.770</td>\n",
       "      <td>36.494</td>\n",
       "      <td>75.847</td>\n",
       "    </tr>\n",
       "    <tr>\n",
       "      <th>1951</th>\n",
       "      <td>6.532</td>\n",
       "      <td>46.082</td>\n",
       "      <td>77.367</td>\n",
       "    </tr>\n",
       "    <tr>\n",
       "      <th>1952</th>\n",
       "      <td>7.329</td>\n",
       "      <td>57.616</td>\n",
       "      <td>78.631</td>\n",
       "    </tr>\n",
       "    <tr>\n",
       "      <th>1953</th>\n",
       "      <td>9.020</td>\n",
       "      <td>57.441</td>\n",
       "      <td>80.215</td>\n",
       "    </tr>\n",
       "    <tr>\n",
       "      <th>1954</th>\n",
       "      <td>6.281</td>\n",
       "      <td>47.165</td>\n",
       "      <td>83.788</td>\n",
       "    </tr>\n",
       "  </tbody>\n",
       "</table>\n",
       "<p>220 rows × 3 columns</p>\n",
       "</div>"
      ],
      "text/plain": [
       "                      invest     value  capital\n",
       "firm           year                            \n",
       "General Motors 1935  317.600  3078.500    2.800\n",
       "               1936  391.800  4661.700   52.600\n",
       "               1937  410.600  5387.100  156.900\n",
       "               1938  257.700  2792.200  209.200\n",
       "               1939  330.800  4313.200  203.400\n",
       "...                      ...       ...      ...\n",
       "American Steel 1950    4.770    36.494   75.847\n",
       "               1951    6.532    46.082   77.367\n",
       "               1952    7.329    57.616   78.631\n",
       "               1953    9.020    57.441   80.215\n",
       "               1954    6.281    47.165   83.788\n",
       "\n",
       "[220 rows x 3 columns]"
      ]
     },
     "execution_count": 5,
     "metadata": {},
     "output_type": "execute_result"
    }
   ],
   "source": [
    "data"
   ]
  },
  {
   "cell_type": "code",
   "execution_count": 6,
   "metadata": {},
   "outputs": [],
   "source": [
    "mod_pooled = PooledOLS(data.invest, data[['value', 'capital']])\n",
    "res_pooled = mod_pooled.fit(cov_type= 'robust')\n",
    "fittedvals_pooled_OLS = res_pooled.predict().fitted_values\n",
    "residuals_pooled_OLS = res_pooled.resids"
   ]
  },
  {
   "cell_type": "code",
   "execution_count": 7,
   "metadata": {},
   "outputs": [
    {
     "name": "stdout",
     "output_type": "stream",
     "text": [
      "                          PooledOLS Estimation Summary                          \n",
      "================================================================================\n",
      "Dep. Variable:                 invest   R-squared:                        0.8577\n",
      "Estimator:                  PooledOLS   R-squared (Between):              0.8914\n",
      "No. Observations:                 220   R-squared (Within):               0.6868\n",
      "Date:                Mon, Mar 21 2022   R-squared (Overall):              0.8577\n",
      "Time:                        19:58:52   Log-likelihood                   -1311.4\n",
      "Cov. Estimator:                Robust                                           \n",
      "                                        F-statistic:                      656.92\n",
      "Entities:                          11   P-value                           0.0000\n",
      "Avg Obs:                       20.000   Distribution:                   F(2,218)\n",
      "Min Obs:                       20.000                                           \n",
      "Max Obs:                       20.000   F-statistic (robust):             194.95\n",
      "                                        P-value                           0.0000\n",
      "Time periods:                      20   Distribution:                   F(2,218)\n",
      "Avg Obs:                       11.000                                           \n",
      "Min Obs:                       11.000                                           \n",
      "Max Obs:                       11.000                                           \n",
      "                                                                                \n",
      "                             Parameter Estimates                              \n",
      "==============================================================================\n",
      "            Parameter  Std. Err.     T-stat    P-value    Lower CI    Upper CI\n",
      "------------------------------------------------------------------------------\n",
      "value          0.1078     0.0071     15.071     0.0000      0.0937      0.1218\n",
      "capital        0.1824     0.0457     3.9915     0.0001      0.0923      0.2724\n",
      "==============================================================================\n"
     ]
    }
   ],
   "source": [
    "print(res_pooled)"
   ]
  },
  {
   "cell_type": "code",
   "execution_count": 8,
   "metadata": {},
   "outputs": [
    {
     "data": {
      "image/png": "[encoded data removed]",
      "text/plain": [
       "<Figure size 432x288 with 1 Axes>"
      ]
     },
     "metadata": {},
     "output_type": "display_data"
    }
   ],
   "source": [
    "fig, ax = plt.subplots()\n",
    "ax.scatter(fittedvals_pooled_OLS, residuals_pooled_OLS, color = 'red')\n",
    "ax.axhline(0, color = 'r', ls = '--')\n",
    "ax.set_xlabel(xlabel = \"Predicted Values\", fontsize = 15)\n",
    "ax.set_ylabel(\"Residuals\", fontsize = 15)\n",
    "ax.set_title(\"Homoskedasticity Test\", fontsize = 20)\n",
    "plt.show()"
   ]
  },
  {
   "cell_type": "code",
   "execution_count": 9,
   "metadata": {},
   "outputs": [
    {
     "name": "stdout",
     "output_type": "stream",
     "text": [
      "{'LM-Stat': 133.01613651702922, 'LM p-val': 5.449364234227589e-27, 'F-Stat': 65.44996295828379, 'F pval': 3.054055442758083e-41}\n",
      "{'LM-Stat': 82.20291853902968, 'LM p-val': 1.4120921576206973e-18, 'F-Stat': 64.72572979719419, 'F pval': 9.00909625866178e-23}\n"
     ]
    }
   ],
   "source": [
    "# Тест Вайта\n",
    "pooled_OLS_dataset = pd.concat([data, residuals_pooled_OLS], axis=1)\n",
    "exog = sm.tools.tools.add_constant(data[['value', 'capital']]).fillna(0)\n",
    "white_test_results = het_white(pooled_OLS_dataset[\"residual\"], exog)\n",
    "labels = ['LM-Stat', 'LM p-val', 'F-Stat', 'F pval'] \n",
    "print(dict(zip(labels, white_test_results)))\n",
    "# Тест Бройша\n",
    "breusch_pagan_test_results = het_breuschpagan(pooled_OLS_dataset['residual'], exog)\n",
    "labels = ['LM-Stat', 'LM p-val', 'F-Stat', 'F pval']  \n",
    "print(dict(zip(labels, breusch_pagan_test_results)))"
   ]
  },
  {
   "cell_type": "code",
   "execution_count": 10,
   "metadata": {},
   "outputs": [],
   "source": [
    "# гетероскедастичность по двум тестам"
   ]
  },
  {
   "cell_type": "code",
   "execution_count": 11,
   "metadata": {},
   "outputs": [
    {
     "name": "stdout",
     "output_type": "stream",
     "text": [
      "                        RandomEffects Estimation Summary                        \n",
      "================================================================================\n",
      "Dep. Variable:                 invest   R-squared:                        0.7734\n",
      "Estimator:              RandomEffects   R-squared (Between):              0.8409\n",
      "No. Observations:                 220   R-squared (Within):               0.7658\n",
      "Date:                Mon, Mar 21 2022   R-squared (Overall):              0.8285\n",
      "Time:                        19:58:59   Log-likelihood                   -1176.0\n",
      "Cov. Estimator:                Robust                                           \n",
      "                                        F-statistic:                      372.12\n",
      "Entities:                          11   P-value                           0.0000\n",
      "Avg Obs:                       20.000   Distribution:                   F(2,218)\n",
      "Min Obs:                       20.000                                           \n",
      "Max Obs:                       20.000   F-statistic (robust):             36.659\n",
      "                                        P-value                           0.0000\n",
      "Time periods:                      20   Distribution:                   F(2,218)\n",
      "Avg Obs:                       11.000                                           \n",
      "Min Obs:                       11.000                                           \n",
      "Max Obs:                       11.000                                           \n",
      "                                                                                \n",
      "                             Parameter Estimates                              \n",
      "==============================================================================\n",
      "            Parameter  Std. Err.     T-stat    P-value    Lower CI    Upper CI\n",
      "------------------------------------------------------------------------------\n",
      "value          0.1021     0.0187     5.4629     0.0000      0.0653      0.1389\n",
      "capital        0.3068     0.0428     7.1703     0.0000      0.2225      0.3912\n",
      "==============================================================================\n",
      "                          PanelOLS Estimation Summary                           \n",
      "================================================================================\n",
      "Dep. Variable:                 invest   R-squared:                        0.7667\n",
      "Estimator:                   PanelOLS   R-squared (Between):              0.8223\n",
      "No. Observations:                 220   R-squared (Within):               0.7667\n",
      "Date:                Mon, Mar 21 2022   R-squared (Overall):              0.8132\n",
      "Time:                        19:58:59   Log-likelihood                   -1167.4\n",
      "Cov. Estimator:                Robust                                           \n",
      "                                        F-statistic:                      340.08\n",
      "Entities:                          11   P-value                           0.0000\n",
      "Avg Obs:                       20.000   Distribution:                   F(2,207)\n",
      "Min Obs:                       20.000                                           \n",
      "Max Obs:                       20.000   F-statistic (robust):             40.259\n",
      "                                        P-value                           0.0000\n",
      "Time periods:                      20   Distribution:                   F(2,207)\n",
      "Avg Obs:                       11.000                                           \n",
      "Min Obs:                       11.000                                           \n",
      "Max Obs:                       11.000                                           \n",
      "                                                                                \n",
      "                             Parameter Estimates                              \n",
      "==============================================================================\n",
      "            Parameter  Std. Err.     T-stat    P-value    Lower CI    Upper CI\n",
      "------------------------------------------------------------------------------\n",
      "value          0.1101     0.0194     5.6874     0.0000      0.0720      0.1483\n",
      "capital        0.3100     0.0428     7.2485     0.0000      0.2257      0.3944\n",
      "==============================================================================\n",
      "\n",
      "F-test for Poolability: 49.207\n",
      "P-value: 0.0000\n",
      "Distribution: F(10,207)\n",
      "\n",
      "Included effects: Entity\n"
     ]
    }
   ],
   "source": [
    "exog = data[['value', 'capital']]\n",
    "endog = data['invest']\n",
    "# random effects model\n",
    "model_re = RandomEffects(endog, exog) \n",
    "re_res = model_re.fit(cov_type=\"robust\") \n",
    "# fixed effects model\n",
    "exog = data[['value', 'capital']]\n",
    "model_fe = PanelOLS(endog, exog, entity_effects = True) \n",
    "fe_res = model_fe.fit(cov_type=\"robust\") \n",
    "#print results\n",
    "print(re_res)\n",
    "print(fe_res)"
   ]
  },
  {
   "cell_type": "code",
   "execution_count": 20,
   "metadata": {},
   "outputs": [],
   "source": [
    "fittedvals_re_OLS = re_res.predict().fitted_values\n",
    "residuals_re_OLS = re_res.resids"
   ]
  },
  {
   "cell_type": "code",
   "execution_count": 21,
   "metadata": {},
   "outputs": [
    {
     "data": {
      "image/png": "[encoded data removed]",
      "text/plain": [
       "<Figure size 432x288 with 1 Axes>"
      ]
     },
     "metadata": {},
     "output_type": "display_data"
    }
   ],
   "source": [
    "fig, ax = plt.subplots()\n",
    "ax.scatter(fittedvals_re_OLS, residuals_re_OLS, color = 'red')\n",
    "ax.axhline(0, color = 'r', ls = '--')\n",
    "ax.set_xlabel(xlabel = \"Predicted Values\", fontsize = 15)\n",
    "ax.set_ylabel(\"Residuals\", fontsize = 15)\n",
    "ax.set_title(\"Homoskedasticity Test\", fontsize = 20)\n",
    "plt.show()"
   ]
  },
  {
   "cell_type": "code",
   "execution_count": 22,
   "metadata": {},
   "outputs": [
    {
     "name": "stdout",
     "output_type": "stream",
     "text": [
      "{'LM-Stat': 122.26560839830552, 'LM p-val': 1.039316134893161e-24, 'F-Stat': 53.54274942206474, 'F pval': 7.014296768481213e-36}\n",
      "{'LM-Stat': 88.68232371046676, 'LM p-val': 5.531947948799527e-20, 'F-Stat': 73.2729392909047, 'F pval': 4.844011352564909e-25}\n"
     ]
    }
   ],
   "source": [
    "# Тест Вайта\n",
    "pooled_OLS_dataset = pd.concat([data, residuals_re_OLS], axis=1)\n",
    "exog = sm.tools.tools.add_constant(data[['value', 'capital']]).fillna(0)\n",
    "white_test_results = het_white(pooled_OLS_dataset[\"residual\"], exog)\n",
    "labels = ['LM-Stat', 'LM p-val', 'F-Stat', 'F pval'] \n",
    "print(dict(zip(labels, white_test_results)))\n",
    "# Тест Бройша\n",
    "breusch_pagan_test_results = het_breuschpagan(pooled_OLS_dataset['residual'], exog)\n",
    "labels = ['LM-Stat', 'LM p-val', 'F-Stat', 'F pval']  \n",
    "print(dict(zip(labels, breusch_pagan_test_results)))"
   ]
  },
  {
   "cell_type": "code",
   "execution_count": 155,
   "metadata": {},
   "outputs": [],
   "source": [
    "# fe slightly better"
   ]
  },
  {
   "cell_type": "code",
   "execution_count": 23,
   "metadata": {},
   "outputs": [
    {
     "name": "stdout",
     "output_type": "stream",
     "text": [
      "chi-Squared:-1.199170511653052\n",
      "degrees of freedom:2\n",
      "p-Value:1.0\n"
     ]
    }
   ],
   "source": [
    "def hausman(fe, re):\n",
    "    b = fe.params\n",
    "    B = re.params\n",
    "    v_b = fe.cov\n",
    "    v_B = re.cov\n",
    "    df = b[np.abs(b) < 1e6].size\n",
    "    chi2 = np.dot((b - B).T, la.inv(v_b - v_B).dot(b - B)) \n",
    "    pval = stats.chi2.sf(chi2, df)\n",
    "    return chi2, df, pval\n",
    "hausman_results = hausman(fe_res, re_res) \n",
    "print(\"chi-Squared:\" + str(hausman_results[0]))\n",
    "print(\"degrees of freedom:\" + str(hausman_results[1]))\n",
    "print(\"p-Value:\" + str(hausman_results[2]))"
   ]
  },
  {
   "cell_type": "code",
   "execution_count": 95,
   "metadata": {},
   "outputs": [],
   "source": [
    "# 0 hyp not rejected"
   ]
  },
  {
   "cell_type": "code",
   "execution_count": 24,
   "metadata": {},
   "outputs": [
    {
     "name": "stdout",
     "output_type": "stream",
     "text": [
      "                     FirstDifferenceOLS Estimation Summary                      \n",
      "================================================================================\n",
      "Dep. Variable:                 invest   R-squared:                        0.4287\n",
      "Estimator:         FirstDifferenceOLS   R-squared (Between):              0.8643\n",
      "No. Observations:                 209   R-squared (Within):               0.7539\n",
      "Date:                Mon, Feb 21 2022   R-squared (Overall):              0.8461\n",
      "Time:                        15:14:11   Log-likelihood                   -1071.1\n",
      "Cov. Estimator:            Unadjusted                                           \n",
      "                                        F-statistic:                      77.679\n",
      "Entities:                          11   P-value                           0.0000\n",
      "Avg Obs:                       20.000   Distribution:                   F(2,207)\n",
      "Min Obs:                       20.000                                           \n",
      "Max Obs:                       20.000   F-statistic (robust):             77.679\n",
      "                                        P-value                           0.0000\n",
      "Time periods:                      20   Distribution:                   F(2,207)\n",
      "Avg Obs:                       11.000                                           \n",
      "Min Obs:                       11.000                                           \n",
      "Max Obs:                       11.000                                           \n",
      "                                                                                \n",
      "                             Parameter Estimates                              \n",
      "==============================================================================\n",
      "            Parameter  Std. Err.     T-stat    P-value    Lower CI    Upper CI\n",
      "------------------------------------------------------------------------------\n",
      "value          0.0891     0.0078     11.348     0.0000      0.0736      0.1045\n",
      "capital        0.2786     0.0449     6.1990     0.0000      0.1900      0.3673\n",
      "==============================================================================\n"
     ]
    }
   ],
   "source": [
    "mod = FirstDifferenceOLS(data['invest'], data[['value', 'capital']])\n",
    "fd_res = mod.fit()\n",
    "print(fd_res)"
   ]
  },
  {
   "cell_type": "code",
   "execution_count": 25,
   "metadata": {},
   "outputs": [
    {
     "name": "stdout",
     "output_type": "stream",
     "text": [
      "                         BetweenOLS Estimation Summary                          \n",
      "================================================================================\n",
      "Dep. Variable:                 invest   R-squared:                        0.9106\n",
      "Estimator:                 BetweenOLS   R-squared (Between):              0.9106\n",
      "No. Observations:                  11   R-squared (Within):               0.3648\n",
      "Date:                Mon, Feb 21 2022   R-squared (Overall):              0.8207\n",
      "Time:                        15:14:23   Log-likelihood                   -62.020\n",
      "Cov. Estimator:            Unadjusted                                           \n",
      "                                        F-statistic:                      45.854\n",
      "Entities:                          11   P-value                           0.0000\n",
      "Avg Obs:                       20.000   Distribution:                     F(2,9)\n",
      "Min Obs:                       20.000                                           \n",
      "Max Obs:                       20.000   F-statistic (robust):             45.854\n",
      "                                        P-value                           0.0000\n",
      "Time periods:                      20   Distribution:                     F(2,9)\n",
      "Avg Obs:                       11.000                                           \n",
      "Min Obs:                       11.000                                           \n",
      "Max Obs:                       11.000                                           \n",
      "                                                                                \n",
      "                             Parameter Estimates                              \n",
      "==============================================================================\n",
      "            Parameter  Std. Err.     T-stat    P-value    Lower CI    Upper CI\n",
      "------------------------------------------------------------------------------\n",
      "value          0.1352     0.0252     5.3575     0.0005      0.0781      0.1922\n",
      "capital        0.0089     0.1250     0.0711     0.9449     -0.2739      0.2917\n",
      "==============================================================================\n"
     ]
    }
   ],
   "source": [
    "mod = BetweenOLS(data.invest, data[['value', 'capital']])\n",
    "be_res = mod.fit()\n",
    "print(be_res)"
   ]
  },
  {
   "cell_type": "code",
   "execution_count": 26,
   "metadata": {},
   "outputs": [
    {
     "name": "stdout",
     "output_type": "stream",
     "text": [
      "                                             Model Comparison                                             \n",
      "==========================================================================================================\n",
      "                                    BE                RE        Pooled           FE                     FD\n",
      "----------------------------------------------------------------------------------------------------------\n",
      "Dep. Variable                   invest            invest        invest       invest                 invest\n",
      "Estimator                   BetweenOLS     RandomEffects     PooledOLS     PanelOLS     FirstDifferenceOLS\n",
      "No. Observations                    11               220           220          220                    209\n",
      "Cov. Est.                   Unadjusted            Robust        Robust       Robust             Unadjusted\n",
      "R-squared                       0.9106            0.7734        0.8577       0.7667                 0.4287\n",
      "R-Squared (Within)              0.3648            0.7658        0.6868       0.7667                 0.7539\n",
      "R-Squared (Between)             0.9106            0.8409        0.8914       0.8223                 0.8643\n",
      "R-Squared (Overall)             0.8207            0.8285        0.8577       0.8132                 0.8461\n",
      "F-statistic                     45.854            372.12        656.92       340.08                 77.679\n",
      "P-value (F-stat)                0.0000            0.0000        0.0000       0.0000                 0.0000\n",
      "=====================     ============   ===============   ===========   ==========   ====================\n",
      "value                           0.1352            0.1021        0.1078       0.1101                 0.0891\n",
      "                              (5.3575)          (5.4629)      (15.071)     (5.6874)               (11.348)\n",
      "capital                         0.0089            0.3068        0.1824       0.3100                 0.2786\n",
      "                              (0.0711)          (7.1703)      (3.9915)     (7.2485)               (6.1990)\n",
      "======================= ============== ================= ============= ============ ======================\n",
      "Effects                                                                      Entity                       \n",
      "----------------------------------------------------------------------------------------------------------\n",
      "\n",
      "T-stats reported in parentheses\n"
     ]
    }
   ],
   "source": [
    "print(compare({\"BE\": be_res, \"RE\": re_res, \"Pooled\": res_pooled, 'FE': fe_res, 'FD': fd_res}))"
   ]
  },
  {
   "cell_type": "code",
   "execution_count": 27,
   "metadata": {},
   "outputs": [],
   "source": [
    "# посмотрим на лучшую модель в плане оценивания матрицы ковариации ЕЁ RE"
   ]
  },
  {
   "cell_type": "code",
   "execution_count": 28,
   "metadata": {},
   "outputs": [],
   "source": [
    "exog_vars = ['value', 'capital']\n",
    "exog = sm.add_constant(data[exog_vars])\n",
    "mod = RandomEffects(data.invest, exog)\n",
    "robust = mod.fit(cov_type=\"robust\")"
   ]
  },
  {
   "cell_type": "code",
   "execution_count": 29,
   "metadata": {},
   "outputs": [],
   "source": [
    "clust_entity = mod.fit(cov_type=\"clustered\", cluster_entity=True)"
   ]
  },
  {
   "cell_type": "code",
   "execution_count": 30,
   "metadata": {},
   "outputs": [],
   "source": [
    "clust_entity_time = mod.fit(cov_type=\"clustered\", cluster_entity=True, cluster_time=True)"
   ]
  },
  {
   "cell_type": "code",
   "execution_count": 31,
   "metadata": {},
   "outputs": [
    {
     "name": "stdout",
     "output_type": "stream",
     "text": [
      "                           Model Comparison                          \n",
      "=====================================================================\n",
      "                               Robust          Entity     Entity-Time\n",
      "---------------------------------------------------------------------\n",
      "Dep. Variable                  invest          invest          invest\n",
      "Estimator               RandomEffects   RandomEffects   RandomEffects\n",
      "No. Observations                  220             220             220\n",
      "Cov. Est.                      Robust       Clustered       Clustered\n",
      "R-squared                      0.7700          0.7700          0.7700\n",
      "R-Squared (Within)             0.7666          0.7666          0.7666\n",
      "R-Squared (Between)            0.8204          0.8204          0.8204\n",
      "R-Squared (Overall)            0.8080          0.8080          0.8080\n",
      "F-statistic                    363.21          363.21          363.21\n",
      "P-value (F-stat)               0.0000          0.0000          0.0000\n",
      "===================== =============== =============== ===============\n",
      "const                         -53.944         -53.944         -53.944\n",
      "                            (-2.4548)       (-2.4919)       (-1.6428)\n",
      "value                          0.1093          0.1093          0.1093\n",
      "                             (5.5745)        (8.3535)        (10.317)\n",
      "capital                        0.3080          0.3080          0.3080\n",
      "                             (7.3558)        (5.8757)        (6.9219)\n",
      "---------------------------------------------------------------------\n",
      "\n",
      "T-stats reported in parentheses\n"
     ]
    }
   ],
   "source": [
    "res = OrderedDict()\n",
    "res[\"Robust\"] = robust\n",
    "res[\"Entity\"] = clust_entity\n",
    "res[\"Entity-Time\"] = clust_entity_time\n",
    "print(compare(res))"
   ]
  },
  {
   "cell_type": "code",
   "execution_count": null,
   "metadata": {},
   "outputs": [],
   "source": []
  }
 ],
 "metadata": {
  "kernelspec": {
   "display_name": "Rapid",
   "language": "python",
   "name": "rapid"
  },
  "language_info": {
   "codemirror_mode": {
    "name": "ipython",
    "version": 3
   },
   "file_extension": ".py",
   "mimetype": "text/x-python",
   "name": "python",
   "nbconvert_exporter": "python",
   "pygments_lexer": "ipython3",
   "version": "3.9.10"
  }
 },
 "nbformat": 4,
 "nbformat_minor": 5
}
